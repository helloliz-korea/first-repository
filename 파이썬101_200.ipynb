{
  "nbformat": 4,
  "nbformat_minor": 0,
  "metadata": {
    "colab": {
      "name": "파이썬101-200.ipynb",
      "provenance": [],
      "authorship_tag": "ABX9TyP11EXPg9btcLse/5UFUFtT",
      "include_colab_link": true
    },
    "kernelspec": {
      "name": "python3",
      "display_name": "Python 3"
    }
  },
  "cells": [
    {
      "cell_type": "markdown",
      "metadata": {
        "id": "view-in-github",
        "colab_type": "text"
      },
      "source": [
        "<a href=\"https://colab.research.google.com/github/helloliz-korea/first-repository/blob/master/%ED%8C%8C%EC%9D%B4%EC%8D%AC101_200.ipynb\" target=\"_parent\"><img src=\"https://colab.research.google.com/assets/colab-badge.svg\" alt=\"Open In Colab\"/></a>"
      ]
    },
    {
      "cell_type": "markdown",
      "metadata": {
        "id": "gFUOTcHeL2vf"
      },
      "source": [
        "### 101\n",
        "\n",
        "파이썬에서 True 혹은 False를 갖는 데이터 타입은 무엇인가?"
      ]
    },
    {
      "cell_type": "markdown",
      "metadata": {
        "id": "QBJCakJk0FuO"
      },
      "source": [
        "bool"
      ]
    },
    {
      "cell_type": "markdown",
      "metadata": {
        "id": "Foi3eILML2xg"
      },
      "source": [
        "### 102\n",
        "\n",
        "아래 코드의 출력 결과를 예상하라\n",
        "\n",
        "print(3 == 5)"
      ]
    },
    {
      "cell_type": "code",
      "metadata": {
        "colab": {
          "base_uri": "https://localhost:8080/"
        },
        "id": "7CrFjFS_0LXA",
        "outputId": "b389ce30-7fb5-456e-fc2e-2358196a57dc"
      },
      "source": [
        "print(3 == 5)"
      ],
      "execution_count": null,
      "outputs": [
        {
          "output_type": "stream",
          "text": [
            "False\n"
          ],
          "name": "stdout"
        }
      ]
    },
    {
      "cell_type": "markdown",
      "metadata": {
        "id": "9rnYVBw5L21P"
      },
      "source": [
        "### 103\n",
        "\n",
        "아래 코드의 출력 결과를 예상하라\n",
        "\n",
        "print(3 < 5)"
      ]
    },
    {
      "cell_type": "code",
      "metadata": {
        "colab": {
          "base_uri": "https://localhost:8080/"
        },
        "id": "Tn-7CfDw0QI8",
        "outputId": "da48c77c-3503-4b54-b2d2-843341e9a221"
      },
      "source": [
        "print(3 < 5)"
      ],
      "execution_count": null,
      "outputs": [
        {
          "output_type": "stream",
          "text": [
            "True\n"
          ],
          "name": "stdout"
        }
      ]
    },
    {
      "cell_type": "markdown",
      "metadata": {
        "id": "ShIiG18SL24F"
      },
      "source": [
        "### 104\n",
        "\n",
        "아래 코드의 결과를 예상하라.\n",
        "\n",
        "x = 4\n",
        "print(1 < x < 5)"
      ]
    },
    {
      "cell_type": "code",
      "metadata": {
        "colab": {
          "base_uri": "https://localhost:8080/"
        },
        "id": "Ff_l1YJk0Vep",
        "outputId": "20a6c47d-d3a3-4f37-fa82-23830109b16c"
      },
      "source": [
        "x = 4\n",
        "print(1 < x < 5)"
      ],
      "execution_count": null,
      "outputs": [
        {
          "output_type": "stream",
          "text": [
            "True\n"
          ],
          "name": "stdout"
        }
      ]
    },
    {
      "cell_type": "markdown",
      "metadata": {
        "id": "W1a3zOMQL25x"
      },
      "source": [
        "### 105\n",
        "\n",
        "아래 코드의 결과를 예상하라.\n",
        "\n",
        "print ((3 == 3) and (4 != 3))"
      ]
    },
    {
      "cell_type": "code",
      "metadata": {
        "colab": {
          "base_uri": "https://localhost:8080/"
        },
        "id": "6Fkfu5KB0Xv0",
        "outputId": "36c801bf-6f8c-40b6-e527-c3cb2bcfd420"
      },
      "source": [
        "print ((3 == 3) and (4 != 3))"
      ],
      "execution_count": null,
      "outputs": [
        {
          "output_type": "stream",
          "text": [
            "True\n"
          ],
          "name": "stdout"
        }
      ]
    },
    {
      "cell_type": "markdown",
      "metadata": {
        "id": "8kPhF3FSL29W"
      },
      "source": [
        "### 106\n",
        "\n",
        "아래 코드에서 에러가 발생하는 원인에 대해 설명하라.\n",
        "\n",
        "print(3 => 4)"
      ]
    },
    {
      "cell_type": "code",
      "metadata": {
        "colab": {
          "base_uri": "https://localhost:8080/",
          "height": 132
        },
        "id": "zafgtTG10d8v",
        "outputId": "af4c9430-ccff-4f88-ca46-dc11bd4de3d0"
      },
      "source": [
        "print(3 => 4)"
      ],
      "execution_count": null,
      "outputs": [
        {
          "output_type": "error",
          "ename": "SyntaxError",
          "evalue": "ignored",
          "traceback": [
            "\u001b[0;36m  File \u001b[0;32m\"<ipython-input-5-73d1778316a7>\"\u001b[0;36m, line \u001b[0;32m1\u001b[0m\n\u001b[0;31m    print(3 => 4)\u001b[0m\n\u001b[0m             ^\u001b[0m\n\u001b[0;31mSyntaxError\u001b[0m\u001b[0;31m:\u001b[0m invalid syntax\n"
          ]
        }
      ]
    },
    {
      "cell_type": "markdown",
      "metadata": {
        "id": "atzPVavA0gPY"
      },
      "source": [
        "명제가 거짓!!"
      ]
    },
    {
      "cell_type": "markdown",
      "metadata": {
        "id": "pX4FS1MzL3AK"
      },
      "source": [
        "### 107\n",
        "\n",
        "아래 코드의 출력 결과를 예상하라\n",
        "\n",
        "if 4 < 3:\n",
        "    print(\"Hello World\")"
      ]
    },
    {
      "cell_type": "code",
      "metadata": {
        "id": "t2VKhTUa0owc"
      },
      "source": [
        "if 4 < 3:\n",
        "    print(\"Hello World\")"
      ],
      "execution_count": null,
      "outputs": []
    },
    {
      "cell_type": "markdown",
      "metadata": {
        "id": "-O6SjVwk0t2_"
      },
      "source": [
        "조건문 거짓이므로 출력 안 됨"
      ]
    },
    {
      "cell_type": "markdown",
      "metadata": {
        "id": "v1tYsN6wL3Cr"
      },
      "source": [
        "### 108\n",
        "\n",
        "아래 코드의 출력 결과를 예상하라\n",
        "\n",
        "if 4 < 3:\n",
        "    print(\"Hello World.\")\n",
        "else:\n",
        "    print(\"Hi, there.\")"
      ]
    },
    {
      "cell_type": "code",
      "metadata": {
        "colab": {
          "base_uri": "https://localhost:8080/"
        },
        "id": "U4pSAuek0zU0",
        "outputId": "93559bda-130a-41f3-a84d-54c2728e1f69"
      },
      "source": [
        "if 4 < 3:\n",
        "    print(\"Hello World.\")\n",
        "else:\n",
        "    print(\"Hi, there.\")"
      ],
      "execution_count": null,
      "outputs": [
        {
          "output_type": "stream",
          "text": [
            "Hi, there.\n"
          ],
          "name": "stdout"
        }
      ]
    },
    {
      "cell_type": "markdown",
      "metadata": {
        "id": "JnhyE2nz02cV"
      },
      "source": [
        "조건문이 거짓이므로 else 절 실행"
      ]
    },
    {
      "cell_type": "markdown",
      "metadata": {
        "id": "2-7IrFv4L3Fe"
      },
      "source": [
        "### 109\n",
        "\n",
        "아래 코드의 출력 결과를 예상하라\n",
        "\n",
        "if True :\n",
        "    print (\"1\")\n",
        "    print (\"2\")\n",
        "else :\n",
        "    print(\"3\")\n",
        "print(\"4\")"
      ]
    },
    {
      "cell_type": "code",
      "metadata": {
        "colab": {
          "base_uri": "https://localhost:8080/"
        },
        "id": "zFPTfzvH0_VK",
        "outputId": "f64747b9-1806-4416-94e9-7fed57a48702"
      },
      "source": [
        "if True :\n",
        "    print (\"1\")\n",
        "    print (\"2\")\n",
        "else :\n",
        "    print(\"3\")\n",
        "print(\"4\")"
      ],
      "execution_count": null,
      "outputs": [
        {
          "output_type": "stream",
          "text": [
            "1\n",
            "2\n",
            "4\n"
          ],
          "name": "stdout"
        }
      ]
    },
    {
      "cell_type": "markdown",
      "metadata": {
        "id": "80iViq-61J4P"
      },
      "source": [
        "조건문이 참이므로 else절 실행 안 됨"
      ]
    },
    {
      "cell_type": "markdown",
      "metadata": {
        "id": "n6pS9XIbL3IH"
      },
      "source": [
        "### 110\n",
        "\n",
        "아래 코드의 출력 결과를 예상하라\n",
        "\n",
        "if True :\n",
        "    if False:\n",
        "        print(\"1\")\n",
        "        print(\"2\")\n",
        "    else:\n",
        "        print(\"3\")\n",
        "else :\n",
        "    print(\"4\")\n",
        "print(\"5\")"
      ]
    },
    {
      "cell_type": "code",
      "metadata": {
        "colab": {
          "base_uri": "https://localhost:8080/"
        },
        "id": "uVicQXk21R8K",
        "outputId": "f9fd16fd-3514-4b59-9983-c4d6f9e56c59"
      },
      "source": [
        "if True :\n",
        "    if False:\n",
        "        print(\"1\")\n",
        "        print(\"2\")\n",
        "    else:\n",
        "        print(\"3\")\n",
        "else :\n",
        "    print(\"4\")\n",
        "print(\"5\")"
      ],
      "execution_count": null,
      "outputs": [
        {
          "output_type": "stream",
          "text": [
            "3\n",
            "5\n"
          ],
          "name": "stdout"
        }
      ]
    },
    {
      "cell_type": "markdown",
      "metadata": {
        "id": "rdhJ1b9s1gHK"
      },
      "source": [
        "처음 주어진 조건이 참이므로 sub조건문에선 else절이 실행된 후 5 실행"
      ]
    },
    {
      "cell_type": "markdown",
      "metadata": {
        "id": "rvvPZrwWL3J3"
      },
      "source": [
        "### 111\n",
        "\n",
        "사용자로부터 입력받은 문자열을 두 번 출력하라. 아래는 사용자가 \"안녕하세요\"를 입력한 경우의 출력 결과이다.\n",
        "\n",
        ">> 안녕하세요\n",
        "안녕하세요안녕하세요"
      ]
    },
    {
      "cell_type": "code",
      "metadata": {
        "colab": {
          "base_uri": "https://localhost:8080/"
        },
        "id": "8XeHjJb-11ze",
        "outputId": "eb8fba2c-5014-4177-ced0-722615929d87"
      },
      "source": [
        "user=input(\"입력:\")\n",
        "print(user*2)"
      ],
      "execution_count": null,
      "outputs": [
        {
          "output_type": "stream",
          "text": [
            "입력:안녕하세요\n",
            "안녕하세요안녕하세요\n"
          ],
          "name": "stdout"
        }
      ]
    },
    {
      "cell_type": "markdown",
      "metadata": {
        "id": "pgmEO6U4L3Nn"
      },
      "source": [
        "### 112\n",
        "\n",
        "사용자로부터 하나의 숫자를 입력받고, 입력 받은 숫자에 10을 더해 출력하라.\n",
        "\n",
        ">> 숫자를 입력하세요: 30\n",
        "40"
      ]
    },
    {
      "cell_type": "code",
      "metadata": {
        "colab": {
          "base_uri": "https://localhost:8080/"
        },
        "id": "0NVYBVGI3Ica",
        "outputId": "4d7382f8-4df0-47c2-c041-46c0f1806b54"
      },
      "source": [
        "user=input(\"입력:\")\n",
        "print(int(user)+10)"
      ],
      "execution_count": null,
      "outputs": [
        {
          "output_type": "stream",
          "text": [
            "입력:30\n",
            "40\n"
          ],
          "name": "stdout"
        }
      ]
    },
    {
      "cell_type": "markdown",
      "metadata": {
        "id": "j8cmMDYWL3QP"
      },
      "source": [
        "### 113\n",
        "\n",
        "사용자로부터 하나의 숫자를 입력 받고 짝수/홀수를 판별하라.\n",
        "\n",
        ">> 30\n",
        "짝수"
      ]
    },
    {
      "cell_type": "code",
      "metadata": {
        "colab": {
          "base_uri": "https://localhost:8080/"
        },
        "id": "EujGP83D3jxW",
        "outputId": "e2b01350-49ce-460b-cf6a-fcda641cb9e7"
      },
      "source": [
        "user=input(\"입력:\")\n",
        "if int(user)%2 == 0:\n",
        "    print(\"짝수\")\n",
        "else:\n",
        "    print(\"홀수\")"
      ],
      "execution_count": null,
      "outputs": [
        {
          "output_type": "stream",
          "text": [
            "입력:30\n",
            "짝수\n"
          ],
          "name": "stdout"
        }
      ]
    },
    {
      "cell_type": "markdown",
      "metadata": {
        "id": "ire2UEs9L3SD"
      },
      "source": [
        "### 114\n",
        "\n",
        "사용자로부터 값을 입력받은 후 해당 값에 20을 더한 값을 출력하라. 단 사용자가 입력한 값과 20을 더한 계산 값이 255를 초과하는 경우 255를 출력해야 한다.\n",
        "\n",
        ">> 입력값: 200\n",
        "출력값: 220\n",
        "\n",
        ">> 입력값: 240\n",
        "출력값: 255"
      ]
    },
    {
      "cell_type": "code",
      "metadata": {
        "colab": {
          "base_uri": "https://localhost:8080/"
        },
        "id": "bCBnZLrW5wdL",
        "outputId": "99b759e2-d19d-41b2-8e59-bfd16e9ff9c6"
      },
      "source": [
        "user=input(\"\")\n",
        "if int(user)+20 <= 255:\n",
        "    print(int(user)+20)\n",
        "else:\n",
        "    print(255)"
      ],
      "execution_count": null,
      "outputs": [
        {
          "output_type": "stream",
          "text": [
            "200\n",
            "220\n"
          ],
          "name": "stdout"
        }
      ]
    },
    {
      "cell_type": "code",
      "metadata": {
        "colab": {
          "base_uri": "https://localhost:8080/"
        },
        "id": "3FSBA0t-6RhC",
        "outputId": "6b9017b9-2576-49b8-b595-f640e1ebebb2"
      },
      "source": [
        "user=input(\"\")\n",
        "if int(user)+20 <= 255:\n",
        "    print(int(user)+20)\n",
        "else:\n",
        "    print(255)"
      ],
      "execution_count": null,
      "outputs": [
        {
          "output_type": "stream",
          "text": [
            "240\n",
            "255\n"
          ],
          "name": "stdout"
        }
      ]
    },
    {
      "cell_type": "markdown",
      "metadata": {
        "id": "W5_3KggxL3Vk"
      },
      "source": [
        "### 115\n",
        "\n",
        "사용자로부터 하나의 값을 입력받은 후 해당 값에 20을 뺀 값을 출력하라. 단 출력 값의 범위는 0~255이다. 예를 들어 결괏값이 0보다 작은 값이되는 경우 0을 출력하고 255보다 큰 값이 되는 경우 255를 출력해야 한다.\n",
        "\n",
        ">> 입력값: 200\n",
        "출력값: 180\n",
        "\n",
        ">> 입력값: 15\n",
        "출력값: 0"
      ]
    },
    {
      "cell_type": "code",
      "metadata": {
        "colab": {
          "base_uri": "https://localhost:8080/"
        },
        "id": "qWyxv_l-6ZCS",
        "outputId": "ba343a63-1e67-4bc9-9b81-7460c14915b8"
      },
      "source": [
        "user=input(\"\")\n",
        "if 0<=int(user)-20<=255:\n",
        "  print(int(user)-20)\n",
        "else:\n",
        "  if int(user)-20<0:\n",
        "    print(0)\n",
        "  else:\n",
        "    print(255)"
      ],
      "execution_count": null,
      "outputs": [
        {
          "output_type": "stream",
          "text": [
            "200\n",
            "180\n"
          ],
          "name": "stdout"
        }
      ]
    },
    {
      "cell_type": "code",
      "metadata": {
        "colab": {
          "base_uri": "https://localhost:8080/"
        },
        "id": "F-m6x1lE7UKc",
        "outputId": "d8abb1a9-c213-425f-a178-1d21d1836c94"
      },
      "source": [
        "user=input(\"\")\n",
        "if 0<=int(user)-20<=255:\n",
        "  print(int(user)-20)\n",
        "else:\n",
        "  if int(user)-20<0:\n",
        "    print(0)\n",
        "  else:\n",
        "    print(255)"
      ],
      "execution_count": null,
      "outputs": [
        {
          "output_type": "stream",
          "text": [
            "15\n",
            "0\n"
          ],
          "name": "stdout"
        }
      ]
    },
    {
      "cell_type": "code",
      "metadata": {
        "colab": {
          "base_uri": "https://localhost:8080/"
        },
        "id": "vTWxOqnG7jGE",
        "outputId": "5e85d539-f937-4686-e394-fda97b8338f2"
      },
      "source": [
        "user=input(\"\")\n",
        "if 0<=int(user)-20<=255:\n",
        "  print(int(user)-20)\n",
        "else:\n",
        "  if int(user)<0:\n",
        "    print(0)\n",
        "  else:\n",
        "    print(255)"
      ],
      "execution_count": null,
      "outputs": [
        {
          "output_type": "stream",
          "text": [
            "280\n",
            "255\n"
          ],
          "name": "stdout"
        }
      ]
    },
    {
      "cell_type": "code",
      "metadata": {
        "colab": {
          "base_uri": "https://localhost:8080/"
        },
        "id": "ybtHU0Z78-V1",
        "outputId": "34a7dc8d-88c0-4fc2-a778-bea98c60c7ab"
      },
      "source": [
        "user = input(\"입력값: \")\n",
        "num = int(user) - 20\n",
        "if num > 255:\n",
        "    print(255)\n",
        "elif num < 0:\n",
        "    print(0)\n",
        "else:\n",
        "    print(num)"
      ],
      "execution_count": null,
      "outputs": [
        {
          "output_type": "stream",
          "text": [
            "입력값: 280\n",
            "255\n"
          ],
          "name": "stdout"
        }
      ]
    },
    {
      "cell_type": "markdown",
      "metadata": {
        "id": "bjmqdokQL3Ye"
      },
      "source": [
        "### 116\n",
        "\n",
        "사용자로부터 입력 받은 시간이 정각인지 판별하라.\n",
        "\n",
        ">> 현재시간:02:00\n",
        "정각 입니다.\n",
        "\n",
        ">> 현재시간:03:10\n",
        "정각이 아닙니다"
      ]
    },
    {
      "cell_type": "code",
      "metadata": {
        "colab": {
          "base_uri": "https://localhost:8080/"
        },
        "id": "9GH9Zv-D9KnH",
        "outputId": "c1acc269-56f5-4841-e681-34b727b9b1c6"
      },
      "source": [
        "user=input(\"\")\n",
        "if user[-2:] == \"00\":\n",
        "  print(\"정각 입니다.\")\n",
        "else:\n",
        "  print(\"정각이 아닙니다.\")"
      ],
      "execution_count": null,
      "outputs": [
        {
          "output_type": "stream",
          "text": [
            "2:00\n",
            "정각 입니다.\n"
          ],
          "name": "stdout"
        }
      ]
    },
    {
      "cell_type": "code",
      "metadata": {
        "colab": {
          "base_uri": "https://localhost:8080/"
        },
        "id": "5sSItfBS9_Go",
        "outputId": "4643af57-c3b0-4bcb-faa4-b97057b26f51"
      },
      "source": [
        "user=input(\"\")\n",
        "if user[-2:] == \"00\":\n",
        "  print(\"정각 입니다.\")\n",
        "else:\n",
        "  print(\"정각이 아닙니다.\")"
      ],
      "execution_count": null,
      "outputs": [
        {
          "output_type": "stream",
          "text": [
            "3:10\n",
            "정각이 아닙니다.\n"
          ],
          "name": "stdout"
        }
      ]
    },
    {
      "cell_type": "markdown",
      "metadata": {
        "id": "VNZ9twdYL3bV"
      },
      "source": [
        "### 117\n",
        "\n",
        "사용자로 입력받은 단어가 아래 fruit 리스트에 포함되어 있는지를 확인하라. 포함되었다면 \"정답입니다\"를 아닐 경우 \"오답입니다\" 출력하라.\n",
        "\n",
        "fruit = [\"사과\", \"포도\", \"홍시\"]\n",
        "\n",
        ">> 좋아하는 과일은? 사과\n",
        "정답입니다."
      ]
    },
    {
      "cell_type": "code",
      "metadata": {
        "colab": {
          "base_uri": "https://localhost:8080/"
        },
        "id": "wc3EBN_Y-LLt",
        "outputId": "1a03214b-2020-4c48-b92f-f9061d1f26ce"
      },
      "source": [
        "fruit = [\"사과\", \"포도\", \"홍시\"]\n",
        "user=input(\"\")\n",
        "if user in fruit:\n",
        "  print(\"정답입니다.\")\n",
        "else:\n",
        "  print(\"오답입니다.\")"
      ],
      "execution_count": null,
      "outputs": [
        {
          "output_type": "stream",
          "text": [
            "사과\n",
            "정답입니다.\n"
          ],
          "name": "stdout"
        }
      ]
    },
    {
      "cell_type": "code",
      "metadata": {
        "colab": {
          "base_uri": "https://localhost:8080/"
        },
        "id": "Yspr-h-y_CLg",
        "outputId": "cb86a68c-ced4-43bf-bad3-22b1ccb734cd"
      },
      "source": [
        "fruit = [\"사과\", \"포도\", \"홍시\"]\n",
        "user=input(\"\")\n",
        "if user in fruit:\n",
        "  print(\"정답입니다.\")\n",
        "else:\n",
        "  print(\"오답입니다.\")"
      ],
      "execution_count": null,
      "outputs": [
        {
          "output_type": "stream",
          "text": [
            "귤\n",
            "오답입니다.\n"
          ],
          "name": "stdout"
        }
      ]
    },
    {
      "cell_type": "markdown",
      "metadata": {
        "id": "ko1g1Me2L3c-"
      },
      "source": [
        "### 118\n",
        "\n",
        "투자 경고 종목 리스트가 있을 때 사용자로부터 종목명을 입력 받은 후 해당 종목이 투자 경고 종목이라면 '투자 경고 종목입니다'를 아니면 \"투자 경고 종목이 아닙니다.\"를 출력하는 프로그램을 작성하라.\n",
        "\n",
        "warn_investment_list = [\"Microsoft\", \"Google\", \"Naver\", \"Kakao\", \"SAMSUNG\", \"LG\"]"
      ]
    },
    {
      "cell_type": "code",
      "metadata": {
        "colab": {
          "base_uri": "https://localhost:8080/"
        },
        "id": "pkc7r9pvCzB1",
        "outputId": "5d0fa7e2-d0e7-4885-dde6-e06fd24d9c38"
      },
      "source": [
        "warn_investment_list = [\"Microsoft\", \"Google\", \"Naver\", \"Kakao\", \"SAMSUNG\", \"LG\"]\n",
        "user=input(\"\")\n",
        "if user in warn_investment_list:\n",
        "  print(\"투자 경고 종목입니다.\")\n",
        "else:\n",
        "  print(\"투자 경고 종목이 아닙니다.\")"
      ],
      "execution_count": null,
      "outputs": [
        {
          "output_type": "stream",
          "text": [
            "Google\n",
            "투자 경고 종목입니다.\n"
          ],
          "name": "stdout"
        }
      ]
    },
    {
      "cell_type": "markdown",
      "metadata": {
        "id": "HnyO73tYL3g0"
      },
      "source": [
        "### 119\n",
        "\n",
        "아래와 같이 fruit 딕셔너리가 정의되어 있다. 사용자가 입력한 값이 딕셔너리 키 (key) 값에 포함되었다면 \"정답입니다\"를 아닐 경우 \"오답입니다\" 출력하라.\n",
        "\n",
        "fruit = {\"봄\" : \"딸기\", \"여름\" : \"토마토\", \"가을\" : \"사과\"}\n",
        "\n",
        ">> 제가좋아하는계절은: 봄\n",
        "정답입니다."
      ]
    },
    {
      "cell_type": "code",
      "metadata": {
        "colab": {
          "base_uri": "https://localhost:8080/"
        },
        "id": "qr3r7sfPDSeY",
        "outputId": "a91c72df-0e49-4294-cf57-7cb993203761"
      },
      "source": [
        "fruit = {\"봄\" : \"딸기\", \"여름\" : \"토마토\", \"가을\" : \"사과\"}\n",
        "user = input(\"제가 좋아하는 계절은:\")\n",
        "if user in fruit:\n",
        "  print(\"정답입니다.\")\n",
        "else:\n",
        "  print(\"오답입니다.\")"
      ],
      "execution_count": null,
      "outputs": [
        {
          "output_type": "stream",
          "text": [
            "제가 좋아하는 계절은:봄\n",
            "정답입니다.\n"
          ],
          "name": "stdout"
        }
      ]
    },
    {
      "cell_type": "markdown",
      "metadata": {
        "id": "nODGazMNL3ik"
      },
      "source": [
        "### 120\n",
        "\n",
        "아래와 같이 fruit 딕셔너리가 정의되어 있다. 사용자가 입력한 값이 딕셔너리 값 (value)에 포함되었다면 \"정답입니다\"를 아닐 경우 \"오답입니다\" 출력하라.\n",
        "\n",
        "fruit = {\"봄\" : \"딸기\", \"여름\" : \"토마토\", \"가을\" : \"사과\"}\n",
        "\n",
        ">> 좋아하는과일은? 한라봉\n",
        "오답입니다."
      ]
    },
    {
      "cell_type": "code",
      "metadata": {
        "colab": {
          "base_uri": "https://localhost:8080/"
        },
        "id": "YrBFhFNGD1y3",
        "outputId": "e40a1db5-e351-4973-a202-13b1f7564304"
      },
      "source": [
        "fruit = {\"봄\" : \"딸기\", \"여름\" : \"토마토\", \"가을\" : \"사과\"}\n",
        "user=input(\"좋아하는 과일은?\")\n",
        "if user in fruit.values():\n",
        "  print(\"정답입니다.\")\n",
        "else:\n",
        "  print(\"오답입니다.\")"
      ],
      "execution_count": null,
      "outputs": [
        {
          "output_type": "stream",
          "text": [
            "좋아하는 과일은?한라봉\n",
            "오답입니다.\n"
          ],
          "name": "stdout"
        }
      ]
    },
    {
      "cell_type": "markdown",
      "metadata": {
        "id": "kTiuMO2CL3me"
      },
      "source": [
        "### 121\n",
        "\n",
        "사용자로부터 문자 한 개를 입력 받고, 소문자일 경우 대문자로, 대문자 일 경우, 소문자로 변경해서 출력하라.\n",
        "\n",
        ">> a\n",
        "A\n",
        "\n",
        "힌트-1 : islower() 함수는 문자의 소문자 여부를 판별합니다. 만약 소문자일 경우 True, 대문자일 경우 False를 반환합니다. 힌트-2 : upper() 함수는 대문자로, lower() 함수는 소문자로 변경합니다."
      ]
    },
    {
      "cell_type": "code",
      "metadata": {
        "colab": {
          "base_uri": "https://localhost:8080/"
        },
        "id": "oaUqPqUbEYXQ",
        "outputId": "197df7e6-f72c-4ccd-e2e7-653d8244432a"
      },
      "source": [
        "user = input(\"\")\n",
        "if user.islower():\n",
        "  print(user.upper())\n",
        "else:\n",
        "  print(user.lower())"
      ],
      "execution_count": null,
      "outputs": [
        {
          "output_type": "stream",
          "text": [
            "a\n",
            "A\n"
          ],
          "name": "stdout"
        }
      ]
    },
    {
      "cell_type": "markdown",
      "metadata": {
        "id": "bmOUJ-O1L3oN"
      },
      "source": [
        "### 122\n",
        "\n",
        "점수 구간에 해당하는 학점이 아래와 같이 정의되어 있다. 사용자로부터 score를 입력받아 학점을 출력하라.  \n",
        "점수 \t학점  \n",
        "81\\~100 \tA  \n",
        "61\\~80 \tB  \n",
        "41\\~60 \tC  \n",
        "21\\~40 \tD  \n",
        "0\\~20 \tE  \n",
        "  \n",
        ">> score: 83  \n",
        "grade is A"
      ]
    },
    {
      "cell_type": "code",
      "metadata": {
        "colab": {
          "base_uri": "https://localhost:8080/"
        },
        "id": "xI37IwM4FyMg",
        "outputId": "0327e268-0e55-4a73-edeb-68528b3ce1fa"
      },
      "source": [
        "user = input(\"score: \")\n",
        "if int(user)>= 81:\n",
        "  print(\"grade is A\")\n",
        "elif int(user)>= 61:\n",
        "  print(\"grade is B\")\n",
        "elif int(user)>= 41:\n",
        "  print(\"grade is C\")\n",
        "elif int(user)>= 21:\n",
        "  print(\"grade is D\")\n",
        "else:\n",
        "  print(\"grade is E\")"
      ],
      "execution_count": null,
      "outputs": [
        {
          "output_type": "stream",
          "text": [
            "score: 83\n",
            "grade is A\n"
          ],
          "name": "stdout"
        }
      ]
    },
    {
      "cell_type": "markdown",
      "metadata": {
        "id": "lyJMNGF0L3sM"
      },
      "source": [
        "### 123\n",
        "\n",
        "사용자로부터 달러, 엔, 유로, 또는 위안 금액을 입력받은 후 이를 원으로 변환하는 프로그램을 작성하라. 각 통화별 환율은 다음과 같다. 사용자는 100 달러, 1000 엔, 13 유로, 100 위안과 같이 금액과 통화명 사이에 공백을 넣어 입력한다고 가정한다.  \n",
        "통화명 \t환율  \n",
        "달러 \t1167  \n",
        "엔 \t1.096  \n",
        "유로 \t1268  \n",
        "위안 \t171  \n",
        "  \n",
        ">> 입력: 100 달러  \n",
        "116700.00 원"
      ]
    },
    {
      "cell_type": "code",
      "metadata": {
        "colab": {
          "base_uri": "https://localhost:8080/"
        },
        "id": "aS1G2iNTHcOu",
        "outputId": "da515c81-d59f-4c18-c5af-53b0001d9166"
      },
      "source": [
        "환율 = {\"달러\":1167, \"엔\":1.096, \"유로\":1268, \"위안\":171}\n",
        "user = input(\"입력: \")\n",
        "num, currency = user.split()\n",
        "print(float(num) *환율[currency], \"원\")"
      ],
      "execution_count": null,
      "outputs": [
        {
          "output_type": "stream",
          "text": [
            "입력: 100 달러\n",
            "116700.0 원\n"
          ],
          "name": "stdout"
        }
      ]
    },
    {
      "cell_type": "markdown",
      "metadata": {
        "id": "AjYPiO2pL3u7"
      },
      "source": [
        "### 124\n",
        "\n",
        "사용자로부터 세 개의 숫자를 입력 받은 후 가장 큰 숫자를 출력하라.  \n",
        "  \n",
        ">> input number1: 10  \n",
        ">> input number2: 9  \n",
        ">> input number3: 20  \n",
        "20"
      ]
    },
    {
      "cell_type": "code",
      "metadata": {
        "colab": {
          "base_uri": "https://localhost:8080/"
        },
        "id": "lrIxe_7wI73L",
        "outputId": "f779ac01-6f2e-4d14-f724-710f51686b8a"
      },
      "source": [
        "n1=input(\"input number1: \")\n",
        "n2=input(\"input number2: \")\n",
        "n3=input(\"input number3: \")\n",
        "list = [int(n1), int(n2), int(n3)]\n",
        "print(max(list))"
      ],
      "execution_count": null,
      "outputs": [
        {
          "output_type": "stream",
          "text": [
            "input number1: 10\n",
            "input number2: 9\n",
            "input number3: 20\n",
            "20\n"
          ],
          "name": "stdout"
        }
      ]
    },
    {
      "cell_type": "markdown",
      "metadata": {
        "id": "z6MnmCobL3wk"
      },
      "source": [
        "### 125\n",
        "\n",
        "휴대폰 번호 앞자리에 따라 통신사는 아래와 같이 구분된다. 사용자로부터 휴대전화 번호를 입력 받고, 통신사를 출력하는 프로그램을 작성하라.  \n",
        "번호 \t통신사  \n",
        "011 \tSKT  \n",
        "016 \tKT  \n",
        "019 \tLGU  \n",
        "010 \t알수없음  \n",
        "  \n",
        ">> 휴대전화 번호 입력: 011-345-1922  \n",
        "당신은 SKT 사용자입니다."
      ]
    },
    {
      "cell_type": "code",
      "metadata": {
        "colab": {
          "base_uri": "https://localhost:8080/"
        },
        "id": "ZGRV2DPvKTMv",
        "outputId": "b854d12f-7579-482f-909a-8875fad57224"
      },
      "source": [
        "dict = {'011':'SKT', '016':'KT', '019':'LGU', '010':'알수없음'}\n",
        "user = input(\"휴대전화 번호 입력:\")\n",
        "num = user.split(\"-\")[0]\n",
        "com = dict[num]\n",
        "print(f\"당신은 {com} 사용자입니다.\")"
      ],
      "execution_count": null,
      "outputs": [
        {
          "output_type": "stream",
          "text": [
            "휴대전화 번호 입력:011-345-1922\n",
            "당신은 SKT 사용자입니다.\n"
          ],
          "name": "stdout"
        }
      ]
    },
    {
      "cell_type": "markdown",
      "metadata": {
        "id": "MVMjQ0C7RLUD"
      },
      "source": [
        "밸류값이 문자열인 것 주의!!"
      ]
    },
    {
      "cell_type": "markdown",
      "metadata": {
        "id": "AthJr3yUL30R"
      },
      "source": [
        "### 126\n",
        "\n",
        "우편번호는 5자리로 구성되는데, 앞의 세자리는 구를 나타낸다. 예를들어, 강북구의 경우 010, 011, 012 세 자리로 시작한다.  \n",
        "\\- \t0 \t1 \t2 \t3 \t4 \t5 \t6 \t7 \t8 \t9  \n",
        "01 \t강북구 \t강북구 \t강북구 \t도봉구 \t도봉구 \t도봉구 \t노원구 \t노원구 \t노원구 \t노원구  \n",
        "  \n",
        "사용자로 부터 5자리 우편번호를 입력받고 구를 판별하라  \n",
        "  \n",
        ">> 우편번호: 01400  \n",
        "도봉구"
      ]
    },
    {
      "cell_type": "code",
      "metadata": {
        "colab": {
          "base_uri": "https://localhost:8080/"
        },
        "id": "4IdMOLGAQ62H",
        "outputId": "ea8c3dfd-6bdb-4658-9926-2e3cfbd196fb"
      },
      "source": [
        "우편번호 = input(\"우편번호:\")\n",
        "우편번호 = 우편번호[:3]\n",
        "if 우편번호 in [\"010\", \"011\", \"012\"]:\n",
        "  print(\"강북구\")\n",
        "elif 우편번호 in [\"013\", \"014\", \"015\"]:\n",
        "  print(\"도봉구\")\n",
        "else:\n",
        "  print(\"노원구\")"
      ],
      "execution_count": null,
      "outputs": [
        {
          "output_type": "stream",
          "text": [
            "우편번호:01400\n",
            "도봉구\n"
          ],
          "name": "stdout"
        }
      ]
    },
    {
      "cell_type": "markdown",
      "metadata": {
        "id": "XfntGuUtL33L"
      },
      "source": [
        "### 127\n",
        "\n",
        "주민등록번호 뒷 자리 7자리 중 첫째 자리는 성별을 나타내는데, 1, 3은 남자 2, 4는 여자를 의미한다. 사용자로부터 13자리의 주민등록번호를 입력 받은 후 성별 (남자, 여자)를 출력하는 프로그램을 작성하라.  \n",
        "  \n",
        ">> 주민등록번호: 821010-1635210  \n",
        "남자"
      ]
    },
    {
      "cell_type": "code",
      "metadata": {
        "colab": {
          "base_uri": "https://localhost:8080/"
        },
        "id": "9qNkOERmTUGR",
        "outputId": "87c8acf1-32cc-49a1-aeb5-677c5b6f5a71"
      },
      "source": [
        "주민번호 = input(\"주민등록번호: \")\n",
        "주민번호 = 주민번호.split(\"-\")[1]\n",
        "if 주민번호[0] == \"1\" or 주민번호[0] == \"3\":\n",
        "    print(\"남자\")\n",
        "else:\n",
        "    print(\"여자\")"
      ],
      "execution_count": null,
      "outputs": [
        {
          "output_type": "stream",
          "text": [
            "주민등록번호: 821010-1635210\n",
            "남자\n"
          ],
          "name": "stdout"
        }
      ]
    },
    {
      "cell_type": "markdown",
      "metadata": {
        "id": "iEhFepvzL354"
      },
      "source": [
        "### 128\n",
        "\n",
        "주민등록번호의 뒷 자리 7자리 중 두번째와 세번째는 지역코드를 의미한다. 주민 등록 번호를 입력 받은 후 출생지가 서울인지 아닌지 판단하는 코드를 작성하라  \n",
        "지역코드 \t출생지  \n",
        "00 \\~ 08 \t서울  \n",
        "09 \\~ 12 \t부산  \n",
        "  \n",
        ">> 주민등록번호: 821010-1635210  \n",
        "서울이 아닙니다.  \n",
        "  \n",
        ">> 주민등록번호: 861010-1015210  \n",
        "서울 입니다."
      ]
    },
    {
      "cell_type": "code",
      "metadata": {
        "colab": {
          "base_uri": "https://localhost:8080/"
        },
        "id": "HM0qqBWbUB80",
        "outputId": "7833e803-8d95-476a-eff2-4ca9f39753c0"
      },
      "source": [
        "주민번호 = input(\"주민등록번호: \")\n",
        "뒷자리 = 주민번호.split(\"-\")[1]\n",
        "if 0 <= int(뒷자리[1:3]) <= 8:\n",
        "    print(\"서울입니다.\")\n",
        "else:\n",
        "    print(\"서울이 아닙니다.\")"
      ],
      "execution_count": null,
      "outputs": [
        {
          "output_type": "stream",
          "text": [
            "주민등록번호: 821010-1635210\n",
            "서울이 아닙니다.\n"
          ],
          "name": "stdout"
        }
      ]
    },
    {
      "cell_type": "markdown",
      "metadata": {
        "id": "QGGkILHWL38p"
      },
      "source": [
        "### 129\n",
        "\n",
        "주민등록번호는 13자리로 구성되는데 마지막 자리수는 주민등록번호의 유효성을 체크하는데 사용된다. 먼저 앞에서부터 12자리의 숫자에 2, 3, 4, 5, 6, 7, 8, 9, 2, 3, 4, 5를 차례로 곱한 뒤 그 값을 전부 더한다. 연산 결과 값을 11로 나누면 나머지가 나오는데 11에서 나머지를 뺀 값이 주민등록번호의 마지막 번호가 된다.  \n",
        "  \n",
        "  8 2 1 0 1 0 - 1 6 3 5 2 1 0  \n",
        "x 2 3 4 5 6 7   8 9 2 3 4 5  \n",
        "\\-----------------------------  \n",
        "1차 계산: (8*2 + 2*3 + 1*4 + 0*5 + 1*6 + 0*7 + 1*8 + 6*9 + 3*2 + 5*3 + 2*4 + 1*5) = (128 % 11) = 7  \n",
        "2차 계산: 11 -7 = 4  \n",
        "  \n",
        "위와 같이 821010-1635210에 대해서 계산을 해보면 마지막 자리는 4가 되어야 함을 알 수 있다. 즉, 821010-1635210은 유효하지 않은 주민등록번호임을 알 수 있다.  \n",
        "  \n",
        "다음과 같이 사용자로부터 주민등록번호를 입력받은 후 주민등록번호가 유효한지를 출력하는 프로그램을 작성하라.  \n",
        "  \n",
        ">> 주민등록번호: 821010-1635210  \n",
        "유효하지 않은 주민등록번호입니다."
      ]
    },
    {
      "cell_type": "code",
      "metadata": {
        "colab": {
          "base_uri": "https://localhost:8080/"
        },
        "id": "u6jAd7_KUg7m",
        "outputId": "8953e27e-b671-4856-d944-2578b5a1b34f"
      },
      "source": [
        "num = input(\"주민등록번호: \")\n",
        "계산1 = int(num[0]) * 2 + int(num[1]) * 3 + int(num[2]) * 4 + int(num[3]) * 5 + int(num[4]) * 6 + \\\n",
        "        int(num[5]) * 7 + int(num[7]) * 8 + int(num[8]) * 9 + int(num[9]) * 2 + int(num[10])* 3 + \\\n",
        "        int(num[11])* 4 + int(num[12]) * 5\n",
        "계산2 = 11 - (계산1 % 11)\n",
        "계산3 = str(계산2)\n",
        "\n",
        "if num[-1] == 계산3[-1]:\n",
        "    print(\"유효한 주민등록번호입니다.\")\n",
        "else:\n",
        "    print(\"유효하지 않은 주민등록번호입니다.\")"
      ],
      "execution_count": null,
      "outputs": [
        {
          "output_type": "stream",
          "text": [
            "주민등록번호: 821010-1635210\n",
            "유효하지 않은 주민등록번호입니다.\n"
          ],
          "name": "stdout"
        }
      ]
    },
    {
      "cell_type": "markdown",
      "metadata": {
        "id": "xcVt9C2AL3-M"
      },
      "source": [
        "### 130\n",
        "\n",
        "아래 코드는 비트코인의 가격 정보를 딕셔너리로 가져오는 코드이다.  \n",
        "  \n",
        "import requests  \n",
        "btc = requests.get(\"https://api.bithumb.com/public/ticker/\").json()['data']  \n",
        "  \n",
        "btc 딕셔너리 안에는 시가, 종가, 최고가, 최저가 등이 저장되어 있다. 최고가와 최저가의 차이를 변동폭으로 정의할 때 (시가 + 변동폭)이 최고가 보다 높을 경우 \"상승장\", 그렇지 않은 경우 \"하락장\" 문자열을 출력하라.  \n",
        "Key Name \tDescription  \n",
        "opening_price \t최근 24시간 내 시작 거래금액  \n",
        "closing_price \t최근 24시간 내 마지막 거래금액  \n",
        "min_price \t최근 24시간 내 최저 거래금액  \n",
        "max_price \t최근 24시간 내 최고 거래금액"
      ]
    },
    {
      "cell_type": "code",
      "metadata": {
        "id": "ceTv0m8oUvEw",
        "colab": {
          "base_uri": "https://localhost:8080/"
        },
        "outputId": "6c111d46-ac19-4016-a262-abcd029b22fb"
      },
      "source": [
        "import requests\n",
        "btc = requests.get(\"https://api.bithumb.com/public/ticker/\").json()['data']\n",
        "\n",
        "변동폭 = float(btc['max_price']) - float(btc['min_price'])\n",
        "시가 = float(btc['opening_price'])\n",
        "최고가 = float(btc['max_price'])\n",
        "\n",
        "if (시가+변동폭) > 최고가:\n",
        "    print(\"상승장\")\n",
        "else:\n",
        "    print(\"하락장\")"
      ],
      "execution_count": null,
      "outputs": [
        {
          "output_type": "stream",
          "text": [
            "상승장\n"
          ],
          "name": "stdout"
        }
      ]
    },
    {
      "cell_type": "markdown",
      "metadata": {
        "id": "lvD0qOTUL4CT"
      },
      "source": [
        "### 131\n",
        "\n",
        "for문의 실행결과를 예측하라.  \n",
        "  \n",
        "과일 = [\"사과\", \"귤\", \"수박\"]  \n",
        "for 변수 in 과일:  \n",
        "    print(변수)"
      ]
    },
    {
      "cell_type": "code",
      "metadata": {
        "colab": {
          "base_uri": "https://localhost:8080/"
        },
        "id": "A7uqVBU00eQa",
        "outputId": "c6ce6e1d-175e-45e5-9c6e-5ee4f6e55402"
      },
      "source": [
        "과일 = [\"사과\", \"귤\", \"수박\"]  \n",
        "for 변수 in 과일:  \n",
        "    print(변수)"
      ],
      "execution_count": null,
      "outputs": [
        {
          "output_type": "stream",
          "text": [
            "사과\n",
            "귤\n",
            "수박\n"
          ],
          "name": "stdout"
        }
      ]
    },
    {
      "cell_type": "markdown",
      "metadata": {
        "id": "pH3uT5FeL4FI"
      },
      "source": [
        "### 132\n",
        "\n",
        "for문의 실행결과를 예측하라.  \n",
        "  \n",
        "과일 = [\"사과\", \"귤\", \"수박\"]  \n",
        "for 변수 in 과일:  \n",
        "  print(\"#####\")"
      ]
    },
    {
      "cell_type": "code",
      "metadata": {
        "colab": {
          "base_uri": "https://localhost:8080/"
        },
        "id": "Hk_CXZCH0pUa",
        "outputId": "8e043308-e993-4f20-80cf-83bf1ee960a9"
      },
      "source": [
        "과일 = [\"사과\", \"귤\", \"수박\"]  \n",
        "for 변수 in 과일:  \n",
        "  print(\"#####\")"
      ],
      "execution_count": null,
      "outputs": [
        {
          "output_type": "stream",
          "text": [
            "#####\n",
            "#####\n",
            "#####\n"
          ],
          "name": "stdout"
        }
      ]
    },
    {
      "cell_type": "markdown",
      "metadata": {
        "id": "SKqtOxirL4G2"
      },
      "source": [
        "### 133\n",
        "\n",
        "다음 for 문과 동일한 기능을 수행하는 코드를 작성하세요.  \n",
        "  \n",
        "for 변수 in [\"A\", \"B\", \"C\"]:  \n",
        "  print(변수)"
      ]
    },
    {
      "cell_type": "code",
      "metadata": {
        "colab": {
          "base_uri": "https://localhost:8080/"
        },
        "id": "jIvGoS5t056_",
        "outputId": "fc682743-8a91-4eec-83fa-410c526fffb7"
      },
      "source": [
        "for 변수 in [\"A\", \"B\", \"C\"]:  \n",
        "  print(변수)"
      ],
      "execution_count": null,
      "outputs": [
        {
          "output_type": "stream",
          "text": [
            "A\n",
            "B\n",
            "C\n"
          ],
          "name": "stdout"
        }
      ]
    },
    {
      "cell_type": "code",
      "metadata": {
        "colab": {
          "base_uri": "https://localhost:8080/"
        },
        "id": "l0q098VW1W6Y",
        "outputId": "510ffdf2-20ed-44bd-8c62-34a77ac5103d"
      },
      "source": [
        "print(\"A\")\n",
        "print(\"B\")\n",
        "print(\"C\")"
      ],
      "execution_count": null,
      "outputs": [
        {
          "output_type": "stream",
          "text": [
            "A\n",
            "B\n",
            "C\n"
          ],
          "name": "stdout"
        }
      ]
    },
    {
      "cell_type": "markdown",
      "metadata": {
        "id": "ua56JPKUL4K7"
      },
      "source": [
        "### 134\n",
        "\n",
        "for문을 풀어서 동일한 동작을하는 코드를 작성하라.  \n",
        "  \n",
        "for 변수 in [\"A\", \"B\", \"C\"]:  \n",
        "  print(\"출력:\", 변수)"
      ]
    },
    {
      "cell_type": "code",
      "metadata": {
        "colab": {
          "base_uri": "https://localhost:8080/"
        },
        "id": "TFXJbyuv0_T6",
        "outputId": "886f9c93-1b2f-4e86-87e7-a9f0ae48f2cf"
      },
      "source": [
        "for 변수 in [\"A\", \"B\", \"C\"]:  \n",
        "  print(\"출력:\", 변수)"
      ],
      "execution_count": null,
      "outputs": [
        {
          "output_type": "stream",
          "text": [
            "출력: A\n",
            "출력: B\n",
            "출력: C\n"
          ],
          "name": "stdout"
        }
      ]
    },
    {
      "cell_type": "code",
      "metadata": {
        "colab": {
          "base_uri": "https://localhost:8080/"
        },
        "id": "mnDXTprG1ZY1",
        "outputId": "c5f67a60-0d89-43df-a02e-03e06959e34d"
      },
      "source": [
        "print(\"출력:\", \"A\")\n",
        "print(\"출력:\", \"B\")\n",
        "print(\"출력:\", \"C\")"
      ],
      "execution_count": null,
      "outputs": [
        {
          "output_type": "stream",
          "text": [
            "출력: A\n",
            "출력: B\n",
            "출력: C\n"
          ],
          "name": "stdout"
        }
      ]
    },
    {
      "cell_type": "markdown",
      "metadata": {
        "id": "MDo4SpJVL4Mf"
      },
      "source": [
        "### 135\n",
        "\n",
        "for문을 풀어서 동일한 동작을 하는 코드를 작성하라.  \n",
        "  \n",
        "for 변수 in [\"A\", \"B\", \"C\"]:  \n",
        "  b = 변수.lower()  \n",
        "  print(\"변환:\", b)"
      ]
    },
    {
      "cell_type": "code",
      "metadata": {
        "colab": {
          "base_uri": "https://localhost:8080/"
        },
        "id": "vHyL0qB_1IC4",
        "outputId": "c2fe9b1d-80f8-47ec-d0de-a639a09e7f37"
      },
      "source": [
        "for 변수 in [\"A\", \"B\", \"C\"]:  \n",
        "  b = 변수.lower()  \n",
        "  print(\"변환:\", b)"
      ],
      "execution_count": null,
      "outputs": [
        {
          "output_type": "stream",
          "text": [
            "변환: a\n",
            "변환: b\n",
            "변환: c\n"
          ],
          "name": "stdout"
        }
      ]
    },
    {
      "cell_type": "code",
      "metadata": {
        "colab": {
          "base_uri": "https://localhost:8080/"
        },
        "id": "Gq8Dd2cX1hyU",
        "outputId": "d6b14703-7701-4250-b96a-03af5ccc7f68"
      },
      "source": [
        "변수 = \"A\"\n",
        "b = 변수.lower()\n",
        "print(\"변환:\", b)\n",
        "변수 = \"B\"\n",
        "b = 변수.lower()\n",
        "print(\"변환:\", b)\n",
        "변수 = \"C\"\n",
        "b = 변수.lower()\n",
        "print(\"변환:\", b)"
      ],
      "execution_count": null,
      "outputs": [
        {
          "output_type": "stream",
          "text": [
            "변환: a\n",
            "변환: b\n",
            "변환: c\n"
          ],
          "name": "stdout"
        }
      ]
    },
    {
      "cell_type": "markdown",
      "metadata": {
        "id": "bMstJe9TL4Qk"
      },
      "source": [
        "### 136\n",
        "\n",
        "다음 코드를 for문으로 작성하라.  \n",
        "  \n",
        "변수 = 10  \n",
        "print(변수)  \n",
        "변수 = 20  \n",
        "print(변수)  \n",
        "변수 = 30  \n",
        "print(변수)"
      ]
    },
    {
      "cell_type": "code",
      "metadata": {
        "colab": {
          "base_uri": "https://localhost:8080/"
        },
        "id": "QtwiBIix1vYr",
        "outputId": "127b4281-84a1-4059-f61a-4707d16c2b7b"
      },
      "source": [
        "변수 = 10  \n",
        "print(변수)  \n",
        "변수 = 20  \n",
        "print(변수)  \n",
        "변수 = 30  \n",
        "print(변수)"
      ],
      "execution_count": null,
      "outputs": [
        {
          "output_type": "stream",
          "text": [
            "10\n",
            "20\n",
            "30\n"
          ],
          "name": "stdout"
        }
      ]
    },
    {
      "cell_type": "code",
      "metadata": {
        "colab": {
          "base_uri": "https://localhost:8080/"
        },
        "id": "-iZ84X8915pe",
        "outputId": "6d6d9ae6-9ed1-4ad6-84f0-05d316f501fe"
      },
      "source": [
        "for 변수 in [\"10\", \"20\", \"30\"]:\n",
        "  print(변수)"
      ],
      "execution_count": null,
      "outputs": [
        {
          "output_type": "stream",
          "text": [
            "10\n",
            "20\n",
            "30\n"
          ],
          "name": "stdout"
        }
      ]
    },
    {
      "cell_type": "markdown",
      "metadata": {
        "id": "Iom9fe0JL4SC"
      },
      "source": [
        "### 137\n",
        "\n",
        "다음 코드를 for문으로 작성하라.  \n",
        "  \n",
        "print(10)  \n",
        "print(20)  \n",
        "print(30)"
      ]
    },
    {
      "cell_type": "code",
      "metadata": {
        "colab": {
          "base_uri": "https://localhost:8080/"
        },
        "id": "8lRibyZ_2NbB",
        "outputId": "70b9deec-88ce-42c5-959b-256db6c8fc8b"
      },
      "source": [
        "list = [\"10\", \"20\", \"30\"]\n",
        "for a in list:\n",
        "  print(a)"
      ],
      "execution_count": null,
      "outputs": [
        {
          "output_type": "stream",
          "text": [
            "10\n",
            "20\n",
            "30\n"
          ],
          "name": "stdout"
        }
      ]
    },
    {
      "cell_type": "markdown",
      "metadata": {
        "id": "aUj12sW3L4Vv"
      },
      "source": [
        "### 138\n",
        "\n",
        "다음 코드를 for문으로 작성하라.  \n",
        "  \n",
        "print(10)  \n",
        "print(\"-------\")  \n",
        "print(20)  \n",
        "print(\"-------\")  \n",
        "print(30)  \n",
        "print(\"-------\")"
      ]
    },
    {
      "cell_type": "code",
      "metadata": {
        "colab": {
          "base_uri": "https://localhost:8080/"
        },
        "id": "LmBn1BX33DJ1",
        "outputId": "a48f620f-0fec-419a-bf65-8ec602b2651f"
      },
      "source": [
        "for a in [\"10\", \"20\", \"30\"]:\n",
        "  print(a)\n",
        "  print(\"-------\")"
      ],
      "execution_count": null,
      "outputs": [
        {
          "output_type": "stream",
          "text": [
            "10\n",
            "-------\n",
            "20\n",
            "-------\n",
            "30\n",
            "-------\n"
          ],
          "name": "stdout"
        }
      ]
    },
    {
      "cell_type": "markdown",
      "metadata": {
        "id": "Q-v1WRWqL4Yn"
      },
      "source": [
        "### 139\n",
        "\n",
        "다음 코드를 for문으로 작성하라.  \n",
        "  \n",
        "print(\"++++\")  \n",
        "print(10)  \n",
        "print(20)  \n",
        "print(30)"
      ]
    },
    {
      "cell_type": "code",
      "metadata": {
        "colab": {
          "base_uri": "https://localhost:8080/"
        },
        "id": "O5s5OZdn3s2C",
        "outputId": "9c3eb93d-f4bc-4444-a712-3407ad0c0e77"
      },
      "source": [
        "print(\"++++\")\n",
        "for a in [\"10\", \"20\", \"30\"]:\n",
        "  print(a)"
      ],
      "execution_count": null,
      "outputs": [
        {
          "output_type": "stream",
          "text": [
            "++++\n",
            "10\n",
            "20\n",
            "30\n"
          ],
          "name": "stdout"
        }
      ]
    },
    {
      "cell_type": "markdown",
      "metadata": {
        "id": "VR8dz-eHL4bY"
      },
      "source": [
        "### 140\n",
        "\n",
        "다음 코드를 for문으로 작성하라.  \n",
        "  \n",
        "print(\"-------\")  \n",
        "print(\"-------\")  \n",
        "print(\"-------\")  \n",
        "print(\"-------\")"
      ]
    },
    {
      "cell_type": "code",
      "metadata": {
        "colab": {
          "base_uri": "https://localhost:8080/"
        },
        "id": "-6QSg9gq37Dz",
        "outputId": "346a8087-4916-4ac9-84f2-0324d8a3cb31"
      },
      "source": [
        "for i in range(4):\n",
        "  print(\"-------\")"
      ],
      "execution_count": null,
      "outputs": [
        {
          "output_type": "stream",
          "text": [
            "-------\n",
            "-------\n",
            "-------\n",
            "-------\n"
          ],
          "name": "stdout"
        }
      ]
    },
    {
      "cell_type": "markdown",
      "metadata": {
        "id": "QOV7U5HQL4dM"
      },
      "source": [
        "### 141\n",
        "\n",
        "다음과 같이 판매가가 저장된 리스트가 있을 때 부가세가 포함된 가격을 for 문을 사용해서 화면에 출력하라. 단 부가세는 10원으로 가정한다.  \n",
        "  \n",
        "리스트 = [100, 200, 300]  \n",
        "  \n",
        "110  \n",
        "210  \n",
        "310"
      ]
    },
    {
      "cell_type": "code",
      "metadata": {
        "colab": {
          "base_uri": "https://localhost:8080/"
        },
        "id": "9bJHFwB56veD",
        "outputId": "b7e7ddc2-cfc2-46c0-faf0-6ccba8e9e11f"
      },
      "source": [
        "리스트 = [100, 200, 300]\n",
        "for i in 리스트:\n",
        "  print(i+10)"
      ],
      "execution_count": null,
      "outputs": [
        {
          "output_type": "stream",
          "text": [
            "110\n",
            "210\n",
            "310\n"
          ],
          "name": "stdout"
        }
      ]
    },
    {
      "cell_type": "markdown",
      "metadata": {
        "id": "8s8ha9GlL4hE"
      },
      "source": [
        "### 142\n",
        "\n",
        "for 문을 사용해서 리스트에 저장된 값을 다음과 같이 출력하라.  \n",
        "  \n",
        "리스트 = [\"김밥\", \"라면\", \"튀김\"]  \n",
        "  \n",
        "오늘의 메뉴: 김밥  \n",
        "오늘의 메뉴: 라면  \n",
        "오늘의 메뉴: 튀김"
      ]
    },
    {
      "cell_type": "code",
      "metadata": {
        "colab": {
          "base_uri": "https://localhost:8080/"
        },
        "id": "FQpyWNFG7DAa",
        "outputId": "617992ec-d726-40f6-d6ab-0a9bb9006345"
      },
      "source": [
        "리스트 = [\"김밥\", \"라면\", \"튀김\"]\n",
        "for i in 리스트:\n",
        "  print(\"오늘의 메뉴:\", i)"
      ],
      "execution_count": null,
      "outputs": [
        {
          "output_type": "stream",
          "text": [
            "오늘의 메뉴: 김밥\n",
            "오늘의 메뉴: 라면\n",
            "오늘의 메뉴: 튀김\n"
          ],
          "name": "stdout"
        }
      ]
    },
    {
      "cell_type": "markdown",
      "metadata": {
        "id": "_XCkJKsHL4j7"
      },
      "source": [
        "### 143\n",
        "\n",
        "리스트에 주식 종목이름이 저장돼 있다.  \n",
        "  \n",
        "리스트 = [\"SK하이닉스\", \"삼성전자\", \"LG전자\"]  \n",
        "  \n",
        "저장된 문자열의 길이를 다음과 같이 출력하라.  \n",
        "  \n",
        "6  \n",
        "4  \n",
        "4"
      ]
    },
    {
      "cell_type": "code",
      "metadata": {
        "colab": {
          "base_uri": "https://localhost:8080/"
        },
        "id": "Yc6niK-H74DW",
        "outputId": "92ef141c-1807-43b9-a027-9ffa025832e1"
      },
      "source": [
        "리스트 = [\"SK하이닉스\", \"삼성전자\", \"LG전자\"]\n",
        "for i in 리스트:\n",
        "  print(len(i))"
      ],
      "execution_count": null,
      "outputs": [
        {
          "output_type": "stream",
          "text": [
            "6\n",
            "4\n",
            "4\n"
          ],
          "name": "stdout"
        }
      ]
    },
    {
      "cell_type": "markdown",
      "metadata": {
        "id": "kiij0BIqL4mt"
      },
      "source": [
        "### 144\n",
        "\n",
        "리스트에는 동물이름이 문자열로 저장돼 있다.  \n",
        "  \n",
        "리스트 = ['dog', 'cat', 'parrot']  \n",
        "  \n",
        "동물 이름과 글자수를 다음과 같이 출력하라.  \n",
        "  \n",
        "dog 3  \n",
        "cat 3  \n",
        "parrot 6"
      ]
    },
    {
      "cell_type": "code",
      "metadata": {
        "colab": {
          "base_uri": "https://localhost:8080/"
        },
        "id": "CTYL9fGg8NPV",
        "outputId": "39bdb80d-db42-4318-8e03-2323587a5435"
      },
      "source": [
        "리스트 = ['dog', 'cat', 'parrot']\n",
        "for i in 리스트:\n",
        "  print(i, len(i))"
      ],
      "execution_count": null,
      "outputs": [
        {
          "output_type": "stream",
          "text": [
            "dog 3\n",
            "cat 3\n",
            "parrot 6\n"
          ],
          "name": "stdout"
        }
      ]
    },
    {
      "cell_type": "markdown",
      "metadata": {
        "id": "zSoAjocAL4p0"
      },
      "source": [
        "### 145\n",
        "\n",
        "리스트에 동물 이름 저장돼 있다.  \n",
        "  \n",
        "리스트 = ['dog', 'cat', 'parrot']  \n",
        "  \n",
        "for문을 사용해서 동물 이름의 첫 글자만 출력하라.  \n",
        "  \n",
        "d  \n",
        "c  \n",
        "p"
      ]
    },
    {
      "cell_type": "code",
      "metadata": {
        "colab": {
          "base_uri": "https://localhost:8080/"
        },
        "id": "YWOpWIn98iFg",
        "outputId": "f4a4d391-9fa5-4189-a42d-df5913516152"
      },
      "source": [
        "리스트 = ['dog', 'cat', 'parrot']\n",
        "for i in 리스트:\n",
        "  print(i[0])"
      ],
      "execution_count": null,
      "outputs": [
        {
          "output_type": "stream",
          "text": [
            "d\n",
            "c\n",
            "p\n"
          ],
          "name": "stdout"
        }
      ]
    },
    {
      "cell_type": "markdown",
      "metadata": {
        "id": "OvN1oFDwL4rH"
      },
      "source": [
        "### 146\n",
        "\n",
        "리스트에는 세 개의 숫자가 바인딩돼 있다.  \n",
        "  \n",
        "리스트 = [1, 2, 3]  \n",
        "  \n",
        "for문을 사용해서 다음과 같이 출력하라.  \n",
        "  \n",
        "3 x 1  \n",
        "3 x 2  \n",
        "3 x 3"
      ]
    },
    {
      "cell_type": "code",
      "metadata": {
        "colab": {
          "base_uri": "https://localhost:8080/"
        },
        "id": "l_5QWhxV8yIZ",
        "outputId": "65736bc3-9c58-4501-f983-835fabb4a085"
      },
      "source": [
        "리스트 = [1, 2, 3]\n",
        "for i in 리스트:\n",
        "  print(\"3 x\", i)"
      ],
      "execution_count": null,
      "outputs": [
        {
          "output_type": "stream",
          "text": [
            "3 x 1\n",
            "3 x 2\n",
            "3 x 3\n"
          ],
          "name": "stdout"
        }
      ]
    },
    {
      "cell_type": "markdown",
      "metadata": {
        "id": "mXIwWx6yL4vm"
      },
      "source": [
        "### 147\n",
        "\n",
        "리스트에는 세 개의 숫자가 바인딩돼 있다.  \n",
        "  \n",
        "리스트 = [1, 2, 3]  \n",
        "  \n",
        "for문을 사용해서 다음과 같이 출력하라.  \n",
        "  \n",
        "3 x 1 = 3  \n",
        "3 x 2 = 6  \n",
        "3 x 3 = 9"
      ]
    },
    {
      "cell_type": "code",
      "metadata": {
        "colab": {
          "base_uri": "https://localhost:8080/"
        },
        "id": "MrQbZ0KoN2MU",
        "outputId": "3a6c5350-73b0-4eb0-b4ef-7cb3885d03e2"
      },
      "source": [
        "리스트 = [1, 2, 3]\n",
        "for i in 리스트:\n",
        "  print(\"3 x {} = {}\".format(i, 3*i))"
      ],
      "execution_count": null,
      "outputs": [
        {
          "output_type": "stream",
          "text": [
            "3 x 1 = 3\n",
            "3 x 2 = 6\n",
            "3 x 3 = 9\n"
          ],
          "name": "stdout"
        }
      ]
    },
    {
      "cell_type": "markdown",
      "metadata": {
        "id": "XqQBi2l5L4xF"
      },
      "source": [
        "### 148\n",
        "\n",
        "리스트에는 네 개의 문자열이 바인딩돼 있다.  \n",
        "  \n",
        "리스트 = [\"가\", \"나\", \"다\", \"라\"]  \n",
        "  \n",
        "for문을 사용해서 다음과 같이 출력하라.  \n",
        "  \n",
        "나  \n",
        "다  \n",
        "라"
      ]
    },
    {
      "cell_type": "code",
      "metadata": {
        "colab": {
          "base_uri": "https://localhost:8080/"
        },
        "id": "xnYqRoOuObPb",
        "outputId": "651282b0-5a1a-4c29-8283-4bf838ed9e4f"
      },
      "source": [
        "리스트 = [\"가\", \"나\", \"다\", \"라\"]\n",
        "for i in 리스트[1:]:\n",
        "  print(i)"
      ],
      "execution_count": null,
      "outputs": [
        {
          "output_type": "stream",
          "text": [
            "나\n",
            "다\n",
            "라\n"
          ],
          "name": "stdout"
        }
      ]
    },
    {
      "cell_type": "markdown",
      "metadata": {
        "id": "RubpktI7L41U"
      },
      "source": [
        "### 149\n",
        "\n",
        "리스트에는 네 개의 문자열이 바인딩돼 있다.  \n",
        "  \n",
        "리스트 = [\"가\", \"나\", \"다\", \"라\"]  \n",
        "  \n",
        "for문을 사용해서 다음과 같이 출력하라.  \n",
        "  \n",
        "가  \n",
        "다"
      ]
    },
    {
      "cell_type": "code",
      "metadata": {
        "colab": {
          "base_uri": "https://localhost:8080/"
        },
        "id": "aBcDWmc9OrR-",
        "outputId": "ce0a0c72-1016-44e5-b505-e180bfd67f3b"
      },
      "source": [
        "리스트 = [\"가\", \"나\", \"다\", \"라\"]\n",
        "for i in 리스트[0::2]:\n",
        "  print(i)"
      ],
      "execution_count": null,
      "outputs": [
        {
          "output_type": "stream",
          "text": [
            "가\n",
            "다\n"
          ],
          "name": "stdout"
        }
      ]
    },
    {
      "cell_type": "markdown",
      "metadata": {
        "id": "Eg0JYP2FL429"
      },
      "source": [
        "### 150\n",
        "\n",
        "리스트에는 네 개의 문자열이 바인딩돼 있다.  \n",
        "  \n",
        "리스트 = [\"가\", \"나\", \"다\", \"라\"]  \n",
        "  \n",
        "for문을 사용해서 다음과 같이 출력하라.  \n",
        "  \n",
        "라  \n",
        "다  \n",
        "나  \n",
        "가"
      ]
    },
    {
      "cell_type": "code",
      "metadata": {
        "colab": {
          "base_uri": "https://localhost:8080/"
        },
        "id": "oqpOYDgFO8zu",
        "outputId": "e7bde4c3-3f58-4d4f-c0da-a9a71873ee17"
      },
      "source": [
        "리스트 = [\"가\", \"나\", \"다\", \"라\"]\n",
        "for i in 리스트[::-1]:\n",
        "  print(i)"
      ],
      "execution_count": null,
      "outputs": [
        {
          "output_type": "stream",
          "text": [
            "라\n",
            "다\n",
            "나\n",
            "가\n"
          ],
          "name": "stdout"
        }
      ]
    },
    {
      "cell_type": "markdown",
      "metadata": {
        "id": "BbZtmOS8L47P"
      },
      "source": [
        "### 151\n",
        "\n",
        "리스트에는 네 개의 정수가 저장돼 있다.  \n",
        "  \n",
        "리스트 = [3, -20, -3, 44]  \n",
        "  \n",
        "for문을 사용해서 리스트의 음수를 출력하라.  \n",
        "  \n",
        "-20  \n",
        "-3"
      ]
    },
    {
      "cell_type": "code",
      "metadata": {
        "colab": {
          "base_uri": "https://localhost:8080/"
        },
        "id": "_gZKfuUcPX2z",
        "outputId": "41642eca-7889-4466-dc43-9820dce253fc"
      },
      "source": [
        "리스트 = [3, -20, -3, 44]\n",
        "for i in 리스트:\n",
        "  if i<0:\n",
        "    print(i)"
      ],
      "execution_count": null,
      "outputs": [
        {
          "output_type": "stream",
          "text": [
            "-20\n",
            "-3\n"
          ],
          "name": "stdout"
        }
      ]
    },
    {
      "cell_type": "markdown",
      "metadata": {
        "id": "UFDQam2aL48s"
      },
      "source": [
        "### 152\n",
        "\n",
        "for문을 사용해서 3의 배수만을 출력하라.  \n",
        "  \n",
        "리스트 = [3, 100, 23, 44]  \n",
        "  \n",
        "3"
      ]
    },
    {
      "cell_type": "code",
      "metadata": {
        "colab": {
          "base_uri": "https://localhost:8080/"
        },
        "id": "ITkIH2XSPwsg",
        "outputId": "a64f4bc6-280c-4ef0-89e0-7be95ec8f06b"
      },
      "source": [
        "리스트 = [3, 100, 23, 44]\n",
        "for i in 리스트:\n",
        "  if i%3 == 0:\n",
        "    print(i)"
      ],
      "execution_count": null,
      "outputs": [
        {
          "output_type": "stream",
          "text": [
            "3\n"
          ],
          "name": "stdout"
        }
      ]
    },
    {
      "cell_type": "markdown",
      "metadata": {
        "id": "-ntQrO-iL5A1"
      },
      "source": [
        "### 153\n",
        "\n",
        "리스트에서 20 보다 작은 3의 배수를 출력하라  \n",
        "  \n",
        "리스트 = [13, 21, 12, 14, 30, 18]  \n",
        "  \n",
        "12  \n",
        "18"
      ]
    },
    {
      "cell_type": "code",
      "metadata": {
        "colab": {
          "base_uri": "https://localhost:8080/"
        },
        "id": "KHgOr1mtP-DR",
        "outputId": "bc55bcc2-6ef7-4b99-dea0-fb53ade9ad21"
      },
      "source": [
        "리스트 = [13, 21, 12, 14, 30, 18]\n",
        "for i in 리스트:\n",
        "  if (i<20) & (i%3==0):\n",
        "    print(i)"
      ],
      "execution_count": null,
      "outputs": [
        {
          "output_type": "stream",
          "text": [
            "12\n",
            "18\n"
          ],
          "name": "stdout"
        }
      ]
    },
    {
      "cell_type": "markdown",
      "metadata": {
        "id": "ZO1bJxzrL5Cc"
      },
      "source": [
        "### 154\n",
        "\n",
        "리스트에서 세 글자 이상의 문자를 화면에 출력하라  \n",
        "  \n",
        "리스트 = [\"I\", \"study\", \"python\", \"language\", \"!\"]  \n",
        "  \n",
        "study  \n",
        "python  \n",
        "language"
      ]
    },
    {
      "cell_type": "code",
      "metadata": {
        "colab": {
          "base_uri": "https://localhost:8080/"
        },
        "id": "4d3icTABQcVS",
        "outputId": "790ed7d3-d9f5-4668-ec78-cf5182d5b51e"
      },
      "source": [
        "리스트 = [\"I\", \"study\", \"python\", \"language\", \"!\"]\n",
        "for i in 리스트:\n",
        "  if len(i)>=3:\n",
        "    print(i)"
      ],
      "execution_count": null,
      "outputs": [
        {
          "output_type": "stream",
          "text": [
            "study\n",
            "python\n",
            "language\n"
          ],
          "name": "stdout"
        }
      ]
    },
    {
      "cell_type": "markdown",
      "metadata": {
        "id": "f2p3Tk_lL5Gs"
      },
      "source": [
        "### 155\n",
        "\n",
        "리스트에서 대문자만 화면에 출력하라.  \n",
        "  \n",
        "리스트 = [\"A\", \"b\", \"c\", \"D\"]\n",
        "  \n",
        "A  \n",
        "D  \n",
        "  \n",
        "(참고) isupper() 메서드는 대문자 여부를 판별합니다.  \n",
        "\n",
        ">> 변수 = \"A\"  \n",
        ">> 변수.isupper()  \n",
        "True  \n",
        ">> 변수 = \"a\"  \n",
        ">> 변수.isupper()  \n",
        "False"
      ]
    },
    {
      "cell_type": "code",
      "metadata": {
        "id": "mJBUXmhNQuuX",
        "colab": {
          "base_uri": "https://localhost:8080/"
        },
        "outputId": "0176b89c-a94c-4af2-ebfa-69d9f9270fc1"
      },
      "source": [
        "리스트 = [\"A\", \"b\", \"c\", \"D\"]\n",
        "for i in 리스트:\n",
        "  if i.isupper() == True:\n",
        "    print(i)"
      ],
      "execution_count": null,
      "outputs": [
        {
          "output_type": "stream",
          "text": [
            "A\n",
            "D\n"
          ],
          "name": "stdout"
        }
      ]
    },
    {
      "cell_type": "markdown",
      "metadata": {
        "id": "DJ0OBsnLL5Ia"
      },
      "source": [
        "### 156\n",
        "\n",
        "리스트에서 소문자만 화면에 출력하라.  \n",
        "  \n",
        "리스트 = [\"A\", \"b\", \"c\", \"D\"]  \n",
        "  \n",
        "b  \n",
        "c"
      ]
    },
    {
      "cell_type": "code",
      "metadata": {
        "colab": {
          "base_uri": "https://localhost:8080/"
        },
        "id": "Cnu1dffBJ20A",
        "outputId": "cf9d3760-a687-43a2-c870-6231f395c28a"
      },
      "source": [
        "리스트 = [\"A\", \"b\", \"c\", \"D\"]\n",
        "for i in 리스트:\n",
        "  if i.isupper() == False:\n",
        "    print(i)"
      ],
      "execution_count": null,
      "outputs": [
        {
          "output_type": "stream",
          "text": [
            "b\n",
            "c\n"
          ],
          "name": "stdout"
        }
      ]
    },
    {
      "cell_type": "markdown",
      "metadata": {
        "id": "arhYDR7aL5MV"
      },
      "source": [
        "### 157\n",
        "\n",
        "이름의 첫 글자를 대문자로 변경해서 출력하라.  \n",
        "  \n",
        "리스트 = ['dog', 'cat', 'parrot']\n",
        "  \n",
        "Dog  \n",
        "Cat  \n",
        "Parrot  \n",
        "  \n",
        "(참고) upper() 메서드는 문자열을 대문자로 변경합니다.  \n",
        "  \n",
        ">> 변수 = \"a\"  \n",
        ">> a.upper()  \n",
        "A  \n",
        ">> 변수 = \"abc\"  \n",
        ">> 변수.upper()  \n",
        "ABC"
      ]
    },
    {
      "cell_type": "code",
      "metadata": {
        "colab": {
          "base_uri": "https://localhost:8080/"
        },
        "id": "-d50BDHIKMqI",
        "outputId": "89dc8ddf-bdf3-4f66-fcb4-affe6701a2f3"
      },
      "source": [
        "리스트 = ['dog', 'cat', 'parrot']\n",
        "for i in 리스트:\n",
        "  print(i[0].upper())"
      ],
      "execution_count": null,
      "outputs": [
        {
          "output_type": "stream",
          "text": [
            "D\n",
            "C\n",
            "P\n"
          ],
          "name": "stdout"
        }
      ]
    },
    {
      "cell_type": "markdown",
      "metadata": {
        "id": "2JQvHWOPL5O7"
      },
      "source": [
        "### 158\n",
        "\n",
        "파일 이름이 저장된 리스트에서 확장자를 제거하고 파일 이름만 화면에 출력하라. (힌트: split() 메서드)  \n",
        "  \n",
        "리스트 = ['hello.py', 'ex01.py', 'intro.hwp']  \n",
        "  \n",
        "hello  \n",
        "ex01  \n",
        "intro"
      ]
    },
    {
      "cell_type": "code",
      "metadata": {
        "colab": {
          "base_uri": "https://localhost:8080/"
        },
        "id": "JHuku6bEKmxe",
        "outputId": "7633808e-185b-4089-9eca-a5c2b242aeea"
      },
      "source": [
        "리스트 = ['hello.py', 'ex01.py', 'intro.hwp']\n",
        "for i in 리스트:\n",
        "  print(i.split(\".\")[0])"
      ],
      "execution_count": null,
      "outputs": [
        {
          "output_type": "stream",
          "text": [
            "hello\n",
            "ex01\n",
            "intro\n"
          ],
          "name": "stdout"
        }
      ]
    },
    {
      "cell_type": "markdown",
      "metadata": {
        "id": "YMS-V0g3L5Qy"
      },
      "source": [
        "### 159\n",
        "\n",
        "파일 이름이 저장된 리스트에서 확장자가 .h인 파일 이름을 출력하라.  \n",
        "  \n",
        "리스트 = ['intra.h', 'intra.c', 'define.h', 'run.py']  \n",
        "  \n",
        "intra.h  \n",
        "define.h"
      ]
    },
    {
      "cell_type": "code",
      "metadata": {
        "colab": {
          "base_uri": "https://localhost:8080/"
        },
        "id": "kF3e7iTLLHDm",
        "outputId": "3a57b9c0-c0d0-4ec2-e999-0024de8dea41"
      },
      "source": [
        "리스트 = ['intra.h', 'intra.c', 'define.h', 'run.py']\n",
        "for i in 리스트:\n",
        "  if i.split(\".\")[-1] == \"h\":\n",
        "    print(i)"
      ],
      "execution_count": null,
      "outputs": [
        {
          "output_type": "stream",
          "text": [
            "intra.h\n",
            "define.h\n"
          ],
          "name": "stdout"
        }
      ]
    },
    {
      "cell_type": "markdown",
      "metadata": {
        "id": "5Ha_aenzPaPu"
      },
      "source": [
        "### 160\n",
        "\n",
        "파일 이름이 저장된 리스트에서 확장자가 .h나 .c인 파일을 화면에 출력하라.  \n",
        "  \n",
        "리스트 = ['intra.h', 'intra.c', 'define.h', 'run.py']  \n",
        "  \n",
        "intra.h  \n",
        "intra.c  \n",
        "define.h"
      ]
    },
    {
      "cell_type": "code",
      "metadata": {
        "colab": {
          "base_uri": "https://localhost:8080/"
        },
        "id": "e1cQbgLuNKfx",
        "outputId": "bcd62e6f-93e5-4b3e-9f16-5a17938ba80d"
      },
      "source": [
        "리스트 = ['intra.h', 'intra.c', 'define.h', 'run.py']\n",
        "for i in 리스트:\n",
        "  if (i.split(\".\")[-1] == \"h\") or (i.split(\".\")[-1] == \"c\"):\n",
        "    print(i)"
      ],
      "execution_count": null,
      "outputs": [
        {
          "output_type": "stream",
          "text": [
            "intra.h\n",
            "intra.c\n",
            "define.h\n"
          ],
          "name": "stdout"
        }
      ]
    },
    {
      "cell_type": "code",
      "metadata": {
        "colab": {
          "base_uri": "https://localhost:8080/"
        },
        "id": "9yvVrEtNObKK",
        "outputId": "17ec2327-660e-4629-b4a2-555d2d38a124"
      },
      "source": [
        "리스트 = ['intra.h', 'intra.c', 'define.h', 'run.py']\n",
        "for i in 리스트:\n",
        "  if i.split(\".\")[-1] != \"py\":\n",
        "    print(i)"
      ],
      "execution_count": null,
      "outputs": [
        {
          "output_type": "stream",
          "text": [
            "intra.h\n",
            "intra.c\n",
            "define.h\n"
          ],
          "name": "stdout"
        }
      ]
    },
    {
      "cell_type": "markdown",
      "metadata": {
        "id": "sqxTGV_kPaST"
      },
      "source": [
        "### 161\n",
        "\n",
        "for문과 range 구문을 사용해서 0~99까지 한 라인에 하나씩 순차적으로 출력하는 프로그램을 작성하라."
      ]
    },
    {
      "cell_type": "code",
      "metadata": {
        "id": "Cqkho4CPP-QB"
      },
      "source": [
        "for i in range(1,100):\n",
        "  i += 0\n",
        "  print(i)"
      ],
      "execution_count": null,
      "outputs": []
    },
    {
      "cell_type": "markdown",
      "metadata": {
        "id": "n6hI114dPaUw"
      },
      "source": [
        "### 162\n",
        "\n",
        "월드컵은 4년에 한 번 개최된다. range()를 사용하여 2002~2050년까지 중 월드컵이 개최되는 연도를 출력하라.  \n",
        "  \n",
        "2002  \n",
        "2006  \n",
        "2010  \n",
        "...  \n",
        "2042  \n",
        "2046  \n",
        "2050  \n",
        "   \n",
        "참고) range의 세번 째 파라미터는 증감폭을 결정합니다.  \n",
        "  \n",
        ">> print(list(range(0, 10, 2)))  \n",
        "[0, 2, 4, 6, 8]"
      ]
    },
    {
      "cell_type": "code",
      "metadata": {
        "colab": {
          "base_uri": "https://localhost:8080/"
        },
        "id": "JzHLvbgnP8r0",
        "outputId": "7b1c6ef9-dd01-4e7d-e426-fa31ef878f43"
      },
      "source": [
        "print(list(range(2002, 2051, 4)))"
      ],
      "execution_count": null,
      "outputs": [
        {
          "output_type": "stream",
          "text": [
            "[2002, 2006, 2010, 2014, 2018, 2022, 2026, 2030, 2034, 2038, 2042, 2046, 2050]\n"
          ],
          "name": "stdout"
        }
      ]
    },
    {
      "cell_type": "markdown",
      "metadata": {
        "id": "CCZ-yl8ePaXT"
      },
      "source": [
        "### 163\n",
        "\n",
        "1부터 30까지의 숫자 중 3의 배수를 출력하라.  \n",
        "  \n",
        "3  \n",
        "6  \n",
        "9  \n",
        "12  \n",
        "15  \n",
        "18  \n",
        "21  \n",
        "24  \n",
        "27  \n",
        "30"
      ]
    },
    {
      "cell_type": "code",
      "metadata": {
        "colab": {
          "base_uri": "https://localhost:8080/"
        },
        "id": "BleWvhspR6qe",
        "outputId": "abaeccb3-f189-4e1a-ecef-47567a34b70f"
      },
      "source": [
        "print(list(range(3,31,3)))"
      ],
      "execution_count": null,
      "outputs": [
        {
          "output_type": "stream",
          "text": [
            "[3, 6, 9, 12, 15, 18, 21, 24, 27, 30]\n"
          ],
          "name": "stdout"
        }
      ]
    },
    {
      "cell_type": "markdown",
      "metadata": {
        "id": "4BPrT983PaZ9"
      },
      "source": [
        "### 164\n",
        "\n",
        "99부터 0까지 1씩 감소하는 숫자들을, 한 라인에 하나씩 출력하라."
      ]
    },
    {
      "cell_type": "code",
      "metadata": {
        "id": "rDF4yKVJSSNS"
      },
      "source": [
        "for i in range(0,100):\n",
        "  print(99 - i)"
      ],
      "execution_count": null,
      "outputs": []
    },
    {
      "cell_type": "markdown",
      "metadata": {
        "id": "HPdcx85aPacl"
      },
      "source": [
        "### 165\n",
        "\n",
        "for문을 사용해서 아래와 같이 출력하라.\n",
        "\n",
        "0.0  \n",
        "0.1  \n",
        "0.2  \n",
        "0.3  \n",
        "0.4  \n",
        "0.5  \n",
        "...  \n",
        "0.9"
      ]
    },
    {
      "cell_type": "code",
      "metadata": {
        "colab": {
          "base_uri": "https://localhost:8080/"
        },
        "id": "sJGW6VFbTSPQ",
        "outputId": "eaa16903-8f1a-4e14-df75-fae16ddede63"
      },
      "source": [
        "for i in range(10):\n",
        "  print(i/10)"
      ],
      "execution_count": null,
      "outputs": [
        {
          "output_type": "stream",
          "text": [
            "0.0\n",
            "0.1\n",
            "0.2\n",
            "0.3\n",
            "0.4\n",
            "0.5\n",
            "0.6\n",
            "0.7\n",
            "0.8\n",
            "0.9\n"
          ],
          "name": "stdout"
        }
      ]
    },
    {
      "cell_type": "markdown",
      "metadata": {
        "id": "rZRi3624PafQ"
      },
      "source": [
        "### 166\n",
        "\n",
        "구구단 3단을 출력하라.  \n",
        "  \n",
        "3x1 = 3  \n",
        "3x2 = 6  \n",
        "3x3 = 9  \n",
        "3x4 = 12  \n",
        "3x5 = 15  \n",
        "3x6 = 18  \n",
        "3x7 = 21  \n",
        "3x8 = 24  \n",
        "3x9 = 27"
      ]
    },
    {
      "cell_type": "code",
      "metadata": {
        "colab": {
          "base_uri": "https://localhost:8080/"
        },
        "id": "bxOitR3BTenf",
        "outputId": "5f6f85d4-7cea-4d10-87cf-78fade8e969e"
      },
      "source": [
        "for i in range(1,10):\n",
        "  print(\"3 x {} = {}\".format(i, 3*i))"
      ],
      "execution_count": null,
      "outputs": [
        {
          "output_type": "stream",
          "text": [
            "3 x 1 = 3\n",
            "3 x 2 = 6\n",
            "3 x 3 = 9\n",
            "3 x 4 = 12\n",
            "3 x 5 = 15\n",
            "3 x 6 = 18\n",
            "3 x 7 = 21\n",
            "3 x 8 = 24\n",
            "3 x 9 = 27\n"
          ],
          "name": "stdout"
        }
      ]
    },
    {
      "cell_type": "markdown",
      "metadata": {
        "id": "v4Z0JvvbPahc"
      },
      "source": [
        "### 167\n",
        "\n",
        "구구단 3단을 출력하라. 단 홀수 번째만 출력한다.\n",
        "  \n",
        "3x1 = 3  \n",
        "3x3 = 9  \n",
        "3x5 = 15  \n",
        "3x7 = 21  \n",
        "3x9 = 27"
      ]
    },
    {
      "cell_type": "code",
      "metadata": {
        "colab": {
          "base_uri": "https://localhost:8080/"
        },
        "id": "_kgHKFIUUgMS",
        "outputId": "7669bed6-29d1-44ed-8558-10c0a13231a2"
      },
      "source": [
        "for i in range(1,10,2):\n",
        "  print(\"3 x {} = {}\".format(i, 3*i))"
      ],
      "execution_count": null,
      "outputs": [
        {
          "output_type": "stream",
          "text": [
            "3 x 1 = 3\n",
            "3 x 3 = 9\n",
            "3 x 5 = 15\n",
            "3 x 7 = 21\n",
            "3 x 9 = 27\n"
          ],
          "name": "stdout"
        }
      ]
    },
    {
      "cell_type": "markdown",
      "metadata": {
        "id": "K1VWDycmPajq"
      },
      "source": [
        "### 168\n",
        "\n",
        "1~10까지의 숫자에 대해 모두 더한 값을 출력하는 프로그램을 for 문을 사용하여 작성하라.\n",
        "\n",
        "합 : 55"
      ]
    },
    {
      "cell_type": "code",
      "metadata": {
        "colab": {
          "base_uri": "https://localhost:8080/"
        },
        "id": "J8a-OPJXUzlo",
        "outputId": "bb256326-6df0-4b16-b8ad-9ab8e779bc89"
      },
      "source": [
        "s = 0\n",
        "for i in range(1,11):\n",
        "  s = s + i\n",
        "  print(\"합:\", s)"
      ],
      "execution_count": null,
      "outputs": [
        {
          "output_type": "stream",
          "text": [
            "합: 1\n",
            "합: 3\n",
            "합: 6\n",
            "합: 10\n",
            "합: 15\n",
            "합: 21\n",
            "합: 28\n",
            "합: 36\n",
            "합: 45\n",
            "합: 55\n"
          ],
          "name": "stdout"
        }
      ]
    },
    {
      "cell_type": "code",
      "metadata": {
        "colab": {
          "base_uri": "https://localhost:8080/"
        },
        "id": "FMTf8Rd6Vp_8",
        "outputId": "231946e6-9a05-42b8-c451-006a8d1a6688"
      },
      "source": [
        "s = 0\n",
        "for i in range(1,11):\n",
        "  s += i\n",
        "print(\"합:\", s)"
      ],
      "execution_count": null,
      "outputs": [
        {
          "output_type": "stream",
          "text": [
            "합: 55\n"
          ],
          "name": "stdout"
        }
      ]
    },
    {
      "cell_type": "markdown",
      "metadata": {
        "id": "lDG_kx76Pa9V"
      },
      "source": [
        "### 169\n",
        "\n",
        "1~10까지의 숫자 중 모든 홀수의 합을 출력하는 프로그램을 for 문을 사용하여 작성하라.\n",
        "\n",
        "합: 25"
      ]
    },
    {
      "cell_type": "code",
      "metadata": {
        "colab": {
          "base_uri": "https://localhost:8080/"
        },
        "id": "3qDAqz-7V2ib",
        "outputId": "13c5a07b-404f-4970-f6f8-a11ad2932977"
      },
      "source": [
        "s = 0\n",
        "for i in range(1,11,2):\n",
        "  s += i\n",
        "print(s)"
      ],
      "execution_count": null,
      "outputs": [
        {
          "output_type": "stream",
          "text": [
            "25\n"
          ],
          "name": "stdout"
        }
      ]
    },
    {
      "cell_type": "markdown",
      "metadata": {
        "id": "XMWyNTV4PbAB"
      },
      "source": [
        "### 170\n",
        "\n",
        "1~10까지의 숫자를 모두 곱한 값을 출력하는 프로그램을 for 문을 사용하여 작성하라."
      ]
    },
    {
      "cell_type": "code",
      "metadata": {
        "colab": {
          "base_uri": "https://localhost:8080/"
        },
        "id": "Gg_T-jZlWK2O",
        "outputId": "6ee88efb-68e6-4ccb-89c2-cd9e6f85ad6a"
      },
      "source": [
        "s=1\n",
        "for i in range(1,11):\n",
        "  s = s*i\n",
        "print(s)"
      ],
      "execution_count": null,
      "outputs": [
        {
          "output_type": "stream",
          "text": [
            "3628800\n"
          ],
          "name": "stdout"
        }
      ]
    },
    {
      "cell_type": "code",
      "metadata": {
        "colab": {
          "base_uri": "https://localhost:8080/"
        },
        "id": "r9XsWgBZWgog",
        "outputId": "36061478-3e8a-46e8-8277-28d100423818"
      },
      "source": [
        "s = 1\n",
        "for i in range(1,11):\n",
        "  s *= i\n",
        "print(s)"
      ],
      "execution_count": null,
      "outputs": [
        {
          "output_type": "stream",
          "text": [
            "3628800\n"
          ],
          "name": "stdout"
        }
      ]
    },
    {
      "cell_type": "markdown",
      "metadata": {
        "id": "eEOpA6J-PbCn"
      },
      "source": [
        "### 171\n",
        "\n",
        "아래와 같이 리스트의 데이터를 출력하라. 단, for문과 range문을 사용하라.\n",
        "  \n",
        "price_list = [32100, 32150, 32000, 32500]  \n",
        "  \n",
        "32100  \n",
        "32150  \n",
        "32000  \n",
        "32500"
      ]
    },
    {
      "cell_type": "code",
      "metadata": {
        "colab": {
          "base_uri": "https://localhost:8080/"
        },
        "id": "xOiEszJQWvb6",
        "outputId": "684b14f4-2d8c-403a-b160-18b381a0285b"
      },
      "source": [
        "price_list = [32100, 32150, 32000, 32500]\n",
        "for i in range(0,len(price_list)):\n",
        "  print(price_list[i])"
      ],
      "execution_count": null,
      "outputs": [
        {
          "output_type": "stream",
          "text": [
            "32100\n",
            "32150\n",
            "32000\n",
            "32500\n"
          ],
          "name": "stdout"
        }
      ]
    },
    {
      "cell_type": "markdown",
      "metadata": {
        "id": "FqKVtw3ZPbEj"
      },
      "source": [
        "### 172\n",
        "\n",
        "아래와 같이 리스트의 데이터를 출력하라. 단, for문과 range문을 사용하라.\n",
        "  \n",
        "price_list = [32100, 32150, 32000, 32500]  \n",
        "  \n",
        "0 32100  \n",
        "1 32150  \n",
        "2 32000  \n",
        "3 32500"
      ]
    },
    {
      "cell_type": "code",
      "metadata": {
        "colab": {
          "base_uri": "https://localhost:8080/"
        },
        "id": "A8ixQR7BXlwP",
        "outputId": "a53009fe-ccd1-489b-86b8-d1f7109cc6b2"
      },
      "source": [
        "price_list = [32100, 32150, 32000, 32500]\n",
        "for i in range(0,len(price_list)):\n",
        "  print(\"{} {}\".format(i, price_list[i]))"
      ],
      "execution_count": null,
      "outputs": [
        {
          "output_type": "stream",
          "text": [
            "0 32100\n",
            "1 32150\n",
            "2 32000\n",
            "3 32500\n"
          ],
          "name": "stdout"
        }
      ]
    },
    {
      "cell_type": "markdown",
      "metadata": {
        "id": "3N_5YqsPPbJE"
      },
      "source": [
        "### 173\n",
        "\n",
        "아래와 같이 리스트의 데이터를 출력하라. 단, for문과 range문을 사용하라.\n",
        "  \n",
        "price_list = [32100, 32150, 32000, 32500]  \n",
        "  \n",
        "3 32100  \n",
        "2 32150  \n",
        "1 32000  \n",
        "0 32500"
      ]
    },
    {
      "cell_type": "code",
      "metadata": {
        "colab": {
          "base_uri": "https://localhost:8080/"
        },
        "id": "lTil85umYAHt",
        "outputId": "d6b2c3e4-2049-4c06-b098-7deed00b6006"
      },
      "source": [
        "price_list = [32100, 32150, 32000, 32500]\n",
        "for i in range(0, len(price_list)):\n",
        "  print(\"{} {}\".format(len(price_list)-i-1, price_list[i]))"
      ],
      "execution_count": null,
      "outputs": [
        {
          "output_type": "stream",
          "text": [
            "3 32100\n",
            "2 32150\n",
            "1 32000\n",
            "0 32500\n"
          ],
          "name": "stdout"
        }
      ]
    },
    {
      "cell_type": "markdown",
      "metadata": {
        "id": "m2_av2wNPbKv"
      },
      "source": [
        "### 174\n",
        "\n",
        "아래와 같이 리스트의 데이터를 출력하라. 단, for문과 range문을 사용하라.\n",
        "  \n",
        "price_list = [32100, 32150, 32000, 32500]  \n",
        "  \n",
        "100 32150  \n",
        "110 32000  \n",
        "120 32500"
      ]
    },
    {
      "cell_type": "code",
      "metadata": {
        "colab": {
          "base_uri": "https://localhost:8080/"
        },
        "id": "ux4b_1TxYplc",
        "outputId": "b87a4144-6c83-4cdf-deb4-b0c703b2f044"
      },
      "source": [
        "price_list = [32100, 32150, 32000, 32500]\n",
        "for i in range(1,len(price_list)):\n",
        "  print(\"{} {}\".format(100 + (i-1)*10, price_list[i]))"
      ],
      "execution_count": null,
      "outputs": [
        {
          "output_type": "stream",
          "text": [
            "100 32150\n",
            "110 32000\n",
            "120 32500\n"
          ],
          "name": "stdout"
        }
      ]
    },
    {
      "cell_type": "markdown",
      "metadata": {
        "id": "aH8fxSp6Pbq2"
      },
      "source": [
        "### 175\n",
        "\n",
        "my_list를 아래와 같이 출력하라.  \n",
        "  \n",
        "my_list = [\"가\", \"나\", \"다\", \"라\"]  \n",
        "  \n",
        "가 나  \n",
        "나 다  \n",
        "다 라"
      ]
    },
    {
      "cell_type": "code",
      "metadata": {
        "colab": {
          "base_uri": "https://localhost:8080/"
        },
        "id": "ZanSeoPxaiBz",
        "outputId": "326ab779-aaf3-48e0-a80c-57b6d173a110"
      },
      "source": [
        "my_list = [\"가\", \"나\", \"다\", \"라\"]\n",
        "for i in range(0,3):\n",
        "  print(my_list[i], my_list[i+1])"
      ],
      "execution_count": null,
      "outputs": [
        {
          "output_type": "stream",
          "text": [
            "가 나\n",
            "나 다\n",
            "다 라\n"
          ],
          "name": "stdout"
        }
      ]
    },
    {
      "cell_type": "markdown",
      "metadata": {
        "id": "jGCLZ6OVPbtj"
      },
      "source": [
        "### 176\n",
        "\n",
        "리스트를 아래와 같이 출력하라.\n",
        "  \n",
        "my_list = [\"가\", \"나\", \"다\", \"라\", \"마\"]  \n",
        "  \n",
        "가 나 다  \n",
        "나 다 라  \n",
        "다 라 마"
      ]
    },
    {
      "cell_type": "code",
      "metadata": {
        "colab": {
          "base_uri": "https://localhost:8080/"
        },
        "id": "UUrxHC6ZcCoW",
        "outputId": "9e0e2c6c-86b2-4403-9297-f03f3c866d3c"
      },
      "source": [
        "my_list = [\"가\", \"나\", \"다\", \"라\", \"마\"]\n",
        "for i in range(0,3):\n",
        "  print(my_list[i], my_list[i+1], my_list[i+2])"
      ],
      "execution_count": null,
      "outputs": [
        {
          "output_type": "stream",
          "text": [
            "가 나 다\n",
            "나 다 라\n",
            "다 라 마\n"
          ],
          "name": "stdout"
        }
      ]
    },
    {
      "cell_type": "markdown",
      "metadata": {
        "id": "3F1Ru9lePbwK"
      },
      "source": [
        "### 177\n",
        "\n",
        "반복문과 range 함수를 사용해서 my_list를 아래와 같이 출력하라.  \n",
        "  \n",
        "my_list = [\"가\", \"나\", \"다\", \"라\"]  \n",
        "  \n",
        "라 다  \n",
        "다 나  \n",
        "나 가"
      ]
    },
    {
      "cell_type": "code",
      "metadata": {
        "colab": {
          "base_uri": "https://localhost:8080/"
        },
        "id": "Arul9Q2mccMc",
        "outputId": "5c3c14b3-c85c-42f1-d187-5fc44d7d0966"
      },
      "source": [
        "my_list = [\"가\", \"나\", \"다\", \"라\"]\n",
        "for i in range(0,3):\n",
        "  print(my_list[-1-i], my_list[-2-i])"
      ],
      "execution_count": null,
      "outputs": [
        {
          "output_type": "stream",
          "text": [
            "라 다\n",
            "다 나\n",
            "나 가\n"
          ],
          "name": "stdout"
        }
      ]
    },
    {
      "cell_type": "markdown",
      "metadata": {
        "id": "ZO5bhlT1Pbyh"
      },
      "source": [
        "### 178\n",
        "\n",
        "리스트에는 네 개의 정수가 저장되어 있다. 각각의 데이터에 대해서 자신과 우측값과의 차분값을 화면에 출력하라.\n",
        "  \n",
        "my_list = [100, 200, 400, 800]  \n",
        "  \n",
        "예를들어 100을 기준으로 우측에 위치한 200과의 차분 값를 화면에 출력하고, 200을 기준으로 우측에 위치한 400과의 차분값을 화면에 출력한다. 이어서 400을 기준으로 우측에 위치한 800과의 차분값을 화면에 출력한다.  \n",
        "  \n",
        "100  \n",
        "200  \n",
        "400"
      ]
    },
    {
      "cell_type": "code",
      "metadata": {
        "colab": {
          "base_uri": "https://localhost:8080/"
        },
        "id": "APaQeGPndHWP",
        "outputId": "7a88f88f-7aeb-49ac-8d83-470a0ae2303f"
      },
      "source": [
        "my_list = [100, 200, 400, 800]\n",
        "for i in range(0,3):\n",
        "  print(my_list[i+1]-my_list[i])"
      ],
      "execution_count": null,
      "outputs": [
        {
          "output_type": "stream",
          "text": [
            "100\n",
            "200\n",
            "400\n"
          ],
          "name": "stdout"
        }
      ]
    },
    {
      "cell_type": "markdown",
      "metadata": {
        "id": "zmxUq8OePb1J"
      },
      "source": [
        "### 179\n",
        "\n",
        "리스트에는 6일 간의 종가 데이터가 저장되어 있다. 종가 데이터의 3일 이동 평균을 계산하고 이를 화면에 출력하라.\n",
        "   \n",
        "my_list = [100, 200, 400, 800, 1000, 1300]  \n",
        "  \n",
        "첫 번째 줄에는 100, 200, 400의 평균값이 출력된다. 두 번째 줄에는 200, 400, 800의 평균값이 출력된다. 같은 방식으로 나머지 데이터의 평균을 출력한다.  \n",
        "  \n",
        "233.33333333333334  \n",
        "466.6666666666667  \n",
        "733.3333333333334  \n",
        "1033.3333333333333"
      ]
    },
    {
      "cell_type": "code",
      "metadata": {
        "colab": {
          "base_uri": "https://localhost:8080/"
        },
        "id": "1hqkIdmzdkPC",
        "outputId": "71f7aa24-9a1d-4172-c7d1-6776e53967c1"
      },
      "source": [
        "my_list = [100, 200, 400, 800, 1000, 1300]\n",
        "for i in range(0,4):\n",
        "  print(sum(my_list[i:i+3])/3)"
      ],
      "execution_count": null,
      "outputs": [
        {
          "output_type": "stream",
          "text": [
            "233.33333333333334\n",
            "466.6666666666667\n",
            "733.3333333333334\n",
            "1033.3333333333333\n"
          ],
          "name": "stdout"
        }
      ]
    },
    {
      "cell_type": "code",
      "metadata": {
        "colab": {
          "base_uri": "https://localhost:8080/"
        },
        "id": "6V7O6mrjiCrT",
        "outputId": "0c941b79-f8e2-4847-dba8-ebb5dd5acab5"
      },
      "source": [
        "my_list = [100, 200, 400, 800, 1000, 1300]\n",
        "for i in range(0,4):\n",
        "  print((my_list[i]+my_list[i+1]+my_list[i+2])/3)"
      ],
      "execution_count": null,
      "outputs": [
        {
          "output_type": "stream",
          "text": [
            "233.33333333333334\n",
            "466.6666666666667\n",
            "733.3333333333334\n",
            "1033.3333333333333\n"
          ],
          "name": "stdout"
        }
      ]
    },
    {
      "cell_type": "markdown",
      "metadata": {
        "id": "6ZoJ0MWpPb31"
      },
      "source": [
        "### 180\n",
        "\n",
        "리스트에 5일간의 저가, 고가 정보가 저장돼 있다. 고가와 저가의 차를 변동폭이라고 정의할 때, low, high 두 개의 리스트를 사용해서 5일간의 변동폭을 volatility 리스트에 저장하라.\n",
        "  \n",
        "low_prices  = [100, 200, 400, 800, 1000]  \n",
        "high_prices = [150, 300, 430, 880, 1000]"
      ]
    },
    {
      "cell_type": "code",
      "metadata": {
        "colab": {
          "base_uri": "https://localhost:8080/"
        },
        "id": "tKwUWA4amQwf",
        "outputId": "39afb5be-2182-4a8b-f912-4c37b20827d5"
      },
      "source": [
        "low_prices  = [100, 200, 400, 800, 1000]  \n",
        "high_prices = [150, 300, 430, 880, 1000]\n",
        "volatility = []\n",
        "for i in range(0, len(low_prices)):\n",
        "  volatility.append(high_prices[i]-low_prices[i])\n",
        "print(volatility)"
      ],
      "execution_count": null,
      "outputs": [
        {
          "output_type": "stream",
          "text": [
            "[50, 100, 30, 80, 0]\n"
          ],
          "name": "stdout"
        }
      ]
    },
    {
      "cell_type": "markdown",
      "metadata": {
        "id": "68DQ6ypiPb6a"
      },
      "source": [
        "### 181\n",
        "\n",
        "아래 표에서 하나의 행을 하나의 리스트로, 총 3개의 리스트를 갖는 이차원 리스트 apart를 정의하라.  \n",
        "101호 \t102호  \n",
        "201호 \t202호  \n",
        "301호 \t302호"
      ]
    },
    {
      "cell_type": "code",
      "metadata": {
        "colab": {
          "base_uri": "https://localhost:8080/"
        },
        "id": "Xbkgd3g8nG47",
        "outputId": "5e3c6ac5-3dc7-4f08-95ed-00dc8729f6ee"
      },
      "source": [
        "apart = [[\"101호\", \"102호\"],[\"201호\", \"202호\"],[\"301호\",\"302호\"]]\n",
        "print(apart)"
      ],
      "execution_count": null,
      "outputs": [
        {
          "output_type": "stream",
          "text": [
            "[['101호', '102호'], ['201호', '202호'], ['301호', '302호']]\n"
          ],
          "name": "stdout"
        }
      ]
    },
    {
      "cell_type": "markdown",
      "metadata": {
        "id": "FsdND0P7Pb9B"
      },
      "source": [
        "### 182\n",
        "\n",
        "아래 표에서 하나의 열을 하나의 리스트로, 총 2개의 리스트를 갖는 이차원 리스트 stock을 정의하라.  \n",
        "시가 \t종가  \n",
        "100 \t80  \n",
        "200 \t210  \n",
        "300 \t330"
      ]
    },
    {
      "cell_type": "code",
      "metadata": {
        "colab": {
          "base_uri": "https://localhost:8080/"
        },
        "id": "CKJGTac2ntfp",
        "outputId": "ce3509ec-6004-4263-e0c5-b0705bfb4793"
      },
      "source": [
        "stock = [[\"시가\",100,200,300], [\"종가\",80,210,330]]\n",
        "print(stock)"
      ],
      "execution_count": null,
      "outputs": [
        {
          "output_type": "stream",
          "text": [
            "[['시가', 100, 200, 300], ['종가', 80, 210, 330]]\n"
          ],
          "name": "stdout"
        }
      ]
    },
    {
      "cell_type": "markdown",
      "metadata": {
        "id": "oKef0P9ePb_r"
      },
      "source": [
        "### 183\n",
        "\n",
        "아래 표를 stock 이름의 딕셔너리로 표현하라.시가를 key로 저장하고, 나머지 같은 열의 데이터를 리스트로 저장해서 value로 저장한다. 종가 역시 key로 저장하고 나머지 같은 열의 데이터를 리스트로 저장해서 value로 저장한다.  \n",
        "시가 \t종가  \n",
        "100 \t80  \n",
        "200 \t210  \n",
        "300 \t330"
      ]
    },
    {
      "cell_type": "code",
      "metadata": {
        "colab": {
          "base_uri": "https://localhost:8080/"
        },
        "id": "-7F0ZjlhoHc_",
        "outputId": "13a5f68d-b131-45ca-e958-5c824b3b5ed8"
      },
      "source": [
        "stock = {\"시가\":[100,200,300], \"종가\":[80,210,330]}\n",
        "print(stock)"
      ],
      "execution_count": null,
      "outputs": [
        {
          "output_type": "stream",
          "text": [
            "{'시가': [100, 200, 300], '종가': [80, 210, 330]}\n"
          ],
          "name": "stdout"
        }
      ]
    },
    {
      "cell_type": "markdown",
      "metadata": {
        "id": "qi5MIcLbPcCX"
      },
      "source": [
        "### 184\n",
        "\n",
        "아래 표를 stock 이라는 이름의 딕셔너리로 표현하라. 날짜를 key로 저장하고, 나머지 같은 행의 데이터를 리스트로 저장해서 value로 저장한다. 첫 열이 날짜이다.  \n",
        "10/10 \t80 \t110 \t70 \t90  \n",
        "10/11 \t210 \t230 \t190 \t200"
      ]
    },
    {
      "cell_type": "code",
      "metadata": {
        "colab": {
          "base_uri": "https://localhost:8080/"
        },
        "id": "4-3hDKPzpGd9",
        "outputId": "8288162a-aea0-41b2-9208-a583128b09da"
      },
      "source": [
        "stock = {\"10/10\":[80,110,70,90], \"10/11\":[210,230,190,200]}\n",
        "print(stock)"
      ],
      "execution_count": null,
      "outputs": [
        {
          "output_type": "stream",
          "text": [
            "{'10/10': [80, 110, 70, 90], '10/11': [210, 230, 190, 200]}\n"
          ],
          "name": "stdout"
        }
      ]
    },
    {
      "cell_type": "markdown",
      "metadata": {
        "id": "eK1Wpot_PcE1"
      },
      "source": [
        "### 185\n",
        "\n",
        "리스트에 저장된 데이터를 아래와 같이 출력하라.\n",
        "  \n",
        "apart = [ [101, 102], [201, 202], [301, 302] ]  \n",
        "  \n",
        "101 호  \n",
        "102 호  \n",
        "201 호  \n",
        "202 호  \n",
        "301 호  \n",
        "302 호"
      ]
    },
    {
      "cell_type": "code",
      "metadata": {
        "colab": {
          "base_uri": "https://localhost:8080/"
        },
        "id": "JzV967oPpgD8",
        "outputId": "d6404e98-7d4d-4738-aff2-583f39cbff96"
      },
      "source": [
        "apart = [ [101, 102], [201, 202], [301, 302] ]\n",
        "for i in range(0,3):\n",
        "  for j in range(0,2):\n",
        "    print(apart[i][j], \"호\")"
      ],
      "execution_count": null,
      "outputs": [
        {
          "output_type": "stream",
          "text": [
            "101 호\n",
            "102 호\n",
            "201 호\n",
            "202 호\n",
            "301 호\n",
            "302 호\n"
          ],
          "name": "stdout"
        }
      ]
    },
    {
      "cell_type": "code",
      "metadata": {
        "colab": {
          "base_uri": "https://localhost:8080/"
        },
        "id": "8is38CxNhtiu",
        "outputId": "a02cd93a-9329-4638-c2e4-7ba827ee8c7e"
      },
      "source": [
        "apart = [ [101, 102], [201, 202], [301, 302] ]\n",
        "for row in apart:\n",
        "    for col in row:\n",
        "        print(col, \"호\")"
      ],
      "execution_count": 3,
      "outputs": [
        {
          "output_type": "stream",
          "text": [
            "101 호\n",
            "102 호\n",
            "201 호\n",
            "202 호\n",
            "301 호\n",
            "302 호\n"
          ],
          "name": "stdout"
        }
      ]
    },
    {
      "cell_type": "markdown",
      "metadata": {
        "id": "z09pLKK7PcHn"
      },
      "source": [
        "### 186\n",
        "\n",
        "리스트에 저장된 데이터를 아래와 같이 출력하라.\n",
        "  \n",
        "apart = [ [101, 102], [201, 202], [301, 302] ]  \n",
        "  \n",
        "301 호  \n",
        "302 호  \n",
        "201 호  \n",
        "202 호  \n",
        "101 호  \n",
        "102 호"
      ]
    },
    {
      "cell_type": "code",
      "metadata": {
        "colab": {
          "base_uri": "https://localhost:8080/"
        },
        "id": "HJnHBWyVhisI",
        "outputId": "89ed4aea-b2f8-42fa-81fe-b14a32e71543"
      },
      "source": [
        "apart = [ [101, 102], [201, 202], [301, 302] ]\n",
        "for i in range(0,3):\n",
        "  for j in range(0,2):\n",
        "    print(apart[2-i][j], \"호\")"
      ],
      "execution_count": 6,
      "outputs": [
        {
          "output_type": "stream",
          "text": [
            "301 호\n",
            "302 호\n",
            "201 호\n",
            "202 호\n",
            "101 호\n",
            "102 호\n"
          ],
          "name": "stdout"
        }
      ]
    },
    {
      "cell_type": "code",
      "metadata": {
        "colab": {
          "base_uri": "https://localhost:8080/"
        },
        "id": "nIW4h8bJipHI",
        "outputId": "3264b4e9-1e5c-426c-9863-be274a3bf86a"
      },
      "source": [
        "for row in apart[::-1]:\n",
        "    for col in row:\n",
        "        print(col, \"호\")"
      ],
      "execution_count": 7,
      "outputs": [
        {
          "output_type": "stream",
          "text": [
            "301 호\n",
            "302 호\n",
            "201 호\n",
            "202 호\n",
            "101 호\n",
            "102 호\n"
          ],
          "name": "stdout"
        }
      ]
    },
    {
      "cell_type": "markdown",
      "metadata": {
        "id": "0xNhbT8UPcKV"
      },
      "source": [
        "### 187\n",
        "\n",
        "리스트에 저장된 데이터를 아래와 같이 출력하라.  \n",
        "  \n",
        "apart = [ [101, 102], [201, 202], [301, 302] ]  \n",
        "  \n",
        "302 호  \n",
        "301 호  \n",
        "202 호  \n",
        "201 호  \n",
        "102 호  \n",
        "101 호"
      ]
    },
    {
      "cell_type": "code",
      "metadata": {
        "colab": {
          "base_uri": "https://localhost:8080/"
        },
        "id": "vK1bZ5I8i08p",
        "outputId": "b8e4944f-01e1-4d4c-c95e-f01d5446d9b9"
      },
      "source": [
        "apart = [ [101, 102], [201, 202], [301, 302] ]\n",
        "for i in range(0,3):\n",
        "  for j in range(0,2):\n",
        "    print(apart[2-i][1-j], \"호\")"
      ],
      "execution_count": 9,
      "outputs": [
        {
          "output_type": "stream",
          "text": [
            "302 호\n",
            "301 호\n",
            "202 호\n",
            "201 호\n",
            "102 호\n",
            "101 호\n"
          ],
          "name": "stdout"
        }
      ]
    },
    {
      "cell_type": "markdown",
      "metadata": {
        "id": "TT5XfGTHPcMs"
      },
      "source": [
        "### 188\n",
        "\n",
        "리스트에 저장된 데이터를 아래와 같이 출력하라.\n",
        "  \n",
        "apart = [ [101, 102], [201, 202], [301, 302] ]  \n",
        "  \n",
        "101 호  \n",
        "\\-----  \n",
        "102 호  \n",
        "\\-----  \n",
        "201 호  \n",
        "\\-----  \n",
        "202 호  \n",
        "\\-----  \n",
        "301 호  \n",
        "\\-----  \n",
        "302 호  \n",
        "\\-----"
      ]
    },
    {
      "cell_type": "code",
      "metadata": {
        "colab": {
          "base_uri": "https://localhost:8080/"
        },
        "id": "wOLiHFLjjcaJ",
        "outputId": "7b7fe541-bd23-4672-d30e-e3a324545a81"
      },
      "source": [
        "apart = [ [101, 102], [201, 202], [301, 302] ]\n",
        "for i in range(0,3):\n",
        "  for j in range(0,2):\n",
        "    print(apart[i][j], \"호\")\n",
        "    print(\"-----\")"
      ],
      "execution_count": 10,
      "outputs": [
        {
          "output_type": "stream",
          "text": [
            "101 호\n",
            "-----\n",
            "102 호\n",
            "-----\n",
            "201 호\n",
            "-----\n",
            "202 호\n",
            "-----\n",
            "301 호\n",
            "-----\n",
            "302 호\n",
            "-----\n"
          ],
          "name": "stdout"
        }
      ]
    },
    {
      "cell_type": "markdown",
      "metadata": {
        "id": "hsehm1lXPcPa"
      },
      "source": [
        "### 189\n",
        "\n",
        "리스트에 저장된 데이터를 아래와 같이 출력하라.\n",
        "  \n",
        "apart = [ [101, 102], [201, 202], [301, 302] ]  \n",
        "  \n",
        "101 호  \n",
        "102 호  \n",
        "\\-----  \n",
        "201 호  \n",
        "202 호  \n",
        "\\-----  \n",
        "301 호  \n",
        "302 호  \n",
        "\\-----"
      ]
    },
    {
      "cell_type": "code",
      "metadata": {
        "colab": {
          "base_uri": "https://localhost:8080/"
        },
        "id": "M8StKJL-j4Dm",
        "outputId": "11471a66-cc1f-435f-dab2-b4bc62434f6c"
      },
      "source": [
        "apart = [ [101, 102], [201, 202], [301, 302] ]\n",
        "for i in range(0,3):\n",
        "  for j in range(0,2):\n",
        "    print(apart[i][j], \"호\")\n",
        "  print(\"-----\")"
      ],
      "execution_count": 11,
      "outputs": [
        {
          "output_type": "stream",
          "text": [
            "101 호\n",
            "102 호\n",
            "-----\n",
            "201 호\n",
            "202 호\n",
            "-----\n",
            "301 호\n",
            "302 호\n",
            "-----\n"
          ],
          "name": "stdout"
        }
      ]
    },
    {
      "cell_type": "markdown",
      "metadata": {
        "id": "loXvQmyoPcSD"
      },
      "source": [
        "### 190\n",
        "\n",
        "리스트에 저장된 데이터를 아래와 같이 출력하라.\n",
        "  \n",
        "apart = [ [101, 102], [201, 202], [301, 302] ]  \n",
        "  \n",
        "101 호  \n",
        "102 호  \n",
        "201 호  \n",
        "202 호  \n",
        "301 호  \n",
        "302 호  \n",
        "\\-----"
      ]
    },
    {
      "cell_type": "code",
      "metadata": {
        "colab": {
          "base_uri": "https://localhost:8080/"
        },
        "id": "zvEZnxPokpWq",
        "outputId": "22a7c8e3-d3d6-494c-fc55-83a0d87078f9"
      },
      "source": [
        "apart = [ [101, 102], [201, 202], [301, 302] ]\n",
        "for i in range(0,3):\n",
        "  for j in range(0,2):\n",
        "    print(apart[i][j], \"호\")\n",
        "print(\"-----\")"
      ],
      "execution_count": 12,
      "outputs": [
        {
          "output_type": "stream",
          "text": [
            "101 호\n",
            "102 호\n",
            "201 호\n",
            "202 호\n",
            "301 호\n",
            "302 호\n",
            "-----\n"
          ],
          "name": "stdout"
        }
      ]
    },
    {
      "cell_type": "markdown",
      "metadata": {
        "id": "9h0IVBpbPcT1"
      },
      "source": [
        "### 191\n",
        "\n",
        "data에는 매수한 종목들의 OHLC (open/high/low/close) 가격 정보가 바인딩 되어있다.\n",
        "  \n",
        "data = [\n",
        "    [ 2000,  3050,  2050,  1980],\n",
        "    [ 7500,  2050,  2050,  1980],\n",
        "    [15450, 15050, 15550, 14900]\n",
        "]\n",
        "  \n",
        "수수료를 0.014 %로 가정할 때, 각 가격에 수수료를 포함한 가격을 한라인에 하나씩 출력하라.  \n",
        "  \n",
        "2000.28  \n",
        "3050.427  \n",
        "2050.2870000000003  \n",
        "..."
      ]
    },
    {
      "cell_type": "code",
      "metadata": {
        "colab": {
          "base_uri": "https://localhost:8080/"
        },
        "id": "QL0zeR0MkwRI",
        "outputId": "166fcf1d-e151-4a9c-f19b-78269b4311f9"
      },
      "source": [
        "data = [\n",
        "    [ 2000,  3050,  2050,  1980],\n",
        "    [ 7500,  2050,  2050,  1980],\n",
        "    [15450, 15050, 15550, 14900]\n",
        "]\n",
        "for line in data:\n",
        "    for column in line:\n",
        "        print(column * 1.00014)\n",
        "    print(\"-------\")"
      ],
      "execution_count": 18,
      "outputs": [
        {
          "output_type": "stream",
          "text": [
            "2000.28\n",
            "3050.427\n",
            "2050.2870000000003\n",
            "1980.2772\n",
            "-------\n",
            "7501.05\n",
            "2050.2870000000003\n",
            "2050.2870000000003\n",
            "1980.2772\n",
            "-------\n",
            "15452.163\n",
            "15052.107\n",
            "15552.177\n",
            "14902.086000000001\n",
            "-------\n"
          ],
          "name": "stdout"
        }
      ]
    },
    {
      "cell_type": "code",
      "metadata": {
        "colab": {
          "base_uri": "https://localhost:8080/"
        },
        "id": "BzLWXhZdlcK-",
        "outputId": "98d42af5-2b78-4f4f-95de-ccdee6867f9c"
      },
      "source": [
        "data = [\n",
        "    [ 2000,  3050,  2050,  1980],\n",
        "    [ 7500,  2050,  2050,  1980],\n",
        "    [15450, 15050, 15550, 14900]\n",
        "]\n",
        "for i in range(0,3):\n",
        "  for j in range(0,4):\n",
        "    print(data[i][j] * 1.00014)"
      ],
      "execution_count": 22,
      "outputs": [
        {
          "output_type": "stream",
          "text": [
            "2000.28\n",
            "3050.427\n",
            "2050.2870000000003\n",
            "1980.2772\n",
            "7501.05\n",
            "2050.2870000000003\n",
            "2050.2870000000003\n",
            "1980.2772\n",
            "15452.163\n",
            "15052.107\n",
            "15552.177\n",
            "14902.086000000001\n"
          ],
          "name": "stdout"
        }
      ]
    },
    {
      "cell_type": "markdown",
      "metadata": {
        "id": "yaqdnupAPcW-"
      },
      "source": [
        "### 192\n",
        "\n",
        "191번의 출력 결과에 행단위로 \"----\" 구분자를 추가하라.\n",
        "  \n",
        "2000.28  \n",
        "3050.427  \n",
        "2050.2870000000003  \n",
        "1980.2772  \n",
        "\\----  \n",
        "7501.05  \n",
        "2050.2870000000003  \n",
        "2050.2870000000003  \n",
        "1980.2772  \n",
        "\\----  \n",
        "15452.163  \n",
        "15052.107  \n",
        "15552.177  \n",
        "14902.086000000001  \n",
        "\\----"
      ]
    },
    {
      "cell_type": "code",
      "metadata": {
        "colab": {
          "base_uri": "https://localhost:8080/"
        },
        "id": "zXNNKu-JmdpC",
        "outputId": "199cec22-3fc0-4518-d900-0cebec26a9b5"
      },
      "source": [
        "data = [\n",
        "    [ 2000,  3050,  2050,  1980],\n",
        "    [ 7500,  2050,  2050,  1980],\n",
        "    [15450, 15050, 15550, 14900]\n",
        "]\n",
        "for i in range(0,3):\n",
        "  for j in range(0,4):\n",
        "    print(data[i][j] * 1.00014)\n",
        "  print(\"-------\")"
      ],
      "execution_count": 23,
      "outputs": [
        {
          "output_type": "stream",
          "text": [
            "2000.28\n",
            "3050.427\n",
            "2050.2870000000003\n",
            "1980.2772\n",
            "-------\n",
            "7501.05\n",
            "2050.2870000000003\n",
            "2050.2870000000003\n",
            "1980.2772\n",
            "-------\n",
            "15452.163\n",
            "15052.107\n",
            "15552.177\n",
            "14902.086000000001\n",
            "-------\n"
          ],
          "name": "stdout"
        }
      ]
    },
    {
      "cell_type": "markdown",
      "metadata": {
        "id": "kHx9P9GrPcZt"
      },
      "source": [
        "### 193\n",
        "\n",
        "192 번 문제의 결괏값을 result 이름의 리스트에 1차원 배열로 저장하라.\n",
        "  \n",
        ">> print(result)  \n",
        "[2000.28, 3050.427, 2050.2870000000003, 1980.2772, 7501.05, 2050.2870000000003, 2050.2870000000003, ...]"
      ]
    },
    {
      "cell_type": "code",
      "metadata": {
        "colab": {
          "base_uri": "https://localhost:8080/"
        },
        "id": "qFlir3nRmjBi",
        "outputId": "c83bc35b-0562-4133-9409-270e31ffc964"
      },
      "source": [
        "result=[]\n",
        "data = [\n",
        "    [ 2000,  3050,  2050,  1980],\n",
        "    [ 7500,  2050,  2050,  1980],\n",
        "    [15450, 15050, 15550, 14900]\n",
        "]\n",
        "for i in range(0,3):\n",
        "  for j in range(0,4):\n",
        "    result.append(data[i][j]*1.00014)\n",
        "print(result)"
      ],
      "execution_count": 28,
      "outputs": [
        {
          "output_type": "stream",
          "text": [
            "[2000.28, 3050.427, 2050.2870000000003, 1980.2772, 7501.05, 2050.2870000000003, 2050.2870000000003, 1980.2772, 15452.163, 15052.107, 15552.177, 14902.086000000001]\n"
          ],
          "name": "stdout"
        }
      ]
    },
    {
      "cell_type": "markdown",
      "metadata": {
        "id": "ByFeNqJvPccQ"
      },
      "source": [
        "### 194\n",
        "\n",
        "191번 문제의 결괏값을 result 이름의 리스트에 2차원 배열로 저장하라. 저장 포맷은 아래와 같다. 각 행에 대한 데이터끼리 리스트에 저장되어야 한다.\n",
        "  \n",
        ">> print(result)  \n",
        "[\n",
        " [2000.28, 3050.427, 2050.2870000000003, 1980.2772],\n",
        " [7501.05, 2050.2870000000003, 2050.2870000000003, 1980.2772],\n",
        " [15452.163, 15052.107, 15552.177, 14902.086000000001]\n",
        "]"
      ]
    },
    {
      "cell_type": "code",
      "metadata": {
        "colab": {
          "base_uri": "https://localhost:8080/"
        },
        "id": "SgQdrfoRnSaR",
        "outputId": "8a3880af-9a94-43d2-a44a-b8321999e1b0"
      },
      "source": [
        "result=[]\n",
        "data = [\n",
        "    [ 2000,  3050,  2050,  1980],\n",
        "    [ 7500,  2050,  2050,  1980],\n",
        "    [15450, 15050, 15550, 14900]\n",
        "]\n",
        "for i in range(0,3):\n",
        "  row = []\n",
        "  for j in range(0,4):\n",
        "    row.append(data[i][j]*1.00014)\n",
        "  result.append(row)\n",
        "print(result)"
      ],
      "execution_count": 31,
      "outputs": [
        {
          "output_type": "stream",
          "text": [
            "[[2000.28, 3050.427, 2050.2870000000003, 1980.2772], [7501.05, 2050.2870000000003, 2050.2870000000003, 1980.2772], [15452.163, 15052.107, 15552.177, 14902.086000000001]]\n"
          ],
          "name": "stdout"
        }
      ]
    },
    {
      "cell_type": "markdown",
      "metadata": {
        "id": "AtBVObe9PcfF"
      },
      "source": [
        "### 195\n",
        "\n",
        "ohlc 리스트에는 시가(open), 고가 (high), 저가 (low) , 종가(close)가 날짜별로 저장돼 있다. 화면에 종가데이터를 출력하라.\n",
        "  \n",
        "ohlc = [[\"open\", \"high\", \"low\", \"close\"],\n",
        "        [100, 110, 70, 100],\n",
        "        [200, 210, 180, 190],\n",
        "        [300, 310, 300, 310]]  \n",
        "  \n",
        "100  \n",
        "190  \n",
        "310"
      ]
    },
    {
      "cell_type": "code",
      "metadata": {
        "colab": {
          "base_uri": "https://localhost:8080/"
        },
        "id": "KDhf_P3joYS-",
        "outputId": "b26250af-562f-49f8-8ea0-16d010adea12"
      },
      "source": [
        "ohlc = [[\"open\", \"high\", \"low\", \"close\"],\n",
        "        [100, 110, 70, 100],\n",
        "        [200, 210, 180, 190],\n",
        "        [300, 310, 300, 310]]\n",
        "for i in range(0,4):\n",
        "  print(ohlc[i][3])"
      ],
      "execution_count": 33,
      "outputs": [
        {
          "output_type": "stream",
          "text": [
            "close\n",
            "100\n",
            "190\n",
            "310\n"
          ],
          "name": "stdout"
        }
      ]
    },
    {
      "cell_type": "markdown",
      "metadata": {
        "id": "IMm3Qt9ePchr"
      },
      "source": [
        "### 196\n",
        "\n",
        "ohlc 리스트에는 시가(open), 고가 (high), 저가 (low) , 종가(close)가 날짜별로 저장돼 있다. 종가가 150원보다 큰경우에만 종가를 출력하라.\n",
        "  \n",
        "ohlc = [[\"open\", \"high\", \"low\", \"close\"],\n",
        "        [100, 110, 70, 100],\n",
        "        [200, 210, 180, 190],\n",
        "        [300, 310, 300, 310]]  \n",
        "  \n",
        "190  \n",
        "310"
      ]
    },
    {
      "cell_type": "code",
      "metadata": {
        "colab": {
          "base_uri": "https://localhost:8080/"
        },
        "id": "hI2itUmSou5E",
        "outputId": "0d5adfb4-3c81-4068-c173-76e7076c4f30"
      },
      "source": [
        "ohlc = [[\"open\", \"high\", \"low\", \"close\"],\n",
        "        [100, 110, 70, 100],\n",
        "        [200, 210, 180, 190],\n",
        "        [300, 310, 300, 310]]\n",
        "for i in range(1,4):\n",
        "  if ohlc[i][3]>150:\n",
        "    print(ohlc[i][3])"
      ],
      "execution_count": 34,
      "outputs": [
        {
          "output_type": "stream",
          "text": [
            "190\n",
            "310\n"
          ],
          "name": "stdout"
        }
      ]
    },
    {
      "cell_type": "markdown",
      "metadata": {
        "id": "nn7ZooToPckU"
      },
      "source": [
        "### 197\n",
        "\n",
        "ohlc 리스트에는 시가(open), 고가 (high), 저가 (low) , 종가(close)가 날짜별로 저장돼 있다. 종가가 시가 보다 크거나 같은 경우에만 종가를 출력하라.\n",
        "  \n",
        "ohlc = [[\"open\", \"high\", \"low\", \"close\"],\n",
        "        [100, 110, 70, 100],\n",
        "        [200, 210, 180, 190],\n",
        "        [300, 310, 300, 310]]  \n",
        "  \n",
        "100  \n",
        "310"
      ]
    },
    {
      "cell_type": "code",
      "metadata": {
        "colab": {
          "base_uri": "https://localhost:8080/"
        },
        "id": "u3arOdUnpFxj",
        "outputId": "a4a80cfd-7ae8-4602-db85-d285cb64f0b6"
      },
      "source": [
        "ohlc = [[\"open\", \"high\", \"low\", \"close\"],\n",
        "        [100, 110, 70, 100],\n",
        "        [200, 210, 180, 190],\n",
        "        [300, 310, 300, 310]]\n",
        "for i in range(1,4):\n",
        "  if ohlc[i][0] <= ohlc[i][3]:\n",
        "    print(ohlc[i][3])"
      ],
      "execution_count": 40,
      "outputs": [
        {
          "output_type": "stream",
          "text": [
            "100\n",
            "310\n"
          ],
          "name": "stdout"
        }
      ]
    },
    {
      "cell_type": "markdown",
      "metadata": {
        "id": "LOoPG2YPPcm2"
      },
      "source": [
        "### 198\n",
        "\n",
        "ohlc 리스트에는 시가(open), 고가 (high), 저가 (low) , 종가(close)가 날짜별로 저장돼 있다. 고가와 저가의 차이를 변동폭으로 정의할 때 변동폭을 volatility 이름의 리스트에 저장하라.\n",
        "  \n",
        "ohlc = [[\"open\", \"high\", \"low\", \"close\"],\n",
        "        [100, 110, 70, 100],\n",
        "        [200, 210, 180, 190],\n",
        "        [300, 310, 300, 310]]  \n",
        "  \n",
        ">> print(volatility)  \n",
        "[40, 30, 10]"
      ]
    },
    {
      "cell_type": "code",
      "metadata": {
        "colab": {
          "base_uri": "https://localhost:8080/"
        },
        "id": "NoHy5ZG7qY_T",
        "outputId": "8121fe11-d581-4377-c2eb-00df2107a305"
      },
      "source": [
        "ohlc = [[\"open\", \"high\", \"low\", \"close\"],\n",
        "        [100, 110, 70, 100],\n",
        "        [200, 210, 180, 190],\n",
        "        [300, 310, 300, 310]]\n",
        "volatility=[]\n",
        "for i in range(1,4):\n",
        "  volatility.append(ohlc[i][1] - ohlc[i][2])\n",
        "print(volatility)"
      ],
      "execution_count": 48,
      "outputs": [
        {
          "output_type": "stream",
          "text": [
            "[40, 30, 10]\n"
          ],
          "name": "stdout"
        }
      ]
    },
    {
      "cell_type": "markdown",
      "metadata": {
        "id": "aueoMFY0rW3W"
      },
      "source": [
        "**append !!! 제발 좀 기억ㅎㅐ라...**"
      ]
    },
    {
      "cell_type": "markdown",
      "metadata": {
        "id": "2DclWkx1Pcpm"
      },
      "source": [
        "### 199\n",
        "\n",
        "리스트에는 3일 간의 ohlc 데이터가 저장돼 있다. 종가가 시가보다 높은 날의 변동성 (고가 - 저가)을 화면에 출력하라.\n",
        "  \n",
        "ohlc = [[\"open\", \"high\", \"low\", \"close\"],\n",
        "        [100, 110, 70, 100],\n",
        "        [200, 210, 180, 190],\n",
        "        [300, 310, 300, 310]]  \n",
        "  \n",
        "종가가 시가보다 높은 거래일의 OHLC는 [300, 310, 300, 310] 이다. 따라서 이 거래일의 변동성은 10 (310 - 300)이다.  \n",
        "  \n",
        "10"
      ]
    },
    {
      "cell_type": "code",
      "metadata": {
        "colab": {
          "base_uri": "https://localhost:8080/"
        },
        "id": "YjS45HJoroVx",
        "outputId": "3140c4fd-fa11-4206-d46b-3ac63e4ec9d5"
      },
      "source": [
        "ohlc = [[\"open\", \"high\", \"low\", \"close\"],\n",
        "        [100, 110, 70, 100],\n",
        "        [200, 210, 180, 190],\n",
        "        [300, 310, 300, 310]]\n",
        "for i in range(1,4):\n",
        "  if ohlc[i][0] < ohlc[i][3]:\n",
        "    print(ohlc[i][1] - ohlc[i][2])"
      ],
      "execution_count": 49,
      "outputs": [
        {
          "output_type": "stream",
          "text": [
            "10\n"
          ],
          "name": "stdout"
        }
      ]
    },
    {
      "cell_type": "markdown",
      "metadata": {
        "id": "e7DbdmyfPcsY"
      },
      "source": [
        "### 200\n",
        "\n",
        "리스트에는 3일 간의 ohlc 데이터가 저장돼 있다. 시가에 매수해서 종가에 매도 했을 경우 총 수익금을 계산하라.\n",
        "  \n",
        "ohlc = [[\"open\", \"high\", \"low\", \"close\"],\n",
        "        [100, 110, 70, 100],\n",
        "        [200, 210, 180, 190],\n",
        "        [300, 310, 300, 310]]  \n",
        "  \n",
        "1일차 수익 0원 (100 - 100), 2일차 수익 -10원 (190 - 200), 3일차 수익 10원 (310 - 300) 이다.  \n",
        "  \n",
        "0"
      ]
    },
    {
      "cell_type": "code",
      "metadata": {
        "id": "Iaqtv6AvoE1l",
        "colab": {
          "base_uri": "https://localhost:8080/"
        },
        "outputId": "24cd76c1-bfd6-4e1e-e684-e7daaf387784"
      },
      "source": [
        "ohlc = [[\"open\", \"high\", \"low\", \"close\"],\n",
        "        [100, 110, 70, 100],\n",
        "        [200, 210, 180, 190],\n",
        "        [300, 310, 300, 310]]\n",
        "sum = 0\n",
        "for i in range(1,4):\n",
        "  sum += ohlc[i][3] - ohlc[i][0]\n",
        "print(sum)"
      ],
      "execution_count": 59,
      "outputs": [
        {
          "output_type": "stream",
          "text": [
            "0\n"
          ],
          "name": "stdout"
        }
      ]
    }
  ]
}