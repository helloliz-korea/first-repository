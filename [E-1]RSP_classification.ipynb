{
 "cells": [
  {
   "cell_type": "markdown",
   "metadata": {},
   "source": [
    "# [E-1]Rock-Scissor-Paper Classification"
   ]
  },
  {
   "cell_type": "markdown",
   "metadata": {},
   "source": [
    "## 순서 : 데이터 준비 $\\rightarrow$ 딥러닝 네트워크 설계 $\\rightarrow$ 딥러닝 네트워크 학습 $\\rightarrow$ 테스트 및 성능개선"
   ]
  },
  {
   "cell_type": "markdown",
   "metadata": {},
   "source": [
    "### 1. 데이터 준비"
   ]
  },
  {
   "cell_type": "markdown",
   "metadata": {},
   "source": [
    "#### (1) 데이터 만들기 : 사진 찍기 $\\rightarrow$ PIL 라이브러리 이용 $\\rightarrow$ 각 디렉토리별 이미지 불러와서 사이즈 조정"
   ]
  },
  {
   "cell_type": "markdown",
   "metadata": {},
   "source": [
    "- 사진 찍기 : 가위, 바위, 보 사진 각각 100장씩 찍기 (참조: https://teachablemachine.withgoogle.com/ 이곳을 이용하면 편리)"
   ]
  },
  {
   "cell_type": "markdown",
   "metadata": {},
   "source": [
    "- \"좋은 데이터가 좋은 결과를 낫는다!!\" (다양한 각도와 크기로 촬영하기)"
   ]
  },
  {
   "cell_type": "markdown",
   "metadata": {},
   "source": [
    "- 디렉토리 생성 및 사진 분류 저장 : rock_scissor_paper 디렉토리의 하위 디렉토리로 각각 /rock, /scissor, /paper 디렉토리 생성"
   ]
  },
  {
   "cell_type": "markdown",
   "metadata": {},
   "source": [
    "- mkdir -p : mkdir 를 이용하여 하위 디렉토리 생성 시 중간 디렉토리가 필요한데(그래야 오류 x), 이를 한번에 처리할 수 있는 옵션이 바로 '-p'!!  \n",
    "  \n",
    "    `mkdir -p ~/aiffel/rock_scissor_paper/scissor`  \n",
    "    `mkdir -p ~/aiffel/rock_scissor_paper/rock`  \n",
    "    `mkdir -p ~/aiffel/rock_scissor_paper/paper`  \n",
    "    `ls -l ~/aiffel/rock_scissor_paper`"
   ]
  },
  {
   "cell_type": "markdown",
   "metadata": {},
   "source": [
    "- 데이터 불러오기 및 크기 재조정(resize) : 다운로드 받은 원본 $224\\times 224 \\rightarrow 28\\times 28$로 재조정"
   ]
  },
  {
   "cell_type": "markdown",
   "metadata": {},
   "source": [
    "- PIL 라이브러리 불러오기 (if 없으면 패키지 설치)"
   ]
  },
  {
   "cell_type": "code",
   "execution_count": 1,
   "metadata": {},
   "outputs": [
    {
     "name": "stdout",
     "output_type": "stream",
     "text": [
      "Requirement already satisfied: pillow in /home/aiffel/anaconda3/envs/aiffel/lib/python3.7/site-packages (8.0.1)\n",
      "PIL 라이브러리 import 완료!\n"
     ]
    }
   ],
   "source": [
    "# PIL 라이브러리 설치 및 불러오기\n",
    "!pip install pillow   \n",
    "\n",
    "from PIL import Image\n",
    "import os, glob\n",
    "\n",
    "print(\"PIL 라이브러리 import 완료!\")"
   ]
  },
  {
   "cell_type": "markdown",
   "metadata": {},
   "source": [
    "- '가위' 이미지 불러오기 및 사이즈 조정 ($224\\times 224 \\rightarrow 28\\times 28$)"
   ]
  },
  {
   "cell_type": "code",
   "execution_count": 2,
   "metadata": {},
   "outputs": [
    {
     "name": "stdout",
     "output_type": "stream",
     "text": [
      "이미지 디렉토리 경로:  /home/aiffel/aiffel/rock_scissor_paper/scissor\n",
      "가위 이미지 resize 완료!\n"
     ]
    }
   ],
   "source": [
    "import os\n",
    "# 가위 디렉토리의 모든 jpg 파일 읽어오기\n",
    "image_dir_path = os.getenv(\"HOME\") + \"/aiffel/rock_scissor_paper/scissor\"\n",
    "print(\"이미지 디렉토리 경로: \", image_dir_path)\n",
    "\n",
    "images=glob.glob(image_dir_path + \"/*.jpg\")  \n",
    "\n",
    "# 가위 디렉토리의 모든 파일을 28x28 사이즈로 바꾸어 저장\n",
    "target_size=(28,28)\n",
    "for img in images:\n",
    "    old_img=Image.open(img)\n",
    "    new_img=old_img.resize(target_size,Image.ANTIALIAS)\n",
    "    new_img.save(img,\"JPEG\")\n",
    "\n",
    "print(\"가위 이미지 resize 완료!\")"
   ]
  },
  {
   "cell_type": "markdown",
   "metadata": {},
   "source": [
    "- '바위' 이미지 불러오기 및 사이즈 조정 ($224\\times 224 \\rightarrow 28\\times 28$)"
   ]
  },
  {
   "cell_type": "code",
   "execution_count": 3,
   "metadata": {},
   "outputs": [
    {
     "name": "stdout",
     "output_type": "stream",
     "text": [
      "이미지 디렉토리 경로:  /home/aiffel/aiffel/rock_scissor_paper/rock\n",
      "바위 이미지 resize 완료!\n"
     ]
    }
   ],
   "source": [
    "import os\n",
    "# 바위 디렉토리의 모든 jpg 파일을 읽어오기\n",
    "image_dir_path = os.getenv(\"HOME\") + \"/aiffel/rock_scissor_paper/rock\"\n",
    "print(\"이미지 디렉토리 경로: \", image_dir_path)\n",
    "\n",
    "images=glob.glob(image_dir_path + \"/*.jpg\")  \n",
    "\n",
    "# 바위 디렉토리의 모든 파일을 28x28 사이즈로 바꾸어 저장\n",
    "target_size=(28,28)\n",
    "for img in images:\n",
    "    old_img=Image.open(img)\n",
    "    new_img=old_img.resize(target_size,Image.ANTIALIAS)\n",
    "    new_img.save(img,\"JPEG\")\n",
    "\n",
    "print(\"바위 이미지 resize 완료!\")"
   ]
  },
  {
   "cell_type": "markdown",
   "metadata": {},
   "source": [
    "- '보' 이미지 불러오기 및 사이즈 조정 ($224\\times 224 \\rightarrow 28\\times 28$)"
   ]
  },
  {
   "cell_type": "code",
   "execution_count": 4,
   "metadata": {},
   "outputs": [
    {
     "name": "stdout",
     "output_type": "stream",
     "text": [
      "이미지 디렉토리 경로:  /home/aiffel/aiffel/rock_scissor_paper/paper\n",
      "보 이미지 resize 완료!\n"
     ]
    }
   ],
   "source": [
    "import os\n",
    "# 보 디렉토리의 모든 jpg 파일을 읽어오기\n",
    "image_dir_path = os.getenv(\"HOME\") + \"/aiffel/rock_scissor_paper/paper\"\n",
    "print(\"이미지 디렉토리 경로: \", image_dir_path)\n",
    "\n",
    "images=glob.glob(image_dir_path + \"/*.jpg\")  \n",
    "\n",
    "# 보 디렉토리의 모든 파일을 28x28 사이즈로 바꾸어 저장\n",
    "target_size=(28,28)\n",
    "for img in images:\n",
    "    old_img=Image.open(img)\n",
    "    new_img=old_img.resize(target_size,Image.ANTIALIAS)\n",
    "    new_img.save(img,\"JPEG\")\n",
    "\n",
    "print(\"보 이미지 resize 완료!\")"
   ]
  },
  {
   "cell_type": "markdown",
   "metadata": {},
   "source": [
    "#### (2) 데이터셋 불러오기 : load_data() 함수 이용, 학습데이터 테스트데이터 불러오기"
   ]
  },
  {
   "cell_type": "code",
   "execution_count": 5,
   "metadata": {},
   "outputs": [],
   "source": [
    "import tensorflow as tf\n",
    "from tensorflow import keras\n",
    "import numpy as np"
   ]
  },
  {
   "cell_type": "code",
   "execution_count": 6,
   "metadata": {},
   "outputs": [
    {
     "name": "stdout",
     "output_type": "stream",
     "text": [
      "학습데이터(x_train)의 이미지 개수는 12300 입니다.\n",
      "x_train shape: (12300, 28, 28, 3)\n",
      "y_train shape: (12300,)\n"
     ]
    }
   ],
   "source": [
    "# x_train, y_train 데이터\n",
    "\n",
    "def load_data(img_path):\n",
    "    # 가위 : 0, 바위 : 1, 보 : 2\n",
    "    number_of_data=12300   # 가위바위보 이미지 개수 총합에 주의\n",
    "    img_size=28\n",
    "    color=3\n",
    "    \n",
    "    #이미지 데이터와 라벨(가위 : 0, 바위 : 1, 보 : 2)데이터를 담을 행렬(matrix) 영역 생성\n",
    "    imgs=np.zeros(number_of_data*img_size*img_size*color,dtype=np.int32).reshape(number_of_data,img_size,img_size,color)\n",
    "    labels=np.zeros(number_of_data,dtype=np.int32)\n",
    "\n",
    "    idx=0\n",
    "    for file in glob.iglob(img_path+'/scissor/*.jpg'):\n",
    "        img = np.array(Image.open(file),dtype=np.int32)\n",
    "        imgs[idx,:,:,:]=img    # 데이터 영역에 이미지 행렬 복사\n",
    "        labels[idx]=0   # 가위 : 0\n",
    "        idx=idx+1\n",
    "\n",
    "    for file in glob.iglob(img_path+'/rock/*.jpg'):\n",
    "        img = np.array(Image.open(file),dtype=np.int32)\n",
    "        imgs[idx,:,:,:]=img    # 데이터 영역에 이미지 행렬 복사\n",
    "        labels[idx]=1   # 바위 : 1\n",
    "        idx=idx+1       \n",
    "    \n",
    "    for file in glob.iglob(img_path+'/paper/*.jpg'):\n",
    "        img = np.array(Image.open(file),dtype=np.int32)\n",
    "        imgs[idx,:,:,:]=img    # 데이터 영역에 이미지 행렬 복사\n",
    "        labels[idx]=2   # 보 : 2\n",
    "        idx=idx+1\n",
    "        \n",
    "    print(\"학습데이터(x_train)의 이미지 개수는\",idx,\"입니다.\")\n",
    "    return imgs, labels\n",
    "\n",
    "image_dir_path = os.getenv(\"HOME\") + \"/aiffel/rock_scissor_paper\"\n",
    "(x_train, y_train)=load_data(image_dir_path)\n",
    "x_train_norm = x_train/255.0   # 입력은 0~1 사이의 값으로 정규화\n",
    "\n",
    "print(\"x_train shape: {}\".format(x_train.shape))\n",
    "print(\"y_train shape: {}\".format(y_train.shape))"
   ]
  },
  {
   "cell_type": "code",
   "execution_count": 7,
   "metadata": {},
   "outputs": [
    {
     "name": "stdout",
     "output_type": "stream",
     "text": [
      "테스트데이터(x_test)의 이미지 개수는 300 입니다.\n",
      "x_test shape: (300, 28, 28, 3)\n",
      "y_test shape: (300,)\n"
     ]
    }
   ],
   "source": [
    "# x_test, y_test 데이터\n",
    "def load_data(ima_path):\n",
    "    # 가위 : 0, 바위 : 1, 보 : 2\n",
    "    number_of_data=300 # 가위바위보 이미지 개수 총합에 주의\n",
    "    img_size=28\n",
    "    color=3\n",
    "    #이미지 데이터와 라벨(가위 : 0, 바위 : 1, 보 : 2) 데이터를 담을 행렬(matrix) 영역 생성\n",
    "    imgs=np.zeros(number_of_data*img_size*img_size*color,dtype=np.int32).reshape(number_of_data,img_size,img_size,color)\n",
    "    labels=np.zeros(number_of_data,dtype=np.int32)\n",
    "\n",
    "    idx=0\n",
    "    for file in glob.iglob(ima_path+'/scissor/*.jpg'):\n",
    "        img = np.array(Image.open(file),dtype=np.int32)\n",
    "        imgs[idx,:,:,:]=img    # 데이터 영역에 이미지 행렬 복사\n",
    "        labels[idx]=0   # 가위 : 0\n",
    "        idx=idx+1\n",
    "\n",
    "    for file in glob.iglob(ima_path+'/rock/*.jpg'):\n",
    "        img = np.array(Image.open(file),dtype=np.int32)\n",
    "        imgs[idx,:,:,:]=img    # 데이터 영역에 이미지 행렬 복사\n",
    "        labels[idx]=1   # 바위 : 1\n",
    "        idx=idx+1       \n",
    "    \n",
    "    for file in glob.iglob(ima_path+'/paper/*.jpg'):\n",
    "        img = np.array(Image.open(file),dtype=np.int32)\n",
    "        imgs[idx,:,:,:]=img    # 데이터 영역에 이미지 행렬 복사\n",
    "        labels[idx]=2   # 보 : 2\n",
    "        idx=idx+1\n",
    "        \n",
    "    print(\"테스트데이터(x_test)의 이미지 개수는\",idx,\"입니다.\")\n",
    "    return imgs, labels\n",
    "\n",
    "test_dir = os.getenv(\"HOME\") + \"/aiffel/test_rock_scissor_paper\"\n",
    "(x_test, y_test)=load_data(test_dir)\n",
    "x_test_norm = x_test/255.0   # 입력은 0~1 사이의 값으로 정규화\n",
    "\n",
    "print(\"x_test shape: {}\".format(x_test.shape))\n",
    "print(\"y_test shape: {}\".format(y_test.shape))"
   ]
  },
  {
   "cell_type": "markdown",
   "metadata": {},
   "source": [
    "### 2. 딥러닝 네트워크 설계"
   ]
  },
  {
   "cell_type": "markdown",
   "metadata": {},
   "source": [
    "#### (1) tf.keras의 Sequential API를 이용하여 LeNet이라는 딥러닝 네트워크 설계 : 가위바위보 분류기"
   ]
  },
  {
   "cell_type": "code",
   "execution_count": 8,
   "metadata": {},
   "outputs": [
    {
     "name": "stdout",
     "output_type": "stream",
     "text": [
      "Model에 추가된 Layer 개수:  7\n",
      "Model: \"sequential\"\n",
      "_________________________________________________________________\n",
      "Layer (type)                 Output Shape              Param #   \n",
      "=================================================================\n",
      "conv2d (Conv2D)              (None, 26, 26, 16)        448       \n",
      "_________________________________________________________________\n",
      "max_pooling2d (MaxPooling2D) (None, 13, 13, 16)        0         \n",
      "_________________________________________________________________\n",
      "conv2d_1 (Conv2D)            (None, 11, 11, 32)        4640      \n",
      "_________________________________________________________________\n",
      "max_pooling2d_1 (MaxPooling2 (None, 5, 5, 32)          0         \n",
      "_________________________________________________________________\n",
      "flatten (Flatten)            (None, 800)               0         \n",
      "_________________________________________________________________\n",
      "dense (Dense)                (None, 32)                25632     \n",
      "_________________________________________________________________\n",
      "dense_1 (Dense)              (None, 3)                 99        \n",
      "=================================================================\n",
      "Total params: 30,819\n",
      "Trainable params: 30,819\n",
      "Non-trainable params: 0\n",
      "_________________________________________________________________\n"
     ]
    }
   ],
   "source": [
    "# tf.keras의 Sequential API를 이용하여 LeNet이라는 딥러닝 네트워크 설계 : 가위바위보 분류기\n",
    "model=keras.models.Sequential()\n",
    "model.add(keras.layers.Conv2D(16, (3,3), activation='relu', input_shape=(28,28,3)))\n",
    "model.add(keras.layers.MaxPool2D(2,2))\n",
    "model.add(keras.layers.Conv2D(32, (3,3), activation='relu'))\n",
    "model.add(keras.layers.MaxPooling2D((2,2)))\n",
    "model.add(keras.layers.Flatten())\n",
    "model.add(keras.layers.Dense(32, activation='relu'))\n",
    "model.add(keras.layers.Dense(3, activation='softmax'))\n",
    "\n",
    "print('Model에 추가된 Layer 개수: ', len(model.layers))\n",
    "\n",
    "# 위에서 설계한 딥러닝 네트워크 모델 확인\n",
    "model.summary()"
   ]
  },
  {
   "cell_type": "markdown",
   "metadata": {},
   "source": [
    "#### (2) 네트워크 입력형태 확인"
   ]
  },
  {
   "cell_type": "code",
   "execution_count": 9,
   "metadata": {},
   "outputs": [
    {
     "name": "stdout",
     "output_type": "stream",
     "text": [
      "Before Reshape - x_train_norm shape: (12300, 28, 28, 3)\n",
      "Before Reshape - x_test_norm shape: (300, 28, 28, 3)\n",
      "After Reshape - x_train_reshaped shape: (12300, 28, 28, 3)\n",
      "After Reshape - x_test_reshaped shape: (300, 28, 28, 3)\n"
     ]
    }
   ],
   "source": [
    "print(\"Before Reshape - x_train_norm shape: {}\".format(x_train_norm.shape))\n",
    "print(\"Before Reshape - x_test_norm shape: {}\".format(x_test_norm.shape))\n",
    "\n",
    "# 네트워크 입력 형태 = (데이터 개수, x-이미지 크기, y-이미지 크기, 채널수), 데이터수에 -1 입력 시 reshape 자동계산, 주의!: RGB 채널수=3\n",
    "x_train_reshaped=x_train_norm.reshape( -1, 28, 28, 3)\n",
    "x_test_reshaped=x_test_norm.reshape( -1, 28, 28, 3)\n",
    "\n",
    "print(\"After Reshape - x_train_reshaped shape: {}\".format(x_train_reshaped.shape))\n",
    "print(\"After Reshape - x_test_reshaped shape: {}\".format(x_test_reshaped.shape))"
   ]
  },
  {
   "cell_type": "markdown",
   "metadata": {},
   "source": [
    "### 3. 딥러닝 네트워크 학습"
   ]
  },
  {
   "cell_type": "code",
   "execution_count": 10,
   "metadata": {},
   "outputs": [
    {
     "name": "stdout",
     "output_type": "stream",
     "text": [
      "Epoch 1/20\n",
      "385/385 [==============================] - 4s 10ms/step - loss: 0.8724 - accuracy: 0.5843\n",
      "Epoch 2/20\n",
      "385/385 [==============================] - 0s 1ms/step - loss: 0.5057 - accuracy: 0.8016\n",
      "Epoch 3/20\n",
      "385/385 [==============================] - 0s 1ms/step - loss: 0.3290 - accuracy: 0.8833\n",
      "Epoch 4/20\n",
      "385/385 [==============================] - 0s 1ms/step - loss: 0.2245 - accuracy: 0.9232\n",
      "Epoch 5/20\n",
      "385/385 [==============================] - 0s 1ms/step - loss: 0.1577 - accuracy: 0.9493\n",
      "Epoch 6/20\n",
      "385/385 [==============================] - 0s 1ms/step - loss: 0.1096 - accuracy: 0.9650\n",
      "Epoch 7/20\n",
      "385/385 [==============================] - 0s 1ms/step - loss: 0.0951 - accuracy: 0.9692\n",
      "Epoch 8/20\n",
      "385/385 [==============================] - 0s 1ms/step - loss: 0.0608 - accuracy: 0.9836\n",
      "Epoch 9/20\n",
      "385/385 [==============================] - 0s 1ms/step - loss: 0.0442 - accuracy: 0.9884\n",
      "Epoch 10/20\n",
      "385/385 [==============================] - 0s 1ms/step - loss: 0.0412 - accuracy: 0.9883\n",
      "Epoch 11/20\n",
      "385/385 [==============================] - 0s 1ms/step - loss: 0.0458 - accuracy: 0.9872\n",
      "Epoch 12/20\n",
      "385/385 [==============================] - 0s 1ms/step - loss: 0.0244 - accuracy: 0.9942\n",
      "Epoch 13/20\n",
      "385/385 [==============================] - 0s 1ms/step - loss: 0.0232 - accuracy: 0.9941\n",
      "Epoch 14/20\n",
      "385/385 [==============================] - 0s 1ms/step - loss: 0.0211 - accuracy: 0.9955\n",
      "Epoch 15/20\n",
      "385/385 [==============================] - 0s 1ms/step - loss: 0.0260 - accuracy: 0.9937\n",
      "Epoch 16/20\n",
      "385/385 [==============================] - 0s 1ms/step - loss: 0.0174 - accuracy: 0.9960\n",
      "Epoch 17/20\n",
      "385/385 [==============================] - 0s 1ms/step - loss: 0.0217 - accuracy: 0.9940\n",
      "Epoch 18/20\n",
      "385/385 [==============================] - 0s 1ms/step - loss: 0.0252 - accuracy: 0.9928\n",
      "Epoch 19/20\n",
      "385/385 [==============================] - 0s 1ms/step - loss: 0.0045 - accuracy: 0.9995\n",
      "Epoch 20/20\n",
      "385/385 [==============================] - 0s 1ms/step - loss: 0.0307 - accuracy: 0.9906\n"
     ]
    },
    {
     "data": {
      "text/plain": [
       "<tensorflow.python.keras.callbacks.History at 0x7f90a2348d90>"
      ]
     },
     "execution_count": 10,
     "metadata": {},
     "output_type": "execute_result"
    }
   ],
   "source": [
    "model.compile(optimizer='adam',\n",
    "loss='sparse_categorical_crossentropy',\n",
    "metrics=['accuracy'])\n",
    "\n",
    "model.fit(x_train_reshaped, y_train, epochs=20)"
   ]
  },
  {
   "cell_type": "markdown",
   "metadata": {},
   "source": [
    "### 4. 테스트 및 성능 개선"
   ]
  },
  {
   "cell_type": "markdown",
   "metadata": {},
   "source": [
    "#### (1) 테스트"
   ]
  },
  {
   "cell_type": "code",
   "execution_count": 11,
   "metadata": {},
   "outputs": [
    {
     "name": "stdout",
     "output_type": "stream",
     "text": [
      "10/10 - 0s - loss: 0.0754 - accuracy: 0.9800\n",
      "test_loss: 0.07536916434764862 \n",
      "test_accuracy: 0.9800000190734863\n"
     ]
    }
   ],
   "source": [
    "test_loss, test_accuracy = model.evaluate(x_test_reshaped, y_test, verbose=2)\n",
    "print(\"test_loss: {} \".format(test_loss))\n",
    "print(\"test_accuracy: {}\".format(test_accuracy))"
   ]
  },
  {
   "cell_type": "markdown",
   "metadata": {},
   "source": [
    "#### (2) 예측"
   ]
  },
  {
   "cell_type": "code",
   "execution_count": 32,
   "metadata": {},
   "outputs": [
    {
     "name": "stdout",
     "output_type": "stream",
     "text": [
      "model.predict() 결과 :  [9.9963880e-01 5.9633796e-05 3.0166013e-04]\n",
      "model이 추론한 가장 가능성이 높은 결과 :  0\n",
      "실제 데이터의 라벨 :  0\n"
     ]
    },
    {
     "data": {
      "image/png": "[encoded data removed]",
      "text/plain": [
       "<Figure size 432x288 with 1 Axes>"
      ]
     },
     "metadata": {
      "needs_background": "light"
     },
     "output_type": "display_data"
    },
    {
     "name": "stdout",
     "output_type": "stream",
     "text": [
      "예측확률분포: [0.46180144 0.53553534 0.00266323]\n",
      "라벨: 0, 예측결과: 1\n"
     ]
    },
    {
     "data": {
      "image/png": "[encoded data removed]",
      "text/plain": [
       "<Figure size 432x288 with 1 Axes>"
      ]
     },
     "metadata": {
      "needs_background": "light"
     },
     "output_type": "display_data"
    },
    {
     "name": "stdout",
     "output_type": "stream",
     "text": [
      "예측확률분포: [0.46180144 0.53553534 0.00266323]\n",
      "라벨: 0, 예측결과: 1\n"
     ]
    },
    {
     "data": {
      "image/png": "[encoded data removed]",
      "text/plain": [
       "<Figure size 432x288 with 1 Axes>"
      ]
     },
     "metadata": {
      "needs_background": "light"
     },
     "output_type": "display_data"
    },
    {
     "name": "stdout",
     "output_type": "stream",
     "text": [
      "예측확률분포: [0.46180144 0.53553534 0.00266323]\n",
      "라벨: 0, 예측결과: 1\n"
     ]
    },
    {
     "data": {
      "image/png": "[encoded data removed]",
      "text/plain": [
       "<Figure size 432x288 with 1 Axes>"
      ]
     },
     "metadata": {
      "needs_background": "light"
     },
     "output_type": "display_data"
    },
    {
     "name": "stdout",
     "output_type": "stream",
     "text": [
      "예측확률분포: [0.46180144 0.53553534 0.00266323]\n",
      "라벨: 0, 예측결과: 1\n"
     ]
    },
    {
     "data": {
      "image/png": "[encoded data removed]",
      "text/plain": [
       "<Figure size 432x288 with 1 Axes>"
      ]
     },
     "metadata": {
      "needs_background": "light"
     },
     "output_type": "display_data"
    },
    {
     "name": "stdout",
     "output_type": "stream",
     "text": [
      "예측확률분포: [0.46180144 0.53553534 0.00266323]\n",
      "라벨: 0, 예측결과: 1\n"
     ]
    },
    {
     "data": {
      "image/png": "[encoded data removed]",
      "text/plain": [
       "<Figure size 432x288 with 1 Axes>"
      ]
     },
     "metadata": {
      "needs_background": "light"
     },
     "output_type": "display_data"
    }
   ],
   "source": [
    "import matplotlib.pyplot as plt\n",
    "\n",
    "predicted_result = model.predict(x_test_reshaped)  # model이 추론한 확률값. \n",
    "predicted_labels = np.argmax(predicted_result, axis=1)\n",
    "\n",
    "idx=0  #1번째 x_test를 살펴보자. \n",
    "print('model.predict() 결과 : ', predicted_result[idx])\n",
    "print('model이 추론한 가장 가능성이 높은 결과 : ', predicted_labels[idx])\n",
    "print('실제 데이터의 라벨 : ', y_test[idx])\n",
    "\n",
    "# 위 예측대로 가장 높은 확률을 받은 이미지를 출력하여 확인해 보기\n",
    "plt.imshow(x_test[idx],cmap=plt.cm.binary)\n",
    "plt.show()\n",
    "\n",
    "# 예측이 틀린 경우의 확인 (추후 성능 개선에 사용)\n",
    "import random\n",
    "wrong_predict_list=[]\n",
    "for i, _ in enumerate(predicted_labels):\n",
    "    # i번째 test_labels과 y_test이 다른 경우만 모아 봅시다. \n",
    "    if predicted_labels[i] != y_test[i]:\n",
    "        wrong_predict_list.append(i)\n",
    "\n",
    "# wrong_predict_list 에서 랜덤하게 5개만 뽑아봅시다.\n",
    "samples = random.choices(population=wrong_predict_list, k=5)\n",
    "\n",
    "for n in samples:\n",
    "    print(\"예측확률분포: \" + str(predicted_result[n]))\n",
    "    print(\"라벨: \" + str(y_test[n]) + \", 예측결과: \" + str(predicted_labels[n]))\n",
    "    plt.imshow(x_test[n], cmap=plt.cm.binary)\n",
    "    plt.show()"
   ]
  },
  {
   "cell_type": "markdown",
   "metadata": {},
   "source": [
    "#### (3) 성능 개선"
   ]
  },
  {
   "cell_type": "code",
   "execution_count": 12,
   "metadata": {},
   "outputs": [
    {
     "name": "stdout",
     "output_type": "stream",
     "text": [
      "Model: \"sequential_1\"\n",
      "_________________________________________________________________\n",
      "Layer (type)                 Output Shape              Param #   \n",
      "=================================================================\n",
      "conv2d_2 (Conv2D)            (None, 26, 26, 32)        896       \n",
      "_________________________________________________________________\n",
      "max_pooling2d_2 (MaxPooling2 (None, 13, 13, 32)        0         \n",
      "_________________________________________________________________\n",
      "conv2d_3 (Conv2D)            (None, 11, 11, 64)        18496     \n",
      "_________________________________________________________________\n",
      "max_pooling2d_3 (MaxPooling2 (None, 5, 5, 64)          0         \n",
      "_________________________________________________________________\n",
      "conv2d_4 (Conv2D)            (None, 3, 3, 128)         73856     \n",
      "_________________________________________________________________\n",
      "max_pooling2d_4 (MaxPooling2 (None, 1, 1, 128)         0         \n",
      "_________________________________________________________________\n",
      "dropout (Dropout)            (None, 1, 1, 128)         0         \n",
      "_________________________________________________________________\n",
      "flatten_1 (Flatten)          (None, 128)               0         \n",
      "_________________________________________________________________\n",
      "dense_2 (Dense)              (None, 512)               66048     \n",
      "_________________________________________________________________\n",
      "dense_3 (Dense)              (None, 3)                 1539      \n",
      "=================================================================\n",
      "Total params: 160,835\n",
      "Trainable params: 160,835\n",
      "Non-trainable params: 0\n",
      "_________________________________________________________________\n"
     ]
    }
   ],
   "source": [
    "n_channel_1=16*2\n",
    "n_channel_2=32*2\n",
    "n_channel_3 =64*2\n",
    "n_dense=32*16\n",
    "n_train_epochs=20\n",
    "\n",
    "model=keras.models.Sequential()\n",
    "model.add(keras.layers.Conv2D(n_channel_1, (3,3), activation='relu', \n",
    "                              input_shape=(28,28,3)))\n",
    "model.add(keras.layers.MaxPooling2D(2,2))\n",
    "model.add(keras.layers.Conv2D(n_channel_2, (3,3), activation='relu'))\n",
    "model.add(keras.layers.MaxPooling2D((2,2)))\n",
    "model.add(keras.layers.Conv2D(n_channel_3, (3,3), activation='relu'))\n",
    "model.add(keras.layers.MaxPooling2D((2,2)))\n",
    "model.add(keras.layers.Dropout(0.2))\n",
    "model.add(keras.layers.Flatten())\n",
    "model.add(keras.layers.Dense(n_dense, kernel_regularizer=keras.regularizers.l2(0.001),activation='relu'))\n",
    "model.add(keras.layers.Dense(3, activation='softmax'))\n",
    "\n",
    "model.summary()"
   ]
  },
  {
   "cell_type": "code",
   "execution_count": 13,
   "metadata": {},
   "outputs": [
    {
     "name": "stdout",
     "output_type": "stream",
     "text": [
      "Epoch 1/20\n",
      "385/385 [==============================] - 6s 15ms/step - loss: 0.9475 - accuracy: 0.5351\n",
      "Epoch 2/20\n",
      "385/385 [==============================] - 1s 2ms/step - loss: 0.4935 - accuracy: 0.8125\n",
      "Epoch 3/20\n",
      "385/385 [==============================] - 1s 1ms/step - loss: 0.2832 - accuracy: 0.9052\n",
      "Epoch 4/20\n",
      "385/385 [==============================] - 1s 1ms/step - loss: 0.1839 - accuracy: 0.9453\n",
      "Epoch 5/20\n",
      "385/385 [==============================] - 1s 1ms/step - loss: 0.1421 - accuracy: 0.9606\n",
      "Epoch 6/20\n",
      "385/385 [==============================] - 1s 1ms/step - loss: 0.0998 - accuracy: 0.9763\n",
      "Epoch 7/20\n",
      "385/385 [==============================] - 1s 1ms/step - loss: 0.0993 - accuracy: 0.9755\n",
      "Epoch 8/20\n",
      "385/385 [==============================] - 1s 1ms/step - loss: 0.0729 - accuracy: 0.9844\n",
      "Epoch 9/20\n",
      "385/385 [==============================] - 1s 1ms/step - loss: 0.0666 - accuracy: 0.9849\n",
      "Epoch 10/20\n",
      "385/385 [==============================] - 1s 1ms/step - loss: 0.0595 - accuracy: 0.9881\n",
      "Epoch 11/20\n",
      "385/385 [==============================] - 1s 1ms/step - loss: 0.0555 - accuracy: 0.9875\n",
      "Epoch 12/20\n",
      "385/385 [==============================] - 1s 1ms/step - loss: 0.0683 - accuracy: 0.9835\n",
      "Epoch 13/20\n",
      "385/385 [==============================] - 1s 1ms/step - loss: 0.0540 - accuracy: 0.9885\n",
      "Epoch 14/20\n",
      "385/385 [==============================] - 1s 1ms/step - loss: 0.0709 - accuracy: 0.9831\n",
      "Epoch 15/20\n",
      "385/385 [==============================] - 1s 1ms/step - loss: 0.0405 - accuracy: 0.9921\n",
      "Epoch 16/20\n",
      "385/385 [==============================] - 1s 2ms/step - loss: 0.0388 - accuracy: 0.9924\n",
      "Epoch 17/20\n",
      "385/385 [==============================] - 1s 2ms/step - loss: 0.0534 - accuracy: 0.9860\n",
      "Epoch 18/20\n",
      "385/385 [==============================] - 1s 1ms/step - loss: 0.0369 - accuracy: 0.9937\n",
      "Epoch 19/20\n",
      "385/385 [==============================] - 1s 2ms/step - loss: 0.0305 - accuracy: 0.9948\n",
      "Epoch 20/20\n",
      "385/385 [==============================] - 1s 2ms/step - loss: 0.0554 - accuracy: 0.9872\n"
     ]
    },
    {
     "data": {
      "text/plain": [
       "<tensorflow.python.keras.callbacks.History at 0x7f9099090a10>"
      ]
     },
     "execution_count": 13,
     "metadata": {},
     "output_type": "execute_result"
    }
   ],
   "source": [
    "model.compile(optimizer='adam',\n",
    "loss='sparse_categorical_crossentropy',\n",
    "metrics=['accuracy'])\n",
    "\n",
    "model.fit(x_train_reshaped, y_train, epochs=n_train_epochs)"
   ]
  },
  {
   "cell_type": "markdown",
   "metadata": {},
   "source": [
    "#### (4) 성능 확인"
   ]
  },
  {
   "cell_type": "code",
   "execution_count": 14,
   "metadata": {},
   "outputs": [
    {
     "name": "stdout",
     "output_type": "stream",
     "text": [
      "10/10 - 0s - loss: 0.0441 - accuracy: 0.9933\n",
      "test_loss: 0.044149335473775864 \n",
      "test_accuracy: 0.9933333396911621\n"
     ]
    }
   ],
   "source": [
    "test_loss, test_accuracy = model.evaluate(x_test_reshaped, y_test, verbose=2)\n",
    "print(\"test_loss: {} \".format(test_loss))\n",
    "print(\"test_accuracy: {}\".format(test_accuracy))"
   ]
  },
  {
   "cell_type": "markdown",
   "metadata": {},
   "source": [
    "### 5. Review"
   ]
  },
  {
   "cell_type": "markdown",
   "metadata": {},
   "source": [
    "이미지 분류기에 해당하는 \"가위바위보 분류기\"는 \"데이터 준비 $\\rightarrow$ 네트워크 설계 $\\rightarrow$ 네트워크 학습 $\\rightarrow$ 네트워크 평가 및 성능 개선\" 의 순서로 진행된다.  \n",
    "  \n",
    "분류기의 성능을 좌우하는 중요한 사항 중 하나는 데이터의 질이며 다양한 각도와 크기의 이미지 촬영이 요구된다.  \n",
    "  \n",
    "데이터는 학습데이터와 테스트데이터로 나뉘고, 그 비율은 학습데이터의 양을 충분히 크게 잡는 것이 분류기의 정확도를 높여준다.  \n",
    "대체로 \"학습데이터 : 테스트데이터 = 9 : 1 또는 8 : 2\"의 비율로 안배하는 것으로 보여진다.  \n",
    "테스트데이터는 성능평가에 대한 신뢰도를 높이기 위해 절대 학습데이터로 사용할 수 없으며, 테스트 후 예측과 성능개선을 통해 테스트의 정확도를 조정한다.  \n",
    "  \n",
    "본 보고서의 모델은 손글씨 분류기를 참고한 모델로써 `tf.keras`의 `Sequential API`를 이용한 `LeNet`이라는 딥러닝 네트워크 모델이며, 설계 테스트 결과와 성능 개선의 결과는 각각 아래와 같다.  \n",
    "  \n",
    "1. 테스트 결과  \n",
    "10/10 - 0s - loss: 0.0754 - accuracy: 0.9800  \n",
    "test_loss: 0.07536916434764862  \n",
    "test_accuracy: 0.9800000190734863  \n",
    "  \n",
    "  \n",
    "2. 성능개선 결과  \n",
    "10/10 - 0s - loss: 0.0441 - accuracy: 0.9933  \n",
    "test_loss: 0.044149335473775864  \n",
    "test_accuracy: 0.9933333396911621  \n",
    "    \n",
    "본인은 학습데이터의 수를 충분히 늘리기 위해 데이터를 확보하다 보니 본의 아니게 \"학습데이터 : 테스트데이터 = 41 : 1\" 의 비율로 설정되어, 예상보다 모델의 성능이 좋게 나왔다고 생각되어진다.  \n",
    "  \n",
    "이와 같은 확률실험과 최적화를 통한 모델의 설계에 있어서 비교적 통제 가능한 랜덤변수들(예를 들면, 데이터의 확보 및 수량 조절, 하이퍼파라미터 변수들)에 대한 연구나 범위의 조정이 필요하지 않을까 생각한다.  \n",
    "아직 이 분야에 대한 지식이 부족하여 위에 언급한 것이 가능한지는 모르겠으나, 가능하다 하더라도 굉장히 어려운 문제로 판단된다."
   ]
  }
 ],
 "metadata": {
  "kernelspec": {
   "display_name": "Python 3",
   "language": "python",
   "name": "python3"
  },
  "language_info": {
   "codemirror_mode": {
    "name": "ipython",
    "version": 3
   },
   "file_extension": ".py",
   "mimetype": "text/x-python",
   "name": "python",
   "nbconvert_exporter": "python",
   "pygments_lexer": "ipython3",
   "version": "3.7.9"
  }
 },
 "nbformat": 4,
 "nbformat_minor": 4
}
