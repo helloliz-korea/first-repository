{
 "cells": [
  {
   "cell_type": "markdown",
   "id": "outstanding-correspondence",
   "metadata": {},
   "source": [
    "# E8 - 프로젝트 - Movielens 영화 추천 실습"
   ]
  },
  {
   "cell_type": "markdown",
   "id": "forced-burke",
   "metadata": {},
   "source": [
    "## 실습환경 구성 : 작업 디렉토리 생성, 데이터셋 다운로드"
   ]
  },
  {
   "cell_type": "markdown",
   "id": "differential-shoulder",
   "metadata": {},
   "source": [
    "* 이전 스텝에서 배운 MF 모델 학습 방법을 토대로, 내가 좋아할 만한 영화 추천 시스템을 제작해 보겠습니다.  \n",
    "* 이번에 활용할 데이터셋은 추천시스템의 MNIST라고 부를만한 Movielens 데이터입니다.  \n",
    " - 유저가 영화에 대해 평점을 매긴 데이터가 데이터 크기 별로 있습니다. MovieLens 1M Dataset 사용을 권장합니다.  \n",
    " - 별점 데이터는 대표적인 explicit 데이터입니다. 하지만 implicit 데이터로 간주하고 테스트해볼 수 있습니다.  \n",
    " - 별점을 시청횟수로 해석해서 생각하겠습니다.  \n",
    " - 또한 유저가 3점 미만으로 준 데이터는 선호하지 않는다고 가정하고 제외하겠습니다.  \n",
    "  \n",
    "* MovieLens 1M Dataset 데이터셋의 경우는 크기가 작아서 아래와 같이 직접 다운 받고 압축해제 하겠습니다.  \n",
    "1) wget으로 데이터 다운로드  \n",
    "wget http://files.grouplens.org/datasets/movielens/ml-1m.zip  \n",
    "2) 다운받은 데이터를 작업디렉토리로 옮김  \n",
    "mv ml-1m.zip ~/aiffel/recommendata_iu/data  \n",
    "3) 작업디렉토리로 이동  \n",
    "cd ~/aiffel/recommendata_iu/data  \n",
    "4) 압축 해제  \n",
    "unzip ml-1m.zip"
   ]
  },
  {
   "cell_type": "markdown",
   "id": "nearby-least",
   "metadata": {},
   "source": [
    "## 데이터 준비와 전처리"
   ]
  },
  {
   "cell_type": "markdown",
   "id": "german-buffalo",
   "metadata": {},
   "source": [
    "* Movielens 데이터는 ratings.dat 안에 이미 인덱싱까지 완료된 사용자-영화-평점 데이터가 깔끔하게 정리되어 있습니다."
   ]
  },
  {
   "cell_type": "code",
   "execution_count": 1,
   "id": "experienced-covering",
   "metadata": {},
   "outputs": [
    {
     "data": {
      "text/html": [
       "<div>\n",
       "<style scoped>\n",
       "    .dataframe tbody tr th:only-of-type {\n",
       "        vertical-align: middle;\n",
       "    }\n",
       "\n",
       "    .dataframe tbody tr th {\n",
       "        vertical-align: top;\n",
       "    }\n",
       "\n",
       "    .dataframe thead th {\n",
       "        text-align: right;\n",
       "    }\n",
       "</style>\n",
       "<table border=\"1\" class=\"dataframe\">\n",
       "  <thead>\n",
       "    <tr style=\"text-align: right;\">\n",
       "      <th></th>\n",
       "      <th>user_id</th>\n",
       "      <th>movie_id</th>\n",
       "      <th>rating</th>\n",
       "      <th>timestamp</th>\n",
       "    </tr>\n",
       "  </thead>\n",
       "  <tbody>\n",
       "    <tr>\n",
       "      <th>0</th>\n",
       "      <td>1</td>\n",
       "      <td>1193</td>\n",
       "      <td>5</td>\n",
       "      <td>978300760</td>\n",
       "    </tr>\n",
       "    <tr>\n",
       "      <th>1</th>\n",
       "      <td>1</td>\n",
       "      <td>661</td>\n",
       "      <td>3</td>\n",
       "      <td>978302109</td>\n",
       "    </tr>\n",
       "    <tr>\n",
       "      <th>2</th>\n",
       "      <td>1</td>\n",
       "      <td>914</td>\n",
       "      <td>3</td>\n",
       "      <td>978301968</td>\n",
       "    </tr>\n",
       "    <tr>\n",
       "      <th>3</th>\n",
       "      <td>1</td>\n",
       "      <td>3408</td>\n",
       "      <td>4</td>\n",
       "      <td>978300275</td>\n",
       "    </tr>\n",
       "    <tr>\n",
       "      <th>4</th>\n",
       "      <td>1</td>\n",
       "      <td>2355</td>\n",
       "      <td>5</td>\n",
       "      <td>978824291</td>\n",
       "    </tr>\n",
       "  </tbody>\n",
       "</table>\n",
       "</div>"
      ],
      "text/plain": [
       "   user_id  movie_id  rating  timestamp\n",
       "0        1      1193       5  978300760\n",
       "1        1       661       3  978302109\n",
       "2        1       914       3  978301968\n",
       "3        1      3408       4  978300275\n",
       "4        1      2355       5  978824291"
      ]
     },
     "execution_count": 1,
     "metadata": {},
     "output_type": "execute_result"
    }
   ],
   "source": [
    "import pandas as pd\n",
    "import os\n",
    "\n",
    "# ratings 파일이 우리가 다룰 데이터 : 파일 경로 저장하고, ratings 목록의 각 행은 '사용자아이디/영화아이디/평점/타임스탬프'\n",
    "rating_file_path=os.getenv('HOME') + '/aiffel/recommendata_iu/data/ml-1m/ratings.dat'\n",
    "ratings_cols = ['user_id', 'movie_id', 'rating', 'timestamp']\n",
    "\n",
    "# ratings파일(데이터셋) 읽어오기\n",
    "ratings = pd.read_csv(rating_file_path, sep='::', names=ratings_cols, engine='python')\n",
    "orginal_data_size = len(ratings)\n",
    "ratings.head()"
   ]
  },
  {
   "cell_type": "code",
   "execution_count": 2,
   "id": "timely-attention",
   "metadata": {},
   "outputs": [
    {
     "name": "stdout",
     "output_type": "stream",
     "text": [
      "orginal_data_size: 1000209, filtered_data_size: 836478\n",
      "Ratio of Remaining Data is 83.63%\n"
     ]
    }
   ],
   "source": [
    "# 데이터셋에서 평점 3점 이상인 데이터만 남기기\n",
    "ratings = ratings[ratings['rating']>=3]\n",
    "filtered_data_size = len(ratings)\n",
    "\n",
    "# 원본 데이터 수, 평점 3점 이상인 데이터 수\n",
    "print(f'orginal_data_size: {orginal_data_size}, filtered_data_size: {filtered_data_size}')\n",
    "# 걸러진 후 남은 데이터 비율\n",
    "print(f'Ratio of Remaining Data is {filtered_data_size / orginal_data_size:.2%}')"
   ]
  },
  {
   "cell_type": "code",
   "execution_count": 3,
   "id": "considered-acoustic",
   "metadata": {},
   "outputs": [],
   "source": [
    "# rating 컬럼의 이름을 count로 바꾸기\n",
    "ratings.rename(columns={'rating':'count'}, inplace=True)"
   ]
  },
  {
   "cell_type": "code",
   "execution_count": 4,
   "id": "divided-heater",
   "metadata": {},
   "outputs": [
    {
     "data": {
      "text/plain": [
       "0          5\n",
       "1          3\n",
       "2          3\n",
       "3          4\n",
       "4          5\n",
       "          ..\n",
       "1000203    3\n",
       "1000205    5\n",
       "1000206    5\n",
       "1000207    4\n",
       "1000208    4\n",
       "Name: count, Length: 836478, dtype: int64"
      ]
     },
     "execution_count": 4,
     "metadata": {},
     "output_type": "execute_result"
    }
   ],
   "source": [
    "# 카운트 확인\n",
    "ratings['count']"
   ]
  },
  {
   "cell_type": "code",
   "execution_count": 5,
   "id": "leading-declaration",
   "metadata": {
    "scrolled": true
   },
   "outputs": [
    {
     "data": {
      "text/html": [
       "<div>\n",
       "<style scoped>\n",
       "    .dataframe tbody tr th:only-of-type {\n",
       "        vertical-align: middle;\n",
       "    }\n",
       "\n",
       "    .dataframe tbody tr th {\n",
       "        vertical-align: top;\n",
       "    }\n",
       "\n",
       "    .dataframe thead th {\n",
       "        text-align: right;\n",
       "    }\n",
       "</style>\n",
       "<table border=\"1\" class=\"dataframe\">\n",
       "  <thead>\n",
       "    <tr style=\"text-align: right;\">\n",
       "      <th></th>\n",
       "      <th>user_id</th>\n",
       "      <th>movie_id</th>\n",
       "      <th>count</th>\n",
       "    </tr>\n",
       "  </thead>\n",
       "  <tbody>\n",
       "    <tr>\n",
       "      <th>0</th>\n",
       "      <td>1</td>\n",
       "      <td>1193</td>\n",
       "      <td>5</td>\n",
       "    </tr>\n",
       "    <tr>\n",
       "      <th>1</th>\n",
       "      <td>1</td>\n",
       "      <td>661</td>\n",
       "      <td>3</td>\n",
       "    </tr>\n",
       "    <tr>\n",
       "      <th>2</th>\n",
       "      <td>1</td>\n",
       "      <td>914</td>\n",
       "      <td>3</td>\n",
       "    </tr>\n",
       "    <tr>\n",
       "      <th>3</th>\n",
       "      <td>1</td>\n",
       "      <td>3408</td>\n",
       "      <td>4</td>\n",
       "    </tr>\n",
       "    <tr>\n",
       "      <th>4</th>\n",
       "      <td>1</td>\n",
       "      <td>2355</td>\n",
       "      <td>5</td>\n",
       "    </tr>\n",
       "    <tr>\n",
       "      <th>5</th>\n",
       "      <td>1</td>\n",
       "      <td>1197</td>\n",
       "      <td>3</td>\n",
       "    </tr>\n",
       "    <tr>\n",
       "      <th>6</th>\n",
       "      <td>1</td>\n",
       "      <td>1287</td>\n",
       "      <td>5</td>\n",
       "    </tr>\n",
       "    <tr>\n",
       "      <th>7</th>\n",
       "      <td>1</td>\n",
       "      <td>2804</td>\n",
       "      <td>5</td>\n",
       "    </tr>\n",
       "    <tr>\n",
       "      <th>8</th>\n",
       "      <td>1</td>\n",
       "      <td>594</td>\n",
       "      <td>4</td>\n",
       "    </tr>\n",
       "    <tr>\n",
       "      <th>9</th>\n",
       "      <td>1</td>\n",
       "      <td>919</td>\n",
       "      <td>4</td>\n",
       "    </tr>\n",
       "  </tbody>\n",
       "</table>\n",
       "</div>"
      ],
      "text/plain": [
       "   user_id  movie_id  count\n",
       "0        1      1193      5\n",
       "1        1       661      3\n",
       "2        1       914      3\n",
       "3        1      3408      4\n",
       "4        1      2355      5\n",
       "5        1      1197      3\n",
       "6        1      1287      5\n",
       "7        1      2804      5\n",
       "8        1       594      4\n",
       "9        1       919      4"
      ]
     },
     "execution_count": 5,
     "metadata": {},
     "output_type": "execute_result"
    }
   ],
   "source": [
    "# 사용하는 컬럼만 남기고 `timestamp` 항목 제거\n",
    "\n",
    "using_cols = ['user_id', 'movie_id', 'count']\n",
    "ratings = ratings[using_cols]\n",
    "ratings.head(10)"
   ]
  },
  {
   "cell_type": "code",
   "execution_count": 6,
   "id": "fossil-personality",
   "metadata": {},
   "outputs": [
    {
     "data": {
      "text/html": [
       "<div>\n",
       "<style scoped>\n",
       "    .dataframe tbody tr th:only-of-type {\n",
       "        vertical-align: middle;\n",
       "    }\n",
       "\n",
       "    .dataframe tbody tr th {\n",
       "        vertical-align: top;\n",
       "    }\n",
       "\n",
       "    .dataframe thead th {\n",
       "        text-align: right;\n",
       "    }\n",
       "</style>\n",
       "<table border=\"1\" class=\"dataframe\">\n",
       "  <thead>\n",
       "    <tr style=\"text-align: right;\">\n",
       "      <th></th>\n",
       "      <th>movie_id</th>\n",
       "      <th>title</th>\n",
       "      <th>genre</th>\n",
       "    </tr>\n",
       "  </thead>\n",
       "  <tbody>\n",
       "    <tr>\n",
       "      <th>0</th>\n",
       "      <td>1</td>\n",
       "      <td>Toy Story (1995)</td>\n",
       "      <td>Animation|Children's|Comedy</td>\n",
       "    </tr>\n",
       "    <tr>\n",
       "      <th>1</th>\n",
       "      <td>2</td>\n",
       "      <td>Jumanji (1995)</td>\n",
       "      <td>Adventure|Children's|Fantasy</td>\n",
       "    </tr>\n",
       "    <tr>\n",
       "      <th>2</th>\n",
       "      <td>3</td>\n",
       "      <td>Grumpier Old Men (1995)</td>\n",
       "      <td>Comedy|Romance</td>\n",
       "    </tr>\n",
       "    <tr>\n",
       "      <th>3</th>\n",
       "      <td>4</td>\n",
       "      <td>Waiting to Exhale (1995)</td>\n",
       "      <td>Comedy|Drama</td>\n",
       "    </tr>\n",
       "    <tr>\n",
       "      <th>4</th>\n",
       "      <td>5</td>\n",
       "      <td>Father of the Bride Part II (1995)</td>\n",
       "      <td>Comedy</td>\n",
       "    </tr>\n",
       "  </tbody>\n",
       "</table>\n",
       "</div>"
      ],
      "text/plain": [
       "   movie_id                               title                         genre\n",
       "0         1                    Toy Story (1995)   Animation|Children's|Comedy\n",
       "1         2                      Jumanji (1995)  Adventure|Children's|Fantasy\n",
       "2         3             Grumpier Old Men (1995)                Comedy|Romance\n",
       "3         4            Waiting to Exhale (1995)                  Comedy|Drama\n",
       "4         5  Father of the Bride Part II (1995)                        Comedy"
      ]
     },
     "execution_count": 6,
     "metadata": {},
     "output_type": "execute_result"
    }
   ],
   "source": [
    "# 영화 제목을 보기 위해 메타 데이터를 읽어오기\n",
    "movie_file_path=os.getenv('HOME') + '/aiffel/recommendata_iu/data/ml-1m/movies.dat'\n",
    "cols = ['movie_id', 'title', 'genre'] \n",
    "movies = pd.read_csv(movie_file_path, sep='::', names=cols, engine='python',encoding='latin1')\n",
    "movies.head()"
   ]
  },
  {
   "cell_type": "markdown",
   "id": "double-crest",
   "metadata": {},
   "source": [
    "#검색을 쉽게하기 위해 영화제목(title) 문자열을 소문자로 바꿔주기  \n",
    "movies['title'] = movies['title'].str.lower()  \n",
    "  \n",
    "#검색을 쉽게하기 위해 장르(genre) 문자열을 소문자로 바꿔주기  \n",
    "movies['genre'] = movies['genre'].str.lower()  \n",
    "  \n",
    "movies.head(10)"
   ]
  },
  {
   "cell_type": "markdown",
   "id": "muslim-token",
   "metadata": {},
   "source": [
    "## 데이터 분석"
   ]
  },
  {
   "cell_type": "markdown",
   "id": "above-client",
   "metadata": {},
   "source": [
    "* ratings에 있는 유니크한 영화 개수  \n",
    "* ratings에 있는 유니크한 사용자 수  \n",
    "* 가장 인기 있는 영화 30개(인기순)"
   ]
  },
  {
   "cell_type": "code",
   "execution_count": 7,
   "id": "simple-organization",
   "metadata": {},
   "outputs": [
    {
     "data": {
      "text/plain": [
       "3628"
      ]
     },
     "execution_count": 7,
     "metadata": {},
     "output_type": "execute_result"
    }
   ],
   "source": [
    "# 영화 개수\n",
    "ratings['movie_id'].nunique()"
   ]
  },
  {
   "cell_type": "code",
   "execution_count": 8,
   "id": "curious-winning",
   "metadata": {},
   "outputs": [
    {
     "data": {
      "text/plain": [
       "6039"
      ]
     },
     "execution_count": 8,
     "metadata": {},
     "output_type": "execute_result"
    }
   ],
   "source": [
    "# 사용자 수\n",
    "ratings['user_id'].nunique()"
   ]
  },
  {
   "cell_type": "code",
   "execution_count": 9,
   "id": "nearby-study",
   "metadata": {
    "scrolled": true
   },
   "outputs": [
    {
     "data": {
      "text/plain": [
       "movie_id\n",
       "2858    3211\n",
       "260     2910\n",
       "1196    2885\n",
       "1210    2716\n",
       "2028    2561\n",
       "589     2509\n",
       "593     2498\n",
       "1198    2473\n",
       "1270    2460\n",
       "2571    2434\n",
       "480     2413\n",
       "2762    2385\n",
       "608     2371\n",
       "110     2314\n",
       "1580    2297\n",
       "527     2257\n",
       "1197    2252\n",
       "2396    2213\n",
       "1617    2210\n",
       "318     2194\n",
       "858     2167\n",
       "1265    2121\n",
       "1097    2102\n",
       "2997    2066\n",
       "2716    2051\n",
       "296     2030\n",
       "356     2022\n",
       "1240    2019\n",
       "1       2000\n",
       "457     1941\n",
       "Name: user_id, dtype: int64"
      ]
     },
     "execution_count": 9,
     "metadata": {},
     "output_type": "execute_result"
    }
   ],
   "source": [
    "# 인기 있는 영화 30개  \n",
    "movie_count = ratings.groupby('movie_id')['user_id'].count()\n",
    "movie_count.sort_values(ascending=False).head(30)"
   ]
  },
  {
   "cell_type": "code",
   "execution_count": 10,
   "id": "reliable-theta",
   "metadata": {},
   "outputs": [
    {
     "data": {
      "text/plain": [
       "count    6039.000000\n",
       "mean      138.512668\n",
       "std       156.241599\n",
       "min         1.000000\n",
       "25%        38.000000\n",
       "50%        81.000000\n",
       "75%       177.000000\n",
       "max      1968.000000\n",
       "Name: movie_id, dtype: float64"
      ]
     },
     "execution_count": 10,
     "metadata": {},
     "output_type": "execute_result"
    }
   ],
   "source": [
    "# 유저별 몇 편의 영화를 보는지에 대한 통계\n",
    "user_count = ratings.groupby('user_id')['movie_id'].count()\n",
    "user_count.describe()"
   ]
  },
  {
   "cell_type": "code",
   "execution_count": 11,
   "id": "powerful-exposure",
   "metadata": {},
   "outputs": [
    {
     "data": {
      "text/plain": [
       "count    6039.000000\n",
       "mean        4.055970\n",
       "std         0.432143\n",
       "min         3.000000\n",
       "25%         4.000000\n",
       "50%         4.000000\n",
       "75%         4.000000\n",
       "max         5.000000\n",
       "Name: count, dtype: float64"
      ]
     },
     "execution_count": 11,
     "metadata": {},
     "output_type": "execute_result"
    }
   ],
   "source": [
    "# 유저별 영화평점 중앙값에 대한 통계\n",
    "user_median = ratings.groupby('user_id')['count'].median()\n",
    "user_median.describe()"
   ]
  },
  {
   "cell_type": "markdown",
   "id": "looking-reduction",
   "metadata": {},
   "source": [
    "## 내가 선호하는 영화 5가지 골라서 rating에 추가"
   ]
  },
  {
   "cell_type": "markdown",
   "id": "dominican-thesis",
   "metadata": {},
   "source": [
    "* 우리는 본인의 음악 취향과 가장 유사한 아티스트를 추천받고 싶습니다. 유튜브 뮤직 등 추천시스템들은 이를 위해서 처음 가입하는 사용자의 취향과 유사한 아티스트 정보를 5개 이상 입력받는 과정을 거치게 하는 경우가 많습니다  \n",
    "* 우리도 동일한 과정이 필요합니다. 우리가 만든 추천시스템의 추후 검증 과정을 위해, '나는 A를 좋아한다.'라는 정보를 위 데이터셋에 5개 이상 추가해 주어야 합니다. 저는 아래와 같이 제가 좋아하는 유명한 아티스트들을 기존의 데이터에 추가해서 넣겠습니다."
   ]
  },
  {
   "cell_type": "code",
   "execution_count": 12,
   "id": "linear-bunny",
   "metadata": {
    "scrolled": false
   },
   "outputs": [
    {
     "data": {
      "text/html": [
       "<div>\n",
       "<style scoped>\n",
       "    .dataframe tbody tr th:only-of-type {\n",
       "        vertical-align: middle;\n",
       "    }\n",
       "\n",
       "    .dataframe tbody tr th {\n",
       "        vertical-align: top;\n",
       "    }\n",
       "\n",
       "    .dataframe thead th {\n",
       "        text-align: right;\n",
       "    }\n",
       "</style>\n",
       "<table border=\"1\" class=\"dataframe\">\n",
       "  <thead>\n",
       "    <tr style=\"text-align: right;\">\n",
       "      <th></th>\n",
       "      <th>user_id</th>\n",
       "      <th>movie_id</th>\n",
       "      <th>count</th>\n",
       "    </tr>\n",
       "  </thead>\n",
       "  <tbody>\n",
       "    <tr>\n",
       "      <th>1000203</th>\n",
       "      <td>6040</td>\n",
       "      <td>1090</td>\n",
       "      <td>3</td>\n",
       "    </tr>\n",
       "    <tr>\n",
       "      <th>1000205</th>\n",
       "      <td>6040</td>\n",
       "      <td>1094</td>\n",
       "      <td>5</td>\n",
       "    </tr>\n",
       "    <tr>\n",
       "      <th>1000206</th>\n",
       "      <td>6040</td>\n",
       "      <td>562</td>\n",
       "      <td>5</td>\n",
       "    </tr>\n",
       "    <tr>\n",
       "      <th>1000207</th>\n",
       "      <td>6040</td>\n",
       "      <td>1096</td>\n",
       "      <td>4</td>\n",
       "    </tr>\n",
       "    <tr>\n",
       "      <th>1000208</th>\n",
       "      <td>6040</td>\n",
       "      <td>1097</td>\n",
       "      <td>4</td>\n",
       "    </tr>\n",
       "    <tr>\n",
       "      <th>0</th>\n",
       "      <td>10</td>\n",
       "      <td>1</td>\n",
       "      <td>5</td>\n",
       "    </tr>\n",
       "    <tr>\n",
       "      <th>1</th>\n",
       "      <td>10</td>\n",
       "      <td>17</td>\n",
       "      <td>5</td>\n",
       "    </tr>\n",
       "    <tr>\n",
       "      <th>2</th>\n",
       "      <td>10</td>\n",
       "      <td>339</td>\n",
       "      <td>5</td>\n",
       "    </tr>\n",
       "    <tr>\n",
       "      <th>3</th>\n",
       "      <td>10</td>\n",
       "      <td>3831</td>\n",
       "      <td>5</td>\n",
       "    </tr>\n",
       "    <tr>\n",
       "      <th>4</th>\n",
       "      <td>10</td>\n",
       "      <td>2628</td>\n",
       "      <td>5</td>\n",
       "    </tr>\n",
       "  </tbody>\n",
       "</table>\n",
       "</div>"
      ],
      "text/plain": [
       "        user_id  movie_id  count\n",
       "1000203    6040      1090      3\n",
       "1000205    6040      1094      5\n",
       "1000206    6040       562      5\n",
       "1000207    6040      1096      4\n",
       "1000208    6040      1097      4\n",
       "0            10         1      5\n",
       "1            10        17      5\n",
       "2            10       339      5\n",
       "3            10      3831      5\n",
       "4            10      2628      5"
      ]
     },
     "execution_count": 12,
     "metadata": {},
     "output_type": "execute_result"
    }
   ],
   "source": [
    "# 본인이 좋아하시는 영화 데이터 추가 (단, 이름은 꼭 데이터셋에 있는 것과 동일하게 맞추기)\n",
    "my_favorite = ['Toy Story (1995)', 'Sense and Sensibility (1995)', 'While You Were Sleeping (1995)',\n",
    "               'Saving Grace (2000)', 'Star Wars: Episode I - The Phantom Menace (1999)']\n",
    "# 메타데이터를 통한 영화 제목별 아이디 확인\n",
    "my_fav_id = [1, 17, 339, 3831, 2628]\n",
    "\n",
    "# 10이라는 user_id가 위 영화를 평점 5 줬다고 가정\n",
    "my_movielist = pd.DataFrame({'user_id': ['10']*5, 'movie_id':my_fav_id,\n",
    "                             #'title':my_favorite,\n",
    "                             'count':[5]*5})\n",
    "\n",
    "if not ratings.isin({'user_id':['10']})['user_id'].any():  # user_id에 '10'이라는 데이터가 없다면\n",
    "    ratings = ratings.append(my_movielist)                  # 위에 임의로 만든 my_favorite 데이터를 추가해 줍니다. \n",
    "ratings.tail(10)     # 잘 추가되었는지 확인해 봅시다."
   ]
  },
  {
   "cell_type": "markdown",
   "id": "specific-thriller",
   "metadata": {},
   "source": [
    "## 모델에 활용하기 위한 전처리"
   ]
  },
  {
   "cell_type": "markdown",
   "id": "greek-lunch",
   "metadata": {},
   "source": [
    "* 사람이 태어나면 주민등록번호가, 학교에 가면 출석번호가 있듯이 데이터의 관리를 쉽게 하기 위해 번호를 붙여주고 싶습니다. 우리가 다루는 데이터에서는 user와 movie 각각에 번호를 붙이고 싶습니다. 보통 이런 작업을 indexing이라고 합니다. 추천시스템, 자연어처리에서 자주 하는 작업들이라 직접 해보시면 좋겠습니다.  \n",
    "  \n",
    "* (참고) pandas.DataFrame.unique()은 특정 컬럼에 포함된 유니크한 데이터만 모아 줍니다. indexing 작업을 위해 매우 유용합니다."
   ]
  },
  {
   "cell_type": "code",
   "execution_count": 13,
   "id": "fixed-relevance",
   "metadata": {},
   "outputs": [],
   "source": [
    "# 고유한 유저, 영화를 찾아내는 코드\n",
    "user_unique = ratings['user_id'].unique()\n",
    "movie_unique = ratings['movie_id'].unique()\n",
    "\n",
    "# 유저, 영화 indexing 하는 코드 idx는 index의 약자입니다.\n",
    "user_to_idx = {v:k for k,v in enumerate(user_unique)}\n",
    "movie_to_idx = {v:k for k,v in enumerate(movie_unique)}"
   ]
  },
  {
   "cell_type": "code",
   "execution_count": 14,
   "id": "acknowledged-revolution",
   "metadata": {},
   "outputs": [
    {
     "name": "stdout",
     "output_type": "stream",
     "text": [
      "6039\n",
      "579\n"
     ]
    }
   ],
   "source": [
    "# 인덱싱이 잘 되었는지 확인해 봅니다. \n",
    "print(user_to_idx['10'])    # 6040명의 유저 중 마지막으로 추가된 유저, 6039가 나와야 함  \n",
    "print(movie_to_idx[339])"
   ]
  },
  {
   "cell_type": "code",
   "execution_count": 15,
   "id": "japanese-syria",
   "metadata": {},
   "outputs": [
    {
     "name": "stdout",
     "output_type": "stream",
     "text": [
      "user_id column indexing OK!!\n",
      "movie column indexing OK!!\n"
     ]
    },
    {
     "data": {
      "text/html": [
       "<div>\n",
       "<style scoped>\n",
       "    .dataframe tbody tr th:only-of-type {\n",
       "        vertical-align: middle;\n",
       "    }\n",
       "\n",
       "    .dataframe tbody tr th {\n",
       "        vertical-align: top;\n",
       "    }\n",
       "\n",
       "    .dataframe thead th {\n",
       "        text-align: right;\n",
       "    }\n",
       "</style>\n",
       "<table border=\"1\" class=\"dataframe\">\n",
       "  <thead>\n",
       "    <tr style=\"text-align: right;\">\n",
       "      <th></th>\n",
       "      <th>user_id</th>\n",
       "      <th>movie_id</th>\n",
       "      <th>count</th>\n",
       "    </tr>\n",
       "  </thead>\n",
       "  <tbody>\n",
       "    <tr>\n",
       "      <th>0</th>\n",
       "      <td>0</td>\n",
       "      <td>0</td>\n",
       "      <td>5</td>\n",
       "    </tr>\n",
       "    <tr>\n",
       "      <th>1</th>\n",
       "      <td>0</td>\n",
       "      <td>1</td>\n",
       "      <td>3</td>\n",
       "    </tr>\n",
       "    <tr>\n",
       "      <th>2</th>\n",
       "      <td>0</td>\n",
       "      <td>2</td>\n",
       "      <td>3</td>\n",
       "    </tr>\n",
       "    <tr>\n",
       "      <th>3</th>\n",
       "      <td>0</td>\n",
       "      <td>3</td>\n",
       "      <td>4</td>\n",
       "    </tr>\n",
       "    <tr>\n",
       "      <th>4</th>\n",
       "      <td>0</td>\n",
       "      <td>4</td>\n",
       "      <td>5</td>\n",
       "    </tr>\n",
       "    <tr>\n",
       "      <th>...</th>\n",
       "      <td>...</td>\n",
       "      <td>...</td>\n",
       "      <td>...</td>\n",
       "    </tr>\n",
       "    <tr>\n",
       "      <th>0</th>\n",
       "      <td>6039</td>\n",
       "      <td>40</td>\n",
       "      <td>5</td>\n",
       "    </tr>\n",
       "    <tr>\n",
       "      <th>1</th>\n",
       "      <td>6039</td>\n",
       "      <td>357</td>\n",
       "      <td>5</td>\n",
       "    </tr>\n",
       "    <tr>\n",
       "      <th>2</th>\n",
       "      <td>6039</td>\n",
       "      <td>579</td>\n",
       "      <td>5</td>\n",
       "    </tr>\n",
       "    <tr>\n",
       "      <th>3</th>\n",
       "      <td>6039</td>\n",
       "      <td>1465</td>\n",
       "      <td>5</td>\n",
       "    </tr>\n",
       "    <tr>\n",
       "      <th>4</th>\n",
       "      <td>6039</td>\n",
       "      <td>60</td>\n",
       "      <td>5</td>\n",
       "    </tr>\n",
       "  </tbody>\n",
       "</table>\n",
       "<p>836483 rows × 3 columns</p>\n",
       "</div>"
      ],
      "text/plain": [
       "    user_id  movie_id  count\n",
       "0         0         0      5\n",
       "1         0         1      3\n",
       "2         0         2      3\n",
       "3         0         3      4\n",
       "4         0         4      5\n",
       "..      ...       ...    ...\n",
       "0      6039        40      5\n",
       "1      6039       357      5\n",
       "2      6039       579      5\n",
       "3      6039      1465      5\n",
       "4      6039        60      5\n",
       "\n",
       "[836483 rows x 3 columns]"
      ]
     },
     "execution_count": 15,
     "metadata": {},
     "output_type": "execute_result"
    }
   ],
   "source": [
    "# indexing을 통해 데이터 컬럼 내 값을 바꾸는 코드\n",
    "# dictionary 자료형의 get 함수는 https://wikidocs.net/16 을 참고하세요.\n",
    "\n",
    "# user_to_idx.get을 통해 user_id 컬럼의 모든 값을 인덱싱한 Series를 구해 봅시다. \n",
    "# 혹시 정상적으로 인덱싱되지 않은 row가 있다면 인덱스가 NaN이 될 테니 dropna()로 제거합니다. \n",
    "temp_user_data = ratings['user_id'].map(user_to_idx.get).dropna()\n",
    "if len(temp_user_data) == len(ratings):   # 모든 row가 정상적으로 인덱싱되었다면\n",
    "    print('user_id column indexing OK!!')\n",
    "    ratings['user_id'] = temp_user_data   # data['user_id']을 인덱싱된 Series로 교체해 줍니다. \n",
    "else:\n",
    "    print('user_id column indexing Fail!!')\n",
    "\n",
    "# movie_to_idx을 통해 movie_id 컬럼도 동일한 방식으로 인덱싱해 줍니다. \n",
    "temp_movie_data = ratings['movie_id'].map(movie_to_idx.get).dropna()\n",
    "if len(temp_movie_data) == len(ratings):\n",
    "    print('movie column indexing OK!!')\n",
    "    ratings['movie_id'] = temp_movie_data\n",
    "else:\n",
    "    print('movie_id column indexing Fail!!')\n",
    "\n",
    "ratings"
   ]
  },
  {
   "cell_type": "markdown",
   "id": "civic-kruger",
   "metadata": {},
   "source": [
    "* data의 user_id와 movie_id 컬럼 내 값들이 모두 정수 인덱스 값으로 잘 변경되었나요? 이것으로 훈련을 위한 전처리가 완료!!"
   ]
  },
  {
   "cell_type": "markdown",
   "id": "sustainable-stations",
   "metadata": {},
   "source": [
    "## 사용자의 명시적/암묵적 평가"
   ]
  },
  {
   "cell_type": "code",
   "execution_count": 16,
   "id": "wicked-phenomenon",
   "metadata": {},
   "outputs": [
    {
     "name": "stdout",
     "output_type": "stream",
     "text": [
      "261197,836483\n",
      "Ratio of only_one over all data is 31.23%\n"
     ]
    }
   ],
   "source": [
    "# 평점 3이하인 데이터의 비율을 보는 코드\n",
    "only_one = ratings[ratings['count']<4]\n",
    "one, all_ratings = len(only_one), len(ratings)\n",
    "print(f'{one},{all_ratings}')\n",
    "print(f'Ratio of only_one over all data is {one/all_ratings:.2%}')  # f-format에 대한 설명은 https://bit.ly/2DTLqYU"
   ]
  },
  {
   "cell_type": "markdown",
   "id": "finnish-lithuania",
   "metadata": {},
   "source": [
    "* 우리가 앞으로 만들어갈 모델에서는 암묵적 데이터의 해석을 위해 다음과 같은 규칙을 적용할 것입니다.  \n",
    "  \n",
    " - 평점 4 이상이면 선호한다고 판단한다.  \n",
    " - 평점 높은 영화에 대해 가중치를 주어서 더 확실히 좋아한다고 판단한다."
   ]
  },
  {
   "cell_type": "markdown",
   "id": "exterior-garage",
   "metadata": {},
   "source": [
    "## CSR(Compressed Sparse Row) Matrix"
   ]
  },
  {
   "cell_type": "markdown",
   "id": "operating-circuit",
   "metadata": {},
   "source": [
    "* 이제 우리의 data를 CSR Matrix에 맞게 바꿔보겠습니다.  \n",
    "* DataFrame을 만드는 방식이 다양하듯 csr_matrix를 만드는 방법은 다양하게 있습니다.  \n",
    "* 현재 data와 같은 데이터 구조에 적합한 방식은 위 링크에서 4번째로 설명하고 있는 방법입니다.  \n",
    "  \n",
    "* https://docs.scipy.org/doc/scipy/reference/generated/scipy.sparse.csr_matrix.html  \n",
    "* 링크의 네 번째 방법 이용할 것임"
   ]
  },
  {
   "cell_type": "code",
   "execution_count": 17,
   "id": "reported-genesis",
   "metadata": {
    "scrolled": true
   },
   "outputs": [
    {
     "name": "stdout",
     "output_type": "stream",
     "text": [
      "0    5\n",
      "1    3\n",
      "2    3\n",
      "3    4\n",
      "4    5\n",
      "    ..\n",
      "0    5\n",
      "1    5\n",
      "2    5\n",
      "3    5\n",
      "4    5\n",
      "Name: count, Length: 836483, dtype: int64\n"
     ]
    }
   ],
   "source": [
    "print(ratings['count'])"
   ]
  },
  {
   "cell_type": "code",
   "execution_count": 18,
   "id": "mental-communication",
   "metadata": {
    "scrolled": true
   },
   "outputs": [
    {
     "data": {
      "text/plain": [
       "<6040x3628 sparse matrix of type '<class 'numpy.longlong'>'\n",
       "\twith 836483 stored elements in Compressed Sparse Row format>"
      ]
     },
     "execution_count": 18,
     "metadata": {},
     "output_type": "execute_result"
    }
   ],
   "source": [
    "# 실습 위에 설명보고 이해해서 만들어보기\n",
    "from scipy.sparse import csr_matrix\n",
    "\n",
    "num_user = ratings['user_id'].nunique()\n",
    "num_movie = ratings['movie_id'].nunique()\n",
    "\n",
    "csr_data = csr_matrix((ratings['count'], (ratings.user_id, ratings.movie_id)), shape= (num_user, num_movie))\n",
    "csr_data"
   ]
  },
  {
   "cell_type": "markdown",
   "id": "unlikely-terror",
   "metadata": {},
   "source": [
    "## als_model = AlternatingLeastSquares 모델을 직접 구성하여 훈련"
   ]
  },
  {
   "cell_type": "markdown",
   "id": "august-employee",
   "metadata": {},
   "source": [
    "* 이전 스텝에서 설명한 Matrix Factorization 모델을 implicit 패키지를 사용하여 학습해 봅시다.   \n",
    "  \n",
    " - implicit 패키지는 이전 스텝에서 설명한 암묵적(implicit) dataset을 사용하는 다양한 모델을 굉장히 빠르게 학습할 수 있는 패키지입니다.  \n",
    " - 이 패키지에 구현된 als(AlternatingLeastSquares) 모델을 사용하겠습니다. Matrix Factorization에서 쪼개진 두 Feature Matrix를 한꺼번에 훈련하는 것은 잘 수렴하지 않기 때문에, 한쪽을 고정시키고 다른 쪽을 학습하는 방식을 번갈아 수행하는 AlternatingLeastSquares 방식이 효과적인 것으로 알려져 있습니다.  \n",
    " - https://github.com/benfred/implicit"
   ]
  },
  {
   "cell_type": "code",
   "execution_count": 19,
   "id": "vocational-television",
   "metadata": {},
   "outputs": [],
   "source": [
    "from implicit.als import AlternatingLeastSquares\n",
    "import os\n",
    "import numpy as np\n",
    "\n",
    "# implicit 라이브러리에서 권장하고 있는 부분입니다. 학습 내용과는 무관합니다.\n",
    "os.environ['OPENBLAS_NUM_THREADS']='1'\n",
    "os.environ['KMP_DUPLICATE_LIB_OK']='True'\n",
    "os.environ['MKL_NUM_THREADS']='1'"
   ]
  },
  {
   "cell_type": "markdown",
   "id": "municipal-england",
   "metadata": {},
   "source": [
    "* AlternatingLeastSquares 클래스의 __init__ 파라미터를 살펴보겠습니다. 1. factors : 유저와 아이템의 벡터를 몇 차원으로 할 것인지 2. regularization : 과적합을 방지하기 위해 정규화 값을 얼마나 사용할 것인지 3. use_gpu : GPU를 사용할 것인지 4. iterations : epochs와 같은 의미입니다. 데이터를 몇 번 반복해서 학습할 것인지  \n",
    "  \n",
    "* 1,4를 늘릴수록 학습데이터를 잘 학습하게 되지만 과적합의 우려가 있으니 좋은 값을 찾아야 합니다."
   ]
  },
  {
   "cell_type": "code",
   "execution_count": 20,
   "id": "emerging-absence",
   "metadata": {},
   "outputs": [],
   "source": [
    "# Implicit AlternatingLeastSquares 모델의 선언\n",
    "\n",
    "als_model = AlternatingLeastSquares(factors=100, regularization=0.01, use_gpu=False, iterations=15, dtype=np.float32)"
   ]
  },
  {
   "cell_type": "code",
   "execution_count": 21,
   "id": "wired-access",
   "metadata": {},
   "outputs": [
    {
     "data": {
      "text/plain": [
       "<3628x6040 sparse matrix of type '<class 'numpy.longlong'>'\n",
       "\twith 836483 stored elements in Compressed Sparse Column format>"
      ]
     },
     "execution_count": 21,
     "metadata": {},
     "output_type": "execute_result"
    }
   ],
   "source": [
    "# als 모델은 input으로 (item X user 꼴의 matrix를 받기 때문에 Transpose해줍니다.)\n",
    "csr_data_transpose = csr_data.T\n",
    "csr_data_transpose"
   ]
  },
  {
   "cell_type": "code",
   "execution_count": 22,
   "id": "certain-elements",
   "metadata": {},
   "outputs": [
    {
     "data": {
      "application/vnd.jupyter.widget-view+json": {
       "model_id": "9deafb6454d7418f9a51ca9d43d93413",
       "version_major": 2,
       "version_minor": 0
      },
      "text/plain": [
       "  0%|          | 0/15 [00:00<?, ?it/s]"
      ]
     },
     "metadata": {},
     "output_type": "display_data"
    }
   ],
   "source": [
    "# 모델 훈련\n",
    "als_model.fit(csr_data_transpose)"
   ]
  },
  {
   "cell_type": "code",
   "execution_count": 23,
   "id": "graphic-revelation",
   "metadata": {},
   "outputs": [
    {
     "name": "stdout",
     "output_type": "stream",
     "text": [
      "슝=3\n"
     ]
    }
   ],
   "source": [
    "# 모델이 1)나의 벡터와 영화 saving grace 벡터를 어떻게 만들고 있는지와 2)두 벡터를 곱하면 어떤 값이 나오는지 살펴보기\n",
    "# 339 = 'Saving Grace (2000)'\n",
    "ten, grace = user_to_idx['10'], movie_to_idx[339]\n",
    "ten_vector, grace_vector = als_model.user_factors[10], als_model.item_factors[339]\n",
    "\n",
    "print('슝=3')"
   ]
  },
  {
   "cell_type": "code",
   "execution_count": 24,
   "id": "above-fireplace",
   "metadata": {},
   "outputs": [
    {
     "data": {
      "text/plain": [
       "array([ 1.1314503e+00,  1.0161070e+00, -1.9969987e+00, -5.8515835e-01,\n",
       "        4.6022072e-01, -2.1458943e+00,  3.7225851e-01,  2.4758930e+00,\n",
       "        2.1071386e+00,  3.4331575e-01,  6.5261686e-01,  3.4106007e-01,\n",
       "        1.2347453e+00,  1.7085338e-01, -9.8708385e-01, -1.9961222e+00,\n",
       "       -8.8191766e-01, -1.1113684e+00, -2.0757337e+00, -7.5449985e-01,\n",
       "        1.4942832e+00, -8.5799986e-01,  8.1136709e-01, -1.4797254e+00,\n",
       "        8.7067795e-01,  1.3616508e+00, -8.4276700e-01, -1.6491804e+00,\n",
       "       -9.9610579e-01,  8.1639856e-01,  2.9036472e+00,  2.1148078e+00,\n",
       "       -2.2510222e-01,  2.2427154e+00,  5.8783251e-01, -2.9964580e-03,\n",
       "       -1.3371786e-01,  1.5724549e+00,  4.9850170e-02, -3.3281386e+00,\n",
       "        6.0554785e-01,  1.4568771e+00,  3.2939596e+00,  1.5398943e-01,\n",
       "        3.1636569e+00, -6.1188799e-01, -1.1386099e+00, -6.6071129e-01,\n",
       "       -1.9519523e+00, -5.3980511e-01, -3.3430165e-01, -8.1785995e-01,\n",
       "        1.8323581e+00, -2.0226228e+00,  8.9698231e-01,  1.6134181e+00,\n",
       "        1.0048532e+00,  4.8292482e-01,  5.8886516e-01,  1.3570066e-01,\n",
       "        1.1826775e+00,  8.6004591e-01,  3.1999107e-02,  1.4992346e+00,\n",
       "       -2.9605821e-01, -1.2440894e+00,  3.3504007e+00, -1.3203634e+00,\n",
       "       -7.1899188e-01,  3.3827418e-01,  1.1627551e+00, -1.2446642e+00,\n",
       "        1.4452251e+00, -1.3042897e+00,  1.5356386e+00,  2.8569589e+00,\n",
       "        2.4972491e+00,  6.9949549e-01, -2.8276138e+00,  1.6110907e-01,\n",
       "       -2.4343190e+00,  2.8482039e+00,  3.5867665e+00,  3.2530674e-01,\n",
       "       -3.8979229e-01,  3.5745435e+00,  2.8236261e-01,  6.4045048e-01,\n",
       "        4.6939769e-01, -1.2229487e+00,  1.5675670e+00,  3.4888651e+00,\n",
       "       -2.2402322e+00, -3.4064841e+00,  2.1999797e-01, -1.7450579e-01,\n",
       "       -3.1196964e+00, -9.7830492e-01, -1.4419062e+00,  9.8810576e-02],\n",
       "      dtype=float32)"
      ]
     },
     "execution_count": 24,
     "metadata": {},
     "output_type": "execute_result"
    }
   ],
   "source": [
    "ten_vector"
   ]
  },
  {
   "cell_type": "code",
   "execution_count": 25,
   "id": "handmade-census",
   "metadata": {},
   "outputs": [
    {
     "data": {
      "text/plain": [
       "array([ 3.0338038e-03,  2.5449935e-02, -5.7756918e-04, -3.3490423e-03,\n",
       "        9.9686896e-03, -7.8189932e-03,  1.5594130e-03,  8.3303507e-03,\n",
       "       -2.6470751e-03,  9.4335536e-03, -7.5287898e-03,  2.7508590e-02,\n",
       "        7.3310719e-03,  4.1093007e-03,  7.7719842e-03, -1.2534331e-02,\n",
       "       -4.3188709e-05,  1.4656028e-02,  1.2512393e-02, -9.1429253e-04,\n",
       "        1.1286219e-02, -3.1928492e-03, -7.2982704e-04, -5.8874553e-03,\n",
       "       -6.3298238e-03,  4.2037450e-02, -6.0970355e-03,  1.4224713e-02,\n",
       "        1.0486973e-02, -1.2694990e-02,  1.6633805e-02,  1.5170000e-02,\n",
       "        1.2730195e-02, -2.2375241e-03,  4.1367169e-03,  9.1444058e-03,\n",
       "        3.6429556e-03,  1.1484757e-02,  3.0660743e-02,  8.6942557e-03,\n",
       "        9.9988598e-03,  2.8726803e-02,  3.8546398e-03, -1.9448854e-03,\n",
       "        4.5194590e-04,  9.3369298e-03,  1.2636320e-02,  2.4388796e-02,\n",
       "        1.7049735e-02,  9.5349550e-03, -2.6522882e-02,  4.5482735e-03,\n",
       "       -5.7935594e-03,  1.1460101e-02,  7.7746431e-03, -6.3671456e-03,\n",
       "       -1.0875604e-02,  1.4590224e-03,  8.4456801e-03,  3.1571051e-03,\n",
       "        2.4466682e-02,  6.5908005e-04,  6.9477246e-03, -2.5332807e-02,\n",
       "        2.8225083e-03,  1.5383178e-02, -2.9124953e-03,  1.1910145e-03,\n",
       "        1.3768616e-02,  5.7221954e-03,  1.5991062e-02,  1.5525048e-02,\n",
       "        2.6072873e-02, -9.2310123e-03, -2.0719357e-03, -8.1680138e-03,\n",
       "        1.9866688e-02,  1.8728787e-02, -5.5033518e-03,  3.8851681e-03,\n",
       "       -8.6226836e-03, -4.6728048e-03, -1.7204670e-02, -7.6596332e-03,\n",
       "       -1.2148678e-02,  1.0006286e-02,  7.4761859e-03,  1.7042783e-03,\n",
       "        1.8894372e-03, -5.2311458e-03,  3.1302080e-03, -3.9207996e-04,\n",
       "       -9.1448624e-04,  1.3688079e-02,  2.3940962e-02,  2.2841202e-02,\n",
       "       -1.1553956e-04,  2.0327412e-02, -2.9248642e-03,  9.1003953e-03],\n",
       "      dtype=float32)"
      ]
     },
     "execution_count": 25,
     "metadata": {},
     "output_type": "execute_result"
    }
   ],
   "source": [
    "grace_vector"
   ]
  },
  {
   "cell_type": "code",
   "execution_count": 26,
   "id": "maritime-zambia",
   "metadata": {},
   "outputs": [
    {
     "data": {
      "text/plain": [
       "0.11253947"
      ]
     },
     "execution_count": 26,
     "metadata": {},
     "output_type": "execute_result"
    }
   ],
   "source": [
    "# ten과 grace를 내적하는 코드\n",
    "np.dot(ten_vector, grace_vector)"
   ]
  },
  {
   "cell_type": "code",
   "execution_count": 27,
   "id": "south-secretary",
   "metadata": {},
   "outputs": [
    {
     "data": {
      "text/plain": [
       "0.26872516"
      ]
     },
     "execution_count": 27,
     "metadata": {},
     "output_type": "execute_result"
    }
   ],
   "source": [
    "# 모델이 나의 '356::Forrest Gump (1994)::Comedy|Romance|War'에 대한 선호도를 어떻게 예측할지 한 번 보겠습니다\n",
    "\n",
    "forrest = movie_to_idx[356]\n",
    "forrest_vector = als_model.item_factors[356]\n",
    "np.dot(ten_vector, forrest_vector)"
   ]
  },
  {
   "cell_type": "markdown",
   "id": "utility-grade",
   "metadata": {},
   "source": [
    "## 비슷한 아티스트 찾기 + 유저에게 추천하기"
   ]
  },
  {
   "cell_type": "markdown",
   "id": "proved-gnome",
   "metadata": {},
   "source": [
    "### 비슷한 아티스트 찾기"
   ]
  },
  {
   "cell_type": "code",
   "execution_count": 28,
   "id": "incomplete-bunny",
   "metadata": {},
   "outputs": [
    {
     "data": {
      "text/plain": [
       "[(40, 1.0),\n",
       " (50, 0.8120418),\n",
       " (4, 0.6002671),\n",
       " (322, 0.5919847),\n",
       " (33, 0.5816359),\n",
       " (110, 0.5703447),\n",
       " (330, 0.46708557),\n",
       " (20, 0.45447257),\n",
       " (255, 0.43235815),\n",
       " (10, 0.4315646),\n",
       " (34, 0.39919424),\n",
       " (16, 0.38869423),\n",
       " (126, 0.38753217),\n",
       " (32, 0.3716275),\n",
       " (160, 0.35738182)]"
      ]
     },
     "execution_count": 28,
     "metadata": {},
     "output_type": "execute_result"
    }
   ],
   "source": [
    "# AlternatingLeastSquares 클래스에 구현되어 있는 similar_items 메서드를 통하여 선호하는 영화를 찾습니다. \n",
    "# 처음으로는 제가 좋아하는 '1::Toy Story (1995)::Animation|Children's|Comedy'로 찾아보겠습니다.\n",
    "\n",
    "favorite_movie = 'Toy Story (1995)'\n",
    "fav_movie_id = 1\n",
    "movie_id = movie_to_idx[fav_movie_id]\n",
    "similar_movie = als_model.similar_items(movie_id, N=15)\n",
    "similar_movie\n",
    "\n",
    "# (movie id, 유사도) Tuple 로 반환하고 있습니다."
   ]
  },
  {
   "cell_type": "code",
   "execution_count": 29,
   "id": "governing-monday",
   "metadata": {
    "scrolled": true
   },
   "outputs": [
    {
     "data": {
      "text/plain": [
       "[1,\n",
       " 3114,\n",
       " 2355,\n",
       " 34,\n",
       " 588,\n",
       " 1265,\n",
       " 364,\n",
       " 2321,\n",
       " 1923,\n",
       " 595,\n",
       " 1907,\n",
       " 2687,\n",
       " 2396,\n",
       " 1566,\n",
       " 356]"
      ]
     },
     "execution_count": 29,
     "metadata": {},
     "output_type": "execute_result"
    }
   ],
   "source": [
    "# movie idx를 다시 movie_id로 매핑 시키기\n",
    "# movie_to_idx 를 뒤집어, index로부터 movie_id를 얻는 dict를 생성합니다. \n",
    "\n",
    "idx_to_movie = {v:k for k,v in movie_to_idx.items()}\n",
    "[idx_to_movie[i[0]] for i in similar_movie]"
   ]
  },
  {
   "cell_type": "code",
   "execution_count": 30,
   "id": "infinite-arrangement",
   "metadata": {
    "scrolled": true
   },
   "outputs": [
    {
     "data": {
      "text/html": [
       "<div>\n",
       "<style scoped>\n",
       "    .dataframe tbody tr th:only-of-type {\n",
       "        vertical-align: middle;\n",
       "    }\n",
       "\n",
       "    .dataframe tbody tr th {\n",
       "        vertical-align: top;\n",
       "    }\n",
       "\n",
       "    .dataframe thead th {\n",
       "        text-align: right;\n",
       "    }\n",
       "</style>\n",
       "<table border=\"1\" class=\"dataframe\">\n",
       "  <thead>\n",
       "    <tr style=\"text-align: right;\">\n",
       "      <th></th>\n",
       "      <th>movie_id</th>\n",
       "      <th>title</th>\n",
       "      <th>genre</th>\n",
       "    </tr>\n",
       "  </thead>\n",
       "  <tbody>\n",
       "    <tr>\n",
       "      <th>1</th>\n",
       "      <td>2</td>\n",
       "      <td>Jumanji (1995)</td>\n",
       "      <td>Adventure|Children's|Fantasy</td>\n",
       "    </tr>\n",
       "    <tr>\n",
       "      <th>3114</th>\n",
       "      <td>3183</td>\n",
       "      <td>Third Miracle, The (1999)</td>\n",
       "      <td>Drama</td>\n",
       "    </tr>\n",
       "    <tr>\n",
       "      <th>2355</th>\n",
       "      <td>2424</td>\n",
       "      <td>You've Got Mail (1998)</td>\n",
       "      <td>Comedy|Romance</td>\n",
       "    </tr>\n",
       "    <tr>\n",
       "      <th>34</th>\n",
       "      <td>35</td>\n",
       "      <td>Carrington (1995)</td>\n",
       "      <td>Drama|Romance</td>\n",
       "    </tr>\n",
       "    <tr>\n",
       "      <th>588</th>\n",
       "      <td>592</td>\n",
       "      <td>Batman (1989)</td>\n",
       "      <td>Action|Adventure|Crime|Drama</td>\n",
       "    </tr>\n",
       "    <tr>\n",
       "      <th>1265</th>\n",
       "      <td>1285</td>\n",
       "      <td>Heathers (1989)</td>\n",
       "      <td>Comedy</td>\n",
       "    </tr>\n",
       "    <tr>\n",
       "      <th>364</th>\n",
       "      <td>368</td>\n",
       "      <td>Maverick (1994)</td>\n",
       "      <td>Action|Comedy|Western</td>\n",
       "    </tr>\n",
       "    <tr>\n",
       "      <th>2321</th>\n",
       "      <td>2390</td>\n",
       "      <td>Little Voice (1998)</td>\n",
       "      <td>Comedy</td>\n",
       "    </tr>\n",
       "    <tr>\n",
       "      <th>1923</th>\n",
       "      <td>1992</td>\n",
       "      <td>Child's Play 2 (1990)</td>\n",
       "      <td>Horror</td>\n",
       "    </tr>\n",
       "    <tr>\n",
       "      <th>595</th>\n",
       "      <td>599</td>\n",
       "      <td>Wild Bunch, The (1969)</td>\n",
       "      <td>Western</td>\n",
       "    </tr>\n",
       "    <tr>\n",
       "      <th>1907</th>\n",
       "      <td>1976</td>\n",
       "      <td>Friday the 13th Part 3: 3D (1982)</td>\n",
       "      <td>Horror</td>\n",
       "    </tr>\n",
       "    <tr>\n",
       "      <th>2687</th>\n",
       "      <td>2756</td>\n",
       "      <td>Wanted: Dead or Alive (1987)</td>\n",
       "      <td>Action</td>\n",
       "    </tr>\n",
       "    <tr>\n",
       "      <th>2396</th>\n",
       "      <td>2465</td>\n",
       "      <td>Deadly Friend (1986)</td>\n",
       "      <td>Horror</td>\n",
       "    </tr>\n",
       "    <tr>\n",
       "      <th>1566</th>\n",
       "      <td>1608</td>\n",
       "      <td>Air Force One (1997)</td>\n",
       "      <td>Action|Thriller</td>\n",
       "    </tr>\n",
       "    <tr>\n",
       "      <th>356</th>\n",
       "      <td>360</td>\n",
       "      <td>I Love Trouble (1994)</td>\n",
       "      <td>Action|Comedy</td>\n",
       "    </tr>\n",
       "  </tbody>\n",
       "</table>\n",
       "</div>"
      ],
      "text/plain": [
       "      movie_id                              title  \\\n",
       "1            2                     Jumanji (1995)   \n",
       "3114      3183          Third Miracle, The (1999)   \n",
       "2355      2424             You've Got Mail (1998)   \n",
       "34          35                  Carrington (1995)   \n",
       "588        592                      Batman (1989)   \n",
       "1265      1285                    Heathers (1989)   \n",
       "364        368                    Maverick (1994)   \n",
       "2321      2390                Little Voice (1998)   \n",
       "1923      1992              Child's Play 2 (1990)   \n",
       "595        599             Wild Bunch, The (1969)   \n",
       "1907      1976  Friday the 13th Part 3: 3D (1982)   \n",
       "2687      2756       Wanted: Dead or Alive (1987)   \n",
       "2396      2465               Deadly Friend (1986)   \n",
       "1566      1608               Air Force One (1997)   \n",
       "356        360              I Love Trouble (1994)   \n",
       "\n",
       "                             genre  \n",
       "1     Adventure|Children's|Fantasy  \n",
       "3114                         Drama  \n",
       "2355                Comedy|Romance  \n",
       "34                   Drama|Romance  \n",
       "588   Action|Adventure|Crime|Drama  \n",
       "1265                        Comedy  \n",
       "364          Action|Comedy|Western  \n",
       "2321                        Comedy  \n",
       "1923                        Horror  \n",
       "595                        Western  \n",
       "1907                        Horror  \n",
       "2687                        Action  \n",
       "2396                        Horror  \n",
       "1566               Action|Thriller  \n",
       "356                  Action|Comedy  "
      ]
     },
     "execution_count": 30,
     "metadata": {},
     "output_type": "execute_result"
    }
   ],
   "source": [
    "# movies.dat 파일에서 영화아이디로 제목 불러오기  \n",
    "sim_movie_id = [idx_to_movie[i[0]] for i in similar_movie]\n",
    "sim_movie_title = movies.loc[sim_movie_id, :]\n",
    "sim_movie_title.head(15)"
   ]
  },
  {
   "cell_type": "code",
   "execution_count": 31,
   "id": "considerable-foundation",
   "metadata": {},
   "outputs": [
    {
     "name": "stdout",
     "output_type": "stream",
     "text": [
      "슝=3\n"
     ]
    }
   ],
   "source": [
    "# 몇 번 더 반복해서 확인하기 위해 위의 코드를 함수로 만들고 확인해보겠습니다.\n",
    "\n",
    "def get_similar_movie(movie_id: int):\n",
    "    movie_idx = movie_to_idx[movie_id]\n",
    "    similar_movie = als_model.similar_items(movie_idx)\n",
    "    similar_movie = [idx_to_movie[i[0]] for i in similar_movie]\n",
    "    return similar_movie\n",
    "\n",
    "print(\"슝=3\")"
   ]
  },
  {
   "cell_type": "code",
   "execution_count": 32,
   "id": "decreased-beach",
   "metadata": {},
   "outputs": [
    {
     "data": {
      "text/html": [
       "<div>\n",
       "<style scoped>\n",
       "    .dataframe tbody tr th:only-of-type {\n",
       "        vertical-align: middle;\n",
       "    }\n",
       "\n",
       "    .dataframe tbody tr th {\n",
       "        vertical-align: top;\n",
       "    }\n",
       "\n",
       "    .dataframe thead th {\n",
       "        text-align: right;\n",
       "    }\n",
       "</style>\n",
       "<table border=\"1\" class=\"dataframe\">\n",
       "  <thead>\n",
       "    <tr style=\"text-align: right;\">\n",
       "      <th></th>\n",
       "      <th>movie_id</th>\n",
       "      <th>title</th>\n",
       "      <th>genre</th>\n",
       "    </tr>\n",
       "  </thead>\n",
       "  <tbody>\n",
       "    <tr>\n",
       "      <th>1580</th>\n",
       "      <td>1623</td>\n",
       "      <td>Wishmaster (1997)</td>\n",
       "      <td>Horror</td>\n",
       "    </tr>\n",
       "    <tr>\n",
       "      <th>480</th>\n",
       "      <td>484</td>\n",
       "      <td>Lassie (1994)</td>\n",
       "      <td>Adventure|Children's</td>\n",
       "    </tr>\n",
       "    <tr>\n",
       "      <th>589</th>\n",
       "      <td>593</td>\n",
       "      <td>Silence of the Lambs, The (1991)</td>\n",
       "      <td>Drama|Thriller</td>\n",
       "    </tr>\n",
       "    <tr>\n",
       "      <th>2916</th>\n",
       "      <td>2985</td>\n",
       "      <td>Robocop (1987)</td>\n",
       "      <td>Action|Crime|Sci-Fi</td>\n",
       "    </tr>\n",
       "    <tr>\n",
       "      <th>780</th>\n",
       "      <td>790</td>\n",
       "      <td>An Unforgettable Summer (1994)</td>\n",
       "      <td>Drama</td>\n",
       "    </tr>\n",
       "    <tr>\n",
       "      <th>2571</th>\n",
       "      <td>2640</td>\n",
       "      <td>Superman (1978)</td>\n",
       "      <td>Action|Adventure|Sci-Fi</td>\n",
       "    </tr>\n",
       "    <tr>\n",
       "      <th>1527</th>\n",
       "      <td>1567</td>\n",
       "      <td>Last Time I Committed Suicide, The (1997)</td>\n",
       "      <td>Drama</td>\n",
       "    </tr>\n",
       "    <tr>\n",
       "      <th>1544</th>\n",
       "      <td>1585</td>\n",
       "      <td>Love Serenade (1996)</td>\n",
       "      <td>Comedy</td>\n",
       "    </tr>\n",
       "    <tr>\n",
       "      <th>2657</th>\n",
       "      <td>2726</td>\n",
       "      <td>Killing, The (1956)</td>\n",
       "      <td>Crime|Film-Noir</td>\n",
       "    </tr>\n",
       "    <tr>\n",
       "      <th>989</th>\n",
       "      <td>1002</td>\n",
       "      <td>Ed's Next Move (1996)</td>\n",
       "      <td>Comedy</td>\n",
       "    </tr>\n",
       "  </tbody>\n",
       "</table>\n",
       "</div>"
      ],
      "text/plain": [
       "      movie_id                                      title  \\\n",
       "1580      1623                          Wishmaster (1997)   \n",
       "480        484                              Lassie (1994)   \n",
       "589        593           Silence of the Lambs, The (1991)   \n",
       "2916      2985                             Robocop (1987)   \n",
       "780        790             An Unforgettable Summer (1994)   \n",
       "2571      2640                            Superman (1978)   \n",
       "1527      1567  Last Time I Committed Suicide, The (1997)   \n",
       "1544      1585                       Love Serenade (1996)   \n",
       "2657      2726                        Killing, The (1956)   \n",
       "989       1002                      Ed's Next Move (1996)   \n",
       "\n",
       "                        genre  \n",
       "1580                   Horror  \n",
       "480      Adventure|Children's  \n",
       "589            Drama|Thriller  \n",
       "2916      Action|Crime|Sci-Fi  \n",
       "780                     Drama  \n",
       "2571  Action|Adventure|Sci-Fi  \n",
       "1527                    Drama  \n",
       "1544                   Comedy  \n",
       "2657          Crime|Film-Noir  \n",
       "989                    Comedy  "
      ]
     },
     "execution_count": 32,
     "metadata": {},
     "output_type": "execute_result"
    }
   ],
   "source": [
    "# '1580::Men in Black (1997)::Action|Adventure|Comedy|Sci-Fi'으로 확인\n",
    "\n",
    "get_similar_movie(1580)\n",
    "get_sim_movie_title = movies.loc[get_similar_movie(1580), :]\n",
    "get_sim_movie_title.head(10)"
   ]
  },
  {
   "cell_type": "code",
   "execution_count": 33,
   "id": "attractive-seven",
   "metadata": {},
   "outputs": [
    {
     "data": {
      "text/html": [
       "<div>\n",
       "<style scoped>\n",
       "    .dataframe tbody tr th:only-of-type {\n",
       "        vertical-align: middle;\n",
       "    }\n",
       "\n",
       "    .dataframe tbody tr th {\n",
       "        vertical-align: top;\n",
       "    }\n",
       "\n",
       "    .dataframe thead th {\n",
       "        text-align: right;\n",
       "    }\n",
       "</style>\n",
       "<table border=\"1\" class=\"dataframe\">\n",
       "  <thead>\n",
       "    <tr style=\"text-align: right;\">\n",
       "      <th></th>\n",
       "      <th>movie_id</th>\n",
       "      <th>title</th>\n",
       "      <th>genre</th>\n",
       "    </tr>\n",
       "  </thead>\n",
       "  <tbody>\n",
       "    <tr>\n",
       "      <th>1409</th>\n",
       "      <td>1433</td>\n",
       "      <td>Machine, The (1994)</td>\n",
       "      <td>Comedy|Horror</td>\n",
       "    </tr>\n",
       "    <tr>\n",
       "      <th>2266</th>\n",
       "      <td>2335</td>\n",
       "      <td>Waterboy, The (1998)</td>\n",
       "      <td>Comedy</td>\n",
       "    </tr>\n",
       "    <tr>\n",
       "      <th>237</th>\n",
       "      <td>240</td>\n",
       "      <td>Hideaway (1995)</td>\n",
       "      <td>Thriller</td>\n",
       "    </tr>\n",
       "    <tr>\n",
       "      <th>276</th>\n",
       "      <td>279</td>\n",
       "      <td>My Family (1995)</td>\n",
       "      <td>Drama</td>\n",
       "    </tr>\n",
       "    <tr>\n",
       "      <th>236</th>\n",
       "      <td>239</td>\n",
       "      <td>Goofy Movie, A (1995)</td>\n",
       "      <td>Animation|Children's|Comedy|Romance</td>\n",
       "    </tr>\n",
       "    <tr>\n",
       "      <th>1835</th>\n",
       "      <td>1904</td>\n",
       "      <td>Henry Fool (1997)</td>\n",
       "      <td>Comedy|Drama</td>\n",
       "    </tr>\n",
       "    <tr>\n",
       "      <th>802</th>\n",
       "      <td>812</td>\n",
       "      <td>Magic Hunter (1994)</td>\n",
       "      <td>Drama</td>\n",
       "    </tr>\n",
       "    <tr>\n",
       "      <th>252</th>\n",
       "      <td>255</td>\n",
       "      <td>Jerky Boys, The (1994)</td>\n",
       "      <td>Comedy</td>\n",
       "    </tr>\n",
       "    <tr>\n",
       "      <th>339</th>\n",
       "      <td>343</td>\n",
       "      <td>Baby-Sitters Club, The (1995)</td>\n",
       "      <td>Children's</td>\n",
       "    </tr>\n",
       "    <tr>\n",
       "      <th>7</th>\n",
       "      <td>8</td>\n",
       "      <td>Tom and Huck (1995)</td>\n",
       "      <td>Adventure|Children's</td>\n",
       "    </tr>\n",
       "  </tbody>\n",
       "</table>\n",
       "</div>"
      ],
      "text/plain": [
       "      movie_id                          title  \\\n",
       "1409      1433            Machine, The (1994)   \n",
       "2266      2335           Waterboy, The (1998)   \n",
       "237        240                Hideaway (1995)   \n",
       "276        279               My Family (1995)   \n",
       "236        239          Goofy Movie, A (1995)   \n",
       "1835      1904              Henry Fool (1997)   \n",
       "802        812            Magic Hunter (1994)   \n",
       "252        255         Jerky Boys, The (1994)   \n",
       "339        343  Baby-Sitters Club, The (1995)   \n",
       "7            8            Tom and Huck (1995)   \n",
       "\n",
       "                                    genre  \n",
       "1409                        Comedy|Horror  \n",
       "2266                               Comedy  \n",
       "237                              Thriller  \n",
       "276                                 Drama  \n",
       "236   Animation|Children's|Comedy|Romance  \n",
       "1835                         Comedy|Drama  \n",
       "802                                 Drama  \n",
       "252                                Comedy  \n",
       "339                            Children's  \n",
       "7                    Adventure|Children's  "
      ]
     },
     "execution_count": 33,
     "metadata": {},
     "output_type": "execute_result"
    }
   ],
   "source": [
    "# '1409::Michael (1996)::Comedy|Romance' 확인\n",
    "\n",
    "get_similar_movie(1409)\n",
    "get_sim_movie_title = movies.loc[get_similar_movie(1409), :]\n",
    "get_sim_movie_title.head(10)"
   ]
  },
  {
   "cell_type": "markdown",
   "id": "collectible-scheduling",
   "metadata": {},
   "source": [
    "### 유저에게 영화 추천하기"
   ]
  },
  {
   "cell_type": "markdown",
   "id": "attempted-roller",
   "metadata": {},
   "source": [
    "* AlternatingLeastSquares 클래스에 구현되어 있는 recommend 메서드를 통하여 내가 좋아할 만한 영화를 추천받기  \n",
    "* filter_already_liked_items 는 유저가 이미 평가한 아이템은 제외하는 Argument입니다."
   ]
  },
  {
   "cell_type": "code",
   "execution_count": 34,
   "id": "narrow-norman",
   "metadata": {},
   "outputs": [
    {
     "data": {
      "text/plain": [
       "[(50, 0.4459266),\n",
       " (322, 0.34380716),\n",
       " (64, 0.2861888),\n",
       " (670, 0.27354598),\n",
       " (38, 0.27284706),\n",
       " (4, 0.27000844),\n",
       " (352, 0.24594934),\n",
       " (626, 0.23803964),\n",
       " (44, 0.21869494),\n",
       " (117, 0.21611829),\n",
       " (1200, 0.20059976),\n",
       " (340, 0.19611533),\n",
       " (666, 0.19483006),\n",
       " (110, 0.19411363),\n",
       " (458, 0.19186753),\n",
       " (126, 0.18567234),\n",
       " (27, 0.18549138),\n",
       " (336, 0.18436319),\n",
       " (160, 0.17392384),\n",
       " (175, 0.1727199)]"
      ]
     },
     "execution_count": 34,
     "metadata": {},
     "output_type": "execute_result"
    }
   ],
   "source": [
    "user = user_to_idx['10']\n",
    "# recommend에서는 user*item CSR Matrix를 받습니다.\n",
    "movie_recommended = als_model.recommend(user, csr_data, N=20, filter_already_liked_items=True)\n",
    "movie_recommended"
   ]
  },
  {
   "cell_type": "code",
   "execution_count": 35,
   "id": "stable-adoption",
   "metadata": {
    "scrolled": true
   },
   "outputs": [
    {
     "data": {
      "text/html": [
       "<div>\n",
       "<style scoped>\n",
       "    .dataframe tbody tr th:only-of-type {\n",
       "        vertical-align: middle;\n",
       "    }\n",
       "\n",
       "    .dataframe tbody tr th {\n",
       "        vertical-align: top;\n",
       "    }\n",
       "\n",
       "    .dataframe thead th {\n",
       "        text-align: right;\n",
       "    }\n",
       "</style>\n",
       "<table border=\"1\" class=\"dataframe\">\n",
       "  <thead>\n",
       "    <tr style=\"text-align: right;\">\n",
       "      <th></th>\n",
       "      <th>movie_id</th>\n",
       "      <th>title</th>\n",
       "      <th>genre</th>\n",
       "    </tr>\n",
       "  </thead>\n",
       "  <tbody>\n",
       "    <tr>\n",
       "      <th>3114</th>\n",
       "      <td>3183</td>\n",
       "      <td>Third Miracle, The (1999)</td>\n",
       "      <td>Drama</td>\n",
       "    </tr>\n",
       "    <tr>\n",
       "      <th>34</th>\n",
       "      <td>35</td>\n",
       "      <td>Carrington (1995)</td>\n",
       "      <td>Drama|Romance</td>\n",
       "    </tr>\n",
       "    <tr>\n",
       "      <th>1210</th>\n",
       "      <td>1228</td>\n",
       "      <td>Raging Bull (1980)</td>\n",
       "      <td>Drama</td>\n",
       "    </tr>\n",
       "    <tr>\n",
       "      <th>3175</th>\n",
       "      <td>3244</td>\n",
       "      <td>Goodbye Girl, The (1977)</td>\n",
       "      <td>Comedy|Romance</td>\n",
       "    </tr>\n",
       "    <tr>\n",
       "      <th>2762</th>\n",
       "      <td>2831</td>\n",
       "      <td>Dog of Flanders, A (1999)</td>\n",
       "      <td>Drama</td>\n",
       "    </tr>\n",
       "    <tr>\n",
       "      <th>2355</th>\n",
       "      <td>2424</td>\n",
       "      <td>You've Got Mail (1998)</td>\n",
       "      <td>Comedy|Romance</td>\n",
       "    </tr>\n",
       "    <tr>\n",
       "      <th>838</th>\n",
       "      <td>849</td>\n",
       "      <td>Escape from L.A. (1996)</td>\n",
       "      <td>Action|Adventure|Sci-Fi|Thriller</td>\n",
       "    </tr>\n",
       "    <tr>\n",
       "      <th>2424</th>\n",
       "      <td>2493</td>\n",
       "      <td>Harmonists, The (1997)</td>\n",
       "      <td>Drama</td>\n",
       "    </tr>\n",
       "    <tr>\n",
       "      <th>260</th>\n",
       "      <td>263</td>\n",
       "      <td>Ladybird Ladybird (1994)</td>\n",
       "      <td>Drama</td>\n",
       "    </tr>\n",
       "    <tr>\n",
       "      <th>1196</th>\n",
       "      <td>1214</td>\n",
       "      <td>Alien (1979)</td>\n",
       "      <td>Action|Horror|Sci-Fi|Thriller</td>\n",
       "    </tr>\n",
       "  </tbody>\n",
       "</table>\n",
       "</div>"
      ],
      "text/plain": [
       "      movie_id                      title                             genre\n",
       "3114      3183  Third Miracle, The (1999)                             Drama\n",
       "34          35          Carrington (1995)                     Drama|Romance\n",
       "1210      1228         Raging Bull (1980)                             Drama\n",
       "3175      3244   Goodbye Girl, The (1977)                    Comedy|Romance\n",
       "2762      2831  Dog of Flanders, A (1999)                             Drama\n",
       "2355      2424     You've Got Mail (1998)                    Comedy|Romance\n",
       "838        849    Escape from L.A. (1996)  Action|Adventure|Sci-Fi|Thriller\n",
       "2424      2493     Harmonists, The (1997)                             Drama\n",
       "260        263   Ladybird Ladybird (1994)                             Drama\n",
       "1196      1214               Alien (1979)     Action|Horror|Sci-Fi|Thriller"
      ]
     },
     "execution_count": 35,
     "metadata": {},
     "output_type": "execute_result"
    }
   ],
   "source": [
    "r = [idx_to_movie[i[0]] for i in movie_recommended]\n",
    "\n",
    "get_sim_movie_title = movies.loc[r, :]\n",
    "get_sim_movie_title.head(10)\n",
    "\n",
    "# '3114::Toy Story 2 (1999)::Animation|Children's|Comedy' 추천\n",
    "# '1210::Star Wars: Episode VI - Return of the Jedi (1983)::Action|Adventure|Romance|Sci-Fi|War' 추천\n",
    "# '2396::Shakespeare in Love (1998)::Comedy|Romance' 추천\n",
    "# '260::Star Wars: Episode IV - A New Hope (1977)::Action|Adventure|Fantasy|Sci-Fi' 추천\n",
    "# '2424::You've Got Mail (1998)::Comedy|Romance' 추천"
   ]
  },
  {
   "cell_type": "code",
   "execution_count": 36,
   "id": "eight-shock",
   "metadata": {},
   "outputs": [],
   "source": [
    "# 모델은 왜 '토이스토리2'를 추천해줬을까? \n",
    "# AlternatingLeastSquares 클래스에 구현된 explain 메소드를 사용하면 내가 기록을 남긴 데이터 중 이 추천에 기여한 정도를 확인 가능\n",
    "\n",
    "toystory2 = movie_to_idx[3114]\n",
    "explain = als_model.explain(user, csr_data, itemid=3114)\n",
    "\n",
    "# 이 method는 추천한 콘텐츠의 점수에 기여한 다른 콘텐츠와 기여도(합이 콘텐츠의 점수가 됩니다.)를 반환"
   ]
  },
  {
   "cell_type": "code",
   "execution_count": 37,
   "id": "moderate-warren",
   "metadata": {},
   "outputs": [
    {
     "data": {
      "text/html": [
       "<div>\n",
       "<style scoped>\n",
       "    .dataframe tbody tr th:only-of-type {\n",
       "        vertical-align: middle;\n",
       "    }\n",
       "\n",
       "    .dataframe tbody tr th {\n",
       "        vertical-align: top;\n",
       "    }\n",
       "\n",
       "    .dataframe thead th {\n",
       "        text-align: right;\n",
       "    }\n",
       "</style>\n",
       "<table border=\"1\" class=\"dataframe\">\n",
       "  <thead>\n",
       "    <tr style=\"text-align: right;\">\n",
       "      <th></th>\n",
       "      <th>movie_id</th>\n",
       "      <th>title</th>\n",
       "      <th>genre</th>\n",
       "    </tr>\n",
       "  </thead>\n",
       "  <tbody>\n",
       "    <tr>\n",
       "      <th>17</th>\n",
       "      <td>18</td>\n",
       "      <td>Four Rooms (1995)</td>\n",
       "      <td>Thriller</td>\n",
       "    </tr>\n",
       "    <tr>\n",
       "      <th>3831</th>\n",
       "      <td>3901</td>\n",
       "      <td>Duets (2000)</td>\n",
       "      <td>Comedy|Drama</td>\n",
       "    </tr>\n",
       "    <tr>\n",
       "      <th>1</th>\n",
       "      <td>2</td>\n",
       "      <td>Jumanji (1995)</td>\n",
       "      <td>Adventure|Children's|Fantasy</td>\n",
       "    </tr>\n",
       "    <tr>\n",
       "      <th>339</th>\n",
       "      <td>343</td>\n",
       "      <td>Baby-Sitters Club, The (1995)</td>\n",
       "      <td>Children's</td>\n",
       "    </tr>\n",
       "    <tr>\n",
       "      <th>2628</th>\n",
       "      <td>2697</td>\n",
       "      <td>My Son the Fanatic (1998)</td>\n",
       "      <td>Comedy|Drama|Romance</td>\n",
       "    </tr>\n",
       "  </tbody>\n",
       "</table>\n",
       "</div>"
      ],
      "text/plain": [
       "      movie_id                          title                         genre\n",
       "17          18              Four Rooms (1995)                      Thriller\n",
       "3831      3901                   Duets (2000)                  Comedy|Drama\n",
       "1            2                 Jumanji (1995)  Adventure|Children's|Fantasy\n",
       "339        343  Baby-Sitters Club, The (1995)                    Children's\n",
       "2628      2697      My Son the Fanatic (1998)          Comedy|Drama|Romance"
      ]
     },
     "execution_count": 37,
     "metadata": {},
     "output_type": "execute_result"
    }
   ],
   "source": [
    "# 어떤 영화들이 이 추천에 얼마나 기여하고 있는 걸까요?\n",
    "\n",
    "[[idx_to_movie[i[0]], i[1]] for i in explain[1]]\n",
    "\n",
    "get_sim_movie_title = movies.loc[[17,3831,1,339,2628], :]\n",
    "get_sim_movie_title.head(5)\n",
    "\n",
    "# my_favorite = ['Toy Story (1995)', 'Sense and Sensibility (1995)', 'While You Were Sleeping (1995)',\n",
    "#               'Saving Grace (2000)', 'Star Wars: Episode I - The Phantom Menace (1999)']\n",
    "# my_fav_id = [1, 17, 339, 3831, 2628]\n",
    "\n",
    "# 'sense and sensibility'와 'toy story'가 가장 크게 기여 "
   ]
  },
  {
   "cell_type": "markdown",
   "id": "specific-lloyd",
   "metadata": {},
   "source": [
    "## 회고"
   ]
  },
  {
   "cell_type": "markdown",
   "id": "likely-customs",
   "metadata": {},
   "source": [
    "매번 코딩 실력이 부족하여 답답함을 느낀다. 좀 더 효과적으로 데이터을 읽어오는 방법들이 있을 것 같은데 시간에 쫓겨 하다 보니 검색도 안 되고 읽어봐도 무슨 소린지 이해를 못하고 넘어간다. 뭐든 하루아침에 되는 건 없고 그냥 답답함을 조금씩 견디며 차근차근 공부해 나가야 겠다.  \n",
    "  \n",
    "* 하고 싶었던 것 : 데이터 병합 (merge 이용하여 ratings.dat와 movies.dat의 필요한 colume)"
   ]
  }
 ],
 "metadata": {
  "kernelspec": {
   "display_name": "aiffel",
   "language": "python",
   "name": "aiffel"
  },
  "language_info": {
   "codemirror_mode": {
    "name": "ipython",
    "version": 3
   },
   "file_extension": ".py",
   "mimetype": "text/x-python",
   "name": "python",
   "nbconvert_exporter": "python",
   "pygments_lexer": "ipython3",
   "version": "3.7.9"
  }
 },
 "nbformat": 4,
 "nbformat_minor": 5
}
