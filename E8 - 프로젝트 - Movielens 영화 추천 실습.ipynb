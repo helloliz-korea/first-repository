{
 "cells": [
  {
   "cell_type": "markdown",
   "id": "outstanding-correspondence",
   "metadata": {},
   "source": [
    "# E8 - 프로젝트 - Movielens 영화 추천 실습"
   ]
  },
  {
   "cell_type": "markdown",
   "id": "forced-burke",
   "metadata": {},
   "source": [
    "## 실습환경 구성 : 작업 디렉토리 생성, 데이터셋 다운로드"
   ]
  },
  {
   "cell_type": "markdown",
   "id": "differential-shoulder",
   "metadata": {},
   "source": [
    "* 이전 스텝에서 배운 MF 모델 학습 방법을 토대로, 내가 좋아할 만한 영화 추천 시스템을 제작해 보겠습니다.  \n",
    "* 이번에 활용할 데이터셋은 추천시스템의 MNIST라고 부를만한 Movielens 데이터입니다.  \n",
    " - 유저가 영화에 대해 평점을 매긴 데이터가 데이터 크기 별로 있습니다. MovieLens 1M Dataset 사용을 권장합니다.  \n",
    " - 별점 데이터는 대표적인 explicit 데이터입니다. 하지만 implicit 데이터로 간주하고 테스트해볼 수 있습니다.  \n",
    " - 별점을 시청횟수로 해석해서 생각하겠습니다.  \n",
    " - 또한 유저가 3점 미만으로 준 데이터는 선호하지 않는다고 가정하고 제외하겠습니다.  \n",
    "  \n",
    "* MovieLens 1M Dataset 데이터셋의 경우는 크기가 작아서 아래와 같이 직접 다운 받고 압축해제 하겠습니다.  \n",
    "1) wget으로 데이터 다운로드  \n",
    "wget http://files.grouplens.org/datasets/movielens/ml-1m.zip  \n",
    "2) 다운받은 데이터를 작업디렉토리로 옮김  \n",
    "mv ml-1m.zip ~/aiffel/recommendata_iu/data  \n",
    "3) 작업디렉토리로 이동  \n",
    "cd ~/aiffel/recommendata_iu/data  \n",
    "4) 압축 해제  \n",
    "unzip ml-1m.zip"
   ]
  },
  {
   "cell_type": "markdown",
   "id": "nearby-least",
   "metadata": {},
   "source": [
    "## 데이터 준비와 전처리"
   ]
  },
  {
   "cell_type": "markdown",
   "id": "german-buffalo",
   "metadata": {},
   "source": [
    "* Movielens 데이터는 ratings.dat 안에 이미 인덱싱까지 완료된 사용자-영화-평점 데이터가 깔끔하게 정리되어 있습니다."
   ]
  },
  {
   "cell_type": "code",
   "execution_count": 1,
   "id": "experienced-covering",
   "metadata": {},
   "outputs": [
    {
     "data": {
      "text/html": [
       "<div>\n",
       "<style scoped>\n",
       "    .dataframe tbody tr th:only-of-type {\n",
       "        vertical-align: middle;\n",
       "    }\n",
       "\n",
       "    .dataframe tbody tr th {\n",
       "        vertical-align: top;\n",
       "    }\n",
       "\n",
       "    .dataframe thead th {\n",
       "        text-align: right;\n",
       "    }\n",
       "</style>\n",
       "<table border=\"1\" class=\"dataframe\">\n",
       "  <thead>\n",
       "    <tr style=\"text-align: right;\">\n",
       "      <th></th>\n",
       "      <th>user_id</th>\n",
       "      <th>movie_id</th>\n",
       "      <th>rating</th>\n",
       "      <th>timestamp</th>\n",
       "    </tr>\n",
       "  </thead>\n",
       "  <tbody>\n",
       "    <tr>\n",
       "      <th>0</th>\n",
       "      <td>1</td>\n",
       "      <td>1193</td>\n",
       "      <td>5</td>\n",
       "      <td>978300760</td>\n",
       "    </tr>\n",
       "    <tr>\n",
       "      <th>1</th>\n",
       "      <td>1</td>\n",
       "      <td>661</td>\n",
       "      <td>3</td>\n",
       "      <td>978302109</td>\n",
       "    </tr>\n",
       "    <tr>\n",
       "      <th>2</th>\n",
       "      <td>1</td>\n",
       "      <td>914</td>\n",
       "      <td>3</td>\n",
       "      <td>978301968</td>\n",
       "    </tr>\n",
       "    <tr>\n",
       "      <th>3</th>\n",
       "      <td>1</td>\n",
       "      <td>3408</td>\n",
       "      <td>4</td>\n",
       "      <td>978300275</td>\n",
       "    </tr>\n",
       "    <tr>\n",
       "      <th>4</th>\n",
       "      <td>1</td>\n",
       "      <td>2355</td>\n",
       "      <td>5</td>\n",
       "      <td>978824291</td>\n",
       "    </tr>\n",
       "  </tbody>\n",
       "</table>\n",
       "</div>"
      ],
      "text/plain": [
       "   user_id  movie_id  rating  timestamp\n",
       "0        1      1193       5  978300760\n",
       "1        1       661       3  978302109\n",
       "2        1       914       3  978301968\n",
       "3        1      3408       4  978300275\n",
       "4        1      2355       5  978824291"
      ]
     },
     "execution_count": 1,
     "metadata": {},
     "output_type": "execute_result"
    }
   ],
   "source": [
    "import pandas as pd\n",
    "import os\n",
    "\n",
    "# ratings 파일이 우리가 다룰 데이터 : 파일 경로 저장하고, ratings 목록의 각 행은 '사용자아이디/영화아이디/평점/타임스탬프'\n",
    "rating_file_path=os.getenv('HOME') + '/aiffel/recommendata_iu/data/ml-1m/ratings.dat'\n",
    "ratings_cols = ['user_id', 'movie_id', 'rating', 'timestamp']\n",
    "\n",
    "# ratings파일(데이터셋) 읽어오기\n",
    "ratings = pd.read_csv(rating_file_path, sep='::', names=ratings_cols, engine='python')\n",
    "orginal_data_size = len(ratings)\n",
    "ratings.head()"
   ]
  },
  {
   "cell_type": "code",
   "execution_count": 2,
   "id": "timely-attention",
   "metadata": {},
   "outputs": [
    {
     "name": "stdout",
     "output_type": "stream",
     "text": [
      "orginal_data_size: 1000209, filtered_data_size: 836478\n",
      "Ratio of Remaining Data is 83.63%\n"
     ]
    }
   ],
   "source": [
    "# 데이터셋에서 평점 3점 이상인 데이터만 남기기\n",
    "ratings = ratings[ratings['rating']>=3]\n",
    "filtered_data_size = len(ratings)\n",
    "\n",
    "# 원본 데이터 수, 평점 3점 이상인 데이터 수\n",
    "print(f'orginal_data_size: {orginal_data_size}, filtered_data_size: {filtered_data_size}')\n",
    "# 걸러진 후 남은 데이터 비율\n",
    "print(f'Ratio of Remaining Data is {filtered_data_size / orginal_data_size:.2%}')"
   ]
  },
  {
   "cell_type": "code",
   "execution_count": 3,
   "id": "considered-acoustic",
   "metadata": {},
   "outputs": [],
   "source": [
    "# rating 컬럼의 이름을 count로 바꾸기\n",
    "ratings.rename(columns={'rating':'count'}, inplace=True)"
   ]
  },
  {
   "cell_type": "code",
   "execution_count": 4,
   "id": "divided-heater",
   "metadata": {},
   "outputs": [
    {
     "data": {
      "text/plain": [
       "0          5\n",
       "1          3\n",
       "2          3\n",
       "3          4\n",
       "4          5\n",
       "          ..\n",
       "1000203    3\n",
       "1000205    5\n",
       "1000206    5\n",
       "1000207    4\n",
       "1000208    4\n",
       "Name: count, Length: 836478, dtype: int64"
      ]
     },
     "execution_count": 4,
     "metadata": {},
     "output_type": "execute_result"
    }
   ],
   "source": [
    "# 카운트 확인\n",
    "ratings['count']"
   ]
  },
  {
   "cell_type": "code",
   "execution_count": 5,
   "id": "leading-declaration",
   "metadata": {
    "scrolled": true
   },
   "outputs": [
    {
     "data": {
      "text/html": [
       "<div>\n",
       "<style scoped>\n",
       "    .dataframe tbody tr th:only-of-type {\n",
       "        vertical-align: middle;\n",
       "    }\n",
       "\n",
       "    .dataframe tbody tr th {\n",
       "        vertical-align: top;\n",
       "    }\n",
       "\n",
       "    .dataframe thead th {\n",
       "        text-align: right;\n",
       "    }\n",
       "</style>\n",
       "<table border=\"1\" class=\"dataframe\">\n",
       "  <thead>\n",
       "    <tr style=\"text-align: right;\">\n",
       "      <th></th>\n",
       "      <th>user_id</th>\n",
       "      <th>movie_id</th>\n",
       "      <th>count</th>\n",
       "    </tr>\n",
       "  </thead>\n",
       "  <tbody>\n",
       "    <tr>\n",
       "      <th>0</th>\n",
       "      <td>1</td>\n",
       "      <td>1193</td>\n",
       "      <td>5</td>\n",
       "    </tr>\n",
       "    <tr>\n",
       "      <th>1</th>\n",
       "      <td>1</td>\n",
       "      <td>661</td>\n",
       "      <td>3</td>\n",
       "    </tr>\n",
       "    <tr>\n",
       "      <th>2</th>\n",
       "      <td>1</td>\n",
       "      <td>914</td>\n",
       "      <td>3</td>\n",
       "    </tr>\n",
       "    <tr>\n",
       "      <th>3</th>\n",
       "      <td>1</td>\n",
       "      <td>3408</td>\n",
       "      <td>4</td>\n",
       "    </tr>\n",
       "    <tr>\n",
       "      <th>4</th>\n",
       "      <td>1</td>\n",
       "      <td>2355</td>\n",
       "      <td>5</td>\n",
       "    </tr>\n",
       "    <tr>\n",
       "      <th>5</th>\n",
       "      <td>1</td>\n",
       "      <td>1197</td>\n",
       "      <td>3</td>\n",
       "    </tr>\n",
       "    <tr>\n",
       "      <th>6</th>\n",
       "      <td>1</td>\n",
       "      <td>1287</td>\n",
       "      <td>5</td>\n",
       "    </tr>\n",
       "    <tr>\n",
       "      <th>7</th>\n",
       "      <td>1</td>\n",
       "      <td>2804</td>\n",
       "      <td>5</td>\n",
       "    </tr>\n",
       "    <tr>\n",
       "      <th>8</th>\n",
       "      <td>1</td>\n",
       "      <td>594</td>\n",
       "      <td>4</td>\n",
       "    </tr>\n",
       "    <tr>\n",
       "      <th>9</th>\n",
       "      <td>1</td>\n",
       "      <td>919</td>\n",
       "      <td>4</td>\n",
       "    </tr>\n",
       "  </tbody>\n",
       "</table>\n",
       "</div>"
      ],
      "text/plain": [
       "   user_id  movie_id  count\n",
       "0        1      1193      5\n",
       "1        1       661      3\n",
       "2        1       914      3\n",
       "3        1      3408      4\n",
       "4        1      2355      5\n",
       "5        1      1197      3\n",
       "6        1      1287      5\n",
       "7        1      2804      5\n",
       "8        1       594      4\n",
       "9        1       919      4"
      ]
     },
     "execution_count": 5,
     "metadata": {},
     "output_type": "execute_result"
    }
   ],
   "source": [
    "# 사용하는 컬럼만 남기고 `timestamp` 항목 제거\n",
    "\n",
    "using_cols = ['user_id', 'movie_id', 'count']\n",
    "ratings = ratings[using_cols]\n",
    "ratings.head(10)"
   ]
  },
  {
   "cell_type": "code",
   "execution_count": 6,
   "id": "fossil-personality",
   "metadata": {},
   "outputs": [
    {
     "data": {
      "text/html": [
       "<div>\n",
       "<style scoped>\n",
       "    .dataframe tbody tr th:only-of-type {\n",
       "        vertical-align: middle;\n",
       "    }\n",
       "\n",
       "    .dataframe tbody tr th {\n",
       "        vertical-align: top;\n",
       "    }\n",
       "\n",
       "    .dataframe thead th {\n",
       "        text-align: right;\n",
       "    }\n",
       "</style>\n",
       "<table border=\"1\" class=\"dataframe\">\n",
       "  <thead>\n",
       "    <tr style=\"text-align: right;\">\n",
       "      <th></th>\n",
       "      <th>movie_id</th>\n",
       "      <th>title</th>\n",
       "      <th>genre</th>\n",
       "    </tr>\n",
       "  </thead>\n",
       "  <tbody>\n",
       "    <tr>\n",
       "      <th>0</th>\n",
       "      <td>1</td>\n",
       "      <td>Toy Story (1995)</td>\n",
       "      <td>Animation|Children's|Comedy</td>\n",
       "    </tr>\n",
       "    <tr>\n",
       "      <th>1</th>\n",
       "      <td>2</td>\n",
       "      <td>Jumanji (1995)</td>\n",
       "      <td>Adventure|Children's|Fantasy</td>\n",
       "    </tr>\n",
       "    <tr>\n",
       "      <th>2</th>\n",
       "      <td>3</td>\n",
       "      <td>Grumpier Old Men (1995)</td>\n",
       "      <td>Comedy|Romance</td>\n",
       "    </tr>\n",
       "    <tr>\n",
       "      <th>3</th>\n",
       "      <td>4</td>\n",
       "      <td>Waiting to Exhale (1995)</td>\n",
       "      <td>Comedy|Drama</td>\n",
       "    </tr>\n",
       "    <tr>\n",
       "      <th>4</th>\n",
       "      <td>5</td>\n",
       "      <td>Father of the Bride Part II (1995)</td>\n",
       "      <td>Comedy</td>\n",
       "    </tr>\n",
       "  </tbody>\n",
       "</table>\n",
       "</div>"
      ],
      "text/plain": [
       "   movie_id                               title                         genre\n",
       "0         1                    Toy Story (1995)   Animation|Children's|Comedy\n",
       "1         2                      Jumanji (1995)  Adventure|Children's|Fantasy\n",
       "2         3             Grumpier Old Men (1995)                Comedy|Romance\n",
       "3         4            Waiting to Exhale (1995)                  Comedy|Drama\n",
       "4         5  Father of the Bride Part II (1995)                        Comedy"
      ]
     },
     "execution_count": 6,
     "metadata": {},
     "output_type": "execute_result"
    }
   ],
   "source": [
    "# 영화 제목을 보기 위해 메타 데이터를 읽어오기\n",
    "movie_file_path=os.getenv('HOME') + '/aiffel/recommendata_iu/data/ml-1m/movies.dat'\n",
    "cols = ['movie_id', 'title', 'genre'] \n",
    "movies = pd.read_csv(movie_file_path, sep='::', names=cols, engine='python',encoding='latin1')\n",
    "movies.head()"
   ]
  },
  {
   "cell_type": "markdown",
   "id": "double-crest",
   "metadata": {},
   "source": [
    "#검색을 쉽게하기 위해 영화제목(title) 문자열을 소문자로 바꿔주기  \n",
    "movies['title'] = movies['title'].str.lower()  \n",
    "  \n",
    "#검색을 쉽게하기 위해 장르(genre) 문자열을 소문자로 바꿔주기  \n",
    "movies['genre'] = movies['genre'].str.lower()  \n",
    "  \n",
    "movies.head(10)"
   ]
  },
  {
   "cell_type": "markdown",
   "id": "muslim-token",
   "metadata": {},
   "source": [
    "## 데이터 분석"
   ]
  },
  {
   "cell_type": "markdown",
   "id": "above-client",
   "metadata": {},
   "source": [
    "* ratings에 있는 유니크한 영화 개수  \n",
    "* ratings에 있는 유니크한 사용자 수  \n",
    "* 가장 인기 있는 영화 30개(인기순)"
   ]
  },
  {
   "cell_type": "code",
   "execution_count": 7,
   "id": "simple-organization",
   "metadata": {},
   "outputs": [
    {
     "data": {
      "text/plain": [
       "3628"
      ]
     },
     "execution_count": 7,
     "metadata": {},
     "output_type": "execute_result"
    }
   ],
   "source": [
    "# 영화 개수\n",
    "ratings['movie_id'].nunique()"
   ]
  },
  {
   "cell_type": "code",
   "execution_count": 8,
   "id": "curious-winning",
   "metadata": {},
   "outputs": [
    {
     "data": {
      "text/plain": [
       "6039"
      ]
     },
     "execution_count": 8,
     "metadata": {},
     "output_type": "execute_result"
    }
   ],
   "source": [
    "# 사용자 수\n",
    "ratings['user_id'].nunique()"
   ]
  },
  {
   "cell_type": "code",
   "execution_count": 9,
   "id": "nearby-study",
   "metadata": {
    "scrolled": true
   },
   "outputs": [
    {
     "data": {
      "text/plain": [
       "movie_id\n",
       "2858    3211\n",
       "260     2910\n",
       "1196    2885\n",
       "1210    2716\n",
       "2028    2561\n",
       "589     2509\n",
       "593     2498\n",
       "1198    2473\n",
       "1270    2460\n",
       "2571    2434\n",
       "480     2413\n",
       "2762    2385\n",
       "608     2371\n",
       "110     2314\n",
       "1580    2297\n",
       "527     2257\n",
       "1197    2252\n",
       "2396    2213\n",
       "1617    2210\n",
       "318     2194\n",
       "858     2167\n",
       "1265    2121\n",
       "1097    2102\n",
       "2997    2066\n",
       "2716    2051\n",
       "296     2030\n",
       "356     2022\n",
       "1240    2019\n",
       "1       2000\n",
       "457     1941\n",
       "Name: user_id, dtype: int64"
      ]
     },
     "execution_count": 9,
     "metadata": {},
     "output_type": "execute_result"
    }
   ],
   "source": [
    "# 인기 있는 영화 30개  \n",
    "movie_count = ratings.groupby('movie_id')['user_id'].count()\n",
    "movie_count.sort_values(ascending=False).head(30)"
   ]
  },
  {
   "cell_type": "code",
   "execution_count": 10,
   "id": "reliable-theta",
   "metadata": {},
   "outputs": [
    {
     "data": {
      "text/plain": [
       "count    6039.000000\n",
       "mean      138.512668\n",
       "std       156.241599\n",
       "min         1.000000\n",
       "25%        38.000000\n",
       "50%        81.000000\n",
       "75%       177.000000\n",
       "max      1968.000000\n",
       "Name: movie_id, dtype: float64"
      ]
     },
     "execution_count": 10,
     "metadata": {},
     "output_type": "execute_result"
    }
   ],
   "source": [
    "# 유저별 몇 편의 영화를 보는지에 대한 통계\n",
    "user_count = ratings.groupby('user_id')['movie_id'].count()\n",
    "user_count.describe()"
   ]
  },
  {
   "cell_type": "code",
   "execution_count": 11,
   "id": "powerful-exposure",
   "metadata": {},
   "outputs": [
    {
     "data": {
      "text/plain": [
       "count    6039.000000\n",
       "mean        4.055970\n",
       "std         0.432143\n",
       "min         3.000000\n",
       "25%         4.000000\n",
       "50%         4.000000\n",
       "75%         4.000000\n",
       "max         5.000000\n",
       "Name: count, dtype: float64"
      ]
     },
     "execution_count": 11,
     "metadata": {},
     "output_type": "execute_result"
    }
   ],
   "source": [
    "# 유저별 영화평점 중앙값에 대한 통계\n",
    "user_median = ratings.groupby('user_id')['count'].median()\n",
    "user_median.describe()"
   ]
  },
  {
   "cell_type": "markdown",
   "id": "looking-reduction",
   "metadata": {},
   "source": [
    "## 내가 선호하는 영화 5가지 골라서 rating에 추가"
   ]
  },
  {
   "cell_type": "markdown",
   "id": "dominican-thesis",
   "metadata": {},
   "source": [
    "* 우리는 본인의 음악 취향과 가장 유사한 아티스트를 추천받고 싶습니다. 유튜브 뮤직 등 추천시스템들은 이를 위해서 처음 가입하는 사용자의 취향과 유사한 아티스트 정보를 5개 이상 입력받는 과정을 거치게 하는 경우가 많습니다  \n",
    "* 우리도 동일한 과정이 필요합니다. 우리가 만든 추천시스템의 추후 검증 과정을 위해, '나는 A를 좋아한다.'라는 정보를 위 데이터셋에 5개 이상 추가해 주어야 합니다. 저는 아래와 같이 제가 좋아하는 유명한 아티스트들을 기존의 데이터에 추가해서 넣겠습니다."
   ]
  },
  {
   "cell_type": "code",
   "execution_count": 12,
   "id": "linear-bunny",
   "metadata": {
    "scrolled": false
   },
   "outputs": [
    {
     "data": {
      "text/html": [
       "<div>\n",
       "<style scoped>\n",
       "    .dataframe tbody tr th:only-of-type {\n",
       "        vertical-align: middle;\n",
       "    }\n",
       "\n",
       "    .dataframe tbody tr th {\n",
       "        vertical-align: top;\n",
       "    }\n",
       "\n",
       "    .dataframe thead th {\n",
       "        text-align: right;\n",
       "    }\n",
       "</style>\n",
       "<table border=\"1\" class=\"dataframe\">\n",
       "  <thead>\n",
       "    <tr style=\"text-align: right;\">\n",
       "      <th></th>\n",
       "      <th>user_id</th>\n",
       "      <th>movie_id</th>\n",
       "      <th>count</th>\n",
       "    </tr>\n",
       "  </thead>\n",
       "  <tbody>\n",
       "    <tr>\n",
       "      <th>1000203</th>\n",
       "      <td>6040</td>\n",
       "      <td>1090</td>\n",
       "      <td>3</td>\n",
       "    </tr>\n",
       "    <tr>\n",
       "      <th>1000205</th>\n",
       "      <td>6040</td>\n",
       "      <td>1094</td>\n",
       "      <td>5</td>\n",
       "    </tr>\n",
       "    <tr>\n",
       "      <th>1000206</th>\n",
       "      <td>6040</td>\n",
       "      <td>562</td>\n",
       "      <td>5</td>\n",
       "    </tr>\n",
       "    <tr>\n",
       "      <th>1000207</th>\n",
       "      <td>6040</td>\n",
       "      <td>1096</td>\n",
       "      <td>4</td>\n",
       "    </tr>\n",
       "    <tr>\n",
       "      <th>1000208</th>\n",
       "      <td>6040</td>\n",
       "      <td>1097</td>\n",
       "      <td>4</td>\n",
       "    </tr>\n",
       "    <tr>\n",
       "      <th>0</th>\n",
       "      <td>10</td>\n",
       "      <td>1</td>\n",
       "      <td>5</td>\n",
       "    </tr>\n",
       "    <tr>\n",
       "      <th>1</th>\n",
       "      <td>10</td>\n",
       "      <td>17</td>\n",
       "      <td>5</td>\n",
       "    </tr>\n",
       "    <tr>\n",
       "      <th>2</th>\n",
       "      <td>10</td>\n",
       "      <td>339</td>\n",
       "      <td>5</td>\n",
       "    </tr>\n",
       "    <tr>\n",
       "      <th>3</th>\n",
       "      <td>10</td>\n",
       "      <td>3831</td>\n",
       "      <td>5</td>\n",
       "    </tr>\n",
       "    <tr>\n",
       "      <th>4</th>\n",
       "      <td>10</td>\n",
       "      <td>2628</td>\n",
       "      <td>5</td>\n",
       "    </tr>\n",
       "  </tbody>\n",
       "</table>\n",
       "</div>"
      ],
      "text/plain": [
       "        user_id  movie_id  count\n",
       "1000203    6040      1090      3\n",
       "1000205    6040      1094      5\n",
       "1000206    6040       562      5\n",
       "1000207    6040      1096      4\n",
       "1000208    6040      1097      4\n",
       "0            10         1      5\n",
       "1            10        17      5\n",
       "2            10       339      5\n",
       "3            10      3831      5\n",
       "4            10      2628      5"
      ]
     },
     "execution_count": 12,
     "metadata": {},
     "output_type": "execute_result"
    }
   ],
   "source": [
    "# 본인이 좋아하시는 영화 데이터 추가 (단, 이름은 꼭 데이터셋에 있는 것과 동일하게 맞추기)\n",
    "my_favorite = ['Toy Story (1995)', 'Sense and Sensibility (1995)', 'While You Were Sleeping (1995)',\n",
    "               'Saving Grace (2000)', 'Star Wars: Episode I - The Phantom Menace (1999)']\n",
    "# 메타데이터를 통한 영화 제목별 아이디 확인\n",
    "my_fav_id = [1, 17, 339, 3831, 2628]\n",
    "\n",
    "# 10이라는 user_id가 위 영화를 평점 5 줬다고 가정\n",
    "my_movielist = pd.DataFrame({'user_id': ['10']*5, 'movie_id':my_fav_id,\n",
    "                             #'title':my_favorite,\n",
    "                             'count':[5]*5})\n",
    "\n",
    "if not ratings.isin({'user_id':['10']})['user_id'].any():  # user_id에 '10'이라는 데이터가 없다면\n",
    "    ratings = ratings.append(my_movielist)                  # 위에 임의로 만든 my_favorite 데이터를 추가해 줍니다. \n",
    "ratings.tail(10)     # 잘 추가되었는지 확인해 봅시다."
   ]
  },
  {
   "cell_type": "markdown",
   "id": "specific-thriller",
   "metadata": {},
   "source": [
    "## 모델에 활용하기 위한 전처리"
   ]
  },
  {
   "cell_type": "markdown",
   "id": "greek-lunch",
   "metadata": {},
   "source": [
    "* 사람이 태어나면 주민등록번호가, 학교에 가면 출석번호가 있듯이 데이터의 관리를 쉽게 하기 위해 번호를 붙여주고 싶습니다. 우리가 다루는 데이터에서는 user와 movie 각각에 번호를 붙이고 싶습니다. 보통 이런 작업을 indexing이라고 합니다. 추천시스템, 자연어처리에서 자주 하는 작업들이라 직접 해보시면 좋겠습니다.  \n",
    "  \n",
    "* (참고) pandas.DataFrame.unique()은 특정 컬럼에 포함된 유니크한 데이터만 모아 줍니다. indexing 작업을 위해 매우 유용합니다."
   ]
  },
  {
   "cell_type": "code",
   "execution_count": 13,
   "id": "fixed-relevance",
   "metadata": {},
   "outputs": [],
   "source": [
    "# 고유한 유저, 영화를 찾아내는 코드\n",
    "user_unique = ratings['user_id'].unique()\n",
    "movie_unique = ratings['movie_id'].unique()\n",
    "\n",
    "# 유저, 영화 indexing 하는 코드 idx는 index의 약자입니다.\n",
    "user_to_idx = {v:k for k,v in enumerate(user_unique)}\n",
    "movie_to_idx = {v:k for k,v in enumerate(movie_unique)}"
   ]
  },
  {
   "cell_type": "code",
   "execution_count": 14,
   "id": "acknowledged-revolution",
   "metadata": {},
   "outputs": [
    {
     "name": "stdout",
     "output_type": "stream",
     "text": [
      "6039\n",
      "579\n"
     ]
    }
   ],
   "source": [
    "# 인덱싱이 잘 되었는지 확인해 봅니다. \n",
    "print(user_to_idx['10'])    # 6040명의 유저 중 마지막으로 추가된 유저, 6039가 나와야 함  \n",
    "print(movie_to_idx[339])"
   ]
  },
  {
   "cell_type": "code",
   "execution_count": 15,
   "id": "japanese-syria",
   "metadata": {},
   "outputs": [
    {
     "name": "stdout",
     "output_type": "stream",
     "text": [
      "user_id column indexing OK!!\n",
      "movie column indexing OK!!\n"
     ]
    },
    {
     "data": {
      "text/html": [
       "<div>\n",
       "<style scoped>\n",
       "    .dataframe tbody tr th:only-of-type {\n",
       "        vertical-align: middle;\n",
       "    }\n",
       "\n",
       "    .dataframe tbody tr th {\n",
       "        vertical-align: top;\n",
       "    }\n",
       "\n",
       "    .dataframe thead th {\n",
       "        text-align: right;\n",
       "    }\n",
       "</style>\n",
       "<table border=\"1\" class=\"dataframe\">\n",
       "  <thead>\n",
       "    <tr style=\"text-align: right;\">\n",
       "      <th></th>\n",
       "      <th>user_id</th>\n",
       "      <th>movie_id</th>\n",
       "      <th>count</th>\n",
       "    </tr>\n",
       "  </thead>\n",
       "  <tbody>\n",
       "    <tr>\n",
       "      <th>0</th>\n",
       "      <td>0</td>\n",
       "      <td>0</td>\n",
       "      <td>5</td>\n",
       "    </tr>\n",
       "    <tr>\n",
       "      <th>1</th>\n",
       "      <td>0</td>\n",
       "      <td>1</td>\n",
       "      <td>3</td>\n",
       "    </tr>\n",
       "    <tr>\n",
       "      <th>2</th>\n",
       "      <td>0</td>\n",
       "      <td>2</td>\n",
       "      <td>3</td>\n",
       "    </tr>\n",
       "    <tr>\n",
       "      <th>3</th>\n",
       "      <td>0</td>\n",
       "      <td>3</td>\n",
       "      <td>4</td>\n",
       "    </tr>\n",
       "    <tr>\n",
       "      <th>4</th>\n",
       "      <td>0</td>\n",
       "      <td>4</td>\n",
       "      <td>5</td>\n",
       "    </tr>\n",
       "    <tr>\n",
       "      <th>...</th>\n",
       "      <td>...</td>\n",
       "      <td>...</td>\n",
       "      <td>...</td>\n",
       "    </tr>\n",
       "    <tr>\n",
       "      <th>0</th>\n",
       "      <td>6039</td>\n",
       "      <td>40</td>\n",
       "      <td>5</td>\n",
       "    </tr>\n",
       "    <tr>\n",
       "      <th>1</th>\n",
       "      <td>6039</td>\n",
       "      <td>357</td>\n",
       "      <td>5</td>\n",
       "    </tr>\n",
       "    <tr>\n",
       "      <th>2</th>\n",
       "      <td>6039</td>\n",
       "      <td>579</td>\n",
       "      <td>5</td>\n",
       "    </tr>\n",
       "    <tr>\n",
       "      <th>3</th>\n",
       "      <td>6039</td>\n",
       "      <td>1465</td>\n",
       "      <td>5</td>\n",
       "    </tr>\n",
       "    <tr>\n",
       "      <th>4</th>\n",
       "      <td>6039</td>\n",
       "      <td>60</td>\n",
       "      <td>5</td>\n",
       "    </tr>\n",
       "  </tbody>\n",
       "</table>\n",
       "<p>836483 rows × 3 columns</p>\n",
       "</div>"
      ],
      "text/plain": [
       "    user_id  movie_id  count\n",
       "0         0         0      5\n",
       "1         0         1      3\n",
       "2         0         2      3\n",
       "3         0         3      4\n",
       "4         0         4      5\n",
       "..      ...       ...    ...\n",
       "0      6039        40      5\n",
       "1      6039       357      5\n",
       "2      6039       579      5\n",
       "3      6039      1465      5\n",
       "4      6039        60      5\n",
       "\n",
       "[836483 rows x 3 columns]"
      ]
     },
     "execution_count": 15,
     "metadata": {},
     "output_type": "execute_result"
    }
   ],
   "source": [
    "# indexing을 통해 데이터 컬럼 내 값을 바꾸는 코드\n",
    "# dictionary 자료형의 get 함수는 https://wikidocs.net/16 을 참고하세요.\n",
    "\n",
    "# user_to_idx.get을 통해 user_id 컬럼의 모든 값을 인덱싱한 Series를 구해 봅시다. \n",
    "# 혹시 정상적으로 인덱싱되지 않은 row가 있다면 인덱스가 NaN이 될 테니 dropna()로 제거합니다. \n",
    "temp_user_data = ratings['user_id'].map(user_to_idx.get).dropna()\n",
    "if len(temp_user_data) == len(ratings):   # 모든 row가 정상적으로 인덱싱되었다면\n",
    "    print('user_id column indexing OK!!')\n",
    "    ratings['user_id'] = temp_user_data   # data['user_id']을 인덱싱된 Series로 교체해 줍니다. \n",
    "else:\n",
    "    print('user_id column indexing Fail!!')\n",
    "\n",
    "# movie_to_idx을 통해 movie_id 컬럼도 동일한 방식으로 인덱싱해 줍니다. \n",
    "temp_movie_data = ratings['movie_id'].map(movie_to_idx.get).dropna()\n",
    "if len(temp_movie_data) == len(ratings):\n",
    "    print('movie column indexing OK!!')\n",
    "    ratings['movie_id'] = temp_movie_data\n",
    "else:\n",
    "    print('movie_id column indexing Fail!!')\n",
    "\n",
    "ratings"
   ]
  },
  {
   "cell_type": "markdown",
   "id": "civic-kruger",
   "metadata": {},
   "source": [
    "* data의 user_id와 movie_id 컬럼 내 값들이 모두 정수 인덱스 값으로 잘 변경되었나요? 이것으로 훈련을 위한 전처리가 완료!!"
   ]
  },
  {
   "cell_type": "markdown",
   "id": "sustainable-stations",
   "metadata": {},
   "source": [
    "## 사용자의 명시적/암묵적 평가"
   ]
  },
  {
   "cell_type": "code",
   "execution_count": 16,
   "id": "wicked-phenomenon",
   "metadata": {},
   "outputs": [
    {
     "name": "stdout",
     "output_type": "stream",
     "text": [
      "261197,836483\n",
      "Ratio of only_one over all data is 31.23%\n"
     ]
    }
   ],
   "source": [
    "# 평점 3이하인 데이터의 비율을 보는 코드\n",
    "only_one = ratings[ratings['count']<4]\n",
    "one, all_ratings = len(only_one), len(ratings)\n",
    "print(f'{one},{all_ratings}')\n",
    "print(f'Ratio of only_one over all data is {one/all_ratings:.2%}')  # f-format에 대한 설명은 https://bit.ly/2DTLqYU"
   ]
  },
  {
   "cell_type": "markdown",
   "id": "finnish-lithuania",
   "metadata": {},
   "source": [
    "* 우리가 앞으로 만들어갈 모델에서는 암묵적 데이터의 해석을 위해 다음과 같은 규칙을 적용할 것입니다.  \n",
    "  \n",
    " - 평점 4 이상이면 선호한다고 판단한다.  \n",
    " - 평점 높은 영화에 대해 가중치를 주어서 더 확실히 좋아한다고 판단한다."
   ]
  },
  {
   "cell_type": "markdown",
   "id": "exterior-garage",
   "metadata": {},
   "source": [
    "## CSR(Compressed Sparse Row) Matrix"
   ]
  },
  {
   "cell_type": "markdown",
   "id": "operating-circuit",
   "metadata": {},
   "source": [
    "* 이제 우리의 data를 CSR Matrix에 맞게 바꿔보겠습니다.  \n",
    "* DataFrame을 만드는 방식이 다양하듯 csr_matrix를 만드는 방법은 다양하게 있습니다.  \n",
    "* 현재 data와 같은 데이터 구조에 적합한 방식은 위 링크에서 4번째로 설명하고 있는 방법입니다.  \n",
    "  \n",
    "* https://docs.scipy.org/doc/scipy/reference/generated/scipy.sparse.csr_matrix.html  \n",
    "* 링크의 네 번째 방법 이용할 것임"
   ]
  },
  {
   "cell_type": "code",
   "execution_count": 17,
   "id": "reported-genesis",
   "metadata": {
    "scrolled": true
   },
   "outputs": [
    {
     "name": "stdout",
     "output_type": "stream",
     "text": [
      "0    5\n",
      "1    3\n",
      "2    3\n",
      "3    4\n",
      "4    5\n",
      "    ..\n",
      "0    5\n",
      "1    5\n",
      "2    5\n",
      "3    5\n",
      "4    5\n",
      "Name: count, Length: 836483, dtype: int64\n"
     ]
    }
   ],
   "source": [
    "print(ratings['count'])"
   ]
  },
  {
   "cell_type": "code",
   "execution_count": 18,
   "id": "mental-communication",
   "metadata": {
    "scrolled": true
   },
   "outputs": [
    {
     "data": {
      "text/plain": [
       "<6040x3628 sparse matrix of type '<class 'numpy.longlong'>'\n",
       "\twith 836483 stored elements in Compressed Sparse Row format>"
      ]
     },
     "execution_count": 18,
     "metadata": {},
     "output_type": "execute_result"
    }
   ],
   "source": [
    "# 실습 위에 설명보고 이해해서 만들어보기\n",
    "from scipy.sparse import csr_matrix\n",
    "\n",
    "num_user = ratings['user_id'].nunique()\n",
    "num_movie = ratings['movie_id'].nunique()\n",
    "\n",
    "csr_data = csr_matrix((ratings['count'], (ratings.user_id, ratings.movie_id)), shape= (num_user, num_movie))\n",
    "csr_data"
   ]
  },
  {
   "cell_type": "markdown",
   "id": "unlikely-terror",
   "metadata": {},
   "source": [
    "## als_model = AlternatingLeastSquares 모델을 직접 구성하여 훈련"
   ]
  },
  {
   "cell_type": "markdown",
   "id": "august-employee",
   "metadata": {},
   "source": [
    "* 이전 스텝에서 설명한 Matrix Factorization 모델을 implicit 패키지를 사용하여 학습해 봅시다.   \n",
    "  \n",
    " - implicit 패키지는 이전 스텝에서 설명한 암묵적(implicit) dataset을 사용하는 다양한 모델을 굉장히 빠르게 학습할 수 있는 패키지입니다.  \n",
    " - 이 패키지에 구현된 als(AlternatingLeastSquares) 모델을 사용하겠습니다. Matrix Factorization에서 쪼개진 두 Feature Matrix를 한꺼번에 훈련하는 것은 잘 수렴하지 않기 때문에, 한쪽을 고정시키고 다른 쪽을 학습하는 방식을 번갈아 수행하는 AlternatingLeastSquares 방식이 효과적인 것으로 알려져 있습니다.  \n",
    " - https://github.com/benfred/implicit"
   ]
  },
  {
   "cell_type": "code",
   "execution_count": 19,
   "id": "vocational-television",
   "metadata": {},
   "outputs": [],
   "source": [
    "from implicit.als import AlternatingLeastSquares\n",
    "import os\n",
    "import numpy as np\n",
    "\n",
    "# implicit 라이브러리에서 권장하고 있는 부분입니다. 학습 내용과는 무관합니다.\n",
    "os.environ['OPENBLAS_NUM_THREADS']='1'\n",
    "os.environ['KMP_DUPLICATE_LIB_OK']='True'\n",
    "os.environ['MKL_NUM_THREADS']='1'"
   ]
  },
  {
   "cell_type": "markdown",
   "id": "municipal-england",
   "metadata": {},
   "source": [
    "* AlternatingLeastSquares 클래스의 __init__ 파라미터를 살펴보겠습니다. 1. factors : 유저와 아이템의 벡터를 몇 차원으로 할 것인지 2. regularization : 과적합을 방지하기 위해 정규화 값을 얼마나 사용할 것인지 3. use_gpu : GPU를 사용할 것인지 4. iterations : epochs와 같은 의미입니다. 데이터를 몇 번 반복해서 학습할 것인지  \n",
    "  \n",
    "* 1,4를 늘릴수록 학습데이터를 잘 학습하게 되지만 과적합의 우려가 있으니 좋은 값을 찾아야 합니다."
   ]
  },
  {
   "cell_type": "code",
   "execution_count": 20,
   "id": "emerging-absence",
   "metadata": {},
   "outputs": [],
   "source": [
    "# Implicit AlternatingLeastSquares 모델의 선언\n",
    "\n",
    "als_model = AlternatingLeastSquares(factors=100, regularization=0.01, use_gpu=False, iterations=15, dtype=np.float32)"
   ]
  },
  {
   "cell_type": "code",
   "execution_count": 21,
   "id": "wired-access",
   "metadata": {},
   "outputs": [
    {
     "data": {
      "text/plain": [
       "<3628x6040 sparse matrix of type '<class 'numpy.longlong'>'\n",
       "\twith 836483 stored elements in Compressed Sparse Column format>"
      ]
     },
     "execution_count": 21,
     "metadata": {},
     "output_type": "execute_result"
    }
   ],
   "source": [
    "# als 모델은 input으로 (item X user 꼴의 matrix를 받기 때문에 Transpose해줍니다.)\n",
    "csr_data_transpose = csr_data.T\n",
    "csr_data_transpose"
   ]
  },
  {
   "cell_type": "code",
   "execution_count": 22,
   "id": "certain-elements",
   "metadata": {},
   "outputs": [
    {
     "data": {
      "application/vnd.jupyter.widget-view+json": {
       "model_id": "616080f5aef5445dabe1e3bb01e6e021",
       "version_major": 2,
       "version_minor": 0
      },
      "text/plain": [
       "  0%|          | 0/15 [00:00<?, ?it/s]"
      ]
     },
     "metadata": {},
     "output_type": "display_data"
    }
   ],
   "source": [
    "# 모델 훈련\n",
    "als_model.fit(csr_data_transpose)"
   ]
  },
  {
   "cell_type": "code",
   "execution_count": 23,
   "id": "graphic-revelation",
   "metadata": {},
   "outputs": [
    {
     "name": "stdout",
     "output_type": "stream",
     "text": [
      "슝=3\n"
     ]
    }
   ],
   "source": [
    "# 모델이 1)나의 벡터와 영화 saving grace 벡터를 어떻게 만들고 있는지와 2)두 벡터를 곱하면 어떤 값이 나오는지 살펴보기\n",
    "# 339 = 'Saving Grace (2000)'\n",
    "ten, grace = user_to_idx['10'], movie_to_idx[339]\n",
    "ten_vector, grace_vector = als_model.user_factors[10], als_model.item_factors[339]\n",
    "\n",
    "print('슝=3')"
   ]
  },
  {
   "cell_type": "code",
   "execution_count": 24,
   "id": "above-fireplace",
   "metadata": {},
   "outputs": [
    {
     "data": {
      "text/plain": [
       "array([ 1.9920932 ,  3.9760826 , -1.2460871 ,  2.8629994 ,  1.3867748 ,\n",
       "       -0.4271622 , -5.047673  ,  0.7253164 ,  1.5692291 ,  3.9563916 ,\n",
       "       -0.05733378, -4.0875    ,  2.463487  ,  2.0214462 , -1.849436  ,\n",
       "        1.5113976 , -0.94835806,  1.4959528 , -1.04071   ,  2.1403813 ,\n",
       "       -1.1373117 ,  0.7231477 , -1.9729098 , -3.0732043 ,  0.98216987,\n",
       "        3.0173025 , -1.9655831 , -1.2058647 , -1.1691239 , -0.6857061 ,\n",
       "        0.5497724 ,  2.0189073 , -1.0728357 ,  0.06284408, -1.4213376 ,\n",
       "        0.7270098 ,  0.3076852 ,  0.07959504,  0.5105121 , -1.0762588 ,\n",
       "        0.6297363 ,  0.0827704 , -0.4580571 ,  0.7595295 , -0.5119732 ,\n",
       "       -1.510907  , -0.46914563,  0.06610866, -0.16989468,  0.8311259 ,\n",
       "        2.1517398 , -2.1741517 ,  1.524773  ,  1.4530375 , -0.27634045,\n",
       "        2.6481056 ,  2.9055145 ,  0.674109  , -0.6367054 ,  0.17417815,\n",
       "       -0.32602614, -0.7020556 , -0.63514435, -0.22173958, -0.51456136,\n",
       "        0.95673054,  0.29039183, -0.6603044 ,  2.5095441 , -1.7974056 ,\n",
       "        1.8575151 ,  2.9290829 ,  1.0267086 , -0.45895937, -0.5042935 ,\n",
       "        1.8930218 ,  0.82525986,  0.88011837,  0.5347647 , -0.70263815,\n",
       "       -0.67134255,  0.83114195, -1.5213717 ,  1.8251225 ,  0.4206509 ,\n",
       "        0.46571875, -0.01082415, -0.62750316, -0.4590229 ,  1.4652097 ,\n",
       "        0.9163585 ,  1.0408326 , -0.16775954,  0.00736554,  1.1630558 ,\n",
       "       -2.5298176 ,  2.0089438 , -0.95282435, -0.7278045 , -1.0791903 ],\n",
       "      dtype=float32)"
      ]
     },
     "execution_count": 24,
     "metadata": {},
     "output_type": "execute_result"
    }
   ],
   "source": [
    "ten_vector"
   ]
  },
  {
   "cell_type": "code",
   "execution_count": 25,
   "id": "handmade-census",
   "metadata": {},
   "outputs": [
    {
     "data": {
      "text/plain": [
       "array([ 0.00311455,  0.00934946,  0.01705586, -0.00420465,  0.01967909,\n",
       "       -0.02044237,  0.00869611,  0.00822105,  0.0032412 ,  0.00193341,\n",
       "        0.02744444,  0.00098494,  0.03023586,  0.00791752,  0.0146353 ,\n",
       "        0.00086517, -0.00759674,  0.00234847,  0.00843734,  0.02079288,\n",
       "       -0.00303815,  0.00515965,  0.01222022,  0.00728688,  0.01759453,\n",
       "       -0.00612016,  0.00925481,  0.00503336, -0.00051784, -0.00491138,\n",
       "        0.02211715, -0.0024479 ,  0.00669168,  0.0226726 ,  0.00372811,\n",
       "       -0.01181681,  0.00973588,  0.0205172 ,  0.00533723,  0.00555046,\n",
       "        0.02437565,  0.00388896,  0.00184339,  0.00289176,  0.00619891,\n",
       "        0.03414315,  0.01534401, -0.0172581 ,  0.01204433,  0.00862856,\n",
       "        0.00071608,  0.01205433, -0.00088676,  0.01314469,  0.01359866,\n",
       "        0.00713862, -0.00794906, -0.00126522, -0.01728743,  0.01631886,\n",
       "       -0.0054023 ,  0.01524019,  0.01037241,  0.00673678,  0.0319476 ,\n",
       "       -0.01136479,  0.02331803,  0.01921112,  0.01186833, -0.02295694,\n",
       "        0.01973723, -0.01721098,  0.00529289, -0.00014847,  0.01338672,\n",
       "       -0.00274523,  0.01935482,  0.00439195, -0.01605725, -0.00387673,\n",
       "       -0.01370653,  0.00548702,  0.00582852,  0.01279001, -0.00280375,\n",
       "        0.01453415,  0.00642555, -0.00844829, -0.00225296,  0.01693176,\n",
       "       -0.00675608,  0.01673549, -0.00277434, -0.0007423 , -0.01099437,\n",
       "        0.01543142,  0.01257885, -0.00591538,  0.02583157, -0.01464432],\n",
       "      dtype=float32)"
      ]
     },
     "execution_count": 25,
     "metadata": {},
     "output_type": "execute_result"
    }
   ],
   "source": [
    "grace_vector"
   ]
  },
  {
   "cell_type": "code",
   "execution_count": 26,
   "id": "maritime-zambia",
   "metadata": {},
   "outputs": [
    {
     "data": {
      "text/plain": [
       "0.07908103"
      ]
     },
     "execution_count": 26,
     "metadata": {},
     "output_type": "execute_result"
    }
   ],
   "source": [
    "# ten과 grace를 내적하는 코드\n",
    "np.dot(ten_vector, grace_vector)"
   ]
  },
  {
   "cell_type": "code",
   "execution_count": 27,
   "id": "south-secretary",
   "metadata": {},
   "outputs": [
    {
     "data": {
      "text/plain": [
       "0.39557433"
      ]
     },
     "execution_count": 27,
     "metadata": {},
     "output_type": "execute_result"
    }
   ],
   "source": [
    "# 모델이 나의 '356::Forrest Gump (1994)::Comedy|Romance|War'에 대한 선호도를 어떻게 예측할지 한 번 보겠습니다\n",
    "\n",
    "forrest = movie_to_idx[356]\n",
    "forrest_vector = als_model.item_factors[356]\n",
    "np.dot(ten_vector, forrest_vector)"
   ]
  },
  {
   "cell_type": "markdown",
   "id": "utility-grade",
   "metadata": {},
   "source": [
    "## 비슷한 아티스트 찾기 + 유저에게 추천하기"
   ]
  },
  {
   "cell_type": "markdown",
   "id": "proved-gnome",
   "metadata": {},
   "source": [
    "### 비슷한 아티스트 찾기"
   ]
  },
  {
   "cell_type": "code",
   "execution_count": 28,
   "id": "incomplete-bunny",
   "metadata": {},
   "outputs": [
    {
     "data": {
      "text/plain": [
       "[(40, 1.0000002),\n",
       " (50, 0.79627335),\n",
       " (4, 0.61659837),\n",
       " (322, 0.5721992),\n",
       " (33, 0.5652337),\n",
       " (110, 0.50152683),\n",
       " (330, 0.48096478),\n",
       " (10, 0.4400014),\n",
       " (255, 0.39560765),\n",
       " (34, 0.388531),\n",
       " (20, 0.37978664),\n",
       " (16, 0.36072043),\n",
       " (191, 0.35246134),\n",
       " (32, 0.3505131),\n",
       " (126, 0.34729245)]"
      ]
     },
     "execution_count": 28,
     "metadata": {},
     "output_type": "execute_result"
    }
   ],
   "source": [
    "# AlternatingLeastSquares 클래스에 구현되어 있는 similar_items 메서드를 통하여 선호하는 영화를 찾습니다. \n",
    "# 처음으로는 제가 좋아하는 '1::Toy Story (1995)::Animation|Children's|Comedy'로 찾아보겠습니다.\n",
    "\n",
    "favorite_movie = 'Toy Story (1995)'\n",
    "fav_movie_id = 1\n",
    "movie_id = movie_to_idx[fav_movie_id]\n",
    "similar_movie = als_model.similar_items(movie_id, N=15)\n",
    "similar_movie\n",
    "\n",
    "# (movie id, 유사도) Tuple 로 반환하고 있습니다."
   ]
  },
  {
   "cell_type": "code",
   "execution_count": 29,
   "id": "governing-monday",
   "metadata": {
    "scrolled": true
   },
   "outputs": [
    {
     "data": {
      "text/plain": [
       "[1,\n",
       " 3114,\n",
       " 2355,\n",
       " 34,\n",
       " 588,\n",
       " 1265,\n",
       " 364,\n",
       " 595,\n",
       " 1923,\n",
       " 1907,\n",
       " 2321,\n",
       " 2687,\n",
       " 2081,\n",
       " 1566,\n",
       " 2396]"
      ]
     },
     "execution_count": 29,
     "metadata": {},
     "output_type": "execute_result"
    }
   ],
   "source": [
    "# movie idx를 다시 movie_id로 매핑 시키기\n",
    "# movie_to_idx 를 뒤집어, index로부터 movie_id를 얻는 dict를 생성합니다. \n",
    "\n",
    "idx_to_movie = {v:k for k,v in movie_to_idx.items()}\n",
    "[idx_to_movie[i[0]] for i in similar_movie]"
   ]
  },
  {
   "cell_type": "markdown",
   "id": "contrary-smart",
   "metadata": {},
   "source": [
    "#movies.dat 파일에서 영화아이디로 제목 불러오고 싶은데 실패!! 뭔소린지 모르겠다... ㅠㅠ 일단 넘어가기...  \n",
    "sim_movie_id = [idx_to_movie[i[0]] for i in similar_movie]  \n",
    "sim_movie_title = [movies[i[0]] for i in sim_movie_id]"
   ]
  },
  {
   "cell_type": "code",
   "execution_count": 30,
   "id": "considerable-foundation",
   "metadata": {},
   "outputs": [
    {
     "name": "stdout",
     "output_type": "stream",
     "text": [
      "슝=3\n"
     ]
    }
   ],
   "source": [
    "# 몇 번 더 반복해서 확인하기 위해 위의 코드를 함수로 만들고 확인해보겠습니다.\n",
    "\n",
    "def get_similar_movie(movie_id: int):\n",
    "    movie_idx = movie_to_idx[movie_id]\n",
    "    similar_movie = als_model.similar_items(movie_idx)\n",
    "    similar_movie = [idx_to_movie[i[0]] for i in similar_movie]\n",
    "    return similar_movie\n",
    "\n",
    "print(\"슝=3\")"
   ]
  },
  {
   "cell_type": "code",
   "execution_count": 31,
   "id": "decreased-beach",
   "metadata": {},
   "outputs": [
    {
     "data": {
      "text/plain": [
       "[1580, 480, 589, 2916, 780, 2571, 1527, 989, 1573, 1544]"
      ]
     },
     "execution_count": 31,
     "metadata": {},
     "output_type": "execute_result"
    }
   ],
   "source": [
    "# '1580::Men in Black (1997)::Action|Adventure|Comedy|Sci-Fi'으로 확인\n",
    "\n",
    "get_similar_movie(1580)"
   ]
  },
  {
   "cell_type": "code",
   "execution_count": 32,
   "id": "attractive-seven",
   "metadata": {},
   "outputs": [
    {
     "data": {
      "text/plain": [
       "[1409, 2266, 237, 276, 1353, 236, 339, 1835, 252, 830]"
      ]
     },
     "execution_count": 32,
     "metadata": {},
     "output_type": "execute_result"
    }
   ],
   "source": [
    "# '1409::Michael (1996)::Comedy|Romance' 확인\n",
    "\n",
    "get_similar_movie(1409)"
   ]
  },
  {
   "cell_type": "markdown",
   "id": "collectible-scheduling",
   "metadata": {},
   "source": [
    "### 유저에게 아티스트 추천하기"
   ]
  },
  {
   "cell_type": "markdown",
   "id": "attempted-roller",
   "metadata": {},
   "source": [
    "* AlternatingLeastSquares 클래스에 구현되어 있는 recommend 메서드를 통하여 내가 좋아할 만한 영화를 추천받기  \n",
    "* filter_already_liked_items 는 유저가 이미 평가한 아이템은 제외하는 Argument입니다."
   ]
  },
  {
   "cell_type": "code",
   "execution_count": 33,
   "id": "narrow-norman",
   "metadata": {},
   "outputs": [
    {
     "data": {
      "text/plain": [
       "[(50, 0.40557933),\n",
       " (322, 0.33148998),\n",
       " (64, 0.29023215),\n",
       " (4, 0.26890722),\n",
       " (352, 0.2678976),\n",
       " (44, 0.26383168),\n",
       " (126, 0.25885743),\n",
       " (474, 0.23306894),\n",
       " (626, 0.2283763),\n",
       " (117, 0.2211415),\n",
       " (336, 0.20866305),\n",
       " (666, 0.19522803),\n",
       " (450, 0.18794954),\n",
       " (27, 0.17772284),\n",
       " (670, 0.17648135),\n",
       " (1212, 0.1705055),\n",
       " (1200, 0.16943939),\n",
       " (38, 0.16648905),\n",
       " (340, 0.1661968),\n",
       " (33, 0.16543427)]"
      ]
     },
     "execution_count": 33,
     "metadata": {},
     "output_type": "execute_result"
    }
   ],
   "source": [
    "user = user_to_idx['10']\n",
    "# recommend에서는 user*item CSR Matrix를 받습니다.\n",
    "movie_recommended = als_model.recommend(user, csr_data, N=20, filter_already_liked_items=True)\n",
    "movie_recommended"
   ]
  },
  {
   "cell_type": "code",
   "execution_count": 34,
   "id": "stable-adoption",
   "metadata": {},
   "outputs": [
    {
     "data": {
      "text/plain": [
       "[3114,\n",
       " 34,\n",
       " 1210,\n",
       " 2355,\n",
       " 838,\n",
       " 260,\n",
       " 2396,\n",
       " 3751,\n",
       " 2424,\n",
       " 1196,\n",
       " 597,\n",
       " 539,\n",
       " 2324,\n",
       " 1721,\n",
       " 3175,\n",
       " 852,\n",
       " 11,\n",
       " 2762,\n",
       " 1569,\n",
       " 588]"
      ]
     },
     "execution_count": 34,
     "metadata": {},
     "output_type": "execute_result"
    }
   ],
   "source": [
    "[idx_to_movie[i[0]] for i in movie_recommended]\n",
    "\n",
    "# '3114::Toy Story 2 (1999)::Animation|Children's|Comedy' 추천\n",
    "# '1210::Star Wars: Episode VI - Return of the Jedi (1983)::Action|Adventure|Romance|Sci-Fi|War' 추천\n",
    "# '2396::Shakespeare in Love (1998)::Comedy|Romance' 추천\n",
    "# '260::Star Wars: Episode IV - A New Hope (1977)::Action|Adventure|Fantasy|Sci-Fi' 추천\n",
    "# '2424::You've Got Mail (1998)::Comedy|Romance' 추천"
   ]
  },
  {
   "cell_type": "code",
   "execution_count": 35,
   "id": "eight-shock",
   "metadata": {},
   "outputs": [],
   "source": [
    "# 모델은 왜 '토이스토리2'를 추천해줬을까? \n",
    "# AlternatingLeastSquares 클래스에 구현된 explain 메소드를 사용하면 내가 기록을 남긴 데이터 중 이 추천에 기여한 정도를 확인 가능\n",
    "\n",
    "toystory2 = movie_to_idx[3114]\n",
    "explain = als_model.explain(user, csr_data, itemid=3114)\n",
    "\n",
    "# 이 method는 추천한 콘텐츠의 점수에 기여한 다른 콘텐츠와 기여도(합이 콘텐츠의 점수가 됩니다.)를 반환"
   ]
  },
  {
   "cell_type": "code",
   "execution_count": 36,
   "id": "moderate-warren",
   "metadata": {},
   "outputs": [
    {
     "data": {
      "text/plain": [
       "[(17, 0.004053547849301979),\n",
       " (1, 0.0010742385180326035),\n",
       " (3831, -0.002228433487722224),\n",
       " (339, -0.0029556103327386474),\n",
       " (2628, -0.005732298482521868)]"
      ]
     },
     "execution_count": 36,
     "metadata": {},
     "output_type": "execute_result"
    }
   ],
   "source": [
    "# 어떤 영화들이 이 추천에 얼마나 기여하고 있는 걸까요?\n",
    "\n",
    "[(idx_to_movie[i[0]], i[1]) for i in explain[1]]\n",
    "\n",
    "\n",
    "# my_favorite = ['Toy Story (1995)', 'Sense and Sensibility (1995)', 'While You Were Sleeping (1995)',\n",
    "#               'Saving Grace (2000)', 'Star Wars: Episode I - The Phantom Menace (1999)']\n",
    "# my_fav_id = [1, 17, 339, 3831, 2628]\n",
    "\n",
    "# 'sense and sensibility'와 'toy story'가 가장 크게 기여 "
   ]
  },
  {
   "cell_type": "markdown",
   "id": "specific-lloyd",
   "metadata": {},
   "source": [
    "## 회고"
   ]
  },
  {
   "cell_type": "markdown",
   "id": "likely-customs",
   "metadata": {},
   "source": [
    "매번 코드 문제에서 문제가 발생한다. 코딩에 익숙하면 영화아이디로 영화제목 읽어오는 방법으로 쉽게 추천받은 영화들을 확인할 수 있을 텐데 이 부분을 해결하지 못한 점이 너무 아쉽다. 이후에 찾아보고 공부하는 걸로..."
   ]
  }
 ],
 "metadata": {
  "kernelspec": {
   "display_name": "aiffel",
   "language": "python",
   "name": "aiffel"
  },
  "language_info": {
   "codemirror_mode": {
    "name": "ipython",
    "version": 3
   },
   "file_extension": ".py",
   "mimetype": "text/x-python",
   "name": "python",
   "nbconvert_exporter": "python",
   "pygments_lexer": "ipython3",
   "version": "3.7.9"
  }
 },
 "nbformat": 4,
 "nbformat_minor": 5
}
