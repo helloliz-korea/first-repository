{
 "cells": [
  {
   "cell_type": "markdown",
   "metadata": {},
   "source": [
    "#### 헷갈리는 용어 정리\n",
    "|결정론적 방법(Deterministic method)|스토캐스틱 방법(stochastic method)|\n",
    "|:------:|:------:|\n",
    "|배치 방법 (Batch method)|미니 배치 방법 (Mini-batch method)|\n",
    "|오프라인 (Offline) 방법|온라인(Online) 방법|"
   ]
  },
  {
   "cell_type": "markdown",
   "metadata": {},
   "source": [
    "-------"
   ]
  },
  {
   "cell_type": "markdown",
   "metadata": {},
   "source": [
    "#### Stochastic 방법이 적용된 알고리즘\n",
    "|알고리즘|연도|학습률|탐색방향|\n",
    "|:------:|:------:|:------:|:------:|\n",
    "|Momentum/ Nesterov| 1964/ 1983| 상수 | 단기 누적 그래디언트 크기|\n",
    "|Adagrad|2011|장기 파라미터, 변화량과 반비례|그래디언트|\n",
    "|RMSProp|2012|단기 파라미터, 변화량과 반비례|그래디언트|\n",
    "|Adam|2014|단기 파라미터, 변화량과 반비례| 단기 누적 그래디언트 크기|"
   ]
  }
 ],
 "metadata": {
  "kernelspec": {
   "display_name": "Python 3",
   "language": "python",
   "name": "python3"
  },
  "language_info": {
   "codemirror_mode": {
    "name": "ipython",
    "version": 3
   },
   "file_extension": ".py",
   "mimetype": "text/x-python",
   "name": "python",
   "nbconvert_exporter": "python",
   "pygments_lexer": "ipython3",
   "version": "3.7.9"
  }
 },
 "nbformat": 4,
 "nbformat_minor": 4
}
