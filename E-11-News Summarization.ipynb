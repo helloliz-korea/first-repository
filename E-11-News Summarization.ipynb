{
 "cells": [
  {
   "cell_type": "markdown",
   "id": "respective-spectrum",
   "metadata": {},
   "source": [
    "# E-11-뉴스 요약봇 만들기 프로젝트"
   ]
  },
  {
   "cell_type": "markdown",
   "id": "practical-spain",
   "metadata": {},
   "source": [
    "### 텍스트 요약(Text Summarization)  \n",
    "* 추출적 요약(Extractive Summarization) : 원문에서 문장들을 추출해서 요약하는 방식  \n",
    "* 추상적 요약(Abstractive Summarization) : 원문으로부터 내용이 요약된 새로운 문장을 생성해내는 것, 새로운 문장이라는 것은 결과로 나온 문장이 원문에 원래 없던 문장일 수도 있다는 것을 의미  \n",
    "  \n",
    "### 인공 신경망으로 텍스트 요약 훈련시키기  \n",
    "* seq2seq 모델을 이용하여 Abstractive summarization 방식의 텍스트 요약기 만들기  \n",
    "  \n",
    "#### seq2seq  \n",
    "* LSTM과 컨텍스트 벡터 : seq2seq 구현 시, 인코더/디코더로 바닐라 RNN이 아닌 LSTM 사용  \n",
    "* 시작 토큰과 종료 토큰 : 훈련 데이터의 예측 대상 시퀀스의 앞/뒤에는 시작 토큰과 종료 토큰을 넣어주는 전처리를 통해 어디에서 멈춰야하는지 알려줘야 함  \n",
    "* 어텐션 메커니즘을 통한 새로운 컨텍스트 벡터 사용하기  \n",
    "  \n",
    "### 위 내용 요약 정리  \n",
    "   1. seq2seq를 사용합니다.  \n",
    "   2. RNN 계열 중 LSTM을 사용하므로 hidden state뿐만 아니라 cell state도 사용해야 합니다.  \n",
    "   3. 디코더의 예측 시퀀스에는 시작 토큰 SOS와 예측 토큰 EOS를 시퀀스의 앞, 뒤로 붙입니다.  \n",
    "   4. seq2seq를 구동시키면 디코더는 시작 토큰을 입력받아 예측을 시작합니다.  \n",
    "   5. seq2seq 기본 모델과 달리, 어텐션 메커니즘을 이용해 인코더의 hidden state의 중요도를 취합한 컨텍스트 벡터를 디코더 스텝별로 계산합니다.  \n",
    "   6. 계산된 컨텍스트 벡터를 이용해서 디코더는 다음 등장할 단어를 예측합니다."
   ]
  },
  {
   "cell_type": "markdown",
   "id": "informed-rhythm",
   "metadata": {},
   "source": [
    "# 프로젝트: 뉴스기사 요약해보기"
   ]
  },
  {
   "cell_type": "markdown",
   "id": "deadly-copying",
   "metadata": {},
   "source": [
    "## Step 1. 데이터 수집하기  \n",
    "* 링크에 있는 뉴스 기사 데이터(newssummarymore.csv)를 사용 : https://github.com/sunnysai12345/\n",
    "* 또는 아래 코드로 다운"
   ]
  },
  {
   "cell_type": "code",
   "execution_count": 1,
   "id": "favorite-muscle",
   "metadata": {},
   "outputs": [
    {
     "data": {
      "text/plain": [
       "('news_summary_more.csv', <http.client.HTTPMessage at 0x7f408819ba10>)"
      ]
     },
     "execution_count": 1,
     "metadata": {},
     "output_type": "execute_result"
    }
   ],
   "source": [
    "# 데이터를 다운로드\n",
    "\n",
    "import pandas as pd\n",
    "import urllib.request\n",
    "urllib.request.urlretrieve(\"https://raw.githubusercontent.com/sunnysai12345/News_Summary/master/news_summary_more.csv\", filename=\"news_summary_more.csv\")"
   ]
  },
  {
   "cell_type": "markdown",
   "id": "western-illustration",
   "metadata": {},
   "source": [
    "## Step 2. 데이터 확인 및 전처리 (추상적 요약)  \n",
    "실습에서 사용된 전처리를 참고하여 각자 필요하다고 생각하는 전처리를 추가 사용하여 텍스트를 정규화 또는 정제해 보세요. 만약, 불용어 제거를 선택한다면 상대적으로 길이가 짧은 요약 데이터에 대해서도 불용어를 제거하는 것이 좋을지 고민해보세요.  \n",
    "* NLTK의 불용어(stopwords)를 사용 : NTLK와 NLTK 데이터셋이 설치되어있지 않은 환경이라면 NLTK를 설치하고 NTLK의 데이터셋을 다운로드\n",
    "* NTLK 다운로드 : `pip install nltk`  \n",
    "* BeautifulSoup 라이브러리(문서를 파싱하는데 사용하는 패키지) 설치 : `pip install beautifulsoup4`"
   ]
  },
  {
   "cell_type": "markdown",
   "id": "western-debate",
   "metadata": {},
   "source": [
    "### (1) 데이터 정리"
   ]
  },
  {
   "cell_type": "code",
   "execution_count": 2,
   "id": "medieval-council",
   "metadata": {
    "scrolled": true
   },
   "outputs": [
    {
     "name": "stderr",
     "output_type": "stream",
     "text": [
      "[nltk_data] Downloading package stopwords to /home/aiffel-\n",
      "[nltk_data]     dj42/nltk_data...\n",
      "[nltk_data]   Package stopwords is already up-to-date!\n"
     ]
    }
   ],
   "source": [
    "# nltk 패키지에서 불용어 사전을 다운로드 받고, 데이터 전처리를 위한 나머지 패키지도 함께 불러오기\n",
    "\n",
    "import nltk\n",
    "nltk.download('stopwords')\n",
    "\n",
    "import numpy as np\n",
    "import pandas as pd\n",
    "import os\n",
    "import re\n",
    "import matplotlib.pyplot as plt\n",
    "from nltk.corpus import stopwords\n",
    "from bs4 import BeautifulSoup \n",
    "from tensorflow.keras.preprocessing.text import Tokenizer \n",
    "from tensorflow.keras.preprocessing.sequence import pad_sequences\n",
    "import urllib.request"
   ]
  },
  {
   "cell_type": "markdown",
   "id": "amazing-dealer",
   "metadata": {},
   "source": [
    "* `csv`파일 `headlines column`에 이름 붙이기 : https://rfriend.tistory.com/250"
   ]
  },
  {
   "cell_type": "code",
   "execution_count": 3,
   "id": "hazardous-ecology",
   "metadata": {},
   "outputs": [
    {
     "name": "stdout",
     "output_type": "stream",
     "text": [
      "전체 샘플수 : 98402\n"
     ]
    }
   ],
   "source": [
    "# 링크에서 다운로드 받은 데이터(Reviews.csv)에는 총 98401개의 샘플 있음\n",
    "# 주의!! : 데이터 파일의 경로를 수정하는 것 잊지 말기\n",
    "\n",
    "data = pd.read_csv(os.getenv(\"HOME\")+\"/aiffel/news_summarization/data/news_summary_more.csv\",\n",
    "                   names=['headlines', 'text'], header=None, encoding='iso-8859-1')\n",
    "                   # headlines index이름 붙여주기-원본데이터 읽어올 때 key error\n",
    "print('전체 샘플수 :',(len(data)))"
   ]
  },
  {
   "cell_type": "code",
   "execution_count": 4,
   "id": "interested-breakfast",
   "metadata": {},
   "outputs": [
    {
     "name": "stdout",
     "output_type": "stream",
     "text": [
      "Index(['headlines', 'text'], dtype='object')\n"
     ]
    }
   ],
   "source": [
    "print(data.columns)"
   ]
  },
  {
   "cell_type": "code",
   "execution_count": 5,
   "id": "executive-seventh",
   "metadata": {
    "scrolled": true
   },
   "outputs": [
    {
     "data": {
      "text/html": [
       "<div>\n",
       "<style scoped>\n",
       "    .dataframe tbody tr th:only-of-type {\n",
       "        vertical-align: middle;\n",
       "    }\n",
       "\n",
       "    .dataframe tbody tr th {\n",
       "        vertical-align: top;\n",
       "    }\n",
       "\n",
       "    .dataframe thead th {\n",
       "        text-align: right;\n",
       "    }\n",
       "</style>\n",
       "<table border=\"1\" class=\"dataframe\">\n",
       "  <thead>\n",
       "    <tr style=\"text-align: right;\">\n",
       "      <th></th>\n",
       "      <th>headlines</th>\n",
       "      <th>text</th>\n",
       "    </tr>\n",
       "  </thead>\n",
       "  <tbody>\n",
       "    <tr>\n",
       "      <th>0</th>\n",
       "      <td>headlines</td>\n",
       "      <td>text</td>\n",
       "    </tr>\n",
       "    <tr>\n",
       "      <th>1</th>\n",
       "      <td>upGrad learner switches to career in ML &amp; Al w...</td>\n",
       "      <td>Saurav Kant, an alumnus of upGrad and IIIT-B's...</td>\n",
       "    </tr>\n",
       "    <tr>\n",
       "      <th>2</th>\n",
       "      <td>Delhi techie wins free food from Swiggy for on...</td>\n",
       "      <td>Kunal Shah's credit card bill payment platform...</td>\n",
       "    </tr>\n",
       "    <tr>\n",
       "      <th>3</th>\n",
       "      <td>New Zealand end Rohit Sharma-led India's 12-ma...</td>\n",
       "      <td>New Zealand defeated India by 8 wickets in the...</td>\n",
       "    </tr>\n",
       "    <tr>\n",
       "      <th>4</th>\n",
       "      <td>Aegon life iTerm insurance plan helps customer...</td>\n",
       "      <td>With Aegon Life iTerm Insurance plan, customer...</td>\n",
       "    </tr>\n",
       "  </tbody>\n",
       "</table>\n",
       "</div>"
      ],
      "text/plain": [
       "                                           headlines  \\\n",
       "0                                          headlines   \n",
       "1  upGrad learner switches to career in ML & Al w...   \n",
       "2  Delhi techie wins free food from Swiggy for on...   \n",
       "3  New Zealand end Rohit Sharma-led India's 12-ma...   \n",
       "4  Aegon life iTerm insurance plan helps customer...   \n",
       "\n",
       "                                                text  \n",
       "0                                               text  \n",
       "1  Saurav Kant, an alumnus of upGrad and IIIT-B's...  \n",
       "2  Kunal Shah's credit card bill payment platform...  \n",
       "3  New Zealand defeated India by 8 wickets in the...  \n",
       "4  With Aegon Life iTerm Insurance plan, customer...  "
      ]
     },
     "execution_count": 5,
     "metadata": {},
     "output_type": "execute_result"
    }
   ],
   "source": [
    "#랜덤한 15개 샘플 출력\n",
    "#data.sample(15)\n",
    "\n",
    "#상위 5개 샘플 출력\n",
    "data.head()"
   ]
  },
  {
   "cell_type": "markdown",
   "id": "excited-qualification",
   "metadata": {},
   "source": [
    "* text 입력 받아서 headlines 예측??"
   ]
  },
  {
   "cell_type": "code",
   "execution_count": 6,
   "id": "surrounded-shark",
   "metadata": {},
   "outputs": [
    {
     "name": "stdout",
     "output_type": "stream",
     "text": [
      "text 열에서 중복을 배제한 유일한 샘플의 수 : 98360\n",
      "headlines 열에서 중복을 배제한 유일한 샘플의 수 : 98280\n"
     ]
    }
   ],
   "source": [
    "# 데이터의 중복 샘플 유무 확인\n",
    "\n",
    "print('text 열에서 중복을 배제한 유일한 샘플의 수 :', data['text'].nunique())\n",
    "print('headlines 열에서 중복을 배제한 유일한 샘플의 수 :', data['headlines'].nunique())\n",
    "\n",
    "# text가 달라도 headline은 동일할 수 있음\n",
    "# 하지만 text 자체가 중복된 경우는 중복 샘플이므로 제거해야 함"
   ]
  },
  {
   "cell_type": "code",
   "execution_count": 7,
   "id": "commercial-packaging",
   "metadata": {},
   "outputs": [
    {
     "name": "stdout",
     "output_type": "stream",
     "text": [
      "전체 샘플수 : 98360\n"
     ]
    }
   ],
   "source": [
    "# 데이터프레임의 drop_duplicates()를 사용하여 중복 샘플 제거\n",
    "\n",
    "data.drop_duplicates(subset = ['text'], inplace = True)\n",
    "print('전체 샘플수 :',(len(data)))\n",
    "\n",
    "# 그런데 만약 데이터 Null값을 가지는 샘플이 있었다면, drop_duplicates()가 중복된 Null들을 지워주기는 하겠지만,\n",
    "# 여전히 Null값 한개가 어딘가 남아있을 수 있음"
   ]
  },
  {
   "cell_type": "code",
   "execution_count": 8,
   "id": "sustainable-mountain",
   "metadata": {},
   "outputs": [
    {
     "name": "stdout",
     "output_type": "stream",
     "text": [
      "headlines    0\n",
      "text         0\n",
      "dtype: int64\n"
     ]
    }
   ],
   "source": [
    "# 데이터프레임에 Null 값이 있는지 확인 : .isnull().sum()을 사용\n",
    "\n",
    "print(data.isnull().sum())"
   ]
  },
  {
   "cell_type": "code",
   "execution_count": 9,
   "id": "rotary-momentum",
   "metadata": {},
   "outputs": [
    {
     "name": "stdout",
     "output_type": "stream",
     "text": [
      "전체 샘플수 : 98360\n"
     ]
    }
   ],
   "source": [
    "# 데이터프레임에서 Null 제거 : dropna() 함수 사용\n",
    "\n",
    "data.dropna(axis = 0, inplace = True)\n",
    "print('전체 샘플수 :',(len(data)))"
   ]
  },
  {
   "cell_type": "markdown",
   "id": "acting-mathematics",
   "metadata": {},
   "source": [
    "#### 텍스트 정규화와 불용어 제거  \n",
    "* 텍스트 정규화(text normalization) : 단어들 중 같은 의미 다른 표현들을 (예 : it'll/it will, mustn't/must not) 기계 학습 전에 미리 같은 표현으로 통일시켜 기계의 연산량 줄이기  \n",
    "* 정규화 사전 출처 : https://stackoverflow.com/questions/19790188/expanding-english-language-contractions-in-python"
   ]
  },
  {
   "cell_type": "code",
   "execution_count": 10,
   "id": "labeled-fantasy",
   "metadata": {},
   "outputs": [
    {
     "name": "stdout",
     "output_type": "stream",
     "text": [
      "정규화 사전의 수:  120\n"
     ]
    }
   ],
   "source": [
    "# 텍스트 정규화를 위한 사전(dictionary) 구성\n",
    "\n",
    "contractions = {\"ain't\": \"is not\", \"aren't\": \"are not\",\"can't\": \"cannot\", \"'cause\": \"because\", \"could've\": \"could have\", \"couldn't\": \"could not\",\n",
    "                           \"didn't\": \"did not\",  \"doesn't\": \"does not\", \"don't\": \"do not\", \"hadn't\": \"had not\", \"hasn't\": \"has not\", \"haven't\": \"have not\",\n",
    "                           \"he'd\": \"he would\",\"he'll\": \"he will\", \"he's\": \"he is\", \"how'd\": \"how did\", \"how'd'y\": \"how do you\", \"how'll\": \"how will\", \"how's\": \"how is\",\n",
    "                           \"I'd\": \"I would\", \"I'd've\": \"I would have\", \"I'll\": \"I will\", \"I'll've\": \"I will have\",\"I'm\": \"I am\", \"I've\": \"I have\", \"i'd\": \"i would\",\n",
    "                           \"i'd've\": \"i would have\", \"i'll\": \"i will\",  \"i'll've\": \"i will have\",\"i'm\": \"i am\", \"i've\": \"i have\", \"isn't\": \"is not\", \"it'd\": \"it would\",\n",
    "                           \"it'd've\": \"it would have\", \"it'll\": \"it will\", \"it'll've\": \"it will have\",\"it's\": \"it is\", \"let's\": \"let us\", \"ma'am\": \"madam\",\n",
    "                           \"mayn't\": \"may not\", \"might've\": \"might have\",\"mightn't\": \"might not\",\"mightn't've\": \"might not have\", \"must've\": \"must have\",\n",
    "                           \"mustn't\": \"must not\", \"mustn't've\": \"must not have\", \"needn't\": \"need not\", \"needn't've\": \"need not have\",\"o'clock\": \"of the clock\",\n",
    "                           \"oughtn't\": \"ought not\", \"oughtn't've\": \"ought not have\", \"shan't\": \"shall not\", \"sha'n't\": \"shall not\", \"shan't've\": \"shall not have\",\n",
    "                           \"she'd\": \"she would\", \"she'd've\": \"she would have\", \"she'll\": \"she will\", \"she'll've\": \"she will have\", \"she's\": \"she is\",\n",
    "                           \"should've\": \"should have\", \"shouldn't\": \"should not\", \"shouldn't've\": \"should not have\", \"so've\": \"so have\",\"so's\": \"so as\",\n",
    "                           \"this's\": \"this is\",\"that'd\": \"that would\", \"that'd've\": \"that would have\", \"that's\": \"that is\", \"there'd\": \"there would\",\n",
    "                           \"there'd've\": \"there would have\", \"there's\": \"there is\", \"here's\": \"here is\",\"they'd\": \"they would\", \"they'd've\": \"they would have\",\n",
    "                           \"they'll\": \"they will\", \"they'll've\": \"they will have\", \"they're\": \"they are\", \"they've\": \"they have\", \"to've\": \"to have\",\n",
    "                           \"wasn't\": \"was not\", \"we'd\": \"we would\", \"we'd've\": \"we would have\", \"we'll\": \"we will\", \"we'll've\": \"we will have\", \"we're\": \"we are\",\n",
    "                           \"we've\": \"we have\", \"weren't\": \"were not\", \"what'll\": \"what will\", \"what'll've\": \"what will have\", \"what're\": \"what are\",\n",
    "                           \"what's\": \"what is\", \"what've\": \"what have\", \"when's\": \"when is\", \"when've\": \"when have\", \"where'd\": \"where did\", \"where's\": \"where is\",\n",
    "                           \"where've\": \"where have\", \"who'll\": \"who will\", \"who'll've\": \"who will have\", \"who's\": \"who is\", \"who've\": \"who have\",\n",
    "                           \"why's\": \"why is\", \"why've\": \"why have\", \"will've\": \"will have\", \"won't\": \"will not\", \"won't've\": \"will not have\",\n",
    "                           \"would've\": \"would have\", \"wouldn't\": \"would not\", \"wouldn't've\": \"would not have\", \"y'all\": \"you all\",\n",
    "                           \"y'all'd\": \"you all would\",\"y'all'd've\": \"you all would have\",\"y'all're\": \"you all are\",\"y'all've\": \"you all have\",\n",
    "                           \"you'd\": \"you would\", \"you'd've\": \"you would have\", \"you'll\": \"you will\", \"you'll've\": \"you will have\",\n",
    "                           \"you're\": \"you are\", \"you've\": \"you have\"}\n",
    "\n",
    "print(\"정규화 사전의 수: \",len(contractions))"
   ]
  },
  {
   "cell_type": "code",
   "execution_count": 11,
   "id": "narrative-denver",
   "metadata": {},
   "outputs": [
    {
     "name": "stdout",
     "output_type": "stream",
     "text": [
      "불용어 개수 : 179\n",
      "['i', 'me', 'my', 'myself', 'we', 'our', 'ours', 'ourselves', 'you', \"you're\", \"you've\", \"you'll\", \"you'd\", 'your', 'yours', 'yourself', 'yourselves', 'he', 'him', 'his', 'himself', 'she', \"she's\", 'her', 'hers', 'herself', 'it', \"it's\", 'its', 'itself', 'they', 'them', 'their', 'theirs', 'themselves', 'what', 'which', 'who', 'whom', 'this', 'that', \"that'll\", 'these', 'those', 'am', 'is', 'are', 'was', 'were', 'be', 'been', 'being', 'have', 'has', 'had', 'having', 'do', 'does', 'did', 'doing', 'a', 'an', 'the', 'and', 'but', 'if', 'or', 'because', 'as', 'until', 'while', 'of', 'at', 'by', 'for', 'with', 'about', 'against', 'between', 'into', 'through', 'during', 'before', 'after', 'above', 'below', 'to', 'from', 'up', 'down', 'in', 'out', 'on', 'off', 'over', 'under', 'again', 'further', 'then', 'once', 'here', 'there', 'when', 'where', 'why', 'how', 'all', 'any', 'both', 'each', 'few', 'more', 'most', 'other', 'some', 'such', 'no', 'nor', 'not', 'only', 'own', 'same', 'so', 'than', 'too', 'very', 's', 't', 'can', 'will', 'just', 'don', \"don't\", 'should', \"should've\", 'now', 'd', 'll', 'm', 'o', 're', 've', 'y', 'ain', 'aren', \"aren't\", 'couldn', \"couldn't\", 'didn', \"didn't\", 'doesn', \"doesn't\", 'hadn', \"hadn't\", 'hasn', \"hasn't\", 'haven', \"haven't\", 'isn', \"isn't\", 'ma', 'mightn', \"mightn't\", 'mustn', \"mustn't\", 'needn', \"needn't\", 'shan', \"shan't\", 'shouldn', \"shouldn't\", 'wasn', \"wasn't\", 'weren', \"weren't\", 'won', \"won't\", 'wouldn', \"wouldn't\"]\n"
     ]
    }
   ],
   "source": [
    "# 샘플에서 불용어를 제거 : NLTK에서 제공하는 불용어 리스트를 참조\n",
    "\n",
    "print('불용어 개수 :', len(stopwords.words('english') ))\n",
    "print(stopwords.words('english'))"
   ]
  },
  {
   "cell_type": "code",
   "execution_count": 12,
   "id": "anonymous-malta",
   "metadata": {},
   "outputs": [],
   "source": [
    "# 데이터 전처리 함수\n",
    "\n",
    "def preprocess_sentence(sentence, remove_stopwords=True):\n",
    "    sentence = sentence.lower() # 텍스트 소문자화\n",
    "    sentence = BeautifulSoup(sentence, \"lxml\").text # <br />, <a href = ...> 등의 html 태그 제거\n",
    "    sentence = re.sub(r'\\([^)]*\\)', '', sentence) # 괄호로 닫힌 문자열 (...) 제거 Ex) my husband (and myself!) for => my husband for\n",
    "    sentence = re.sub('\"','', sentence) # 쌍따옴표 \" 제거\n",
    "    sentence = ' '.join([contractions[t] if t in contractions else t for t in sentence.split(\" \")]) # 약어 정규화\n",
    "    #sentence = re.sub(r\"'s\\b\",\"\",sentence) # 소유격 제거. Ex) roland's -> roland\n",
    "    #sentence = re.sub(\"[^a-zA-Z]\", \" \", sentence) # 영어 외 문자(숫자, 특수문자 등) 공백으로 변환\n",
    "    #sentence = re.sub('[m]{2,}', 'mm', sentence) # m이 3개 이상이면 2개로 변경. Ex) ummmmmmm yeah -> umm yeah\n",
    "    \n",
    "    # 불용어 제거 (Text)\n",
    "    if remove_stopwords:\n",
    "        tokens = ' '.join(word for word in sentence.split() if not word in stopwords.words('english') if len(word) > 1)\n",
    "    # 불용어 미제거 (Summary)\n",
    "    else:\n",
    "        tokens = ' '.join(word for word in sentence.split() if len(word) > 1)\n",
    "    return tokens"
   ]
  },
  {
   "cell_type": "code",
   "execution_count": 13,
   "id": "chief-lodge",
   "metadata": {},
   "outputs": [
    {
     "name": "stdout",
     "output_type": "stream",
     "text": [
      "everything bought great, infact ordered twice third ordered wasfor mother father.\n",
      "great way to start the day!!!\n"
     ]
    }
   ],
   "source": [
    "# 전처리 전, 후의 결과를 확인하기 위해 임의의 text와 headline를 만들어 함수를 호출\n",
    "# (코드 오류가 난다면 parser가 설치되어있지 않은 것이니, lxml을 설치 : pip install lxml)\n",
    "\n",
    "temp_text = 'Everything I bought was great, infact I ordered twice and the third ordered was<br />for my mother and father.'\n",
    "temp_headlines = 'Great way to start (or finish) the day!!!'\n",
    "\n",
    "print(preprocess_sentence(temp_text))\n",
    "print(preprocess_sentence(temp_headlines, False))  # 불용어를 제거하지 않습니다.\n",
    "\n",
    "# 결과 : 모두 소문자로 변환, html 태그 제거, 괄호나 특수문자 제거"
   ]
  },
  {
   "cell_type": "code",
   "execution_count": 14,
   "id": "collective-parade",
   "metadata": {},
   "outputs": [
    {
     "data": {
      "text/plain": [
       "['text',\n",
       " \"saurav kant, alumnus upgrad iiit-b's pg program machine learning artificial intelligence, sr systems engineer infosys almost years work experience. program upgrad's 360-degree career support helped transition data scientist tech mahindra 90% salary hike. upgrad's online power learning powered lakh+ careers.\",\n",
       " \"kunal shah's credit card bill payment platform, cred, gave users chance win free food swiggy one year. pranav kaushik, delhi techie, bagged reward spending 2000 cred coins. users get one cred coin per rupee bill paid, used avail rewards brands like ixigo, bookmyshow, ubereats, cult.fit more.\",\n",
       " \"new zealand defeated india wickets fourth odi hamilton thursday win first match five-match odi series. india lost international match rohit sharma's captaincy 12 consecutive victories dating back march 2018. match witnessed india getting 92, seventh lowest total odi cricket history.\",\n",
       " 'aegon life iterm insurance plan, customers enjoy tax benefits premiums paid save ã¢â\\x82â¹46,800^ taxes. plan provides life cover age 100 years. also, customers options insure critical illnesses, disability accidental death benefit rider life cover age 80 years.']"
      ]
     },
     "execution_count": 14,
     "metadata": {},
     "output_type": "execute_result"
    }
   ],
   "source": [
    "# 훈련 데이터 전체에 전처리 수행\n",
    "# 이때, text의 경우 불용어 제거하고, headlines의 경우 불용어를 제거하지 않을 것이므로 따로 호출하여 진행\n",
    "# 먼저 text를 전처리하고, 결과를 확인하기 위해서 상위 5개의 줄을 출력해보기\n",
    "\n",
    "clean_text = []\n",
    "\n",
    "# 전체 text 데이터에 대한 전처리 : 시간 오래 걸릴 수 있음 \n",
    "for s in data['text']:\n",
    "    clean_text.append(preprocess_sentence(s))\n",
    "\n",
    "# 전처리 후 출력\n",
    "clean_text[:5]"
   ]
  },
  {
   "cell_type": "code",
   "execution_count": 15,
   "id": "olympic-surface",
   "metadata": {},
   "outputs": [
    {
     "data": {
      "text/plain": [
       "['headlines',\n",
       " 'upgrad learner switches to career in ml al with 90% salary hike',\n",
       " 'delhi techie wins free food from swiggy for one year on cred',\n",
       " \"new zealand end rohit sharma-led india's 12-match winning streak\",\n",
       " 'aegon life iterm insurance plan helps customers save tax']"
      ]
     },
     "execution_count": 15,
     "metadata": {},
     "output_type": "execute_result"
    }
   ],
   "source": [
    "# 이제 headlines에 대해서 전처리 함수를 호출해줄 때, 불용어 제거를 수행하지 않는다는 의미에서 두번째 인자로 False를 넣어주기\n",
    "\n",
    "clean_headlines = []\n",
    "\n",
    "# 전체 headlines 데이터에 대한 전처리 : 5분 이상 시간이 걸릴 수 있습니다. \n",
    "for s in data['headlines']:\n",
    "    clean_headlines.append(preprocess_sentence(s, False))\n",
    "\n",
    "clean_headlines[:5]\n",
    "\n",
    "# 텍스트 정제 과정을 거친 후, 다시 한번 빈(empty) 샘플이 생겼는지 확인\n",
    "# 정제 전에는 데이터가 존재했지만, 정제 과정에서 문장의 모든 단어가 사라지는 경우가 있을 수 있음\n",
    "# 이렇게 되면 샘플 자체가 빈 값을 가지게 됨"
   ]
  },
  {
   "cell_type": "code",
   "execution_count": 16,
   "id": "urban-wheat",
   "metadata": {},
   "outputs": [],
   "source": [
    "# 쉽게 확인하기 위해 데이터들을 데이터프레임에 재저장하고 빈(empty) 값을 갖는 샘플들은 모두 Null 값을 가진 샘플로 대체\n",
    "\n",
    "data['text'] = clean_text\n",
    "data['headlines'] = clean_headlines\n",
    "\n",
    "# 빈 값을 Null 값으로 변환\n",
    "data.replace('', np.nan, inplace=True)"
   ]
  },
  {
   "cell_type": "code",
   "execution_count": 17,
   "id": "seasonal-christmas",
   "metadata": {},
   "outputs": [
    {
     "data": {
      "text/plain": [
       "headlines    0\n",
       "text         0\n",
       "dtype: int64"
      ]
     },
     "execution_count": 17,
     "metadata": {},
     "output_type": "execute_result"
    }
   ],
   "source": [
    "# .isnull().sum()을 사용하여 Null 값이 생겼는지 확인\n",
    "\n",
    "data.isnull().sum()\n",
    "\n",
    "# headlines 열에서 70개의 Null 값이 생성\n",
    "# 원래는 단어가 있었는데, 정제 과정에서 모든 단어가 제거되어 빈 샘플이 70개 생겼다는 의미"
   ]
  },
  {
   "cell_type": "code",
   "execution_count": 18,
   "id": "adaptive-supplement",
   "metadata": {},
   "outputs": [
    {
     "name": "stdout",
     "output_type": "stream",
     "text": [
      "전체 샘플수 : 98360\n"
     ]
    }
   ],
   "source": [
    "# Null 샘플들 모두 제거\n",
    "\n",
    "data.dropna(axis=0, inplace=True)\n",
    "print('전체 샘플수 :',(len(data)))  #데이터 전처리 함수"
   ]
  },
  {
   "cell_type": "markdown",
   "id": "mineral-professor",
   "metadata": {},
   "source": [
    "### (2) 훈련데이터와 테스트데이터 나누기  \n",
    "* 학습에 사용할 데이터의 크기를 결정하고, 문장의 시작과 끝 표시하기"
   ]
  },
  {
   "cell_type": "markdown",
   "id": "rising-english",
   "metadata": {},
   "source": [
    "#### 샘플 최대 길이 정하기"
   ]
  },
  {
   "cell_type": "code",
   "execution_count": 19,
   "id": "champion-invasion",
   "metadata": {},
   "outputs": [
    {
     "name": "stdout",
     "output_type": "stream",
     "text": [
      "텍스트의 최소 길이 : 1\n",
      "텍스트의 최대 길이 : 64\n",
      "텍스트의 평균 길이 : 35.881659211061404\n",
      "헤드라인의 최소 길이 : 1\n",
      "헤드라인의 최대 길이 : 16\n",
      "헤드라인의 평균 길이 : 9.42547783651891\n"
     ]
    },
    {
     "data": {
      "image/png": "[encoded data removed]",
      "text/plain": [
       "<Figure size 432x288 with 2 Axes>"
      ]
     },
     "metadata": {
      "needs_background": "light"
     },
     "output_type": "display_data"
    },
    {
     "data": {
      "image/png": "[encoded data removed]",
      "text/plain": [
       "<Figure size 432x288 with 1 Axes>"
      ]
     },
     "metadata": {
      "needs_background": "light"
     },
     "output_type": "display_data"
    },
    {
     "data": {
      "image/png": "[encoded data removed]",
      "text/plain": [
       "<Figure size 432x288 with 1 Axes>"
      ]
     },
     "metadata": {
      "needs_background": "light"
     },
     "output_type": "display_data"
    }
   ],
   "source": [
    "# text와 headlines의 최소, 최대, 평균 길이를 구하고 길이 분포를 시각화하여 확인\n",
    "\n",
    "# 길이 분포 출력\n",
    "import matplotlib.pyplot as plt\n",
    "\n",
    "text_len = [len(s.split()) for s in data['text']]\n",
    "headlines_len = [len(s.split()) for s in data['headlines']]\n",
    "\n",
    "print('텍스트의 최소 길이 : {}'.format(np.min(text_len)))\n",
    "print('텍스트의 최대 길이 : {}'.format(np.max(text_len)))\n",
    "print('텍스트의 평균 길이 : {}'.format(np.mean(text_len)))\n",
    "print('헤드라인의 최소 길이 : {}'.format(np.min(headlines_len)))\n",
    "print('헤드라인의 최대 길이 : {}'.format(np.max(headlines_len)))\n",
    "print('헤드라인의 평균 길이 : {}'.format(np.mean(headlines_len)))\n",
    "\n",
    "plt.subplot(1,2,1)\n",
    "plt.boxplot(headlines_len)\n",
    "plt.title('headlines')\n",
    "plt.subplot(1,2,2)\n",
    "plt.boxplot(text_len)\n",
    "plt.title('text')\n",
    "plt.tight_layout()\n",
    "plt.show()\n",
    "\n",
    "plt.title('headlines')\n",
    "plt.hist(headlines_len, bins = 40)\n",
    "plt.xlabel('length of samples')\n",
    "plt.ylabel('number of samples')\n",
    "plt.show()\n",
    "\n",
    "plt.title('text')\n",
    "plt.hist(text_len, bins = 40)\n",
    "plt.xlabel('length of samples')\n",
    "plt.ylabel('number of samples')\n",
    "plt.show()"
   ]
  },
  {
   "cell_type": "code",
   "execution_count": 20,
   "id": "dominant-possession",
   "metadata": {},
   "outputs": [],
   "source": [
    "# text의 최대 길이와 headlines의 적절한 최대 길이 임의로 정해보기\n",
    "\n",
    "text_max_len = 50\n",
    "headlines_max_len = 16\n",
    "\n",
    "# 이 길이를 선택했을 때, 얼마나 많은 샘플들을 자르지 않고 포함할 수 있는지 통계로 확인하는 편이 객관적으로 길이를 결정하는데 도움이 될 것임"
   ]
  },
  {
   "cell_type": "code",
   "execution_count": 21,
   "id": "wrong-restoration",
   "metadata": {},
   "outputs": [],
   "source": [
    "# 좀 더 정확한 판단을 위하여, 훈련 데이터와 샘플의 길이를 입력하면 데이터의 몇 %가 해당하는지 계산하는 함수 만들기\n",
    "\n",
    "def below_threshold_len(max_len, nested_list):\n",
    "  cnt = 0\n",
    "  for s in nested_list:\n",
    "    if(len(s.split()) <= max_len):\n",
    "        cnt = cnt + 1\n",
    "  print('전체 샘플 중 길이가 %s 이하인 샘플의 비율: %s'%(max_len, (cnt / len(nested_list))))"
   ]
  },
  {
   "cell_type": "code",
   "execution_count": 22,
   "id": "conceptual-jason",
   "metadata": {},
   "outputs": [
    {
     "name": "stdout",
     "output_type": "stream",
     "text": [
      "전체 샘플 중 길이가 50 이하인 샘플의 비율: 0.9998373322488816\n",
      "전체 샘플 중 길이가 16 이하인 샘플의 비율: 1.0\n"
     ]
    }
   ],
   "source": [
    "# 함수를 text와 headlines에 적용해 우리가 결정한 임의의 길이가 몇%의 샘플까지 포함하는지 확인해 보기\n",
    "\n",
    "below_threshold_len(text_max_len, data['text'])\n",
    "below_threshold_len(headlines_max_len,  data['headlines'])\n",
    "\n",
    "# 결과 : 각각 50과 8로 패딩을 하게되면 해당 길이보다 긴 샘플들은 내용이 잘리게 되는데,\n",
    "# text 열의 경우에는 약 23%의 샘플들이 내용이 망가지게 된다함"
   ]
  },
  {
   "cell_type": "code",
   "execution_count": 23,
   "id": "adequate-polyester",
   "metadata": {},
   "outputs": [
    {
     "name": "stdout",
     "output_type": "stream",
     "text": [
      "전체 샘플수 : 98344\n"
     ]
    }
   ],
   "source": [
    "# 정해진 길이에 맞춰 자르는 것이 아니라, 정해진 길이보다 길면 제외하는 방법으로 데이터를 정제\n",
    "\n",
    "data = data[data['text'].apply(lambda x: len(x.split()) <= text_max_len)]\n",
    "data = data[data['headlines'].apply(lambda x: len(x.split()) <= headlines_max_len)]\n",
    "print('전체 샘플수 :',(len(data)))"
   ]
  },
  {
   "cell_type": "markdown",
   "id": "extra-coordinate",
   "metadata": {},
   "source": [
    "#### 시작 토큰과 종료 토큰 추가하기"
   ]
  },
  {
   "cell_type": "code",
   "execution_count": 24,
   "id": "million-retrieval",
   "metadata": {},
   "outputs": [
    {
     "data": {
      "text/html": [
       "<div>\n",
       "<style scoped>\n",
       "    .dataframe tbody tr th:only-of-type {\n",
       "        vertical-align: middle;\n",
       "    }\n",
       "\n",
       "    .dataframe tbody tr th {\n",
       "        vertical-align: top;\n",
       "    }\n",
       "\n",
       "    .dataframe thead th {\n",
       "        text-align: right;\n",
       "    }\n",
       "</style>\n",
       "<table border=\"1\" class=\"dataframe\">\n",
       "  <thead>\n",
       "    <tr style=\"text-align: right;\">\n",
       "      <th></th>\n",
       "      <th>headlines</th>\n",
       "      <th>text</th>\n",
       "      <th>decoder_input</th>\n",
       "      <th>decoder_target</th>\n",
       "    </tr>\n",
       "  </thead>\n",
       "  <tbody>\n",
       "    <tr>\n",
       "      <th>0</th>\n",
       "      <td>headlines</td>\n",
       "      <td>text</td>\n",
       "      <td>sostoken headlines</td>\n",
       "      <td>headlines eostoken</td>\n",
       "    </tr>\n",
       "    <tr>\n",
       "      <th>1</th>\n",
       "      <td>upgrad learner switches to career in ml al wit...</td>\n",
       "      <td>saurav kant, alumnus upgrad iiit-b's pg progra...</td>\n",
       "      <td>sostoken upgrad learner switches to career in ...</td>\n",
       "      <td>upgrad learner switches to career in ml al wit...</td>\n",
       "    </tr>\n",
       "    <tr>\n",
       "      <th>2</th>\n",
       "      <td>delhi techie wins free food from swiggy for on...</td>\n",
       "      <td>kunal shah's credit card bill payment platform...</td>\n",
       "      <td>sostoken delhi techie wins free food from swig...</td>\n",
       "      <td>delhi techie wins free food from swiggy for on...</td>\n",
       "    </tr>\n",
       "    <tr>\n",
       "      <th>3</th>\n",
       "      <td>new zealand end rohit sharma-led india's 12-ma...</td>\n",
       "      <td>new zealand defeated india wickets fourth odi ...</td>\n",
       "      <td>sostoken new zealand end rohit sharma-led indi...</td>\n",
       "      <td>new zealand end rohit sharma-led india's 12-ma...</td>\n",
       "    </tr>\n",
       "    <tr>\n",
       "      <th>4</th>\n",
       "      <td>aegon life iterm insurance plan helps customer...</td>\n",
       "      <td>aegon life iterm insurance plan, customers enj...</td>\n",
       "      <td>sostoken aegon life iterm insurance plan helps...</td>\n",
       "      <td>aegon life iterm insurance plan helps customer...</td>\n",
       "    </tr>\n",
       "  </tbody>\n",
       "</table>\n",
       "</div>"
      ],
      "text/plain": [
       "                                           headlines  \\\n",
       "0                                          headlines   \n",
       "1  upgrad learner switches to career in ml al wit...   \n",
       "2  delhi techie wins free food from swiggy for on...   \n",
       "3  new zealand end rohit sharma-led india's 12-ma...   \n",
       "4  aegon life iterm insurance plan helps customer...   \n",
       "\n",
       "                                                text  \\\n",
       "0                                               text   \n",
       "1  saurav kant, alumnus upgrad iiit-b's pg progra...   \n",
       "2  kunal shah's credit card bill payment platform...   \n",
       "3  new zealand defeated india wickets fourth odi ...   \n",
       "4  aegon life iterm insurance plan, customers enj...   \n",
       "\n",
       "                                       decoder_input  \\\n",
       "0                                 sostoken headlines   \n",
       "1  sostoken upgrad learner switches to career in ...   \n",
       "2  sostoken delhi techie wins free food from swig...   \n",
       "3  sostoken new zealand end rohit sharma-led indi...   \n",
       "4  sostoken aegon life iterm insurance plan helps...   \n",
       "\n",
       "                                      decoder_target  \n",
       "0                                 headlines eostoken  \n",
       "1  upgrad learner switches to career in ml al wit...  \n",
       "2  delhi techie wins free food from swiggy for on...  \n",
       "3  new zealand end rohit sharma-led india's 12-ma...  \n",
       "4  aegon life iterm insurance plan helps customer...  "
      ]
     },
     "execution_count": 24,
     "metadata": {},
     "output_type": "execute_result"
    }
   ],
   "source": [
    "# 시작 토큰은 'sostoken', 종료 토큰은 'eostoken'이라 임의로 명명하고 앞, 뒤로 추가\n",
    "# 디코더의 입력에 해당하면서 시작 토큰이 맨 앞에 있는 문장의 이름을 decoder_input,\n",
    "# 디코더의 출력 또는 레이블에 해당되면서 종료 토큰이 맨 뒤에 붙는 문장의 이름을 decoder_target이라고 하기\n",
    "# 두 개의 문장 모두 Summary 열로부터 만들 것임\n",
    "\n",
    "#요약 데이터에는 시작 토큰과 종료 토큰을 추가한다.\n",
    "data['decoder_input'] = data['headlines'].apply(lambda x : 'sostoken '+ x)\n",
    "data['decoder_target'] = data['headlines'].apply(lambda x : x + ' eostoken')\n",
    "data.head()"
   ]
  },
  {
   "cell_type": "code",
   "execution_count": 25,
   "id": "heated-summary",
   "metadata": {},
   "outputs": [],
   "source": [
    "# 인코더의 입력, 디코더의 입력과 레이블을 각각 다시 Numpy 타입으로 저장\n",
    "\n",
    "encoder_input = np.array(data['text']) # 인코더의 입력\n",
    "decoder_input = np.array(data['decoder_input']) # 디코더의 입력\n",
    "decoder_target = np.array(data['decoder_target']) # 디코더의 레이블"
   ]
  },
  {
   "cell_type": "code",
   "execution_count": 26,
   "id": "understanding-artist",
   "metadata": {},
   "outputs": [
    {
     "name": "stdout",
     "output_type": "stream",
     "text": [
      "[74169  9441 91085 ...  7337 65841 18472]\n"
     ]
    }
   ],
   "source": [
    "# 훈련 데이터와 테스트 데이터 분리 : 분리 패키지를 사용하는 방법과 직접 코딩을 통해서 분리하는 방법 중 직접 코딩하여 분리\n",
    "\n",
    "# 1. encoder_input과 크기 및 형태가 같은 순서가 섞인 정수 시퀀스 만들기\n",
    "\n",
    "indices = np.arange(encoder_input.shape[0])\n",
    "np.random.shuffle(indices)\n",
    "print(indices)"
   ]
  },
  {
   "cell_type": "code",
   "execution_count": 27,
   "id": "supported-address",
   "metadata": {},
   "outputs": [],
   "source": [
    "# 이 정수 시퀀스를 이용해 다시 데이터의 샘플 순서를 정의해주어 잘 섞인 샘플 만들기\n",
    "\n",
    "encoder_input = encoder_input[indices]\n",
    "decoder_input = decoder_input[indices]\n",
    "decoder_target = decoder_target[indices]"
   ]
  },
  {
   "cell_type": "code",
   "execution_count": 28,
   "id": "legislative-twelve",
   "metadata": {},
   "outputs": [
    {
     "name": "stdout",
     "output_type": "stream",
     "text": [
      "테스트 데이터의 수 : 19668\n"
     ]
    }
   ],
   "source": [
    "# 섞인 데이터를 8:2의 비율로 훈련 데이터와 테스트 데이터로 분리\n",
    "\n",
    "n_of_val = int(len(encoder_input)*0.2)\n",
    "print('테스트 데이터의 수 :',n_of_val)"
   ]
  },
  {
   "cell_type": "code",
   "execution_count": 29,
   "id": "romantic-intranet",
   "metadata": {},
   "outputs": [
    {
     "name": "stdout",
     "output_type": "stream",
     "text": [
      "훈련 데이터의 개수 : 78676\n",
      "훈련 레이블의 개수 : 78676\n",
      "테스트 데이터의 개수 : 19668\n",
      "테스트 레이블의 개수 : 19668\n"
     ]
    }
   ],
   "source": [
    "# 테스트 데이터의 개수를 이용하여 전체 데이터 분할\n",
    "# :표시의 위치에 주의\n",
    "\n",
    "encoder_input_train = encoder_input[:-n_of_val]\n",
    "decoder_input_train = decoder_input[:-n_of_val]\n",
    "decoder_target_train = decoder_target[:-n_of_val]\n",
    "\n",
    "encoder_input_test = encoder_input[-n_of_val:]\n",
    "decoder_input_test = decoder_input[-n_of_val:]\n",
    "decoder_target_test = decoder_target[-n_of_val:]\n",
    "\n",
    "print('훈련 데이터의 개수 :', len(encoder_input_train))\n",
    "print('훈련 레이블의 개수 :',len(decoder_input_train))\n",
    "print('테스트 데이터의 개수 :',len(encoder_input_test))\n",
    "print('테스트 레이블의 개수 :',len(decoder_input_test))"
   ]
  },
  {
   "cell_type": "markdown",
   "id": "supreme-particle",
   "metadata": {},
   "source": [
    "### (3) 정수 인코딩"
   ]
  },
  {
   "cell_type": "markdown",
   "id": "recovered-apple",
   "metadata": {},
   "source": [
    "#### 단어 집합(vocaburary) 만들기 및 정수 인코딩"
   ]
  },
  {
   "cell_type": "code",
   "execution_count": 30,
   "id": "proprietary-worship",
   "metadata": {},
   "outputs": [],
   "source": [
    "# 훈련 데이터에 대해서 단어 집합을 만들어보기\n",
    "# 우선, 원문에 해당되는 encoder_input_train에 대해서 단어 집합을 만들기\n",
    "# Keras의 토크나이저를 사용하면, 입력된 훈련 데이터로부터 단어 집합을 만들 수 있음\n",
    "\n",
    "src_tokenizer = Tokenizer() # 토크나이저 정의\n",
    "src_tokenizer.fit_on_texts(encoder_input_train) # 입력된 데이터로부터 단어 집합 생성\n",
    "\n",
    "# 이제 단어 집합이 생성되는 동시에 각 단어에 고유한 정수 부여\n",
    "# 현재 생성된 단어 집합은 src_tokenizer.word_index에 저장되어있음\n",
    "# 이렇게 만든 단어 집합에 있는 모든 단어를 사용하는 것이 아니라, 빈도수가 낮은 단어들은 훈련 데이터에서 제외하고 진행할 것임"
   ]
  },
  {
   "cell_type": "code",
   "execution_count": 31,
   "id": "obvious-discrimination",
   "metadata": {},
   "outputs": [
    {
     "name": "stdout",
     "output_type": "stream",
     "text": [
      "단어 집합(vocabulary)의 크기 : 90560\n",
      "등장 빈도가 6번 이하인 희귀 단어의 수: 65961\n",
      "단어 집합에서 희귀 단어를 제외시킬 경우의 단어 집합의 크기 24599\n",
      "단어 집합에서 희귀 단어의 비율: 72.83679328621908\n",
      "전체 등장 빈도에서 희귀 단어 등장 빈도 비율: 4.3125090691818535\n"
     ]
    }
   ],
   "source": [
    "# 등장 빈도수가 7회 미만인 단어들이 이 데이터에서 얼만큼의 비중을 차지하는지 확인\n",
    "# src_tokenizer.word_counts.items()에는 단어와 각 단어의 등장 빈도수가 저장되어져 있는데, 이를 통해 통계적인 정보를 얻음\n",
    "\n",
    "threshold = 7\n",
    "total_cnt = len(src_tokenizer.word_index) # 단어의 수\n",
    "rare_cnt = 0 # 등장 빈도수가 threshold보다 작은 단어의 개수를 카운트\n",
    "total_freq = 0 # 훈련 데이터의 전체 단어 빈도수 총 합\n",
    "rare_freq = 0 # 등장 빈도수가 threshold보다 작은 단어의 등장 빈도수의 총 합\n",
    "\n",
    "# 단어와 빈도수의 쌍(pair)을 key와 value로 받는다.\n",
    "for key, value in src_tokenizer.word_counts.items():\n",
    "    total_freq = total_freq + value\n",
    "\n",
    "    # 단어의 등장 빈도수가 threshold보다 작으면\n",
    "    if(value < threshold):\n",
    "        rare_cnt = rare_cnt + 1\n",
    "        rare_freq = rare_freq + value\n",
    "\n",
    "print('단어 집합(vocabulary)의 크기 :',total_cnt)   # encoder_input_train에 있는 총 단어수\n",
    "print('등장 빈도가 %s번 이하인 희귀 단어의 수: %s'%(threshold - 1, rare_cnt))\n",
    "print('단어 집합에서 희귀 단어를 제외시킬 경우의 단어 집합의 크기 %s'%(total_cnt - rare_cnt))\n",
    "print(\"단어 집합에서 희귀 단어의 비율:\", (rare_cnt / total_cnt)*100)\n",
    "print(\"전체 등장 빈도에서 희귀 단어 등장 빈도 비율:\", (rare_freq / total_freq)*100)"
   ]
  },
  {
   "cell_type": "code",
   "execution_count": 32,
   "id": "signal-accounting",
   "metadata": {},
   "outputs": [],
   "source": [
    "# 등장 빈도가 6회 이하인 단어들은 정수 인코딩 과정에서 빼고, 훈련 데이터에서 제거\n",
    "# 위에서 이를 제외한 단어 집합의 크기가 대략 8000 안팍으로 계산되는데, 이와 비슷한 값으로 어림잡아 단어 집합의 크기를 8000으로 제한\n",
    "# 토크나이저를 정의할 때 num_words의 값을 정해주면, 단어 집합의 크기를 제한할 수 있음\n",
    "\n",
    "src_vocab = 8000\n",
    "src_tokenizer = Tokenizer(num_words = src_vocab) # 단어 집합의 크기를 8,000으로 제한\n",
    "src_tokenizer.fit_on_texts(encoder_input_train) # 단어 집합 재생성."
   ]
  },
  {
   "cell_type": "code",
   "execution_count": 33,
   "id": "medium-bobby",
   "metadata": {},
   "outputs": [
    {
     "name": "stdout",
     "output_type": "stream",
     "text": [
      "[[1822, 291, 298, 3370, 352, 380, 654, 85, 2889, 2870, 618, 61, 47, 160, 122, 47, 2, 452, 1820, 79, 163, 161, 35, 80, 1206, 1095, 20, 149, 4949, 22, 2889, 201, 1021, 298], [2103, 1, 2534, 245, 6, 2668, 329, 2472, 453, 30, 42, 376, 1644, 109, 6, 422, 5765, 1086, 4990, 823, 1332, 811, 410, 3, 1, 6113, 1001, 245, 2103, 430, 478], [436, 37, 91, 6539, 48, 86, 908, 276, 1087, 1739, 665, 1185, 350, 55, 37, 491, 789, 10, 1185, 564, 6258, 630, 316, 65, 500, 300, 1272, 6631, 209, 52, 2708, 350, 1185, 276, 1087, 1394]]\n"
     ]
    }
   ],
   "source": [
    "# texts_to_sequences()는 생성된 단어 집합에 기반하여 입력으로 주어진 텍스트 데이터의 단어들을 모두 정수로 변환하는 정수 인코딩 수행\n",
    "# 현재 단어 집합의 크기를 8,000으로 제한했으니까 이제 8,000이 넘는 숫자들은 정수 인코딩 후에 데이터에 존재하지 않음\n",
    "\n",
    "# 텍스트 시퀀스를 정수 시퀀스로 변환\n",
    "encoder_input_train = src_tokenizer.texts_to_sequences(encoder_input_train) \n",
    "encoder_input_test = src_tokenizer.texts_to_sequences(encoder_input_test)\n",
    "\n",
    "#잘 진행되었는지 샘플 출력\n",
    "print(encoder_input_train[:3])\n",
    "\n",
    "# 결과 : 텍스트를 정수로 바꿨으니까 정수로 출력"
   ]
  },
  {
   "cell_type": "code",
   "execution_count": 34,
   "id": "informational-mistake",
   "metadata": {},
   "outputs": [],
   "source": [
    "# headlines 데이터에 대해서도 동일한 작업 수행\n",
    "# 케라스의 토크나이저를 사용하여 decoder_input_train을 입력으로 전체 단어 집합과 각 단어에 대한 빈도수를 계산\n",
    "\n",
    "tar_tokenizer = Tokenizer()\n",
    "tar_tokenizer.fit_on_texts(decoder_input_train)\n",
    "\n",
    "# 단어 집합이 생성되는 동시에 각 단어에 고유한 정수가 부여되고 이는 tar_tokenizer.word_index에 저장\n",
    "# tar_tokenizer.word_counts.items()에는 단어와 각 단어의 등장 빈도수가 저장"
   ]
  },
  {
   "cell_type": "code",
   "execution_count": 35,
   "id": "better-certification",
   "metadata": {},
   "outputs": [
    {
     "name": "stdout",
     "output_type": "stream",
     "text": [
      "단어 집합(vocabulary)의 크기 : 40658\n",
      "등장 빈도가 5번 이하인 희귀 단어의 수: 29380\n",
      "단어 집합에서 희귀 단어를 제외시킬 경우의 단어 집합의 크기 11278\n",
      "단어 집합에서 희귀 단어의 비율: 72.2613015888632\n",
      "전체 등장 빈도에서 희귀 단어 등장 빈도 비율: 6.199318941696273\n"
     ]
    }
   ],
   "source": [
    "# 이를 통해서 통계적인 정보를 얻어서, 등장 빈도수가 6회 미만인 단어들이 이 데이터에서 얼만큼의 비중을 차지하는지 확인\n",
    "\n",
    "threshold = 6\n",
    "total_cnt = len(tar_tokenizer.word_index) # 단어의 수\n",
    "rare_cnt = 0 # 등장 빈도수가 threshold보다 작은 단어의 개수를 카운트\n",
    "total_freq = 0 # 훈련 데이터의 전체 단어 빈도수 총 합\n",
    "rare_freq = 0 # 등장 빈도수가 threshold보다 작은 단어의 등장 빈도수의 총 합\n",
    "\n",
    "# 단어와 빈도수의 쌍(pair)을 key와 value로 받는다.\n",
    "for key, value in tar_tokenizer.word_counts.items():\n",
    "    total_freq = total_freq + value\n",
    "\n",
    "    # 단어의 등장 빈도수가 threshold보다 작으면\n",
    "    if(value < threshold):\n",
    "        rare_cnt = rare_cnt + 1\n",
    "        rare_freq = rare_freq + value\n",
    "\n",
    "print('단어 집합(vocabulary)의 크기 :',total_cnt)\n",
    "print('등장 빈도가 %s번 이하인 희귀 단어의 수: %s'%(threshold - 1, rare_cnt))\n",
    "print('단어 집합에서 희귀 단어를 제외시킬 경우의 단어 집합의 크기 %s'%(total_cnt - rare_cnt))\n",
    "print(\"단어 집합에서 희귀 단어의 비율:\", (rare_cnt / total_cnt)*100)\n",
    "print(\"전체 등장 빈도에서 희귀 단어 등장 빈도 비율:\", (rare_freq / total_freq)*100)"
   ]
  },
  {
   "cell_type": "code",
   "execution_count": 36,
   "id": "electric-breed",
   "metadata": {},
   "outputs": [
    {
     "name": "stdout",
     "output_type": "stream",
     "text": [
      "input\n",
      "input  [[1, 165, 6, 236, 17, 416], [1, 43, 226, 8, 15, 13, 1847, 3, 352, 1003, 364, 1320], [1, 126, 16, 510, 362, 4, 1113], [1, 1740, 42, 89, 93, 4, 577, 10, 344, 55], [1, 33, 441, 724, 450, 243, 657, 637]]\n",
      "target\n",
      "decoder  [[165, 6, 236, 17, 416, 2], [43, 226, 8, 15, 13, 1847, 3, 352, 1003, 364, 1320, 2], [126, 16, 510, 362, 4, 1113, 2], [1740, 42, 89, 93, 4, 577, 10, 344, 55, 2], [33, 441, 724, 450, 243, 657, 637, 2]]\n"
     ]
    }
   ],
   "source": [
    "# 위와 마찬가지로 등장빈도가 적은 희귀 단어들(대략 2000개) 제거 : 단어집합 크기 제한\n",
    "\n",
    "tar_vocab = 2000\n",
    "tar_tokenizer = Tokenizer(num_words = tar_vocab) \n",
    "tar_tokenizer.fit_on_texts(decoder_input_train)\n",
    "tar_tokenizer.fit_on_texts(decoder_target_train)\n",
    "\n",
    "# 텍스트 시퀀스를 정수 시퀀스로 변환\n",
    "decoder_input_train = tar_tokenizer.texts_to_sequences(decoder_input_train) \n",
    "decoder_target_train = tar_tokenizer.texts_to_sequences(decoder_target_train)\n",
    "decoder_input_test = tar_tokenizer.texts_to_sequences(decoder_input_test)\n",
    "decoder_target_test = tar_tokenizer.texts_to_sequences(decoder_target_test)\n",
    "\n",
    "#잘 변환되었는지 확인\n",
    "print('input')\n",
    "print('input ',decoder_input_train[:5])\n",
    "print('target')\n",
    "print('decoder ',decoder_target_train[:5])"
   ]
  },
  {
   "cell_type": "markdown",
   "id": "broadband-niger",
   "metadata": {},
   "source": [
    "##### 패딩 작업 전 점검 사항  \n",
    "전체 데이터에서 빈도수가 낮은 단어가 삭제되었다는 것은 빈도수가 낮은 단어만으로 구성되었던 샘플들은 이제 빈(empty) 샘플이 되었을 가능성이 있어요. 이 현상은 길이가 상대적으로 길었던 원문(Text)의 경우에는 문제가 별로 없겠지만, 애초에 평균 길이가 4밖에 되지 않았던 요약문(Summary)의 경우에는 이 현상이 굉장히 두드러졌을 가능성이 높겠죠.  \n",
    "  \n",
    "요약문에서 길이가 0이 된 샘플들의 인덱스를 받아와볼게요. 여기서 주의할 점은 요약문인 decoder_input에는 sostoken 또는 decoder_target에는 eostoken이 추가된 상태이고, 이 두 토큰은 모든 샘플에서 등장하므로 빈도수가 샘플수와 동일하게 매우 높으므로 단어 집합 제한에도 삭제 되지 않아요. 그래서 이제 길이가 0이 된 요약문의 실제길이는 1로 나올거에요. 길이 0이 된 decoder_input에는 sostoken, decoder_target에는 eostoken만 남아 있을테니까요."
   ]
  },
  {
   "cell_type": "code",
   "execution_count": 37,
   "id": "peripheral-standing",
   "metadata": {},
   "outputs": [
    {
     "name": "stdout",
     "output_type": "stream",
     "text": [
      "삭제할 훈련 데이터의 개수 : 17\n",
      "삭제할 테스트 데이터의 개수 : 5\n",
      "훈련 데이터의 개수 : 78659\n",
      "훈련 레이블의 개수 : 78659\n",
      "테스트 데이터의 개수 : 19663\n",
      "테스트 레이블의 개수 : 19663\n"
     ]
    },
    {
     "name": "stderr",
     "output_type": "stream",
     "text": [
      "/home/aiffel-dj42/anaconda3/envs/aiffel/lib/python3.7/site-packages/numpy/core/_asarray.py:83: VisibleDeprecationWarning: Creating an ndarray from ragged nested sequences (which is a list-or-tuple of lists-or-tuples-or ndarrays with different lengths or shapes) is deprecated. If you meant to do this, you must specify 'dtype=object' when creating the ndarray\n",
      "  return array(a, dtype, copy=False, order=order)\n"
     ]
    }
   ],
   "source": [
    "# 훈련 데이터와 테스트 데이터에서 요약문의 길이가 1인 경우의 인덱스를 각각 drop_train과 drop_test에 라는 변수에 저장\n",
    "# 이 샘플들은 모두 삭제\n",
    "\n",
    "drop_train = [index for index, sentence in enumerate(decoder_input_train) if len(sentence) == 1]\n",
    "drop_test = [index for index, sentence in enumerate(decoder_input_test) if len(sentence) == 1]\n",
    "\n",
    "print('삭제할 훈련 데이터의 개수 :',len(drop_train))\n",
    "print('삭제할 테스트 데이터의 개수 :',len(drop_test))\n",
    "\n",
    "encoder_input_train = np.delete(encoder_input_train, drop_train, axis=0)\n",
    "decoder_input_train = np.delete(decoder_input_train, drop_train, axis=0)\n",
    "decoder_target_train = np.delete(decoder_target_train, drop_train, axis=0)\n",
    "\n",
    "encoder_input_test = np.delete(encoder_input_test, drop_test, axis=0)\n",
    "decoder_input_test = np.delete(decoder_input_test, drop_test, axis=0)\n",
    "decoder_target_test = np.delete(decoder_target_test, drop_test, axis=0)\n",
    "\n",
    "print('훈련 데이터의 개수 :', len(encoder_input_train))\n",
    "print('훈련 레이블의 개수 :',len(decoder_input_train))\n",
    "print('테스트 데이터의 개수 :',len(encoder_input_test))\n",
    "print('테스트 레이블의 개수 :',len(decoder_input_test))"
   ]
  },
  {
   "cell_type": "markdown",
   "id": "charitable-flush",
   "metadata": {},
   "source": [
    "#### 패딩하기"
   ]
  },
  {
   "cell_type": "code",
   "execution_count": 38,
   "id": "polar-coalition",
   "metadata": {},
   "outputs": [],
   "source": [
    "# 텍스트 시퀀스를 정수 시퀀스로 변환 후, 서로 다른 길이의 샘플들을 병렬 처리하기 위해 같은 길이로 맞춰주는 패딩 작업 필요\n",
    "# 아까 정해두었던 최대 길이로 패딩함\n",
    "# 최대 길이보다 짧은 데이터들은 뒤의 공간에 숫자 0을 넣어 최대 길이로 길이를 맞춰주기\n",
    "\n",
    "encoder_input_train = pad_sequences(encoder_input_train, maxlen = text_max_len, padding='post')\n",
    "encoder_input_test = pad_sequences(encoder_input_test, maxlen = text_max_len, padding='post')\n",
    "decoder_input_train = pad_sequences(decoder_input_train, maxlen = headlines_max_len, padding='post')\n",
    "decoder_target_train = pad_sequences(decoder_target_train, maxlen = headlines_max_len, padding='post')\n",
    "decoder_input_test = pad_sequences(decoder_input_test, maxlen = headlines_max_len, padding='post')\n",
    "decoder_target_test = pad_sequences(decoder_target_test, maxlen = headlines_max_len, padding='post')\n",
    "\n",
    "# 학습에 필요한 전처리 끝!!!!!"
   ]
  },
  {
   "cell_type": "markdown",
   "id": "seven-child",
   "metadata": {},
   "source": [
    "## Step 3. 어텐션 메커니즘 사용하기 (추상적 요약)  \n",
    "일반적인 seq2seq보다는 어텐션 메커니즘을 사용한 seq2seq를 사용하는 것이 더 나은 성능을 얻을 수 있어요. 실습 내용을 참고하여 어텐션 메커니즘을 사용한 seq2seq를 설계해 보세요."
   ]
  },
  {
   "cell_type": "markdown",
   "id": "embedded-complex",
   "metadata": {},
   "source": [
    "### (1) 모델 설계"
   ]
  },
  {
   "cell_type": "code",
   "execution_count": 39,
   "id": "starting-monte",
   "metadata": {},
   "outputs": [
    {
     "name": "stdout",
     "output_type": "stream",
     "text": [
      "WARNING:tensorflow:Layer lstm will not use cuDNN kernel since it doesn't meet the cuDNN kernel criteria. It will use generic GPU kernel as fallback when running on GPU\n",
      "WARNING:tensorflow:Layer lstm_1 will not use cuDNN kernel since it doesn't meet the cuDNN kernel criteria. It will use generic GPU kernel as fallback when running on GPU\n",
      "WARNING:tensorflow:Layer lstm_2 will not use cuDNN kernel since it doesn't meet the cuDNN kernel criteria. It will use generic GPU kernel as fallback when running on GPU\n"
     ]
    }
   ],
   "source": [
    "# 함수형 API를 이용하여 인코더를 설계\n",
    "\n",
    "from tensorflow.keras.layers import Input, LSTM, Embedding, Dense, Concatenate\n",
    "from tensorflow.keras.models import Model\n",
    "from tensorflow.keras.callbacks import EarlyStopping, ModelCheckpoint\n",
    "\n",
    "\n",
    "# 인코더 설계 시작\n",
    "embedding_dim = 128\n",
    "hidden_size = 256\n",
    "\n",
    "# 인코더\n",
    "encoder_inputs = Input(shape=(text_max_len,))\n",
    "\n",
    "# 인코더의 임베딩 층\n",
    "enc_emb = Embedding(src_vocab, embedding_dim)(encoder_inputs)\n",
    "\n",
    "# 인코더의 LSTM 1\n",
    "encoder_lstm1 = LSTM(hidden_size, return_sequences=True, return_state=True ,dropout = 0.4, recurrent_dropout = 0.4)\n",
    "encoder_output1, state_h1, state_c1 = encoder_lstm1(enc_emb)\n",
    "\n",
    "# 인코더의 LSTM 2\n",
    "encoder_lstm2 = LSTM(hidden_size, return_sequences=True, return_state=True, dropout=0.4, recurrent_dropout=0.4)\n",
    "encoder_output2, state_h2, state_c2 = encoder_lstm2(encoder_output1)\n",
    "\n",
    "# 인코더의 LSTM 3\n",
    "encoder_lstm3 = LSTM(hidden_size, return_state=True, return_sequences=True, dropout=0.4, recurrent_dropout=0.4)\n",
    "encoder_outputs, state_h, state_c= encoder_lstm3(encoder_output2)"
   ]
  },
  {
   "cell_type": "code",
   "execution_count": 40,
   "id": "peripheral-governor",
   "metadata": {},
   "outputs": [
    {
     "name": "stdout",
     "output_type": "stream",
     "text": [
      "WARNING:tensorflow:Layer lstm_3 will not use cuDNN kernel since it doesn't meet the cuDNN kernel criteria. It will use generic GPU kernel as fallback when running on GPU\n"
     ]
    }
   ],
   "source": [
    "# 디코더 설계\n",
    "\n",
    "decoder_inputs = Input(shape=(None,))\n",
    "\n",
    "# 디코더의 임베딩 층\n",
    "dec_emb_layer = Embedding(tar_vocab, embedding_dim)\n",
    "dec_emb = dec_emb_layer(decoder_inputs)\n",
    "\n",
    "# 디코더의 LSTM\n",
    "decoder_lstm = LSTM(hidden_size, return_sequences = True, return_state = True, dropout = 0.4, recurrent_dropout=0.2)\n",
    "decoder_outputs, _, _ = decoder_lstm(dec_emb, initial_state = [state_h, state_c])"
   ]
  },
  {
   "cell_type": "code",
   "execution_count": 41,
   "id": "tired-johnson",
   "metadata": {},
   "outputs": [
    {
     "name": "stdout",
     "output_type": "stream",
     "text": [
      "Model: \"model\"\n",
      "__________________________________________________________________________________________________\n",
      "Layer (type)                    Output Shape         Param #     Connected to                     \n",
      "==================================================================================================\n",
      "input_1 (InputLayer)            [(None, 50)]         0                                            \n",
      "__________________________________________________________________________________________________\n",
      "embedding (Embedding)           (None, 50, 128)      1024000     input_1[0][0]                    \n",
      "__________________________________________________________________________________________________\n",
      "lstm (LSTM)                     [(None, 50, 256), (N 394240      embedding[0][0]                  \n",
      "__________________________________________________________________________________________________\n",
      "input_2 (InputLayer)            [(None, None)]       0                                            \n",
      "__________________________________________________________________________________________________\n",
      "lstm_1 (LSTM)                   [(None, 50, 256), (N 525312      lstm[0][0]                       \n",
      "__________________________________________________________________________________________________\n",
      "embedding_1 (Embedding)         (None, None, 128)    256000      input_2[0][0]                    \n",
      "__________________________________________________________________________________________________\n",
      "lstm_2 (LSTM)                   [(None, 50, 256), (N 525312      lstm_1[0][0]                     \n",
      "__________________________________________________________________________________________________\n",
      "lstm_3 (LSTM)                   [(None, None, 256),  394240      embedding_1[0][0]                \n",
      "                                                                 lstm_2[0][1]                     \n",
      "                                                                 lstm_2[0][2]                     \n",
      "__________________________________________________________________________________________________\n",
      "dense (Dense)                   (None, None, 2000)   514000      lstm_3[0][0]                     \n",
      "==================================================================================================\n",
      "Total params: 3,633,104\n",
      "Trainable params: 3,633,104\n",
      "Non-trainable params: 0\n",
      "__________________________________________________________________________________________________\n"
     ]
    }
   ],
   "source": [
    "# 디코더의 출력층 설계\n",
    "decoder_softmax_layer = Dense(tar_vocab, activation = 'softmax')\n",
    "decoder_softmax_outputs = decoder_softmax_layer(decoder_outputs) \n",
    "\n",
    "# 모델 정의\n",
    "model = Model([encoder_inputs, decoder_inputs], decoder_softmax_outputs)\n",
    "model.summary()"
   ]
  },
  {
   "cell_type": "markdown",
   "id": "phantom-madness",
   "metadata": {},
   "source": [
    "#### 어텐션 매커니즘  \n",
    "* 어텐션 메커니즘을 수행하는 어텐션 함수를 설계하는 것은 또 다른 새로운 신경망을 설계해야한다는 뜻  \n",
    "* 참고1 : https://wikidocs.net/73161  \n",
    "* 참고2 : https://www.youtube.com/watch?v=WsQLdu2JMgI"
   ]
  },
  {
   "cell_type": "code",
   "execution_count": 42,
   "id": "useful-origin",
   "metadata": {},
   "outputs": [],
   "source": [
    "# 깃허브에 공개되어져 있는 어텐션 함수를 다운로드\n",
    "\n",
    "urllib.request.urlretrieve(\"https://raw.githubusercontent.com/thushv89/attention_keras/master/src/layers/attention.py\", filename=\"attention.py\")\n",
    "from attention import AttentionLayer\n",
    "\n",
    "# 경로에 attention.py 파일이 생겼으니, 어텐션 메커니즘을 사용할 준비가 되었음"
   ]
  },
  {
   "cell_type": "code",
   "execution_count": 43,
   "id": "global-bennett",
   "metadata": {},
   "outputs": [
    {
     "name": "stdout",
     "output_type": "stream",
     "text": [
      "Model: \"model_1\"\n",
      "__________________________________________________________________________________________________\n",
      "Layer (type)                    Output Shape         Param #     Connected to                     \n",
      "==================================================================================================\n",
      "input_1 (InputLayer)            [(None, 50)]         0                                            \n",
      "__________________________________________________________________________________________________\n",
      "embedding (Embedding)           (None, 50, 128)      1024000     input_1[0][0]                    \n",
      "__________________________________________________________________________________________________\n",
      "lstm (LSTM)                     [(None, 50, 256), (N 394240      embedding[0][0]                  \n",
      "__________________________________________________________________________________________________\n",
      "input_2 (InputLayer)            [(None, None)]       0                                            \n",
      "__________________________________________________________________________________________________\n",
      "lstm_1 (LSTM)                   [(None, 50, 256), (N 525312      lstm[0][0]                       \n",
      "__________________________________________________________________________________________________\n",
      "embedding_1 (Embedding)         (None, None, 128)    256000      input_2[0][0]                    \n",
      "__________________________________________________________________________________________________\n",
      "lstm_2 (LSTM)                   [(None, 50, 256), (N 525312      lstm_1[0][0]                     \n",
      "__________________________________________________________________________________________________\n",
      "lstm_3 (LSTM)                   [(None, None, 256),  394240      embedding_1[0][0]                \n",
      "                                                                 lstm_2[0][1]                     \n",
      "                                                                 lstm_2[0][2]                     \n",
      "__________________________________________________________________________________________________\n",
      "attention_layer (AttentionLayer ((None, None, 256),  131328      lstm_2[0][0]                     \n",
      "                                                                 lstm_3[0][0]                     \n",
      "__________________________________________________________________________________________________\n",
      "concat_layer (Concatenate)      (None, None, 512)    0           lstm_3[0][0]                     \n",
      "                                                                 attention_layer[0][0]            \n",
      "__________________________________________________________________________________________________\n",
      "dense_1 (Dense)                 (None, None, 2000)   1026000     concat_layer[0][0]               \n",
      "==================================================================================================\n",
      "Total params: 4,276,432\n",
      "Trainable params: 4,276,432\n",
      "Non-trainable params: 0\n",
      "__________________________________________________________________________________________________\n"
     ]
    }
   ],
   "source": [
    "# 설계한 디코더의 출력층을 다음과 같이 수정\n",
    "\n",
    "# 어텐션 층(어텐션 함수)\n",
    "attn_layer = AttentionLayer(name='attention_layer')\n",
    "# 인코더와 디코더의 모든 time step의 hidden state를 어텐션 층에 전달하고 결과를 리턴\n",
    "attn_out, attn_states = attn_layer([encoder_outputs, decoder_outputs])\n",
    "\n",
    "# 어텐션의 결과와 디코더의 hidden state들을 연결\n",
    "decoder_concat_input = Concatenate(axis = -1, name='concat_layer')([decoder_outputs, attn_out])\n",
    "\n",
    "# 디코더의 출력층\n",
    "decoder_softmax_layer = Dense(tar_vocab, activation='softmax')\n",
    "decoder_softmax_outputs = decoder_softmax_layer(decoder_concat_input)\n",
    "\n",
    "# 모델 정의\n",
    "model = Model([encoder_inputs, decoder_inputs], decoder_softmax_outputs)\n",
    "model.summary()\n",
    "\n",
    "# 위의 코드는 인코더의 hidden state들과 디코더의 hidden state들을 어텐션 함수의 입력으로 사용\n",
    "# 어텐션 함수가 리턴한 값을 예측 시에 디코더의 hidden state와 함께 활용하는 형태로 작동"
   ]
  },
  {
   "cell_type": "markdown",
   "id": "failing-circuit",
   "metadata": {},
   "source": [
    "### (2) 모델 훈련"
   ]
  },
  {
   "cell_type": "code",
   "execution_count": 44,
   "id": "personalized-provider",
   "metadata": {},
   "outputs": [
    {
     "name": "stdout",
     "output_type": "stream",
     "text": [
      "Epoch 1/50\n",
      "308/308 [==============================] - 123s 398ms/step - loss: 2.9653 - val_loss: 2.7078\n",
      "Epoch 2/50\n",
      "308/308 [==============================] - 123s 398ms/step - loss: 2.5819 - val_loss: 2.4794\n",
      "Epoch 3/50\n",
      "308/308 [==============================] - 124s 402ms/step - loss: 2.3779 - val_loss: 2.3239\n",
      "Epoch 4/50\n",
      "308/308 [==============================] - 125s 406ms/step - loss: 2.2423 - val_loss: 2.2262\n",
      "Epoch 5/50\n",
      "308/308 [==============================] - 123s 400ms/step - loss: 2.1410 - val_loss: 2.1413\n",
      "Epoch 6/50\n",
      "308/308 [==============================] - 125s 405ms/step - loss: 2.0583 - val_loss: 2.0835\n",
      "Epoch 7/50\n",
      "308/308 [==============================] - 124s 404ms/step - loss: 1.9877 - val_loss: 2.0364\n",
      "Epoch 8/50\n",
      "308/308 [==============================] - 124s 401ms/step - loss: 1.9281 - val_loss: 1.9906\n",
      "Epoch 9/50\n",
      "308/308 [==============================] - 123s 401ms/step - loss: 1.8756 - val_loss: 1.9647\n",
      "Epoch 10/50\n",
      "308/308 [==============================] - 124s 401ms/step - loss: 1.8302 - val_loss: 1.9312\n",
      "Epoch 11/50\n",
      "308/308 [==============================] - 123s 398ms/step - loss: 1.7896 - val_loss: 1.9135\n",
      "Epoch 12/50\n",
      "308/308 [==============================] - 121s 394ms/step - loss: 1.7538 - val_loss: 1.8925\n",
      "Epoch 13/50\n",
      "308/308 [==============================] - 121s 392ms/step - loss: 1.7201 - val_loss: 1.8835\n",
      "Epoch 14/50\n",
      "308/308 [==============================] - 121s 393ms/step - loss: 1.6899 - val_loss: 1.8686\n",
      "Epoch 15/50\n",
      "308/308 [==============================] - 122s 397ms/step - loss: 1.6620 - val_loss: 1.8560\n",
      "Epoch 16/50\n",
      "308/308 [==============================] - 122s 397ms/step - loss: 1.6359 - val_loss: 1.8528\n",
      "Epoch 17/50\n",
      "308/308 [==============================] - 121s 392ms/step - loss: 1.6125 - val_loss: 1.8434\n",
      "Epoch 18/50\n",
      "308/308 [==============================] - 121s 394ms/step - loss: 1.5895 - val_loss: 1.8390\n",
      "Epoch 19/50\n",
      "308/308 [==============================] - 119s 387ms/step - loss: 1.5689 - val_loss: 1.8328\n",
      "Epoch 20/50\n",
      "308/308 [==============================] - 119s 387ms/step - loss: 1.5491 - val_loss: 1.8276\n",
      "Epoch 21/50\n",
      "308/308 [==============================] - 119s 386ms/step - loss: 1.5305 - val_loss: 1.8203\n",
      "Epoch 22/50\n",
      "308/308 [==============================] - 118s 383ms/step - loss: 1.5133 - val_loss: 1.8186\n",
      "Epoch 23/50\n",
      "308/308 [==============================] - 118s 384ms/step - loss: 1.4960 - val_loss: 1.8180\n",
      "Epoch 24/50\n",
      "308/308 [==============================] - 119s 387ms/step - loss: 1.4802 - val_loss: 1.8185\n",
      "Epoch 25/50\n",
      "308/308 [==============================] - 118s 385ms/step - loss: 1.4651 - val_loss: 1.8125\n",
      "Epoch 26/50\n",
      "308/308 [==============================] - 120s 388ms/step - loss: 1.4509 - val_loss: 1.8118\n",
      "Epoch 27/50\n",
      "308/308 [==============================] - 121s 393ms/step - loss: 1.4369 - val_loss: 1.8120\n",
      "Epoch 28/50\n",
      "308/308 [==============================] - 120s 388ms/step - loss: 1.4238 - val_loss: 1.8135\n",
      "Epoch 00028: early stopping\n"
     ]
    }
   ],
   "source": [
    "# 모델 훈련(학습)\n",
    "\n",
    "model.compile(optimizer='rmsprop', loss='sparse_categorical_crossentropy')\n",
    "\n",
    "# EarlyStopping : 조기 종료, 특정 조건이 충족되면 모델의 훈련을 멈추는 역할\n",
    "# 여기서는 val_loss(검증 데이터의 손실)을 모니터링 하면서, 검증 데이터의 손실이 줄어들지 않고 증가하는 현상이 patiensce =2\n",
    "# 즉, 2회 관측되면 학습을 멈추도록 설정\n",
    "es = EarlyStopping(monitor='val_loss', mode='min', verbose=1, patience = 2)\n",
    "\n",
    "history = model.fit(x = [encoder_input_train, decoder_input_train], y = decoder_target_train, \\\n",
    "          validation_data = ([encoder_input_test, decoder_input_test], decoder_target_test),\n",
    "          batch_size = 256, callbacks=[es], epochs = 50)"
   ]
  },
  {
   "cell_type": "code",
   "execution_count": 45,
   "id": "naughty-spare",
   "metadata": {},
   "outputs": [
    {
     "data": {
      "image/png": "[encoded data removed]",
      "text/plain": [
       "<Figure size 432x288 with 1 Axes>"
      ]
     },
     "metadata": {
      "needs_background": "light"
     },
     "output_type": "display_data"
    }
   ],
   "source": [
    "# 훈련 데이터의 손실과 검증 데이터의 손실이 줄어드는 과정을 시각화\n",
    "\n",
    "plt.plot(history.history['loss'], label='train')\n",
    "plt.plot(history.history['val_loss'], label='test')\n",
    "plt.legend()\n",
    "plt.show()"
   ]
  },
  {
   "cell_type": "markdown",
   "id": "occasional-crime",
   "metadata": {},
   "source": [
    "### (3) 인퍼런스 모델 구현하기"
   ]
  },
  {
   "cell_type": "code",
   "execution_count": 46,
   "id": "latter-nurse",
   "metadata": {},
   "outputs": [],
   "source": [
    "# 테스트 단계에서 정수 인덱스 행렬로 존재하던 텍스트 데이터를 실제 데이터로 복원해야 하므로, 필요한 3개의 사전을 미리 준비\n",
    "\n",
    "src_index_to_word = src_tokenizer.index_word # 원문 단어 집합에서 정수 -> 단어를 얻음\n",
    "tar_word_to_index = tar_tokenizer.word_index # 헤드라인 단어 집합에서 단어 -> 정수를 얻음\n",
    "tar_index_to_word = tar_tokenizer.index_word # 헤드라인 단어 집합에서 정수 -> 단어를 얻음"
   ]
  },
  {
   "cell_type": "markdown",
   "id": "silver-psychology",
   "metadata": {},
   "source": [
    "##### seq2seq는 훈련할 때와 실제 동작할 때(인퍼런스 단계)의 방식이 다르므로 그에 맞게 모델 설계를 별개로 진행  \n",
    "훈련 단계에서는 디코더의 입력부에 정답이 되는 문장 전체를 한꺼번에 넣고 디코더의 출력과 한번에 비교할 수 있으므로, 인코더와 디코더를 엮은 통짜 모델 하나만 준비  \n",
    "  \n",
    "그러나 정답 문장이 없는 인퍼런스 단계에서는 만들어야 할 문장의 길이만큼 디코더가 반복 구조로 동작해야 하기 때문에 부득이하게 인퍼런스를 위한 모델 설계를 별도로 해주어야 함  \n",
    "  \n",
    "이 때는 인코더 모델과 디코더 모델을 분리해서 설계"
   ]
  },
  {
   "cell_type": "code",
   "execution_count": 47,
   "id": "false-kruger",
   "metadata": {},
   "outputs": [],
   "source": [
    "# 인코더 설계\n",
    "encoder_model = Model(inputs=encoder_inputs, outputs=[encoder_outputs, state_h, state_c])\n",
    "\n",
    "# 이전 시점의 상태들을 저장하는 텐서\n",
    "decoder_state_input_h = Input(shape=(hidden_size,))\n",
    "decoder_state_input_c = Input(shape=(hidden_size,))\n",
    "\n",
    "dec_emb2 = dec_emb_layer(decoder_inputs)\n",
    "# 문장의 다음 단어를 예측하기 위해서 초기 상태(initial_state)를 이전 시점의 상태로 사용. 이는 뒤의 함수 decode_sequence()에 구현\n",
    "# 훈련 과정에서와 달리 LSTM의 리턴하는 은닉 상태와 셀 상태인 state_h와 state_c를 버리지 않음.\n",
    "decoder_outputs2, state_h2, state_c2 = decoder_lstm(dec_emb2, initial_state=[decoder_state_input_h, decoder_state_input_c])"
   ]
  },
  {
   "cell_type": "code",
   "execution_count": 48,
   "id": "apparent-communist",
   "metadata": {},
   "outputs": [],
   "source": [
    "# 어텐션 함수\n",
    "decoder_hidden_state_input = Input(shape=(text_max_len, hidden_size))\n",
    "attn_out_inf, attn_states_inf = attn_layer([decoder_hidden_state_input, decoder_outputs2])\n",
    "decoder_inf_concat = Concatenate(axis=-1, name='concat')([decoder_outputs2, attn_out_inf])\n",
    "\n",
    "# 디코더의 출력층\n",
    "decoder_outputs2 = decoder_softmax_layer(decoder_inf_concat) \n",
    "\n",
    "# 최종 디코더 모델\n",
    "decoder_model = Model(\n",
    "    [decoder_inputs] + [decoder_hidden_state_input,decoder_state_input_h, decoder_state_input_c],\n",
    "    [decoder_outputs2] + [state_h2, state_c2])"
   ]
  },
  {
   "cell_type": "code",
   "execution_count": 49,
   "id": "activated-holocaust",
   "metadata": {},
   "outputs": [],
   "source": [
    "# 인퍼런스 단계에서 단어 시퀀스를 완성하는 함수 만들기\n",
    "\n",
    "def decode_sequence(input_seq):\n",
    "    # 입력으로부터 인코더의 상태를 얻음\n",
    "    e_out, e_h, e_c = encoder_model.predict(input_seq)\n",
    "\n",
    "     # <SOS>에 해당하는 토큰 생성\n",
    "    target_seq = np.zeros((1,1))\n",
    "    target_seq[0, 0] = tar_word_to_index['sostoken']\n",
    "\n",
    "    stop_condition = False\n",
    "    decoded_sentence = ''\n",
    "    while not stop_condition: # stop_condition이 True가 될 때까지 루프 반복\n",
    "\n",
    "        output_tokens, h, c = decoder_model.predict([target_seq] + [e_out, e_h, e_c])\n",
    "        sampled_token_index = np.argmax(output_tokens[0, -1, :])\n",
    "        sampled_token = tar_index_to_word[sampled_token_index]\n",
    "\n",
    "        if(sampled_token!='eostoken'):\n",
    "            decoded_sentence += ' '+sampled_token\n",
    "\n",
    "        #  <eos>에 도달하거나 최대 길이를 넘으면 중단.\n",
    "        if (sampled_token == 'eostoken'  or len(decoded_sentence.split()) >= (headlines_max_len-1)):\n",
    "            stop_condition = True\n",
    "\n",
    "        # 길이가 1인 타겟 시퀀스를 업데이트\n",
    "        target_seq = np.zeros((1,1))\n",
    "        target_seq[0, 0] = sampled_token_index\n",
    "\n",
    "        # 상태를 업데이트 합니다.\n",
    "        e_h, e_c = h, c\n",
    "\n",
    "    return decoded_sentence"
   ]
  },
  {
   "cell_type": "markdown",
   "id": "daily-columbia",
   "metadata": {},
   "source": [
    "## Step 4. 실제 결과와 요약문 비교하기 (추상적 요약) : 모델 테스트  \n",
    "원래의 요약문(headlines 열)과 학습을 통해 얻은 추상적 요약의 결과를 비교해보세요."
   ]
  },
  {
   "cell_type": "code",
   "execution_count": 50,
   "id": "known-princeton",
   "metadata": {},
   "outputs": [],
   "source": [
    "# 주어진 정수 시퀀스를 텍스트 시퀀스로 변환하는 함수를 만들어 두기\n",
    "# 1. text의 정수 시퀀스에서는 패딩을 위해 사용되는 숫자 0을 제외시키고\n",
    "# 2. headlines의 정수 시퀀스에서는 숫자 0, 시작 토큰의 인덱스, 종료 토큰의 인덱스를 출력에서 제외\n",
    "\n",
    "# 원문의 정수 시퀀스를 텍스트 시퀀스로 변환\n",
    "def seq2text(input_seq):\n",
    "    temp=''\n",
    "    for i in input_seq:\n",
    "        if(i!=0):\n",
    "            temp = temp + src_index_to_word[i]+' '\n",
    "    return temp\n",
    "\n",
    "# 요약문의 정수 시퀀스를 텍스트 시퀀스로 변환\n",
    "def seq2summary(input_seq):\n",
    "    temp=''\n",
    "    for i in input_seq:\n",
    "        if((i!=0 and i!=tar_word_to_index['sostoken']) and i!=tar_word_to_index['eostoken']):\n",
    "            temp = temp + tar_index_to_word[i] + ' '\n",
    "    return temp"
   ]
  },
  {
   "cell_type": "code",
   "execution_count": 51,
   "id": "qualified-missouri",
   "metadata": {},
   "outputs": [
    {
     "name": "stdout",
     "output_type": "stream",
     "text": [
      "원문 : us bank wells recently hit fraudulent accounts scandal said cutting 69 senior level executive jobs bank reduce number regional area presidents 91 current 160 bank facing another scandal charged many lakh customers auto insurance need \n",
      "실제 요약 : cuts top jobs post accounts scandal \n",
      "예측 요약 :  bank of bank accounts in\n",
      "\n",
      "\n",
      "원문 : janata dal spokesperson said bihar chief minister nitish kumar would become manmohan singh upa 2 continued charges corruption surfaced tejashwi yadav slamming sharad yadav's stand said yadav bjp's support 1999 issue then \n",
      "실제 요약 : nitish would have become singh of 2 jd leader \n",
      "예측 요약 :  nitish kumar to be in\n",
      "\n",
      "\n",
      "원문 : whistleblower suggested government must anyone uses aadhaar data purposes public services added penalty must introduced indian government serious aadhaar public good privacy issues helps violate it said \n",
      "실제 요약 : govt must anyone aadhaar data \n",
      "예측 요약 :  aadhaar must be mandatory for aadhaar\n",
      "\n",
      "\n",
      "원문 : aap led delhi government tuesday asked supreme court whether constitution india parliamentary law declared delhi india's capital delhi government's advocate asserted national capital territory delhi act delhi capital india tomorrow centre decide move capital somewhere else added \n",
      "실제 요약 : no for as delhi govt \n",
      "예측 요약 :  delhi govt seeks to delhi govt\n",
      "\n",
      "\n",
      "원문 : two firs registered bjp mp sharma several others connection two cases violence uttar pradesh incidents violence took place thursday wherein members two communities pelted stones rally mark ambedkar injuring several people nearly 300 unidentified people involved clashes \n",
      "실제 요약 : two against bjp mp over violence \n",
      "예측 요약 :  bjp mp cases of bjp mp in riots\n",
      "\n",
      "\n",
      "원문 : windies' chris gayle making return international cricket 15 months india one off t20i said targeting play another two world team targeting another t20 another 50 over world cup i keep fitness can compromise play national tournaments said 37 year old \n",
      "실제 요약 : to play another two world for \n",
      "예측 요약 :  to miss int'l cricket team\n",
      "\n",
      "\n",
      "원문 : uttar pradesh government directed cinema display newly unveiled kumbh mela logo right national anthem played screening movies government also made mandatory carry logo government publicity material including advertisements state nearly ã¢ââ¹2 500 crore kumbh allahabad 2019 \n",
      "실제 요약 : up to show before films \n",
      "예측 요약 :  up govt to make national anthem\n",
      "\n",
      "\n",
      "원문 : numerous women social media shared pictures scene wherein lead actress gal sword back gown women also used instead pictures users tagged pictures hashtag \n",
      "실제 요약 : women woman's in scene \n",
      "예측 요약 :  women dance to women in\n",
      "\n",
      "\n",
      "원문 : prominent venture former president google china lee said investment firm ventures withdraw us trade relations two countries easy thing us look smart technical chinese people america bring back china lee said \n",
      "실제 요약 : will out of us if trade war ex google china head \n",
      "예측 요약 :  would love to make us china\n",
      "\n",
      "\n",
      "원문 : four foot wide hole appeared flyover national highway gurugram flyover toll opened last year national highways authority india ease traffic road leading affected area start soon officials said \n",
      "실제 요약 : 4 foot on gurugram built last year \n",
      "예측 요약 :  4 foot long on road in\n",
      "\n",
      "\n",
      "원문 : former indian opener commentator sanjay said batsmen allowed take help dressing room doubt decision review system review fielding side 11 players word going review rules fair teams added \n",
      "실제 요약 : should be allowed help from \n",
      "예측 요약 :  should not stop it is not\n",
      "\n",
      "\n",
      "원문 : afghanistan wicketkeeper batsman mohammad named man match run knock india tuesday said match ending tie fair happy hours ground without result added talking hundred said feeling proud i played like best asian side \n",
      "실제 요약 : hours on no is not on vs india \n",
      "예측 요약 :  once by ball in pak\n",
      "\n",
      "\n",
      "원문 : shares united holdings fell 3 7 trade tuesday nearly 800 million company's market value came video police officers passenger united airlines flight sparked social media later ceo defended employees saying followed proper procedures \n",
      "실제 요약 : airline loses ã¢ââ¹5 100 cr in day after man off plane \n",
      "예측 요약 :  uber shares fall on day after scandal\n",
      "\n",
      "\n",
      "원문 : microsoft announced acquisition two new video game studios entertainment entertainment continue operate unique microsoft corporate vp said known new wars old famous 2' \n",
      "실제 요약 : microsoft two video game \n",
      "예측 요약 :  microsoft to open new new\n",
      "\n",
      "\n",
      "원문 : new york florida flight forced make emergency landing monday smoke reported cabin two hours flight flight landed safely north carolina two passengers taken hospital several others complained flight delayed estimated seven hours \n",
      "실제 요약 : in flight \n",
      "예측 요약 :  plane makes emergency landing after engine fails\n",
      "\n",
      "\n",
      "원문 : announcing cancellation india pakistan talks india's ministry external affairs spokesperson kumar said behind pakistan's proposal talks make fresh beginning evil agenda pakistan stands exposed true face new prime minister pakistan revealed world first months office \n",
      "실제 요약 : pakistan pm imran khan's face has been india \n",
      "예측 요약 :  india should not be part of pak pak envoy\n",
      "\n",
      "\n",
      "원문 : india born brothers group topped sunday times rich list 2017 uk combined fortune 21 billion david iraqi jewish origin mumbai born ranked third richest 18 billion fortune steel lakshmi mittal uk's fourth richest 17 billion \n",
      "실제 요약 : india born top list with 21 bn \n",
      "예측 요약 :  india tops list of top spot in 2017\n",
      "\n",
      "\n",
      "원문 : tesla announced achieved milestone producing 7 000 cars week europe ceo trolled tesla ceo elon musk monday tweeting cars hours tesla achieved milestone sunday initially planning meet 2017 musk even wrote email tesla team congratulating achievement \n",
      "실제 요약 : ceo trolls elon musk over car production \n",
      "예측 요약 :  tesla tesla car twice on musk's musk's elon musk\n",
      "\n",
      "\n",
      "원문 : dig submitted report alleging vk sasikala given vip treatment jail issued notice asking apology leading newspapers notice served transferred karnataka dgp rao blamed report taking bribe give sasikala special treatment jail \n",
      "실제 요약 : gets notice to in \n",
      "예측 요약 :  sends notice to for\n",
      "\n",
      "\n",
      "원문 : new zealand prime minister became first female world leader attend united nations general assembly newborn seen kissing playing three month old daughter address partner clarke seen holding infant spoke un general assembly new york us \n",
      "실제 요약 : nz pm 1st female world leader to attend with baby \n",
      "예측 요약 :  nz nz cricketer named 1st female gay in history\n",
      "\n",
      "\n",
      "원문 : francisco one spain's wanted drug surrendered police appeared music video cameo run two years purportedly mock police failure find him allegedly runs trafficking network southern spain \n",
      "실제 요약 : drug lord arrested after in music video \n",
      "예측 요약 :  drug fight in music video\n",
      "\n",
      "\n",
      "원문 : air france pilot declared mid air emergency aircraft struck lightning flying paris friday aircraft since landed safely airport injuries passengers crew air france spokesperson said meanwhile picture flight path shared aviation watch site \n",
      "실제 요약 : air france flight by declares emergency \n",
      "예측 요약 :  air india flight after engine falls into\n",
      "\n",
      "\n",
      "원문 : us president donald trump mocked rally saying single going home mom added say trump claimed 'the fake claim next day massive protests rally \n",
      "실제 요약 : say to your trump mocks \n",
      "예측 요약 :  trump calls for his wife\n",
      "\n",
      "\n",
      "원문 : us based e commerce giant amazon made formal offer acquire 60 stake indian counterpart flipkart two companies per reports amazon also offered fee 2 billion reports added meanwhile walmart offering buy controlling stake flipkart 10 12 billion \n",
      "실제 요약 : amazon makes offer to buy 60 flipkart stake reports \n",
      "예측 요약 :  amazon may sell stake in flipkart reports\n",
      "\n",
      "\n",
      "원문 : uttar pradesh government friday told supreme court got government including allotted former chief ministers persons occupied beyond time pay charges government added \n",
      "실제 요약 : govt those for ex up to sc \n",
      "예측 요약 :  up govt seeks special for special scam\n",
      "\n",
      "\n",
      "원문 : despite sea ice reaching second lowest extent record british survey led forced return ship km 24 hours 400 km left scientists wanted investigate ecosystem hidden ice 120 000 years recently exposed separation trillion tonne last july \n",
      "실제 요약 : ship km in 24 hours in ice turns back \n",
      "예측 요약 :  ice ice in\n",
      "\n",
      "\n",
      "원문 : foreign visitors iceland estimated local population seven one year many 23 lakh people expected visited iceland houses 3 4 lakh residents end 2017 tourism second biggest industry sector accounting 8 4 gross domestic product 2016 \n",
      "실제 요약 : to have tourists per this year \n"
     ]
    },
    {
     "name": "stdout",
     "output_type": "stream",
     "text": [
      "예측 요약 :  foreign in\n",
      "\n",
      "\n",
      "원문 : supreme court thursday agreed examine pleas filed congress leaders kamal nath sachin pilot alleging names poll bound madhya pradesh rajasthan also sought random verification machines apex court sought response election commission state election madhya pradesh rajasthan n \n",
      "실제 요약 : sc to of congress leaders on \n",
      "예측 요약 :  sc to plea against bjp for of\n",
      "\n",
      "\n",
      "원문 : flipkart's co founder group ceo binny bansal interview recalled e commerce startup got name said sachin said letters available 8 less added spent hours domain names thought flipkart way said \n",
      "실제 요약 : flipkart group ceo reveals how the startup got its name \n",
      "예측 요약 :  am not an of the best ceo\n",
      "\n",
      "\n",
      "원문 : million singing clock installed planned high speed railway station england work big art project winner station clock play 1 000 voices 12 musical sharp replace one 12 \n",
      "실제 요약 : to come up at england railway station \n",
      "예측 요약 :  crore to be built in india\n",
      "\n",
      "\n",
      "원문 : one leading indian newspapers slammed publishing ad section claimed homosexuality among men women responding ad executive editor tweeted find slipped in there zero discrimination controversial ad also shared equal rights activist iyer \n",
      "실제 요약 : ad for \n",
      "예측 요약 :  slammed for calling gay men\n",
      "\n",
      "\n",
      "원문 : national green tribunal monday imposed fine ã¢ââ¹10 lakh uttar pradesh government environment compensation failing take action e waste banks river green court also imposed environment compensation ã¢ââ¹50 000 district magistrate \n",
      "실제 요약 : up govt fined ã¢ââ¹10 lakh over e waste on river bank \n",
      "예측 요약 :  ngt fined ã¢ââ¹10 lakh for illegal\n",
      "\n",
      "\n",
      "원문 : union health minister said 65 tonnes medicine flood victims kerala 12 teams constituted deal public health issues kerala moment water action added crore tablets also sent said \n",
      "실제 요약 : 65 of sent to kerala union health minister \n",
      "예측 요약 :  centre to give kerala flood relief for kerala flood relief\n",
      "\n",
      "\n",
      "원문 : facing criticism ministry's asking pregnant women sex meat government issued clarification saying suggestion director in charge central council research yoga dr acharya said non pregnancy never wrote sex must \n",
      "실제 요약 : govt its no sex during \n",
      "예측 요약 :  slams women for sex remark\n",
      "\n",
      "\n",
      "원문 : us state secretary mike pompeo said country kim jong un part agenda summit north korean leader president donald trump trade off pending 25 years pompeo added referring failed negotiations north korea years \n",
      "실제 요약 : us will have to no change in korea \n",
      "예측 요약 :  korea has un of the un us state secy\n",
      "\n",
      "\n",
      "원문 : union women child development minister maneka gandhi said students taught major religious including least twice week teaching major hinduism islam help religious students develop young age maneka added \n",
      "실제 요약 : students should be twice week minister \n",
      "예측 요약 :  govt to for\n",
      "\n",
      "\n",
      "원문 : first song sonam kapoor kareena kapoor swara bhasker starrer 'veere di wedding' released song composed also written lyrics vocals singer directed ghosh 'veere di wedding' scheduled release june 1 \n",
      "실제 요약 : song from released \n",
      "예측 요약 :  first poster of sonam out\n",
      "\n",
      "\n",
      "원문 : 41 year old man passed away running fire burning man festival us' saturday aaron mitchell managed run past security festival wherein set ablaze said know part kind drugs \n",
      "실제 요약 : man dies after running into fire at us man festival \n",
      "예측 요약 :  man dies after fire at in china\n",
      "\n",
      "\n",
      "원문 : delhi glenn maxwell combined pull catch dismiss mumbai ipl 2018 sunday maxwell took reverse catch near straight boundary lose balance touch boundary rope maxwell threw ball inside crossing boundary completed catch \n",
      "실제 요약 : to off catch near \n",
      "예측 요약 :  ball catch to catch\n",
      "\n",
      "\n",
      "원문 : india's commonwealth gold winning devi suspended doping previously included anti doping panel sports ministry devi served six month suspension testing positive asian championships 2001 also part selection panel ratna awards 2014 \n",
      "실제 요약 : indian who failed test part of anti panel \n",
      "예측 요약 :  india's first test test\n",
      "\n",
      "\n",
      "원문 : actor anil kapoor shared picture golden celebrations cisf mumbai tweeting makes even proud 60 600 jawans present today female protect people anil wrote jawans families sacrifice much keep us safe \n",
      "실제 요약 : that 60 of 600 mumbai jawans are female anil \n",
      "예측 요약 :  anil kapoor shares pic of 60 000 people in mumbai\n",
      "\n",
      "\n",
      "원문 : pacer siddharth shared se meme making india debut ireland second t20i friday first picture caption se hi seen playing cricket childhood second image kuch hi caption shows receiving maiden cap ms dhoni \n",
      "실제 요약 : posts after india debut \n",
      "예측 요약 :  yadav shares his pic with his\n",
      "\n",
      "\n",
      "원문 : addressing audience recent music festival youth apple ceo tim cook said gift world also said heart see kids struggling society need struggle someone else thinks normal added \n",
      "실제 요약 : you are gift to the world cook to youth \n",
      "예측 요약 :  want to make my heart cook on apple ceo\n",
      "\n",
      "\n",
      "원문 : greek man sentenced 1 years prison smuggling iraqi syrian migrants country 54 year old convicted running smuggling ring 500 refugees greece main point migrants enter europe 2015 refugee crisis \n",
      "실제 요약 : man jailed for 1 years for smuggling \n",
      "예측 요약 :  man jailed for smuggling in prison\n",
      "\n",
      "\n",
      "원문 : kxip opener kl rahul player match trophy 94 run knock mi wednesday gave away fan stadium rahul slammed three sixes 10 fours failed help team chase target rahul also seen jersey hardik pandya \n",
      "실제 요약 : rahul gives trophy to fan after run goes in \n",
      "예측 요약 :  rahul dravid to win after match\n",
      "\n",
      "\n",
      "원문 : brazilian government work citizens watch brazil's fifa world cup matches people allowed report work pm days brazil play morning further leave work pm brazil matches afternoon \n",
      "실제 요약 : work in brazil for people to watch world cup \n",
      "예측 요약 :  watch wc final to world cup\n",
      "\n",
      "\n",
      "원문 : continue war drugs philippine president rodrigo duterte monday said fight would day began adding crackdown aimed stop drugs destroying families duterte said concern human rights mine human lives 4 500 people killed war drugs \n",
      "실제 요약 : drug war to be as day 1 \n",
      "예측 요약 :  philippine prez calls for\n",
      "\n",
      "\n",
      "원문 : brother family bsp mla anil singh cross voted favour bjp rajya sabha polls allegedly thrashed car borne uttar pradesh's unnao accused fled spot incident notably singh suspended bsp openly declared voted bjp \n",
      "실제 요약 : brother of mla who for bjp at \n",
      "예측 요약 :  son of bjp mla joins bjp\n",
      "\n",
      "\n",
      "원문 : general manager hotel jaipur arrested allegedly entering room two mexican women tourists molesting them victims contacted mexican embassy passed information police accused arrested basis complaint well cctv footage \n",
      "실제 요약 : hotel manager breaks into room women \n",
      "예측 요약 :  manager arrested for hotel in brazil\n",
      "\n",
      "\n",
      "원문 : earth passed debris left weekend expected light night sky rates 40 per hour known shower gets name appears come near one stars \n",
      "실제 요약 : of seen during \n",
      "예측 요약 :  earth from earth\n",
      "\n",
      "\n"
     ]
    }
   ],
   "source": [
    "# 테스트 데이터 약 50개의 샘플에 대해서 실제 요약과 예측된 요약을 비교\n",
    "\n",
    "for i in range(50, 100):\n",
    "    print(\"원문 :\", seq2text(encoder_input_test[i]))\n",
    "    print(\"실제 요약 :\", seq2summary(decoder_input_test[i]))\n",
    "    print(\"예측 요약 :\", decode_sequence(encoder_input_test[i].reshape(1, text_max_len)))\n",
    "    print(\"\\n\")"
   ]
  },
  {
   "cell_type": "markdown",
   "id": "automatic-infrastructure",
   "metadata": {},
   "source": [
    "## Step 5. Summa을 이용해서 추출적 요약해보기  \n",
    "추상적 요약은 추출적 요약과는 달리 문장의 표현력을 다양하게 가져갈 수 있지만, 추출적 요약에 비해서 난이도가 높아요. 반대로 말하면 추출적 요약은 추상적 요약에 비해 난이도가 낮고 기존 문장에서 문장을 꺼내오는 것이므로 잘못된 요약이 나올 가능성이 낮아요.  \n",
    "  \n",
    "Summa의 summarize를 사용하여 추출적 요약을 해보세요.  \n",
    "    \n",
    "패키지 Summa에서는 추출적 요약을 위한 모듈인 summarize를 제공  \n",
    "#### 패키지 설치  \n",
    "* `pip install summa`"
   ]
  },
  {
   "cell_type": "code",
   "execution_count": 52,
   "id": "medieval-samba",
   "metadata": {},
   "outputs": [],
   "source": [
    "import requests\n",
    "from summa.summarizer import summarize"
   ]
  },
  {
   "cell_type": "code",
   "execution_count": 53,
   "id": "allied-dayton",
   "metadata": {
    "scrolled": true
   },
   "outputs": [
    {
     "name": "stdout",
     "output_type": "stream",
     "text": [
      "전체 샘플수 : 98401\n"
     ]
    }
   ],
   "source": [
    "import pandas as pd\n",
    "text = pd.read_csv(os.getenv(\"HOME\")+\"/aiffel/news_summarization/data/news.csv\")\n",
    "print('전체 샘플수 :',(len(text)))"
   ]
  },
  {
   "cell_type": "code",
   "execution_count": 54,
   "id": "documentary-world",
   "metadata": {},
   "outputs": [
    {
     "name": "stdout",
     "output_type": "stream",
     "text": [
      "0        Saurav Kant, an alumnus of upGrad and IIIT-B's...\n",
      "1        Kunal Shah's credit card bill payment platform...\n",
      "2        New Zealand defeated India by 8 wickets in the...\n",
      "3        With Aegon Life iTerm Insurance plan, customer...\n",
      "4        Speaking about the sexual harassment allegatio...\n",
      "                               ...                        \n",
      "98396    A CRPF jawan was on Tuesday axed to death with...\n",
      "98397    'Uff Yeh', the first song from the Sonakshi Si...\n",
      "98398    According to reports, a new version of the 199...\n",
      "98399    A new music video shows rapper Snoop Dogg aimi...\n",
      "98400    Madhesi Morcha, an alliance of seven political...\n",
      "Name: text, Length: 98401, dtype: object\n"
     ]
    }
   ],
   "source": [
    "# 뉴스 원문 일부 추출\n",
    "\n",
    "print(text['text'])"
   ]
  },
  {
   "cell_type": "markdown",
   "id": "random-watershed",
   "metadata": {},
   "source": [
    "#### summarize 사용하기  \n",
    "* text (str) : 요약할 테스트  \n",
    "* ratio (float, optional) – 요약문에서 원본에서 선택되는 문장 비율. 0~1 사이값  \n",
    "* words (int or None, optional) – 출력에 포함할 단어 수  \n",
    "* 만약, ratio와 함께 두 파라미터가 모두 제공되는 경우 ratio는 무시  \n",
    "* split (bool, optional) – True면 문장 list / False는 조인(join)된 문자열을 반환 "
   ]
  },
  {
   "cell_type": "code",
   "execution_count": 55,
   "id": "optimum-prerequisite",
   "metadata": {},
   "outputs": [
    {
     "name": "stdout",
     "output_type": "stream",
     "text": [
      "Summary:\n",
      "upGrad's Online Power Learning has powered 3 lakh+ careers.\n"
     ]
    }
   ],
   "source": [
    "# Summa의 summarize는 문장 토큰화를 별도로 하지 않더라도 내부적으로 문장 토큰화를 수행\n",
    "# 그렇기 때문에 문장 구분이 되어있지 않은 원문을 바로 입력으로 넣을 수 있음\n",
    "# 비율을 적게 주어 요약문으로 선택되는 문장의 개수를 줄여보기\n",
    "# 원문의 0.005%만을 출력하도록 설하\n",
    "\n",
    "print('Summary:')\n",
    "print(summarize(text['text'][0], ratio=0.5))"
   ]
  },
  {
   "cell_type": "code",
   "execution_count": 56,
   "id": "mexican-snake",
   "metadata": {},
   "outputs": [
    {
     "name": "stdout",
     "output_type": "stream",
     "text": [
      "Summary:\n",
      "[\"upGrad's Online Power Learning has powered 3 lakh+ careers.\"]\n"
     ]
    }
   ],
   "source": [
    "# 리스트로 출력 결과를 받고 싶으면 split 인자의 값을 True로 하기\n",
    "\n",
    "print('Summary:')\n",
    "print(summarize(text['text'][0], ratio=0.5, split=True))"
   ]
  },
  {
   "cell_type": "code",
   "execution_count": 57,
   "id": "endangered-campbell",
   "metadata": {},
   "outputs": [
    {
     "name": "stdout",
     "output_type": "stream",
     "text": [
      "Summary:\n",
      "Saurav Kant, an alumnus of upGrad and IIIT-B's PG Program in Machine learning and Artificial Intelligence, was a Sr Systems Engineer at Infosys with almost 5 years of work experience.\n",
      "The program and upGrad's 360-degree career support helped him transition to a Data Scientist at Tech Mahindra with 90% salary hike.\n",
      "upGrad's Online Power Learning has powered 3 lakh+ careers.\n"
     ]
    }
   ],
   "source": [
    "# 단어의 수로 요약문의 크기를 조절 가능\n",
    "# 단어를 50개만 선택하도록 설정\n",
    "\n",
    "print('Summary:')\n",
    "print(summarize(text['text'][0], words=50))"
   ]
  },
  {
   "cell_type": "markdown",
   "id": "martial-coordinate",
   "metadata": {},
   "source": [
    "## 회고  \n",
    "역시 전처리는 어렵다..."
   ]
  }
 ],
 "metadata": {
  "kernelspec": {
   "display_name": "aiffel",
   "language": "python",
   "name": "aiffel"
  },
  "language_info": {
   "codemirror_mode": {
    "name": "ipython",
    "version": 3
   },
   "file_extension": ".py",
   "mimetype": "text/x-python",
   "name": "python",
   "nbconvert_exporter": "python",
   "pygments_lexer": "ipython3",
   "version": "3.7.9"
  }
 },
 "nbformat": 4,
 "nbformat_minor": 5
}
